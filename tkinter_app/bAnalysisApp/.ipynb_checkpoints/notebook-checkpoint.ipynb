{
 "cells": [
  {
   "cell_type": "code",
   "execution_count": 8,
   "metadata": {},
   "outputs": [
    {
     "name": "stdout",
     "output_type": "stream",
     "text": [
      "The autoreload extension is already loaded. To reload it, use:\n",
      "  %reload_ext autoreload\n",
      "\tbAnalysisUtil.preferencesLoad() using program provided default options\n",
      "bAnalysis.spikeDetect0()\n",
      "\tdVthresholdPos: 100\n",
      "\tminSpikeVm: -20\n",
      "\tmedianFilter: 0\n",
      "\tstartSeconds: None\n",
      "\tstopSeconds: None\n",
      "bAnalysis.spikeDetect() for file /Users/cudmore/Sites/bAnalysis/data/19114001.abf detected 103 spikes in 0.05 seconds\n"
     ]
    }
   ],
   "source": [
    "%load_ext autoreload\n",
    "%autoreload 2\n",
    "\n",
    "from bAnalysis import bAnalysis\n",
    "\n",
    "abfFile = '/Users/cudmore/Sites/bAnalysis/data/19114001.abf'\n",
    "abfFile = '/Users/cudmore/Sites/bAnalysis/data/19221021.abf'\n",
    "ba = bAnalysis(file=abfFile)\n",
    "\n",
    "ba.getDerivative(medianFilter=5) # derivative\n",
    "ba.spikeDetect(dVthresholdPos=100, minSpikeVm=-20, medianFilter=0)\n",
    "\n"
   ]
  },
  {
   "cell_type": "code",
   "execution_count": null,
   "metadata": {},
   "outputs": [],
   "source": []
  },
  {
   "cell_type": "code",
   "execution_count": null,
   "metadata": {},
   "outputs": [],
   "source": []
  }
 ],
 "metadata": {
  "kernelspec": {
   "display_name": "Python 3",
   "language": "python",
   "name": "python3"
  },
  "language_info": {
   "codemirror_mode": {
    "name": "ipython",
    "version": 3
   },
   "file_extension": ".py",
   "mimetype": "text/x-python",
   "name": "python",
   "nbconvert_exporter": "python",
   "pygments_lexer": "ipython3",
   "version": "3.7.3"
  }
 },
 "nbformat": 4,
 "nbformat_minor": 2
}
