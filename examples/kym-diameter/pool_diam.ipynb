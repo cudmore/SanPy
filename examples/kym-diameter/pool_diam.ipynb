{
 "cells": [
  {
   "cell_type": "markdown",
   "id": "712d743f",
   "metadata": {},
   "source": [
    "### Once data is analyzed and saved in the SanPy GUI, it is easy to load all the analysis and perform additional analysis and visualization."
   ]
  },
  {
   "cell_type": "code",
   "execution_count": 1,
   "id": "efe0b0f8",
   "metadata": {},
   "outputs": [],
   "source": [
    "%load_ext autoreload\n",
    "%autoreload 2\n",
    "\n",
    "import os, sys\n",
    "\n",
    "import numpy as np\n",
    "import pandas as pd\n",
    "import seaborn as sns\n",
    "from matplotlib import pyplot\n",
    "\n",
    "from IPython.display import display\n",
    "\n",
    "import plotly.express as px\n",
    "\n",
    "import sanpy"
   ]
  },
  {
   "cell_type": "markdown",
   "id": "577aa98e",
   "metadata": {},
   "source": [
    "### Load a folder of analysis"
   ]
  },
  {
   "cell_type": "code",
   "execution_count": 9,
   "id": "491196c7",
   "metadata": {},
   "outputs": [
    {
     "name": "stderr",
     "output_type": "stream",
     "text": [
      " INFO sanpy.analysisDir  analysisDir.py _checkColumns() line:1107 -- did not find loaded col: \"Condition\" in sanpyColumns.keys() ... ignore it\n",
      " INFO sanpy.analysisDir  analysisDir.py _checkColumns() line:1107 -- did not find loaded col: \"Notes\" in sanpyColumns.keys() ... ignore it\n",
      " INFO sanpy.analysisDir  analysisDir.py _checkColumns() line:1107 -- did not find loaded col: \"kLeft\" in sanpyColumns.keys() ... ignore it\n",
      " INFO sanpy.analysisDir  analysisDir.py _checkColumns() line:1107 -- did not find loaded col: \"kTop\" in sanpyColumns.keys() ... ignore it\n",
      " INFO sanpy.analysisDir  analysisDir.py _checkColumns() line:1107 -- did not find loaded col: \"kRight\" in sanpyColumns.keys() ... ignore it\n",
      " INFO sanpy.analysisDir  analysisDir.py _checkColumns() line:1107 -- did not find loaded col: \"kBottom\" in sanpyColumns.keys() ... ignore it\n",
      " INFO sanpy.analysisDir  analysisDir.py _checkColumns() line:1107 -- did not find loaded col: \"Species\" in sanpyColumns.keys() ... ignore it\n",
      " INFO sanpy.analysisDir  analysisDir.py _checkColumns() line:1107 -- did not find loaded col: \"_ba\" in sanpyColumns.keys() ... ignore it\n",
      "WARNING sanpy.analysisDir  analysisDir.py pool_build() line:1761 -- TEMPORARY WHILE WORKING ON KYM POOLING !!!!!!!!!!!!!!!!!!!!!!!!!\n",
      "WARNING sanpy.analysisDir  analysisDir.py pool_build() line:1762 -- randomly assigning sex to male, female, unknown\n",
      "WARNING sanpy.analysisDir  analysisDir.py pool_build() line:1761 -- TEMPORARY WHILE WORKING ON KYM POOLING !!!!!!!!!!!!!!!!!!!!!!!!!\n",
      "WARNING sanpy.analysisDir  analysisDir.py pool_build() line:1762 -- randomly assigning sex to male, female, unknown\n",
      "WARNING sanpy.analysisDir  analysisDir.py pool_build() line:1761 -- TEMPORARY WHILE WORKING ON KYM POOLING !!!!!!!!!!!!!!!!!!!!!!!!!\n",
      "WARNING sanpy.analysisDir  analysisDir.py pool_build() line:1762 -- randomly assigning sex to male, female, unknown\n",
      "WARNING sanpy.analysisDir  analysisDir.py pool_build() line:1761 -- TEMPORARY WHILE WORKING ON KYM POOLING !!!!!!!!!!!!!!!!!!!!!!!!!\n",
      "WARNING sanpy.analysisDir  analysisDir.py pool_build() line:1762 -- randomly assigning sex to male, female, unknown\n",
      "WARNING sanpy.analysisDir  analysisDir.py pool_build() line:1761 -- TEMPORARY WHILE WORKING ON KYM POOLING !!!!!!!!!!!!!!!!!!!!!!!!!\n",
      "WARNING sanpy.analysisDir  analysisDir.py pool_build() line:1762 -- randomly assigning sex to male, female, unknown\n",
      "WARNING sanpy.analysisDir  analysisDir.py pool_build() line:1761 -- TEMPORARY WHILE WORKING ON KYM POOLING !!!!!!!!!!!!!!!!!!!!!!!!!\n",
      "WARNING sanpy.analysisDir  analysisDir.py pool_build() line:1762 -- randomly assigning sex to male, female, unknown\n",
      "WARNING sanpy.analysisDir  analysisDir.py pool_build() line:1761 -- TEMPORARY WHILE WORKING ON KYM POOLING !!!!!!!!!!!!!!!!!!!!!!!!!\n",
      "WARNING sanpy.analysisDir  analysisDir.py pool_build() line:1762 -- randomly assigning sex to male, female, unknown\n",
      "WARNING sanpy.analysisDir  analysisDir.py pool_build() line:1761 -- TEMPORARY WHILE WORKING ON KYM POOLING !!!!!!!!!!!!!!!!!!!!!!!!!\n",
      "WARNING sanpy.analysisDir  analysisDir.py pool_build() line:1762 -- randomly assigning sex to male, female, unknown\n",
      "WARNING sanpy.analysisDir  analysisDir.py pool_build() line:1761 -- TEMPORARY WHILE WORKING ON KYM POOLING !!!!!!!!!!!!!!!!!!!!!!!!!\n",
      "WARNING sanpy.analysisDir  analysisDir.py pool_build() line:1762 -- randomly assigning sex to male, female, unknown\n",
      "WARNING sanpy.analysisDir  analysisDir.py pool_build() line:1761 -- TEMPORARY WHILE WORKING ON KYM POOLING !!!!!!!!!!!!!!!!!!!!!!!!!\n",
      "WARNING sanpy.analysisDir  analysisDir.py pool_build() line:1762 -- randomly assigning sex to male, female, unknown\n",
      "WARNING sanpy.analysisDir  analysisDir.py pool_build() line:1761 -- TEMPORARY WHILE WORKING ON KYM POOLING !!!!!!!!!!!!!!!!!!!!!!!!!\n",
      "WARNING sanpy.analysisDir  analysisDir.py pool_build() line:1762 -- randomly assigning sex to male, female, unknown\n",
      "WARNING sanpy.analysisDir  analysisDir.py pool_build() line:1761 -- TEMPORARY WHILE WORKING ON KYM POOLING !!!!!!!!!!!!!!!!!!!!!!!!!\n",
      "WARNING sanpy.analysisDir  analysisDir.py pool_build() line:1762 -- randomly assigning sex to male, female, unknown\n",
      "WARNING sanpy.analysisDir  analysisDir.py pool_build() line:1761 -- TEMPORARY WHILE WORKING ON KYM POOLING !!!!!!!!!!!!!!!!!!!!!!!!!\n",
      "WARNING sanpy.analysisDir  analysisDir.py pool_build() line:1762 -- randomly assigning sex to male, female, unknown\n",
      "WARNING sanpy.analysisDir  analysisDir.py pool_build() line:1761 -- TEMPORARY WHILE WORKING ON KYM POOLING !!!!!!!!!!!!!!!!!!!!!!!!!\n",
      "WARNING sanpy.analysisDir  analysisDir.py pool_build() line:1762 -- randomly assigning sex to male, female, unknown\n",
      "WARNING sanpy.analysisDir  analysisDir.py pool_build() line:1761 -- TEMPORARY WHILE WORKING ON KYM POOLING !!!!!!!!!!!!!!!!!!!!!!!!!\n",
      "WARNING sanpy.analysisDir  analysisDir.py pool_build() line:1762 -- randomly assigning sex to male, female, unknown\n",
      "WARNING sanpy.analysisDir  analysisDir.py pool_build() line:1761 -- TEMPORARY WHILE WORKING ON KYM POOLING !!!!!!!!!!!!!!!!!!!!!!!!!\n",
      "WARNING sanpy.analysisDir  analysisDir.py pool_build() line:1762 -- randomly assigning sex to male, female, unknown\n",
      "ERROR sanpy.bAnalysis_  bAnalysis_.py _loadHdf_pytables() line:453 -- detectionDict: 'No object named t5c668b75_ddf4_4cbc_9fb4_15b876e78481/detectionDict in the file'\n",
      "ERROR sanpy.bAnalysis_  bAnalysis_.py _loadHdf_pytables() line:469 -- analysisList: 'No object named t5c668b75_ddf4_4cbc_9fb4_15b876e78481/analysisList in the file'\n",
      "WARNING sanpy.analysisDir  analysisDir.py pool_build() line:1761 -- TEMPORARY WHILE WORKING ON KYM POOLING !!!!!!!!!!!!!!!!!!!!!!!!!\n",
      "WARNING sanpy.analysisDir  analysisDir.py pool_build() line:1762 -- randomly assigning sex to male, female, unknown\n",
      "WARNING sanpy.analysisDir  analysisDir.py pool_build() line:1761 -- TEMPORARY WHILE WORKING ON KYM POOLING !!!!!!!!!!!!!!!!!!!!!!!!!\n",
      "WARNING sanpy.analysisDir  analysisDir.py pool_build() line:1762 -- randomly assigning sex to male, female, unknown\n",
      "WARNING sanpy.analysisDir  analysisDir.py pool_build() line:1761 -- TEMPORARY WHILE WORKING ON KYM POOLING !!!!!!!!!!!!!!!!!!!!!!!!!\n",
      "WARNING sanpy.analysisDir  analysisDir.py pool_build() line:1762 -- randomly assigning sex to male, female, unknown\n",
      "WARNING sanpy.analysisDir  analysisDir.py pool_build() line:1761 -- TEMPORARY WHILE WORKING ON KYM POOLING !!!!!!!!!!!!!!!!!!!!!!!!!\n",
      "WARNING sanpy.analysisDir  analysisDir.py pool_build() line:1762 -- randomly assigning sex to male, female, unknown\n",
      "WARNING sanpy.analysisDir  analysisDir.py pool_build() line:1761 -- TEMPORARY WHILE WORKING ON KYM POOLING !!!!!!!!!!!!!!!!!!!!!!!!!\n",
      "WARNING sanpy.analysisDir  analysisDir.py pool_build() line:1762 -- randomly assigning sex to male, female, unknown\n",
      "WARNING sanpy.analysisDir  analysisDir.py pool_build() line:1761 -- TEMPORARY WHILE WORKING ON KYM POOLING !!!!!!!!!!!!!!!!!!!!!!!!!\n",
      "WARNING sanpy.analysisDir  analysisDir.py pool_build() line:1762 -- randomly assigning sex to male, female, unknown\n",
      "ERROR sanpy.kymAnalysis  kymAnalysis.py _parseFileHeader() line:584 -- did not parse kym file header for \",,,,,,,,,,,,,\"\n",
      "WARNING sanpy.analysisDir  analysisDir.py pool_build() line:1761 -- TEMPORARY WHILE WORKING ON KYM POOLING !!!!!!!!!!!!!!!!!!!!!!!!!\n",
      "WARNING sanpy.analysisDir  analysisDir.py pool_build() line:1762 -- randomly assigning sex to male, female, unknown\n",
      "WARNING sanpy.analysisDir  analysisDir.py pool_build() line:1761 -- TEMPORARY WHILE WORKING ON KYM POOLING !!!!!!!!!!!!!!!!!!!!!!!!!\n",
      "WARNING sanpy.analysisDir  analysisDir.py pool_build() line:1762 -- randomly assigning sex to male, female, unknown\n",
      "WARNING sanpy.analysisDir  analysisDir.py pool_build() line:1761 -- TEMPORARY WHILE WORKING ON KYM POOLING !!!!!!!!!!!!!!!!!!!!!!!!!\n",
      "WARNING sanpy.analysisDir  analysisDir.py pool_build() line:1762 -- randomly assigning sex to male, female, unknown\n",
      "WARNING sanpy.analysisDir  analysisDir.py pool_build() line:1761 -- TEMPORARY WHILE WORKING ON KYM POOLING !!!!!!!!!!!!!!!!!!!!!!!!!\n",
      "WARNING sanpy.analysisDir  analysisDir.py pool_build() line:1762 -- randomly assigning sex to male, female, unknown\n",
      "WARNING sanpy.analysisDir  analysisDir.py pool_build() line:1761 -- TEMPORARY WHILE WORKING ON KYM POOLING !!!!!!!!!!!!!!!!!!!!!!!!!\n",
      "WARNING sanpy.analysisDir  analysisDir.py pool_build() line:1762 -- randomly assigning sex to male, female, unknown\n"
     ]
    },
    {
     "name": "stderr",
     "output_type": "stream",
     "text": [
      "WARNING sanpy.analysisDir  analysisDir.py pool_build() line:1761 -- TEMPORARY WHILE WORKING ON KYM POOLING !!!!!!!!!!!!!!!!!!!!!!!!!\n",
      "WARNING sanpy.analysisDir  analysisDir.py pool_build() line:1762 -- randomly assigning sex to male, female, unknown\n",
      "WARNING sanpy.analysisDir  analysisDir.py pool_build() line:1761 -- TEMPORARY WHILE WORKING ON KYM POOLING !!!!!!!!!!!!!!!!!!!!!!!!!\n",
      "WARNING sanpy.analysisDir  analysisDir.py pool_build() line:1762 -- randomly assigning sex to male, female, unknown\n",
      "WARNING sanpy.analysisDir  analysisDir.py pool_build() line:1761 -- TEMPORARY WHILE WORKING ON KYM POOLING !!!!!!!!!!!!!!!!!!!!!!!!!\n",
      "WARNING sanpy.analysisDir  analysisDir.py pool_build() line:1762 -- randomly assigning sex to male, female, unknown\n",
      "WARNING sanpy.analysisDir  analysisDir.py pool_build() line:1761 -- TEMPORARY WHILE WORKING ON KYM POOLING !!!!!!!!!!!!!!!!!!!!!!!!!\n",
      "WARNING sanpy.analysisDir  analysisDir.py pool_build() line:1762 -- randomly assigning sex to male, female, unknown\n",
      "WARNING sanpy.analysisDir  analysisDir.py pool_build() line:1761 -- TEMPORARY WHILE WORKING ON KYM POOLING !!!!!!!!!!!!!!!!!!!!!!!!!\n",
      "WARNING sanpy.analysisDir  analysisDir.py pool_build() line:1762 -- randomly assigning sex to male, female, unknown\n",
      "WARNING sanpy.analysisDir  analysisDir.py pool_build() line:1761 -- TEMPORARY WHILE WORKING ON KYM POOLING !!!!!!!!!!!!!!!!!!!!!!!!!\n",
      "WARNING sanpy.analysisDir  analysisDir.py pool_build() line:1762 -- randomly assigning sex to male, female, unknown\n",
      "WARNING sanpy.analysisDir  analysisDir.py pool_build() line:1761 -- TEMPORARY WHILE WORKING ON KYM POOLING !!!!!!!!!!!!!!!!!!!!!!!!!\n",
      "WARNING sanpy.analysisDir  analysisDir.py pool_build() line:1762 -- randomly assigning sex to male, female, unknown\n",
      "WARNING sanpy.analysisDir  analysisDir.py pool_build() line:1761 -- TEMPORARY WHILE WORKING ON KYM POOLING !!!!!!!!!!!!!!!!!!!!!!!!!\n",
      "WARNING sanpy.analysisDir  analysisDir.py pool_build() line:1762 -- randomly assigning sex to male, female, unknown\n",
      "WARNING sanpy.analysisDir  analysisDir.py pool_build() line:1761 -- TEMPORARY WHILE WORKING ON KYM POOLING !!!!!!!!!!!!!!!!!!!!!!!!!\n",
      "WARNING sanpy.analysisDir  analysisDir.py pool_build() line:1762 -- randomly assigning sex to male, female, unknown\n",
      "WARNING sanpy.analysisDir  analysisDir.py pool_build() line:1761 -- TEMPORARY WHILE WORKING ON KYM POOLING !!!!!!!!!!!!!!!!!!!!!!!!!\n",
      "WARNING sanpy.analysisDir  analysisDir.py pool_build() line:1762 -- randomly assigning sex to male, female, unknown\n",
      "WARNING sanpy.analysisDir  analysisDir.py pool_build() line:1761 -- TEMPORARY WHILE WORKING ON KYM POOLING !!!!!!!!!!!!!!!!!!!!!!!!!\n",
      "WARNING sanpy.analysisDir  analysisDir.py pool_build() line:1762 -- randomly assigning sex to male, female, unknown\n",
      "WARNING sanpy.analysisDir  analysisDir.py pool_build() line:1761 -- TEMPORARY WHILE WORKING ON KYM POOLING !!!!!!!!!!!!!!!!!!!!!!!!!\n",
      "WARNING sanpy.analysisDir  analysisDir.py pool_build() line:1762 -- randomly assigning sex to male, female, unknown\n",
      "WARNING sanpy.analysisDir  analysisDir.py pool_build() line:1761 -- TEMPORARY WHILE WORKING ON KYM POOLING !!!!!!!!!!!!!!!!!!!!!!!!!\n",
      "WARNING sanpy.analysisDir  analysisDir.py pool_build() line:1762 -- randomly assigning sex to male, female, unknown\n"
     ]
    }
   ],
   "source": [
    "folderPath = '/Users/cudmore/Dropbox/data/cell-shortening/paula'\n",
    "folderPath = '/Users/cudmore/Dropbox/data/cell-shortening/fig1'\n",
    "folderPath = '/media/cudmore/data/Dropbox/data/cell-shortening/fig1'\n",
    "\n",
    "ad = sanpy.analysisDir(folderPath, autoLoad=True)\n"
   ]
  },
  {
   "cell_type": "markdown",
   "id": "64feed78",
   "metadata": {},
   "source": [
    "### This is a summary table of all analysis in a folder. This is the same as the file list in the main SanPy interface."
   ]
  },
  {
   "cell_type": "code",
   "execution_count": 10,
   "id": "0182326b",
   "metadata": {},
   "outputs": [
    {
     "data": {
      "text/html": [
       "<div>\n",
       "<style scoped>\n",
       "    .dataframe tbody tr th:only-of-type {\n",
       "        vertical-align: middle;\n",
       "    }\n",
       "\n",
       "    .dataframe tbody tr th {\n",
       "        vertical-align: top;\n",
       "    }\n",
       "\n",
       "    .dataframe thead th {\n",
       "        text-align: right;\n",
       "    }\n",
       "</style>\n",
       "<table border=\"1\" class=\"dataframe\">\n",
       "  <thead>\n",
       "    <tr style=\"text-align: right;\">\n",
       "      <th></th>\n",
       "      <th>L</th>\n",
       "      <th>A</th>\n",
       "      <th>S</th>\n",
       "      <th>N</th>\n",
       "      <th>E</th>\n",
       "      <th>File</th>\n",
       "      <th>Dur(s)</th>\n",
       "      <th>Channels</th>\n",
       "      <th>Sweeps</th>\n",
       "      <th>Epochs</th>\n",
       "      <th>...</th>\n",
       "      <th>uuid</th>\n",
       "      <th>Include</th>\n",
       "      <th>Condition1</th>\n",
       "      <th>Condition2</th>\n",
       "      <th>ID</th>\n",
       "      <th>Age</th>\n",
       "      <th>Genotype</th>\n",
       "      <th>Note</th>\n",
       "      <th>Species</th>\n",
       "      <th>_ba</th>\n",
       "    </tr>\n",
       "  </thead>\n",
       "  <tbody>\n",
       "    <tr>\n",
       "      <th>0</th>\n",
       "      <td>•</td>\n",
       "      <td>•</td>\n",
       "      <td>•</td>\n",
       "      <td>9</td>\n",
       "      <td>27</td>\n",
       "      <td>Cell 02_C002T001.tif</td>\n",
       "      <td>4.560435</td>\n",
       "      <td>1</td>\n",
       "      <td>1</td>\n",
       "      <td>None</td>\n",
       "      <td>...</td>\n",
       "      <td>t38b41960_0027_4d85_8def_6808f8878144</td>\n",
       "      <td>yes</td>\n",
       "      <td></td>\n",
       "      <td></td>\n",
       "      <td></td>\n",
       "      <td></td>\n",
       "      <td></td>\n",
       "      <td></td>\n",
       "      <td></td>\n",
       "      <td>fileLoader: file: Cell 02_C002T001.tif sweeps:...</td>\n",
       "    </tr>\n",
       "    <tr>\n",
       "      <th>1</th>\n",
       "      <td>•</td>\n",
       "      <td>•</td>\n",
       "      <td>•</td>\n",
       "      <td>12</td>\n",
       "      <td>37</td>\n",
       "      <td>cell 16_0001_C002T001.tif</td>\n",
       "      <td>5.838156</td>\n",
       "      <td>1</td>\n",
       "      <td>1</td>\n",
       "      <td>None</td>\n",
       "      <td>...</td>\n",
       "      <td>t688f2445_970b_44b7_b2de_355d45f85d48</td>\n",
       "      <td>yes</td>\n",
       "      <td></td>\n",
       "      <td></td>\n",
       "      <td></td>\n",
       "      <td></td>\n",
       "      <td></td>\n",
       "      <td></td>\n",
       "      <td></td>\n",
       "      <td>fileLoader: file: cell 16_0001_C002T001.tif sw...</td>\n",
       "    </tr>\n",
       "    <tr>\n",
       "      <th>2</th>\n",
       "      <td>•</td>\n",
       "      <td>•</td>\n",
       "      <td>•</td>\n",
       "      <td>10</td>\n",
       "      <td>27</td>\n",
       "      <td>cell 19_0001_C002T001.tif</td>\n",
       "      <td>4.880115</td>\n",
       "      <td>1</td>\n",
       "      <td>1</td>\n",
       "      <td>None</td>\n",
       "      <td>...</td>\n",
       "      <td>t89f8d886_d93a_4614_8428_c498fa64a82d</td>\n",
       "      <td>yes</td>\n",
       "      <td></td>\n",
       "      <td></td>\n",
       "      <td></td>\n",
       "      <td></td>\n",
       "      <td></td>\n",
       "      <td></td>\n",
       "      <td></td>\n",
       "      <td>fileLoader: file: cell 19_0001_C002T001.tif sw...</td>\n",
       "    </tr>\n",
       "    <tr>\n",
       "      <th>3</th>\n",
       "      <td>•</td>\n",
       "      <td>•</td>\n",
       "      <td>•</td>\n",
       "      <td>10</td>\n",
       "      <td>23</td>\n",
       "      <td>cell 17_0002_C002T001.tif</td>\n",
       "      <td>4.680315</td>\n",
       "      <td>1</td>\n",
       "      <td>1</td>\n",
       "      <td>None</td>\n",
       "      <td>...</td>\n",
       "      <td>t07218af5_a82d_46a7_8bd1_bedd1a500159</td>\n",
       "      <td>yes</td>\n",
       "      <td></td>\n",
       "      <td></td>\n",
       "      <td></td>\n",
       "      <td></td>\n",
       "      <td></td>\n",
       "      <td></td>\n",
       "      <td></td>\n",
       "      <td>fileLoader: file: cell 17_0002_C002T001.tif sw...</td>\n",
       "    </tr>\n",
       "    <tr>\n",
       "      <th>4</th>\n",
       "      <td>•</td>\n",
       "      <td>•</td>\n",
       "      <td>•</td>\n",
       "      <td>11</td>\n",
       "      <td>37</td>\n",
       "      <td>cell 25_0002_C002T001.tif</td>\n",
       "      <td>5.039955</td>\n",
       "      <td>1</td>\n",
       "      <td>1</td>\n",
       "      <td>None</td>\n",
       "      <td>...</td>\n",
       "      <td>tefdc19e4_4738_4bab_a875_f2777eac124a</td>\n",
       "      <td>yes</td>\n",
       "      <td></td>\n",
       "      <td></td>\n",
       "      <td></td>\n",
       "      <td></td>\n",
       "      <td></td>\n",
       "      <td></td>\n",
       "      <td></td>\n",
       "      <td>fileLoader: file: cell 25_0002_C002T001.tif sw...</td>\n",
       "    </tr>\n",
       "    <tr>\n",
       "      <th>5</th>\n",
       "      <td>•</td>\n",
       "      <td>•</td>\n",
       "      <td>•</td>\n",
       "      <td>10</td>\n",
       "      <td>36</td>\n",
       "      <td>cell 24_0002_C002T001.tif</td>\n",
       "      <td>4.999995</td>\n",
       "      <td>1</td>\n",
       "      <td>1</td>\n",
       "      <td>None</td>\n",
       "      <td>...</td>\n",
       "      <td>t0a093be1_111c_44bc_9294_c22c113e81ce</td>\n",
       "      <td>yes</td>\n",
       "      <td></td>\n",
       "      <td></td>\n",
       "      <td></td>\n",
       "      <td></td>\n",
       "      <td></td>\n",
       "      <td></td>\n",
       "      <td></td>\n",
       "      <td>fileLoader: file: cell 24_0002_C002T001.tif sw...</td>\n",
       "    </tr>\n",
       "    <tr>\n",
       "      <th>6</th>\n",
       "      <td>•</td>\n",
       "      <td>•</td>\n",
       "      <td>•</td>\n",
       "      <td>9</td>\n",
       "      <td>26</td>\n",
       "      <td>cell03_C002T001.tif</td>\n",
       "      <td>4.660335</td>\n",
       "      <td>1</td>\n",
       "      <td>1</td>\n",
       "      <td>None</td>\n",
       "      <td>...</td>\n",
       "      <td>t10e62498_051a_4432_9527_454d4624b8c9</td>\n",
       "      <td>yes</td>\n",
       "      <td></td>\n",
       "      <td></td>\n",
       "      <td></td>\n",
       "      <td></td>\n",
       "      <td></td>\n",
       "      <td></td>\n",
       "      <td></td>\n",
       "      <td>fileLoader: file: cell03_C002T001.tif sweeps: ...</td>\n",
       "    </tr>\n",
       "    <tr>\n",
       "      <th>7</th>\n",
       "      <td>•</td>\n",
       "      <td>•</td>\n",
       "      <td>•</td>\n",
       "      <td>11</td>\n",
       "      <td>25</td>\n",
       "      <td>cell04_C002T001.tif</td>\n",
       "      <td>5.039955</td>\n",
       "      <td>1</td>\n",
       "      <td>1</td>\n",
       "      <td>None</td>\n",
       "      <td>...</td>\n",
       "      <td>tfbacf4a1_158d_4f7e_b49d_e7e66dbc4cc2</td>\n",
       "      <td>yes</td>\n",
       "      <td></td>\n",
       "      <td></td>\n",
       "      <td></td>\n",
       "      <td></td>\n",
       "      <td></td>\n",
       "      <td></td>\n",
       "      <td></td>\n",
       "      <td>fileLoader: file: cell04_C002T001.tif sweeps: ...</td>\n",
       "    </tr>\n",
       "    <tr>\n",
       "      <th>8</th>\n",
       "      <td>•</td>\n",
       "      <td>•</td>\n",
       "      <td>•</td>\n",
       "      <td>11</td>\n",
       "      <td>27</td>\n",
       "      <td>cell13_C002T001.tif</td>\n",
       "      <td>4.980015</td>\n",
       "      <td>1</td>\n",
       "      <td>1</td>\n",
       "      <td>None</td>\n",
       "      <td>...</td>\n",
       "      <td>t6c51fe8b_c738_49a0_aee4_b1125530a508</td>\n",
       "      <td>yes</td>\n",
       "      <td></td>\n",
       "      <td></td>\n",
       "      <td></td>\n",
       "      <td></td>\n",
       "      <td></td>\n",
       "      <td></td>\n",
       "      <td></td>\n",
       "      <td>fileLoader: file: cell13_C002T001.tif sweeps: ...</td>\n",
       "    </tr>\n",
       "    <tr>\n",
       "      <th>9</th>\n",
       "      <td>•</td>\n",
       "      <td>•</td>\n",
       "      <td>•</td>\n",
       "      <td>11</td>\n",
       "      <td>30</td>\n",
       "      <td>cell05_C002T001.tif</td>\n",
       "      <td>5.019975</td>\n",
       "      <td>1</td>\n",
       "      <td>1</td>\n",
       "      <td>None</td>\n",
       "      <td>...</td>\n",
       "      <td>t21383e11_c595_4495_97a2_41e24eb1acc2</td>\n",
       "      <td>yes</td>\n",
       "      <td></td>\n",
       "      <td></td>\n",
       "      <td></td>\n",
       "      <td></td>\n",
       "      <td></td>\n",
       "      <td></td>\n",
       "      <td></td>\n",
       "      <td>fileLoader: file: cell05_C002T001.tif sweeps: ...</td>\n",
       "    </tr>\n",
       "    <tr>\n",
       "      <th>10</th>\n",
       "      <td>•</td>\n",
       "      <td>•</td>\n",
       "      <td>•</td>\n",
       "      <td>10</td>\n",
       "      <td>22</td>\n",
       "      <td>cell 07_0001_C002T001.tif</td>\n",
       "      <td>5.139855</td>\n",
       "      <td>1</td>\n",
       "      <td>1</td>\n",
       "      <td>None</td>\n",
       "      <td>...</td>\n",
       "      <td>tb4cdec84_c39e_403a_a451_cde40b4c92dd</td>\n",
       "      <td>yes</td>\n",
       "      <td></td>\n",
       "      <td></td>\n",
       "      <td></td>\n",
       "      <td></td>\n",
       "      <td></td>\n",
       "      <td></td>\n",
       "      <td></td>\n",
       "      <td>fileLoader: file: cell 07_0001_C002T001.tif sw...</td>\n",
       "    </tr>\n",
       "    <tr>\n",
       "      <th>11</th>\n",
       "      <td>•</td>\n",
       "      <td>•</td>\n",
       "      <td>•</td>\n",
       "      <td>12</td>\n",
       "      <td>46</td>\n",
       "      <td>cell 01_0004_C002T001.tif</td>\n",
       "      <td>5.858136</td>\n",
       "      <td>1</td>\n",
       "      <td>1</td>\n",
       "      <td>None</td>\n",
       "      <td>...</td>\n",
       "      <td>tb583982b_2803_462a_ad1b_49842793475a</td>\n",
       "      <td>yes</td>\n",
       "      <td></td>\n",
       "      <td></td>\n",
       "      <td></td>\n",
       "      <td></td>\n",
       "      <td></td>\n",
       "      <td></td>\n",
       "      <td></td>\n",
       "      <td>fileLoader: file: cell 01_0004_C002T001.tif sw...</td>\n",
       "    </tr>\n",
       "    <tr>\n",
       "      <th>12</th>\n",
       "      <td>•</td>\n",
       "      <td>•</td>\n",
       "      <td>•</td>\n",
       "      <td>11</td>\n",
       "      <td>29</td>\n",
       "      <td>cell 06_C002T001.tif</td>\n",
       "      <td>5.339655</td>\n",
       "      <td>1</td>\n",
       "      <td>1</td>\n",
       "      <td>None</td>\n",
       "      <td>...</td>\n",
       "      <td>tdad02f6c_49cb_448b_9f6f_45af7eb7869a</td>\n",
       "      <td>yes</td>\n",
       "      <td></td>\n",
       "      <td></td>\n",
       "      <td></td>\n",
       "      <td></td>\n",
       "      <td></td>\n",
       "      <td>no snr bw spikes; angled spikes;</td>\n",
       "      <td></td>\n",
       "      <td>fileLoader: file: cell 06_C002T001.tif sweeps:...</td>\n",
       "    </tr>\n",
       "    <tr>\n",
       "      <th>13</th>\n",
       "      <td>•</td>\n",
       "      <td>•</td>\n",
       "      <td>•</td>\n",
       "      <td>9</td>\n",
       "      <td>27</td>\n",
       "      <td>cell 06_C002T001.tif</td>\n",
       "      <td>4.401594</td>\n",
       "      <td>1</td>\n",
       "      <td>1</td>\n",
       "      <td>None</td>\n",
       "      <td>...</td>\n",
       "      <td>t7d766b54_97e0_4fa8_a75a_d068a534a844</td>\n",
       "      <td>no</td>\n",
       "      <td></td>\n",
       "      <td></td>\n",
       "      <td></td>\n",
       "      <td></td>\n",
       "      <td></td>\n",
       "      <td>lots of Ca bw spikes</td>\n",
       "      <td></td>\n",
       "      <td>fileLoader: file: cell 06_C002T001.tif sweeps:...</td>\n",
       "    </tr>\n",
       "    <tr>\n",
       "      <th>14</th>\n",
       "      <td>•</td>\n",
       "      <td>•</td>\n",
       "      <td>•</td>\n",
       "      <td>8</td>\n",
       "      <td>32</td>\n",
       "      <td>Cell 02_C002T001.tif</td>\n",
       "      <td>6.037956</td>\n",
       "      <td>1</td>\n",
       "      <td>1</td>\n",
       "      <td>None</td>\n",
       "      <td>...</td>\n",
       "      <td>tf494f836_107b_460b_9999_c408e5075a50</td>\n",
       "      <td>no</td>\n",
       "      <td></td>\n",
       "      <td></td>\n",
       "      <td></td>\n",
       "      <td></td>\n",
       "      <td></td>\n",
       "      <td>lots of Ca bw spikes</td>\n",
       "      <td></td>\n",
       "      <td>fileLoader: file: Cell 02_C002T001.tif sweeps:...</td>\n",
       "    </tr>\n",
       "    <tr>\n",
       "      <th>15</th>\n",
       "      <td>•</td>\n",
       "      <td>•</td>\n",
       "      <td>•</td>\n",
       "      <td>9</td>\n",
       "      <td>32</td>\n",
       "      <td>Cell 03_C002T001.tif</td>\n",
       "      <td>4.341654</td>\n",
       "      <td>1</td>\n",
       "      <td>1</td>\n",
       "      <td>None</td>\n",
       "      <td>...</td>\n",
       "      <td>t2c89f36c_e7cb_45cc_a5c5_85ef8e7142b6</td>\n",
       "      <td>yes</td>\n",
       "      <td></td>\n",
       "      <td></td>\n",
       "      <td></td>\n",
       "      <td></td>\n",
       "      <td></td>\n",
       "      <td></td>\n",
       "      <td></td>\n",
       "      <td>fileLoader: file: Cell 03_C002T001.tif sweeps:...</td>\n",
       "    </tr>\n",
       "    <tr>\n",
       "      <th>16</th>\n",
       "      <td>•</td>\n",
       "      <td></td>\n",
       "      <td>•</td>\n",
       "      <td></td>\n",
       "      <td></td>\n",
       "      <td>Cell 05_0001_C002T001.tif</td>\n",
       "      <td>5.279715</td>\n",
       "      <td>1</td>\n",
       "      <td>1</td>\n",
       "      <td>None</td>\n",
       "      <td>...</td>\n",
       "      <td>t5c668b75_ddf4_4cbc_9fb4_15b876e78481</td>\n",
       "      <td>no</td>\n",
       "      <td></td>\n",
       "      <td></td>\n",
       "      <td></td>\n",
       "      <td></td>\n",
       "      <td></td>\n",
       "      <td>unstable Ca</td>\n",
       "      <td></td>\n",
       "      <td>fileLoader: file: Cell 05_0001_C002T001.tif sw...</td>\n",
       "    </tr>\n",
       "    <tr>\n",
       "      <th>17</th>\n",
       "      <td>•</td>\n",
       "      <td>•</td>\n",
       "      <td>•</td>\n",
       "      <td>11</td>\n",
       "      <td>39</td>\n",
       "      <td>Cell 06_C002T001.tif</td>\n",
       "      <td>5.039955</td>\n",
       "      <td>1</td>\n",
       "      <td>1</td>\n",
       "      <td>None</td>\n",
       "      <td>...</td>\n",
       "      <td>tcf9307b3_37bd_4254_a5f7_c8b8af10e95d</td>\n",
       "      <td>yes</td>\n",
       "      <td></td>\n",
       "      <td></td>\n",
       "      <td></td>\n",
       "      <td></td>\n",
       "      <td></td>\n",
       "      <td></td>\n",
       "      <td></td>\n",
       "      <td>fileLoader: file: Cell 06_C002T001.tif sweeps:...</td>\n",
       "    </tr>\n",
       "    <tr>\n",
       "      <th>18</th>\n",
       "      <td>•</td>\n",
       "      <td>•</td>\n",
       "      <td>•</td>\n",
       "      <td>11</td>\n",
       "      <td>41</td>\n",
       "      <td>cell24_0002_C002T001.tif</td>\n",
       "      <td>4.940055</td>\n",
       "      <td>1</td>\n",
       "      <td>1</td>\n",
       "      <td>None</td>\n",
       "      <td>...</td>\n",
       "      <td>tee42c692_d637_4e53_b9a5_551088da61e5</td>\n",
       "      <td>yes</td>\n",
       "      <td></td>\n",
       "      <td></td>\n",
       "      <td></td>\n",
       "      <td></td>\n",
       "      <td></td>\n",
       "      <td></td>\n",
       "      <td></td>\n",
       "      <td>fileLoader: file: cell24_0002_C002T001.tif swe...</td>\n",
       "    </tr>\n",
       "    <tr>\n",
       "      <th>19</th>\n",
       "      <td>•</td>\n",
       "      <td>•</td>\n",
       "      <td>•</td>\n",
       "      <td>10</td>\n",
       "      <td>33</td>\n",
       "      <td>cell17_C002T001.tif</td>\n",
       "      <td>4.680315</td>\n",
       "      <td>1</td>\n",
       "      <td>1</td>\n",
       "      <td>None</td>\n",
       "      <td>...</td>\n",
       "      <td>t8ff81514_74aa_421e_9253_ccd83bc39184</td>\n",
       "      <td>yes</td>\n",
       "      <td></td>\n",
       "      <td></td>\n",
       "      <td></td>\n",
       "      <td></td>\n",
       "      <td></td>\n",
       "      <td></td>\n",
       "      <td></td>\n",
       "      <td>fileLoader: file: cell17_C002T001.tif sweeps: ...</td>\n",
       "    </tr>\n",
       "    <tr>\n",
       "      <th>20</th>\n",
       "      <td>•</td>\n",
       "      <td>•</td>\n",
       "      <td>•</td>\n",
       "      <td>9</td>\n",
       "      <td>19</td>\n",
       "      <td>cell18_C002T001.tif</td>\n",
       "      <td>4.421574</td>\n",
       "      <td>1</td>\n",
       "      <td>1</td>\n",
       "      <td>None</td>\n",
       "      <td>...</td>\n",
       "      <td>t9ed764ba_8621_42b7_9025_61041b7d2896</td>\n",
       "      <td>yes</td>\n",
       "      <td></td>\n",
       "      <td></td>\n",
       "      <td></td>\n",
       "      <td></td>\n",
       "      <td></td>\n",
       "      <td></td>\n",
       "      <td></td>\n",
       "      <td>fileLoader: file: cell18_C002T001.tif sweeps: ...</td>\n",
       "    </tr>\n",
       "    <tr>\n",
       "      <th>21</th>\n",
       "      <td>•</td>\n",
       "      <td>•</td>\n",
       "      <td>•</td>\n",
       "      <td>10</td>\n",
       "      <td>20</td>\n",
       "      <td>cell15_0001_C002T001.tif</td>\n",
       "      <td>4.900095</td>\n",
       "      <td>1</td>\n",
       "      <td>1</td>\n",
       "      <td>None</td>\n",
       "      <td>...</td>\n",
       "      <td>tb14c6f99_3cc7_4b65_ba83_fa422fdb246c</td>\n",
       "      <td>no</td>\n",
       "      <td></td>\n",
       "      <td></td>\n",
       "      <td></td>\n",
       "      <td></td>\n",
       "      <td></td>\n",
       "      <td>no snr within spikes</td>\n",
       "      <td></td>\n",
       "      <td>fileLoader: file: cell15_0001_C002T001.tif swe...</td>\n",
       "    </tr>\n",
       "    <tr>\n",
       "      <th>22</th>\n",
       "      <td>•</td>\n",
       "      <td>•</td>\n",
       "      <td>•</td>\n",
       "      <td>10</td>\n",
       "      <td>31</td>\n",
       "      <td>cell10_C002T001.tif</td>\n",
       "      <td>4.660335</td>\n",
       "      <td>1</td>\n",
       "      <td>1</td>\n",
       "      <td>None</td>\n",
       "      <td>...</td>\n",
       "      <td>t25095e77_e48d_45e6_ac5a_6c24ccb66dee</td>\n",
       "      <td>yes</td>\n",
       "      <td></td>\n",
       "      <td></td>\n",
       "      <td></td>\n",
       "      <td></td>\n",
       "      <td></td>\n",
       "      <td></td>\n",
       "      <td></td>\n",
       "      <td>fileLoader: file: cell10_C002T001.tif sweeps: ...</td>\n",
       "    </tr>\n",
       "    <tr>\n",
       "      <th>23</th>\n",
       "      <td>•</td>\n",
       "      <td>•</td>\n",
       "      <td>•</td>\n",
       "      <td>10</td>\n",
       "      <td>34</td>\n",
       "      <td>cell10_0001_C002T001.tif</td>\n",
       "      <td>4.820175</td>\n",
       "      <td>1</td>\n",
       "      <td>1</td>\n",
       "      <td>None</td>\n",
       "      <td>...</td>\n",
       "      <td>t6dde8890_23c8_4fcf_8c5c_abfbdfccb833</td>\n",
       "      <td>no</td>\n",
       "      <td></td>\n",
       "      <td></td>\n",
       "      <td></td>\n",
       "      <td></td>\n",
       "      <td></td>\n",
       "      <td>neg int bw spikes, pos within spike</td>\n",
       "      <td></td>\n",
       "      <td>fileLoader: file: cell10_0001_C002T001.tif swe...</td>\n",
       "    </tr>\n",
       "    <tr>\n",
       "      <th>24</th>\n",
       "      <td>•</td>\n",
       "      <td>•</td>\n",
       "      <td>•</td>\n",
       "      <td>10</td>\n",
       "      <td>25</td>\n",
       "      <td>cell11_C002T001.tif</td>\n",
       "      <td>4.980015</td>\n",
       "      <td>1</td>\n",
       "      <td>1</td>\n",
       "      <td>None</td>\n",
       "      <td>...</td>\n",
       "      <td>tccafc816_bf53_4877_9d19_82b4e1840bee</td>\n",
       "      <td>yes</td>\n",
       "      <td></td>\n",
       "      <td></td>\n",
       "      <td></td>\n",
       "      <td></td>\n",
       "      <td></td>\n",
       "      <td></td>\n",
       "      <td></td>\n",
       "      <td>fileLoader: file: cell11_C002T001.tif sweeps: ...</td>\n",
       "    </tr>\n",
       "    <tr>\n",
       "      <th>25</th>\n",
       "      <td>•</td>\n",
       "      <td>•</td>\n",
       "      <td>•</td>\n",
       "      <td>11</td>\n",
       "      <td>46</td>\n",
       "      <td>cell19_C002T001.tif</td>\n",
       "      <td>5.219775</td>\n",
       "      <td>1</td>\n",
       "      <td>1</td>\n",
       "      <td>None</td>\n",
       "      <td>...</td>\n",
       "      <td>t99731e4c_a3b2_45b9_a675_e0bcc4a14d2e</td>\n",
       "      <td>no</td>\n",
       "      <td></td>\n",
       "      <td></td>\n",
       "      <td></td>\n",
       "      <td></td>\n",
       "      <td></td>\n",
       "      <td>no snr bw spikes</td>\n",
       "      <td></td>\n",
       "      <td>fileLoader: file: cell19_C002T001.tif sweeps: ...</td>\n",
       "    </tr>\n",
       "    <tr>\n",
       "      <th>26</th>\n",
       "      <td>•</td>\n",
       "      <td>•</td>\n",
       "      <td>•</td>\n",
       "      <td>10</td>\n",
       "      <td>27</td>\n",
       "      <td>cell14_C002T001.tif</td>\n",
       "      <td>4.660335</td>\n",
       "      <td>1</td>\n",
       "      <td>1</td>\n",
       "      <td>None</td>\n",
       "      <td>...</td>\n",
       "      <td>t1cd84184_ad27_49b5_89a3_73d215fd6d21</td>\n",
       "      <td>yes</td>\n",
       "      <td></td>\n",
       "      <td></td>\n",
       "      <td></td>\n",
       "      <td></td>\n",
       "      <td></td>\n",
       "      <td>neg bw spikes, pos within spike</td>\n",
       "      <td></td>\n",
       "      <td>fileLoader: file: cell14_C002T001.tif sweeps: ...</td>\n",
       "    </tr>\n",
       "    <tr>\n",
       "      <th>27</th>\n",
       "      <td>•</td>\n",
       "      <td>•</td>\n",
       "      <td>•</td>\n",
       "      <td>13</td>\n",
       "      <td>34</td>\n",
       "      <td>cell05_0001_C002T001.tif</td>\n",
       "      <td>5.878116</td>\n",
       "      <td>1</td>\n",
       "      <td>1</td>\n",
       "      <td>None</td>\n",
       "      <td>...</td>\n",
       "      <td>tf02650a0_0696_4618_861f_74a6cbe322cf</td>\n",
       "      <td>yes</td>\n",
       "      <td></td>\n",
       "      <td></td>\n",
       "      <td></td>\n",
       "      <td></td>\n",
       "      <td></td>\n",
       "      <td></td>\n",
       "      <td></td>\n",
       "      <td>fileLoader: file: cell05_0001_C002T001.tif swe...</td>\n",
       "    </tr>\n",
       "    <tr>\n",
       "      <th>28</th>\n",
       "      <td>•</td>\n",
       "      <td>•</td>\n",
       "      <td>•</td>\n",
       "      <td>11</td>\n",
       "      <td>35</td>\n",
       "      <td>cell07_0002_C002T001.tif</td>\n",
       "      <td>5.259735</td>\n",
       "      <td>1</td>\n",
       "      <td>1</td>\n",
       "      <td>None</td>\n",
       "      <td>...</td>\n",
       "      <td>tdb17ecb4_9c5a_48c3_b41b_dbe1bfa0c04f</td>\n",
       "      <td>yes</td>\n",
       "      <td></td>\n",
       "      <td></td>\n",
       "      <td></td>\n",
       "      <td></td>\n",
       "      <td></td>\n",
       "      <td></td>\n",
       "      <td></td>\n",
       "      <td>fileLoader: file: cell07_0002_C002T001.tif swe...</td>\n",
       "    </tr>\n",
       "    <tr>\n",
       "      <th>29</th>\n",
       "      <td>•</td>\n",
       "      <td>•</td>\n",
       "      <td>•</td>\n",
       "      <td>11</td>\n",
       "      <td>48</td>\n",
       "      <td>cell04_0001_C002T001.tif</td>\n",
       "      <td>5.239755</td>\n",
       "      <td>1</td>\n",
       "      <td>1</td>\n",
       "      <td>None</td>\n",
       "      <td>...</td>\n",
       "      <td>tfde177f0_d9f8_4d3d_9bce_8b15fddbf79e</td>\n",
       "      <td>yes</td>\n",
       "      <td></td>\n",
       "      <td></td>\n",
       "      <td></td>\n",
       "      <td></td>\n",
       "      <td></td>\n",
       "      <td></td>\n",
       "      <td></td>\n",
       "      <td>fileLoader: file: cell04_0001_C002T001.tif swe...</td>\n",
       "    </tr>\n",
       "    <tr>\n",
       "      <th>30</th>\n",
       "      <td>•</td>\n",
       "      <td>•</td>\n",
       "      <td>•</td>\n",
       "      <td>11</td>\n",
       "      <td>41</td>\n",
       "      <td>cell03_0002_C002T001.tif</td>\n",
       "      <td>5.119875</td>\n",
       "      <td>1</td>\n",
       "      <td>1</td>\n",
       "      <td>None</td>\n",
       "      <td>...</td>\n",
       "      <td>tb3a630de_0515_4f88_8a5e_5d79f3159c46</td>\n",
       "      <td>yes</td>\n",
       "      <td></td>\n",
       "      <td></td>\n",
       "      <td></td>\n",
       "      <td></td>\n",
       "      <td></td>\n",
       "      <td></td>\n",
       "      <td></td>\n",
       "      <td>fileLoader: file: cell03_0002_C002T001.tif swe...</td>\n",
       "    </tr>\n",
       "    <tr>\n",
       "      <th>31</th>\n",
       "      <td>•</td>\n",
       "      <td>•</td>\n",
       "      <td>•</td>\n",
       "      <td>10</td>\n",
       "      <td>21</td>\n",
       "      <td>cell02_0002_C002T001.tif</td>\n",
       "      <td>4.500495</td>\n",
       "      <td>1</td>\n",
       "      <td>1</td>\n",
       "      <td>None</td>\n",
       "      <td>...</td>\n",
       "      <td>t1db31f05_3c1e_4482_a8b7_88be51d57103</td>\n",
       "      <td>yes</td>\n",
       "      <td></td>\n",
       "      <td></td>\n",
       "      <td></td>\n",
       "      <td></td>\n",
       "      <td></td>\n",
       "      <td>error in finding peak diam change?</td>\n",
       "      <td></td>\n",
       "      <td>fileLoader: file: cell02_0002_C002T001.tif swe...</td>\n",
       "    </tr>\n",
       "    <tr>\n",
       "      <th>32</th>\n",
       "      <td>•</td>\n",
       "      <td>•</td>\n",
       "      <td>•</td>\n",
       "      <td>11</td>\n",
       "      <td>43</td>\n",
       "      <td>cell14_0001_C002T001.tif</td>\n",
       "      <td>5.618376</td>\n",
       "      <td>1</td>\n",
       "      <td>1</td>\n",
       "      <td>None</td>\n",
       "      <td>...</td>\n",
       "      <td>td21954b6_51de_4be8_b214_0172eec935fb</td>\n",
       "      <td>no</td>\n",
       "      <td></td>\n",
       "      <td></td>\n",
       "      <td></td>\n",
       "      <td></td>\n",
       "      <td></td>\n",
       "      <td>no snr bw spikes</td>\n",
       "      <td></td>\n",
       "      <td>fileLoader: file: cell14_0001_C002T001.tif swe...</td>\n",
       "    </tr>\n",
       "    <tr>\n",
       "      <th>33</th>\n",
       "      <td>•</td>\n",
       "      <td>•</td>\n",
       "      <td>•</td>\n",
       "      <td>13</td>\n",
       "      <td>65</td>\n",
       "      <td>cell5_0001_C002T001.tif</td>\n",
       "      <td>5.878116</td>\n",
       "      <td>1</td>\n",
       "      <td>1</td>\n",
       "      <td>None</td>\n",
       "      <td>...</td>\n",
       "      <td>tb42e11b1_c737_43b5_bfce_9a030fcf77b6</td>\n",
       "      <td>yes</td>\n",
       "      <td></td>\n",
       "      <td></td>\n",
       "      <td></td>\n",
       "      <td></td>\n",
       "      <td></td>\n",
       "      <td></td>\n",
       "      <td></td>\n",
       "      <td>fileLoader: file: cell5_0001_C002T001.tif swee...</td>\n",
       "    </tr>\n",
       "    <tr>\n",
       "      <th>34</th>\n",
       "      <td>•</td>\n",
       "      <td>•</td>\n",
       "      <td>•</td>\n",
       "      <td>12</td>\n",
       "      <td>42</td>\n",
       "      <td>cell12_0001_C002T001.tif</td>\n",
       "      <td>5.638356</td>\n",
       "      <td>1</td>\n",
       "      <td>1</td>\n",
       "      <td>None</td>\n",
       "      <td>...</td>\n",
       "      <td>t7622e1e1_7f32_40f7_9997_b9b48a2a600a</td>\n",
       "      <td>yes</td>\n",
       "      <td></td>\n",
       "      <td></td>\n",
       "      <td></td>\n",
       "      <td></td>\n",
       "      <td></td>\n",
       "      <td>neg bw spikes, over estimate of decrease in le...</td>\n",
       "      <td></td>\n",
       "      <td>fileLoader: file: cell12_0001_C002T001.tif swe...</td>\n",
       "    </tr>\n",
       "    <tr>\n",
       "      <th>35</th>\n",
       "      <td>•</td>\n",
       "      <td>•</td>\n",
       "      <td>•</td>\n",
       "      <td>12</td>\n",
       "      <td>39</td>\n",
       "      <td>cell7_0001_C002T001.tif</td>\n",
       "      <td>6.017976</td>\n",
       "      <td>1</td>\n",
       "      <td>1</td>\n",
       "      <td>None</td>\n",
       "      <td>...</td>\n",
       "      <td>t484d12f3_67ca_4771_aa46_12135522b644</td>\n",
       "      <td>no</td>\n",
       "      <td></td>\n",
       "      <td></td>\n",
       "      <td></td>\n",
       "      <td></td>\n",
       "      <td></td>\n",
       "      <td>monotonic decrease in kym length</td>\n",
       "      <td></td>\n",
       "      <td>fileLoader: file: cell7_0001_C002T001.tif swee...</td>\n",
       "    </tr>\n",
       "    <tr>\n",
       "      <th>36</th>\n",
       "      <td>•</td>\n",
       "      <td>•</td>\n",
       "      <td>•</td>\n",
       "      <td>11</td>\n",
       "      <td>42</td>\n",
       "      <td>cell10_0001_C002T001.tif</td>\n",
       "      <td>5.219775</td>\n",
       "      <td>1</td>\n",
       "      <td>1</td>\n",
       "      <td>None</td>\n",
       "      <td>...</td>\n",
       "      <td>tc4ad6d98_16c0_4635_9549_8e9786952a31</td>\n",
       "      <td>no</td>\n",
       "      <td></td>\n",
       "      <td></td>\n",
       "      <td></td>\n",
       "      <td></td>\n",
       "      <td></td>\n",
       "      <td>no snr bw spikes</td>\n",
       "      <td></td>\n",
       "      <td>fileLoader: file: cell10_0001_C002T001.tif swe...</td>\n",
       "    </tr>\n",
       "    <tr>\n",
       "      <th>37</th>\n",
       "      <td>•</td>\n",
       "      <td>•</td>\n",
       "      <td>•</td>\n",
       "      <td>10</td>\n",
       "      <td>43</td>\n",
       "      <td>cell11_0001_C002T001.tif</td>\n",
       "      <td>5.379615</td>\n",
       "      <td>1</td>\n",
       "      <td>1</td>\n",
       "      <td>None</td>\n",
       "      <td>...</td>\n",
       "      <td>t969912ce_2d8a_484b_9cbb_491fba73c8c7</td>\n",
       "      <td>yes</td>\n",
       "      <td></td>\n",
       "      <td></td>\n",
       "      <td></td>\n",
       "      <td></td>\n",
       "      <td></td>\n",
       "      <td></td>\n",
       "      <td></td>\n",
       "      <td>fileLoader: file: cell11_0001_C002T001.tif swe...</td>\n",
       "    </tr>\n",
       "    <tr>\n",
       "      <th>38</th>\n",
       "      <td>•</td>\n",
       "      <td>•</td>\n",
       "      <td>•</td>\n",
       "      <td>11</td>\n",
       "      <td>39</td>\n",
       "      <td>cell9_0001_C002T001.tif</td>\n",
       "      <td>5.758236</td>\n",
       "      <td>1</td>\n",
       "      <td>1</td>\n",
       "      <td>None</td>\n",
       "      <td>...</td>\n",
       "      <td>t8b8c169c_8c19_4845_ad49_2962b3e81ab7</td>\n",
       "      <td>yes</td>\n",
       "      <td></td>\n",
       "      <td></td>\n",
       "      <td></td>\n",
       "      <td></td>\n",
       "      <td></td>\n",
       "      <td></td>\n",
       "      <td></td>\n",
       "      <td>fileLoader: file: cell9_0001_C002T001.tif swee...</td>\n",
       "    </tr>\n",
       "    <tr>\n",
       "      <th>39</th>\n",
       "      <td>•</td>\n",
       "      <td>•</td>\n",
       "      <td>•</td>\n",
       "      <td>11</td>\n",
       "      <td>32</td>\n",
       "      <td>cell 05_C002T001.tif</td>\n",
       "      <td>5.538456</td>\n",
       "      <td>1</td>\n",
       "      <td>1</td>\n",
       "      <td>None</td>\n",
       "      <td>...</td>\n",
       "      <td>t93cbf6b0_466d_4bfd_a7bd_92d0d1a882a4</td>\n",
       "      <td>yes</td>\n",
       "      <td></td>\n",
       "      <td></td>\n",
       "      <td></td>\n",
       "      <td></td>\n",
       "      <td></td>\n",
       "      <td></td>\n",
       "      <td></td>\n",
       "      <td>fileLoader: file: cell 05_C002T001.tif sweeps:...</td>\n",
       "    </tr>\n",
       "    <tr>\n",
       "      <th>40</th>\n",
       "      <td>•</td>\n",
       "      <td>•</td>\n",
       "      <td>•</td>\n",
       "      <td>9</td>\n",
       "      <td>34</td>\n",
       "      <td>cell 08_0002_C002T001.tif</td>\n",
       "      <td>4.700295</td>\n",
       "      <td>1</td>\n",
       "      <td>1</td>\n",
       "      <td>None</td>\n",
       "      <td>...</td>\n",
       "      <td>tf0d714a9_6e81_4371_a4bd_511d3b0bde1f</td>\n",
       "      <td>yes</td>\n",
       "      <td></td>\n",
       "      <td></td>\n",
       "      <td></td>\n",
       "      <td></td>\n",
       "      <td></td>\n",
       "      <td></td>\n",
       "      <td></td>\n",
       "      <td>fileLoader: file: cell 08_0002_C002T001.tif sw...</td>\n",
       "    </tr>\n",
       "  </tbody>\n",
       "</table>\n",
       "<p>41 rows × 38 columns</p>\n",
       "</div>"
      ],
      "text/plain": [
       "    L  A  S   N   E                       File    Dur(s)  Channels  Sweeps  \\\n",
       "0   •  •  •   9  27       Cell 02_C002T001.tif  4.560435         1       1   \n",
       "1   •  •  •  12  37  cell 16_0001_C002T001.tif  5.838156         1       1   \n",
       "2   •  •  •  10  27  cell 19_0001_C002T001.tif  4.880115         1       1   \n",
       "3   •  •  •  10  23  cell 17_0002_C002T001.tif  4.680315         1       1   \n",
       "4   •  •  •  11  37  cell 25_0002_C002T001.tif  5.039955         1       1   \n",
       "5   •  •  •  10  36  cell 24_0002_C002T001.tif  4.999995         1       1   \n",
       "6   •  •  •   9  26        cell03_C002T001.tif  4.660335         1       1   \n",
       "7   •  •  •  11  25        cell04_C002T001.tif  5.039955         1       1   \n",
       "8   •  •  •  11  27        cell13_C002T001.tif  4.980015         1       1   \n",
       "9   •  •  •  11  30        cell05_C002T001.tif  5.019975         1       1   \n",
       "10  •  •  •  10  22  cell 07_0001_C002T001.tif  5.139855         1       1   \n",
       "11  •  •  •  12  46  cell 01_0004_C002T001.tif  5.858136         1       1   \n",
       "12  •  •  •  11  29       cell 06_C002T001.tif  5.339655         1       1   \n",
       "13  •  •  •   9  27       cell 06_C002T001.tif  4.401594         1       1   \n",
       "14  •  •  •   8  32       Cell 02_C002T001.tif  6.037956         1       1   \n",
       "15  •  •  •   9  32       Cell 03_C002T001.tif  4.341654         1       1   \n",
       "16  •     •          Cell 05_0001_C002T001.tif  5.279715         1       1   \n",
       "17  •  •  •  11  39       Cell 06_C002T001.tif  5.039955         1       1   \n",
       "18  •  •  •  11  41   cell24_0002_C002T001.tif  4.940055         1       1   \n",
       "19  •  •  •  10  33        cell17_C002T001.tif  4.680315         1       1   \n",
       "20  •  •  •   9  19        cell18_C002T001.tif  4.421574         1       1   \n",
       "21  •  •  •  10  20   cell15_0001_C002T001.tif  4.900095         1       1   \n",
       "22  •  •  •  10  31        cell10_C002T001.tif  4.660335         1       1   \n",
       "23  •  •  •  10  34   cell10_0001_C002T001.tif  4.820175         1       1   \n",
       "24  •  •  •  10  25        cell11_C002T001.tif  4.980015         1       1   \n",
       "25  •  •  •  11  46        cell19_C002T001.tif  5.219775         1       1   \n",
       "26  •  •  •  10  27        cell14_C002T001.tif  4.660335         1       1   \n",
       "27  •  •  •  13  34   cell05_0001_C002T001.tif  5.878116         1       1   \n",
       "28  •  •  •  11  35   cell07_0002_C002T001.tif  5.259735         1       1   \n",
       "29  •  •  •  11  48   cell04_0001_C002T001.tif  5.239755         1       1   \n",
       "30  •  •  •  11  41   cell03_0002_C002T001.tif  5.119875         1       1   \n",
       "31  •  •  •  10  21   cell02_0002_C002T001.tif  4.500495         1       1   \n",
       "32  •  •  •  11  43   cell14_0001_C002T001.tif  5.618376         1       1   \n",
       "33  •  •  •  13  65    cell5_0001_C002T001.tif  5.878116         1       1   \n",
       "34  •  •  •  12  42   cell12_0001_C002T001.tif  5.638356         1       1   \n",
       "35  •  •  •  12  39    cell7_0001_C002T001.tif  6.017976         1       1   \n",
       "36  •  •  •  11  42   cell10_0001_C002T001.tif  5.219775         1       1   \n",
       "37  •  •  •  10  43   cell11_0001_C002T001.tif  5.379615         1       1   \n",
       "38  •  •  •  11  39    cell9_0001_C002T001.tif  5.758236         1       1   \n",
       "39  •  •  •  11  32       cell 05_C002T001.tif  5.538456         1       1   \n",
       "40  •  •  •   9  34  cell 08_0002_C002T001.tif  4.700295         1       1   \n",
       "\n",
       "   Epochs  ...                                   uuid Include  Condition1  \\\n",
       "0    None  ...  t38b41960_0027_4d85_8def_6808f8878144     yes               \n",
       "1    None  ...  t688f2445_970b_44b7_b2de_355d45f85d48     yes               \n",
       "2    None  ...  t89f8d886_d93a_4614_8428_c498fa64a82d     yes               \n",
       "3    None  ...  t07218af5_a82d_46a7_8bd1_bedd1a500159     yes               \n",
       "4    None  ...  tefdc19e4_4738_4bab_a875_f2777eac124a     yes               \n",
       "5    None  ...  t0a093be1_111c_44bc_9294_c22c113e81ce     yes               \n",
       "6    None  ...  t10e62498_051a_4432_9527_454d4624b8c9     yes               \n",
       "7    None  ...  tfbacf4a1_158d_4f7e_b49d_e7e66dbc4cc2     yes               \n",
       "8    None  ...  t6c51fe8b_c738_49a0_aee4_b1125530a508     yes               \n",
       "9    None  ...  t21383e11_c595_4495_97a2_41e24eb1acc2     yes               \n",
       "10   None  ...  tb4cdec84_c39e_403a_a451_cde40b4c92dd     yes               \n",
       "11   None  ...  tb583982b_2803_462a_ad1b_49842793475a     yes               \n",
       "12   None  ...  tdad02f6c_49cb_448b_9f6f_45af7eb7869a     yes               \n",
       "13   None  ...  t7d766b54_97e0_4fa8_a75a_d068a534a844      no               \n",
       "14   None  ...  tf494f836_107b_460b_9999_c408e5075a50      no               \n",
       "15   None  ...  t2c89f36c_e7cb_45cc_a5c5_85ef8e7142b6     yes               \n",
       "16   None  ...  t5c668b75_ddf4_4cbc_9fb4_15b876e78481      no               \n",
       "17   None  ...  tcf9307b3_37bd_4254_a5f7_c8b8af10e95d     yes               \n",
       "18   None  ...  tee42c692_d637_4e53_b9a5_551088da61e5     yes               \n",
       "19   None  ...  t8ff81514_74aa_421e_9253_ccd83bc39184     yes               \n",
       "20   None  ...  t9ed764ba_8621_42b7_9025_61041b7d2896     yes               \n",
       "21   None  ...  tb14c6f99_3cc7_4b65_ba83_fa422fdb246c      no               \n",
       "22   None  ...  t25095e77_e48d_45e6_ac5a_6c24ccb66dee     yes               \n",
       "23   None  ...  t6dde8890_23c8_4fcf_8c5c_abfbdfccb833      no               \n",
       "24   None  ...  tccafc816_bf53_4877_9d19_82b4e1840bee     yes               \n",
       "25   None  ...  t99731e4c_a3b2_45b9_a675_e0bcc4a14d2e      no               \n",
       "26   None  ...  t1cd84184_ad27_49b5_89a3_73d215fd6d21     yes               \n",
       "27   None  ...  tf02650a0_0696_4618_861f_74a6cbe322cf     yes               \n",
       "28   None  ...  tdb17ecb4_9c5a_48c3_b41b_dbe1bfa0c04f     yes               \n",
       "29   None  ...  tfde177f0_d9f8_4d3d_9bce_8b15fddbf79e     yes               \n",
       "30   None  ...  tb3a630de_0515_4f88_8a5e_5d79f3159c46     yes               \n",
       "31   None  ...  t1db31f05_3c1e_4482_a8b7_88be51d57103     yes               \n",
       "32   None  ...  td21954b6_51de_4be8_b214_0172eec935fb      no               \n",
       "33   None  ...  tb42e11b1_c737_43b5_bfce_9a030fcf77b6     yes               \n",
       "34   None  ...  t7622e1e1_7f32_40f7_9997_b9b48a2a600a     yes               \n",
       "35   None  ...  t484d12f3_67ca_4771_aa46_12135522b644      no               \n",
       "36   None  ...  tc4ad6d98_16c0_4635_9549_8e9786952a31      no               \n",
       "37   None  ...  t969912ce_2d8a_484b_9cbb_491fba73c8c7     yes               \n",
       "38   None  ...  t8b8c169c_8c19_4845_ad49_2962b3e81ab7     yes               \n",
       "39   None  ...  t93cbf6b0_466d_4bfd_a7bd_92d0d1a882a4     yes               \n",
       "40   None  ...  tf0d714a9_6e81_4371_a4bd_511d3b0bde1f     yes               \n",
       "\n",
       "    Condition2  ID  Age Genotype  \\\n",
       "0                                  \n",
       "1                                  \n",
       "2                                  \n",
       "3                                  \n",
       "4                                  \n",
       "5                                  \n",
       "6                                  \n",
       "7                                  \n",
       "8                                  \n",
       "9                                  \n",
       "10                                 \n",
       "11                                 \n",
       "12                                 \n",
       "13                                 \n",
       "14                                 \n",
       "15                                 \n",
       "16                                 \n",
       "17                                 \n",
       "18                                 \n",
       "19                                 \n",
       "20                                 \n",
       "21                                 \n",
       "22                                 \n",
       "23                                 \n",
       "24                                 \n",
       "25                                 \n",
       "26                                 \n",
       "27                                 \n",
       "28                                 \n",
       "29                                 \n",
       "30                                 \n",
       "31                                 \n",
       "32                                 \n",
       "33                                 \n",
       "34                                 \n",
       "35                                 \n",
       "36                                 \n",
       "37                                 \n",
       "38                                 \n",
       "39                                 \n",
       "40                                 \n",
       "\n",
       "                                                 Note Species  \\\n",
       "0                                                               \n",
       "1                                                               \n",
       "2                                                               \n",
       "3                                                               \n",
       "4                                                               \n",
       "5                                                               \n",
       "6                                                               \n",
       "7                                                               \n",
       "8                                                               \n",
       "9                                                               \n",
       "10                                                              \n",
       "11                                                              \n",
       "12                   no snr bw spikes; angled spikes;           \n",
       "13                               lots of Ca bw spikes           \n",
       "14                               lots of Ca bw spikes           \n",
       "15                                                              \n",
       "16                                        unstable Ca           \n",
       "17                                                              \n",
       "18                                                              \n",
       "19                                                              \n",
       "20                                                              \n",
       "21                               no snr within spikes           \n",
       "22                                                              \n",
       "23                neg int bw spikes, pos within spike           \n",
       "24                                                              \n",
       "25                                   no snr bw spikes           \n",
       "26                    neg bw spikes, pos within spike           \n",
       "27                                                              \n",
       "28                                                              \n",
       "29                                                              \n",
       "30                                                              \n",
       "31                 error in finding peak diam change?           \n",
       "32                                   no snr bw spikes           \n",
       "33                                                              \n",
       "34  neg bw spikes, over estimate of decrease in le...           \n",
       "35                   monotonic decrease in kym length           \n",
       "36                                   no snr bw spikes           \n",
       "37                                                              \n",
       "38                                                              \n",
       "39                                                              \n",
       "40                                                              \n",
       "\n",
       "                                                  _ba  \n",
       "0   fileLoader: file: Cell 02_C002T001.tif sweeps:...  \n",
       "1   fileLoader: file: cell 16_0001_C002T001.tif sw...  \n",
       "2   fileLoader: file: cell 19_0001_C002T001.tif sw...  \n",
       "3   fileLoader: file: cell 17_0002_C002T001.tif sw...  \n",
       "4   fileLoader: file: cell 25_0002_C002T001.tif sw...  \n",
       "5   fileLoader: file: cell 24_0002_C002T001.tif sw...  \n",
       "6   fileLoader: file: cell03_C002T001.tif sweeps: ...  \n",
       "7   fileLoader: file: cell04_C002T001.tif sweeps: ...  \n",
       "8   fileLoader: file: cell13_C002T001.tif sweeps: ...  \n",
       "9   fileLoader: file: cell05_C002T001.tif sweeps: ...  \n",
       "10  fileLoader: file: cell 07_0001_C002T001.tif sw...  \n",
       "11  fileLoader: file: cell 01_0004_C002T001.tif sw...  \n",
       "12  fileLoader: file: cell 06_C002T001.tif sweeps:...  \n",
       "13  fileLoader: file: cell 06_C002T001.tif sweeps:...  \n",
       "14  fileLoader: file: Cell 02_C002T001.tif sweeps:...  \n",
       "15  fileLoader: file: Cell 03_C002T001.tif sweeps:...  \n",
       "16  fileLoader: file: Cell 05_0001_C002T001.tif sw...  \n",
       "17  fileLoader: file: Cell 06_C002T001.tif sweeps:...  \n",
       "18  fileLoader: file: cell24_0002_C002T001.tif swe...  \n",
       "19  fileLoader: file: cell17_C002T001.tif sweeps: ...  \n",
       "20  fileLoader: file: cell18_C002T001.tif sweeps: ...  \n",
       "21  fileLoader: file: cell15_0001_C002T001.tif swe...  \n",
       "22  fileLoader: file: cell10_C002T001.tif sweeps: ...  \n",
       "23  fileLoader: file: cell10_0001_C002T001.tif swe...  \n",
       "24  fileLoader: file: cell11_C002T001.tif sweeps: ...  \n",
       "25  fileLoader: file: cell19_C002T001.tif sweeps: ...  \n",
       "26  fileLoader: file: cell14_C002T001.tif sweeps: ...  \n",
       "27  fileLoader: file: cell05_0001_C002T001.tif swe...  \n",
       "28  fileLoader: file: cell07_0002_C002T001.tif swe...  \n",
       "29  fileLoader: file: cell04_0001_C002T001.tif swe...  \n",
       "30  fileLoader: file: cell03_0002_C002T001.tif swe...  \n",
       "31  fileLoader: file: cell02_0002_C002T001.tif swe...  \n",
       "32  fileLoader: file: cell14_0001_C002T001.tif swe...  \n",
       "33  fileLoader: file: cell5_0001_C002T001.tif swee...  \n",
       "34  fileLoader: file: cell12_0001_C002T001.tif swe...  \n",
       "35  fileLoader: file: cell7_0001_C002T001.tif swee...  \n",
       "36  fileLoader: file: cell10_0001_C002T001.tif swe...  \n",
       "37  fileLoader: file: cell11_0001_C002T001.tif swe...  \n",
       "38  fileLoader: file: cell9_0001_C002T001.tif swee...  \n",
       "39  fileLoader: file: cell 05_C002T001.tif sweeps:...  \n",
       "40  fileLoader: file: cell 08_0002_C002T001.tif sw...  \n",
       "\n",
       "[41 rows x 38 columns]"
      ]
     },
     "metadata": {},
     "output_type": "display_data"
    }
   ],
   "source": [
    "dfSummaryTable = ad.getDataFrame()\n",
    "display(dfSummaryTable)"
   ]
  },
  {
   "cell_type": "markdown",
   "id": "39e9ec99",
   "metadata": {},
   "source": [
    "### Make a big table with all the analysis"
   ]
  },
  {
   "cell_type": "code",
   "execution_count": 11,
   "id": "ac0560c5",
   "metadata": {},
   "outputs": [
    {
     "name": "stderr",
     "output_type": "stream",
     "text": [
      "WARNING sanpy.analysisDir  analysisDir.py pool_build() line:1761 -- TEMPORARY WHILE WORKING ON KYM POOLING !!!!!!!!!!!!!!!!!!!!!!!!!\n",
      "WARNING sanpy.analysisDir  analysisDir.py pool_build() line:1762 -- randomly assigning sex to male, female, unknown\n",
      "WARNING sanpy.analysisDir  analysisDir.py pool_build() line:1761 -- TEMPORARY WHILE WORKING ON KYM POOLING !!!!!!!!!!!!!!!!!!!!!!!!!\n",
      "WARNING sanpy.analysisDir  analysisDir.py pool_build() line:1762 -- randomly assigning sex to male, female, unknown\n",
      "WARNING sanpy.analysisDir  analysisDir.py pool_build() line:1761 -- TEMPORARY WHILE WORKING ON KYM POOLING !!!!!!!!!!!!!!!!!!!!!!!!!\n",
      "WARNING sanpy.analysisDir  analysisDir.py pool_build() line:1762 -- randomly assigning sex to male, female, unknown\n",
      "WARNING sanpy.analysisDir  analysisDir.py pool_build() line:1761 -- TEMPORARY WHILE WORKING ON KYM POOLING !!!!!!!!!!!!!!!!!!!!!!!!!\n",
      "WARNING sanpy.analysisDir  analysisDir.py pool_build() line:1762 -- randomly assigning sex to male, female, unknown\n",
      "WARNING sanpy.analysisDir  analysisDir.py pool_build() line:1761 -- TEMPORARY WHILE WORKING ON KYM POOLING !!!!!!!!!!!!!!!!!!!!!!!!!\n",
      "WARNING sanpy.analysisDir  analysisDir.py pool_build() line:1762 -- randomly assigning sex to male, female, unknown\n",
      "WARNING sanpy.analysisDir  analysisDir.py pool_build() line:1761 -- TEMPORARY WHILE WORKING ON KYM POOLING !!!!!!!!!!!!!!!!!!!!!!!!!\n",
      "WARNING sanpy.analysisDir  analysisDir.py pool_build() line:1762 -- randomly assigning sex to male, female, unknown\n",
      "WARNING sanpy.analysisDir  analysisDir.py pool_build() line:1761 -- TEMPORARY WHILE WORKING ON KYM POOLING !!!!!!!!!!!!!!!!!!!!!!!!!\n",
      "WARNING sanpy.analysisDir  analysisDir.py pool_build() line:1762 -- randomly assigning sex to male, female, unknown\n",
      "WARNING sanpy.analysisDir  analysisDir.py pool_build() line:1761 -- TEMPORARY WHILE WORKING ON KYM POOLING !!!!!!!!!!!!!!!!!!!!!!!!!\n",
      "WARNING sanpy.analysisDir  analysisDir.py pool_build() line:1762 -- randomly assigning sex to male, female, unknown\n",
      "WARNING sanpy.analysisDir  analysisDir.py pool_build() line:1761 -- TEMPORARY WHILE WORKING ON KYM POOLING !!!!!!!!!!!!!!!!!!!!!!!!!\n",
      "WARNING sanpy.analysisDir  analysisDir.py pool_build() line:1762 -- randomly assigning sex to male, female, unknown\n",
      "WARNING sanpy.analysisDir  analysisDir.py pool_build() line:1761 -- TEMPORARY WHILE WORKING ON KYM POOLING !!!!!!!!!!!!!!!!!!!!!!!!!\n",
      "WARNING sanpy.analysisDir  analysisDir.py pool_build() line:1762 -- randomly assigning sex to male, female, unknown\n",
      "WARNING sanpy.analysisDir  analysisDir.py pool_build() line:1761 -- TEMPORARY WHILE WORKING ON KYM POOLING !!!!!!!!!!!!!!!!!!!!!!!!!\n",
      "WARNING sanpy.analysisDir  analysisDir.py pool_build() line:1762 -- randomly assigning sex to male, female, unknown\n",
      "WARNING sanpy.analysisDir  analysisDir.py pool_build() line:1761 -- TEMPORARY WHILE WORKING ON KYM POOLING !!!!!!!!!!!!!!!!!!!!!!!!!\n",
      "WARNING sanpy.analysisDir  analysisDir.py pool_build() line:1762 -- randomly assigning sex to male, female, unknown\n",
      "WARNING sanpy.analysisDir  analysisDir.py pool_build() line:1761 -- TEMPORARY WHILE WORKING ON KYM POOLING !!!!!!!!!!!!!!!!!!!!!!!!!\n",
      "WARNING sanpy.analysisDir  analysisDir.py pool_build() line:1762 -- randomly assigning sex to male, female, unknown\n",
      "WARNING sanpy.analysisDir  analysisDir.py pool_build() line:1761 -- TEMPORARY WHILE WORKING ON KYM POOLING !!!!!!!!!!!!!!!!!!!!!!!!!\n",
      "WARNING sanpy.analysisDir  analysisDir.py pool_build() line:1762 -- randomly assigning sex to male, female, unknown\n",
      "WARNING sanpy.analysisDir  analysisDir.py pool_build() line:1761 -- TEMPORARY WHILE WORKING ON KYM POOLING !!!!!!!!!!!!!!!!!!!!!!!!!\n",
      "WARNING sanpy.analysisDir  analysisDir.py pool_build() line:1762 -- randomly assigning sex to male, female, unknown\n",
      "WARNING sanpy.analysisDir  analysisDir.py pool_build() line:1761 -- TEMPORARY WHILE WORKING ON KYM POOLING !!!!!!!!!!!!!!!!!!!!!!!!!\n",
      "WARNING sanpy.analysisDir  analysisDir.py pool_build() line:1762 -- randomly assigning sex to male, female, unknown\n",
      "WARNING sanpy.analysisDir  analysisDir.py pool_build() line:1761 -- TEMPORARY WHILE WORKING ON KYM POOLING !!!!!!!!!!!!!!!!!!!!!!!!!\n",
      "WARNING sanpy.analysisDir  analysisDir.py pool_build() line:1762 -- randomly assigning sex to male, female, unknown\n",
      "WARNING sanpy.analysisDir  analysisDir.py pool_build() line:1761 -- TEMPORARY WHILE WORKING ON KYM POOLING !!!!!!!!!!!!!!!!!!!!!!!!!\n",
      "WARNING sanpy.analysisDir  analysisDir.py pool_build() line:1762 -- randomly assigning sex to male, female, unknown\n",
      "WARNING sanpy.analysisDir  analysisDir.py pool_build() line:1761 -- TEMPORARY WHILE WORKING ON KYM POOLING !!!!!!!!!!!!!!!!!!!!!!!!!\n",
      "WARNING sanpy.analysisDir  analysisDir.py pool_build() line:1762 -- randomly assigning sex to male, female, unknown\n",
      "WARNING sanpy.analysisDir  analysisDir.py pool_build() line:1761 -- TEMPORARY WHILE WORKING ON KYM POOLING !!!!!!!!!!!!!!!!!!!!!!!!!\n",
      "WARNING sanpy.analysisDir  analysisDir.py pool_build() line:1762 -- randomly assigning sex to male, female, unknown\n",
      "WARNING sanpy.analysisDir  analysisDir.py pool_build() line:1761 -- TEMPORARY WHILE WORKING ON KYM POOLING !!!!!!!!!!!!!!!!!!!!!!!!!\n",
      "WARNING sanpy.analysisDir  analysisDir.py pool_build() line:1762 -- randomly assigning sex to male, female, unknown\n",
      "WARNING sanpy.analysisDir  analysisDir.py pool_build() line:1761 -- TEMPORARY WHILE WORKING ON KYM POOLING !!!!!!!!!!!!!!!!!!!!!!!!!\n",
      "WARNING sanpy.analysisDir  analysisDir.py pool_build() line:1762 -- randomly assigning sex to male, female, unknown\n",
      "WARNING sanpy.analysisDir  analysisDir.py pool_build() line:1761 -- TEMPORARY WHILE WORKING ON KYM POOLING !!!!!!!!!!!!!!!!!!!!!!!!!\n",
      "WARNING sanpy.analysisDir  analysisDir.py pool_build() line:1762 -- randomly assigning sex to male, female, unknown\n",
      "WARNING sanpy.analysisDir  analysisDir.py pool_build() line:1761 -- TEMPORARY WHILE WORKING ON KYM POOLING !!!!!!!!!!!!!!!!!!!!!!!!!\n",
      "WARNING sanpy.analysisDir  analysisDir.py pool_build() line:1762 -- randomly assigning sex to male, female, unknown\n",
      "WARNING sanpy.analysisDir  analysisDir.py pool_build() line:1761 -- TEMPORARY WHILE WORKING ON KYM POOLING !!!!!!!!!!!!!!!!!!!!!!!!!\n",
      "WARNING sanpy.analysisDir  analysisDir.py pool_build() line:1762 -- randomly assigning sex to male, female, unknown\n",
      "WARNING sanpy.analysisDir  analysisDir.py pool_build() line:1761 -- TEMPORARY WHILE WORKING ON KYM POOLING !!!!!!!!!!!!!!!!!!!!!!!!!\n",
      "WARNING sanpy.analysisDir  analysisDir.py pool_build() line:1762 -- randomly assigning sex to male, female, unknown\n",
      "WARNING sanpy.analysisDir  analysisDir.py pool_build() line:1761 -- TEMPORARY WHILE WORKING ON KYM POOLING !!!!!!!!!!!!!!!!!!!!!!!!!\n",
      "WARNING sanpy.analysisDir  analysisDir.py pool_build() line:1762 -- randomly assigning sex to male, female, unknown\n",
      "WARNING sanpy.analysisDir  analysisDir.py pool_build() line:1761 -- TEMPORARY WHILE WORKING ON KYM POOLING !!!!!!!!!!!!!!!!!!!!!!!!!\n",
      "WARNING sanpy.analysisDir  analysisDir.py pool_build() line:1762 -- randomly assigning sex to male, female, unknown\n",
      "WARNING sanpy.analysisDir  analysisDir.py pool_build() line:1761 -- TEMPORARY WHILE WORKING ON KYM POOLING !!!!!!!!!!!!!!!!!!!!!!!!!\n",
      "WARNING sanpy.analysisDir  analysisDir.py pool_build() line:1762 -- randomly assigning sex to male, female, unknown\n",
      "WARNING sanpy.analysisDir  analysisDir.py pool_build() line:1761 -- TEMPORARY WHILE WORKING ON KYM POOLING !!!!!!!!!!!!!!!!!!!!!!!!!\n",
      "WARNING sanpy.analysisDir  analysisDir.py pool_build() line:1762 -- randomly assigning sex to male, female, unknown\n",
      "WARNING sanpy.analysisDir  analysisDir.py pool_build() line:1761 -- TEMPORARY WHILE WORKING ON KYM POOLING !!!!!!!!!!!!!!!!!!!!!!!!!\n",
      "WARNING sanpy.analysisDir  analysisDir.py pool_build() line:1762 -- randomly assigning sex to male, female, unknown\n",
      "WARNING sanpy.analysisDir  analysisDir.py pool_build() line:1761 -- TEMPORARY WHILE WORKING ON KYM POOLING !!!!!!!!!!!!!!!!!!!!!!!!!\n",
      "WARNING sanpy.analysisDir  analysisDir.py pool_build() line:1762 -- randomly assigning sex to male, female, unknown\n",
      "WARNING sanpy.analysisDir  analysisDir.py pool_build() line:1761 -- TEMPORARY WHILE WORKING ON KYM POOLING !!!!!!!!!!!!!!!!!!!!!!!!!\n",
      "WARNING sanpy.analysisDir  analysisDir.py pool_build() line:1762 -- randomly assigning sex to male, female, unknown\n"
     ]
    },
    {
     "name": "stderr",
     "output_type": "stream",
     "text": [
      "WARNING sanpy.analysisDir  analysisDir.py pool_build() line:1761 -- TEMPORARY WHILE WORKING ON KYM POOLING !!!!!!!!!!!!!!!!!!!!!!!!!\n",
      "WARNING sanpy.analysisDir  analysisDir.py pool_build() line:1762 -- randomly assigning sex to male, female, unknown\n",
      "WARNING sanpy.analysisDir  analysisDir.py pool_build() line:1761 -- TEMPORARY WHILE WORKING ON KYM POOLING !!!!!!!!!!!!!!!!!!!!!!!!!\n",
      "WARNING sanpy.analysisDir  analysisDir.py pool_build() line:1762 -- randomly assigning sex to male, female, unknown\n",
      "WARNING sanpy.analysisDir  analysisDir.py pool_build() line:1761 -- TEMPORARY WHILE WORKING ON KYM POOLING !!!!!!!!!!!!!!!!!!!!!!!!!\n",
      "WARNING sanpy.analysisDir  analysisDir.py pool_build() line:1762 -- randomly assigning sex to male, female, unknown\n",
      "WARNING sanpy.analysisDir  analysisDir.py pool_build() line:1761 -- TEMPORARY WHILE WORKING ON KYM POOLING !!!!!!!!!!!!!!!!!!!!!!!!!\n",
      "WARNING sanpy.analysisDir  analysisDir.py pool_build() line:1762 -- randomly assigning sex to male, female, unknown\n",
      "WARNING sanpy.analysisDir  analysisDir.py pool_build() line:1761 -- TEMPORARY WHILE WORKING ON KYM POOLING !!!!!!!!!!!!!!!!!!!!!!!!!\n",
      "WARNING sanpy.analysisDir  analysisDir.py pool_build() line:1762 -- randomly assigning sex to male, female, unknown\n",
      "WARNING sanpy.analysisDir  analysisDir.py pool_build() line:1761 -- TEMPORARY WHILE WORKING ON KYM POOLING !!!!!!!!!!!!!!!!!!!!!!!!!\n",
      "WARNING sanpy.analysisDir  analysisDir.py pool_build() line:1762 -- randomly assigning sex to male, female, unknown\n",
      "WARNING sanpy.analysisDir  analysisDir.py pool_build() line:1761 -- TEMPORARY WHILE WORKING ON KYM POOLING !!!!!!!!!!!!!!!!!!!!!!!!!\n",
      "WARNING sanpy.analysisDir  analysisDir.py pool_build() line:1762 -- randomly assigning sex to male, female, unknown\n"
     ]
    }
   ],
   "source": [
    "dfMaster = ad.pool_build(uniqueColumn='parent2', includeNo=True)\n"
   ]
  },
  {
   "cell_type": "markdown",
   "id": "743ddabb",
   "metadata": {},
   "source": [
    "### This is our big table"
   ]
  },
  {
   "cell_type": "code",
   "execution_count": 12,
   "id": "f36bec28",
   "metadata": {},
   "outputs": [
    {
     "data": {
      "text/html": [
       "<div>\n",
       "<style scoped>\n",
       "    .dataframe tbody tr th:only-of-type {\n",
       "        vertical-align: middle;\n",
       "    }\n",
       "\n",
       "    .dataframe tbody tr th {\n",
       "        vertical-align: top;\n",
       "    }\n",
       "\n",
       "    .dataframe thead th {\n",
       "        text-align: right;\n",
       "    }\n",
       "</style>\n",
       "<table border=\"1\" class=\"dataframe\">\n",
       "  <thead>\n",
       "    <tr style=\"text-align: right;\">\n",
       "      <th></th>\n",
       "      <th>spikeNumber</th>\n",
       "      <th>detectionType</th>\n",
       "      <th>sweep</th>\n",
       "      <th>epoch</th>\n",
       "      <th>epochLevel</th>\n",
       "      <th>sweepSpikeNumber</th>\n",
       "      <th>userType</th>\n",
       "      <th>errors</th>\n",
       "      <th>analysisDate</th>\n",
       "      <th>analysisTime</th>\n",
       "      <th>...</th>\n",
       "      <th>ID</th>\n",
       "      <th>Age</th>\n",
       "      <th>Sex</th>\n",
       "      <th>Genotype</th>\n",
       "      <th>Condition1</th>\n",
       "      <th>Condition2</th>\n",
       "      <th>Note</th>\n",
       "      <th>File Number</th>\n",
       "      <th>Unique Name</th>\n",
       "      <th>index</th>\n",
       "    </tr>\n",
       "  </thead>\n",
       "  <tbody>\n",
       "    <tr>\n",
       "      <th>0</th>\n",
       "      <td>0</td>\n",
       "      <td>dvdt</td>\n",
       "      <td>0</td>\n",
       "      <td>NaN</td>\n",
       "      <td>NaN</td>\n",
       "      <td>0</td>\n",
       "      <td>0</td>\n",
       "      <td>[{'Spike': 0, 'Seconds': 0.2693, 'Sweep': 0, '...</td>\n",
       "      <td>20230801</td>\n",
       "      <td>11:11:55</td>\n",
       "      <td>...</td>\n",
       "      <td></td>\n",
       "      <td></td>\n",
       "      <td>unknown</td>\n",
       "      <td></td>\n",
       "      <td></td>\n",
       "      <td></td>\n",
       "      <td></td>\n",
       "      <td>0</td>\n",
       "      <td>11.17.22-Cell 02_C002T001</td>\n",
       "      <td>0</td>\n",
       "    </tr>\n",
       "    <tr>\n",
       "      <th>1</th>\n",
       "      <td>1</td>\n",
       "      <td>dvdt</td>\n",
       "      <td>0</td>\n",
       "      <td>NaN</td>\n",
       "      <td>NaN</td>\n",
       "      <td>1</td>\n",
       "      <td>0</td>\n",
       "      <td>[{'Spike': 1, 'Seconds': 0.7532, 'Sweep': 0, '...</td>\n",
       "      <td>20230801</td>\n",
       "      <td>11:11:55</td>\n",
       "      <td>...</td>\n",
       "      <td></td>\n",
       "      <td></td>\n",
       "      <td>unknown</td>\n",
       "      <td></td>\n",
       "      <td></td>\n",
       "      <td></td>\n",
       "      <td></td>\n",
       "      <td>0</td>\n",
       "      <td>11.17.22-Cell 02_C002T001</td>\n",
       "      <td>1</td>\n",
       "    </tr>\n",
       "    <tr>\n",
       "      <th>2</th>\n",
       "      <td>2</td>\n",
       "      <td>dvdt</td>\n",
       "      <td>0</td>\n",
       "      <td>NaN</td>\n",
       "      <td>NaN</td>\n",
       "      <td>2</td>\n",
       "      <td>0</td>\n",
       "      <td>[{'Spike': 2, 'Seconds': 1.2326, 'Sweep': 0, '...</td>\n",
       "      <td>20230801</td>\n",
       "      <td>11:11:55</td>\n",
       "      <td>...</td>\n",
       "      <td></td>\n",
       "      <td></td>\n",
       "      <td>unknown</td>\n",
       "      <td></td>\n",
       "      <td></td>\n",
       "      <td></td>\n",
       "      <td></td>\n",
       "      <td>0</td>\n",
       "      <td>11.17.22-Cell 02_C002T001</td>\n",
       "      <td>2</td>\n",
       "    </tr>\n",
       "    <tr>\n",
       "      <th>3</th>\n",
       "      <td>3</td>\n",
       "      <td>dvdt</td>\n",
       "      <td>0</td>\n",
       "      <td>NaN</td>\n",
       "      <td>NaN</td>\n",
       "      <td>3</td>\n",
       "      <td>0</td>\n",
       "      <td>[{'Spike': 3, 'Seconds': 1.7164, 'Sweep': 0, '...</td>\n",
       "      <td>20230801</td>\n",
       "      <td>11:11:55</td>\n",
       "      <td>...</td>\n",
       "      <td></td>\n",
       "      <td></td>\n",
       "      <td>unknown</td>\n",
       "      <td></td>\n",
       "      <td></td>\n",
       "      <td></td>\n",
       "      <td></td>\n",
       "      <td>0</td>\n",
       "      <td>11.17.22-Cell 02_C002T001</td>\n",
       "      <td>3</td>\n",
       "    </tr>\n",
       "    <tr>\n",
       "      <th>4</th>\n",
       "      <td>4</td>\n",
       "      <td>dvdt</td>\n",
       "      <td>0</td>\n",
       "      <td>NaN</td>\n",
       "      <td>NaN</td>\n",
       "      <td>4</td>\n",
       "      <td>0</td>\n",
       "      <td>[{'Spike': 4, 'Seconds': 2.2003, 'Sweep': 0, '...</td>\n",
       "      <td>20230801</td>\n",
       "      <td>11:11:55</td>\n",
       "      <td>...</td>\n",
       "      <td></td>\n",
       "      <td></td>\n",
       "      <td>unknown</td>\n",
       "      <td></td>\n",
       "      <td></td>\n",
       "      <td></td>\n",
       "      <td></td>\n",
       "      <td>0</td>\n",
       "      <td>11.17.22-Cell 02_C002T001</td>\n",
       "      <td>4</td>\n",
       "    </tr>\n",
       "  </tbody>\n",
       "</table>\n",
       "<p>5 rows × 79 columns</p>\n",
       "</div>"
      ],
      "text/plain": [
       "   spikeNumber detectionType  sweep  epoch  epochLevel  sweepSpikeNumber  \\\n",
       "0            0          dvdt      0    NaN         NaN                 0   \n",
       "1            1          dvdt      0    NaN         NaN                 1   \n",
       "2            2          dvdt      0    NaN         NaN                 2   \n",
       "3            3          dvdt      0    NaN         NaN                 3   \n",
       "4            4          dvdt      0    NaN         NaN                 4   \n",
       "\n",
       "   userType                                             errors analysisDate  \\\n",
       "0         0  [{'Spike': 0, 'Seconds': 0.2693, 'Sweep': 0, '...     20230801   \n",
       "1         0  [{'Spike': 1, 'Seconds': 0.7532, 'Sweep': 0, '...     20230801   \n",
       "2         0  [{'Spike': 2, 'Seconds': 1.2326, 'Sweep': 0, '...     20230801   \n",
       "3         0  [{'Spike': 3, 'Seconds': 1.7164, 'Sweep': 0, '...     20230801   \n",
       "4         0  [{'Spike': 4, 'Seconds': 2.2003, 'Sweep': 0, '...     20230801   \n",
       "\n",
       "  analysisTime  ... ID Age      Sex Genotype Condition1  Condition2  Note  \\\n",
       "0     11:11:55  ...         unknown                                         \n",
       "1     11:11:55  ...         unknown                                         \n",
       "2     11:11:55  ...         unknown                                         \n",
       "3     11:11:55  ...         unknown                                         \n",
       "4     11:11:55  ...         unknown                                         \n",
       "\n",
       "   File Number                Unique Name  index  \n",
       "0            0  11.17.22-Cell 02_C002T001      0  \n",
       "1            0  11.17.22-Cell 02_C002T001      1  \n",
       "2            0  11.17.22-Cell 02_C002T001      2  \n",
       "3            0  11.17.22-Cell 02_C002T001      3  \n",
       "4            0  11.17.22-Cell 02_C002T001      4  \n",
       "\n",
       "[5 rows x 79 columns]"
      ]
     },
     "metadata": {},
     "output_type": "display_data"
    }
   ],
   "source": [
    "display(dfMaster.head())\n",
    "#dfMaster.columns"
   ]
  },
  {
   "cell_type": "markdown",
   "id": "983c36e0",
   "metadata": {},
   "source": [
    "### Plot scatter and use color for each file"
   ]
  },
  {
   "cell_type": "code",
   "execution_count": 14,
   "id": "564f2f43",
   "metadata": {},
   "outputs": [],
   "source": [
    "x = 'widths_50'\n",
    "x = 'peakHeight'\n",
    "x = 'k_diam_time_to_peak_sec'\n",
    "x = 'thresholdSec'\n",
    "\n",
    "y = 'k_diam_amp'\n",
    "y = 'k_diam_percent'\n",
    "\n"
   ]
  },
  {
   "cell_type": "markdown",
   "id": "e679eec4",
   "metadata": {},
   "source": [
    "TODO: Rather than using peakHeight, use 1/2 width"
   ]
  },
  {
   "cell_type": "code",
   "execution_count": 15,
   "id": "4f76892e",
   "metadata": {},
   "outputs": [
    {
     "data": {
      "application/vnd.plotly.v1+json": {
       "config": {
        "plotlyServerURL": "https://plot.ly"
       },
       "data": [
        {
         "hovertemplate": "Unique Name=11.17.22-Cell 02_C002T001<br>thresholdSec=%{x}<br>k_diam_percent=%{y}<extra></extra>",
         "legendgroup": "11.17.22-Cell 02_C002T001",
         "line": {
          "color": "#636efa",
          "dash": "solid"
         },
         "marker": {
          "symbol": "circle"
         },
         "mode": "lines",
         "name": "11.17.22-Cell 02_C002T001",
         "orientation": "v",
         "showlegend": true,
         "type": "scatter",
         "x": [
          0.26933500000000005,
          0.753225,
          1.23255,
          1.71644,
          2.20033,
          2.6842200000000003,
          3.16811,
          3.652,
          4.135890000000001
         ],
         "xaxis": "x",
         "y": [
          93.6,
          91.918,
          89.307,
          89.888,
          88.729,
          89.976,
          91.232,
          96.443,
          null
         ],
         "yaxis": "y"
        },
        {
         "hovertemplate": "Unique Name=06.15.22-cell 16_0001_C002T001<br>thresholdSec=%{x}<br>k_diam_percent=%{y}<extra></extra>",
         "legendgroup": "06.15.22-cell 16_0001_C002T001",
         "line": {
          "color": "#EF553B",
          "dash": "solid"
         },
         "marker": {
          "symbol": "circle"
         },
         "mode": "lines",
         "name": "06.15.22-cell 16_0001_C002T001",
         "orientation": "v",
         "showlegend": true,
         "type": "scatter",
         "x": [
          0.36232800000000004,
          0.829848,
          1.297368,
          1.770732,
          2.238252,
          2.711616,
          3.179136,
          3.6525,
          4.12002,
          4.593384,
          5.060904000000001,
          5.528424
         ],
         "xaxis": "x",
         "y": [
          96.166,
          96.178,
          96.24,
          96.558,
          96.558,
          96.497,
          96.528,
          96.939,
          96.815,
          96.908,
          96.682,
          null
         ],
         "yaxis": "y"
        },
        {
         "hovertemplate": "Unique Name=06.15.22-cell 19_0001_C002T001<br>thresholdSec=%{x}<br>k_diam_percent=%{y}<extra></extra>",
         "legendgroup": "06.15.22-cell 19_0001_C002T001",
         "line": {
          "color": "#00cc96",
          "dash": "solid"
         },
         "marker": {
          "symbol": "circle"
         },
         "mode": "lines",
         "name": "06.15.22-cell 19_0001_C002T001",
         "orientation": "v",
         "showlegend": true,
         "type": "scatter",
         "x": [
          0.18563,
          0.6594749999999999,
          1.1284349999999999,
          1.597395,
          2.066355,
          2.5402,
          3.00916,
          3.47812,
          3.9519649999999995,
          4.4209249999999995
         ],
         "xaxis": "x",
         "y": [
          95.462,
          88.132,
          89.412,
          88.05,
          88.235,
          89.328,
          87.795,
          88.282,
          86.405,
          null
         ],
         "yaxis": "y"
        },
        {
         "hovertemplate": "Unique Name=06.15.22-cell 17_0002_C002T001<br>thresholdSec=%{x}<br>k_diam_percent=%{y}<extra></extra>",
         "legendgroup": "06.15.22-cell 17_0002_C002T001",
         "line": {
          "color": "#ab63fa",
          "dash": "solid"
         },
         "marker": {
          "symbol": "circle"
         },
         "mode": "lines",
         "name": "06.15.22-cell 17_0002_C002T001",
         "orientation": "v",
         "showlegend": true,
         "type": "scatter",
         "x": [
          0.37011499999999997,
          0.838615,
          1.3117999999999999,
          1.7803,
          2.2487999999999997,
          2.7173,
          3.190485,
          3.6589849999999995,
          4.13217,
          4.60067
         ],
         "xaxis": "x",
         "y": [
          92.899,
          93.304,
          93.75,
          94.704,
          95.045,
          95.625,
          94.765,
          95.023,
          95.866,
          null
         ],
         "yaxis": "y"
        },
        {
         "hovertemplate": "Unique Name=06.15.22-cell 25_0002_C002T001<br>thresholdSec=%{x}<br>k_diam_percent=%{y}<extra></extra>",
         "legendgroup": "06.15.22-cell 25_0002_C002T001",
         "line": {
          "color": "#FFA15A",
          "dash": "solid"
         },
         "marker": {
          "symbol": "circle"
         },
         "mode": "lines",
         "name": "06.15.22-cell 25_0002_C002T001",
         "orientation": "v",
         "showlegend": true,
         "type": "scatter",
         "x": [
          0.06054,
          0.53477,
          1.003955,
          1.4731400000000001,
          1.942325,
          2.416555,
          2.88574,
          3.354925,
          3.829155,
          4.2983400000000005,
          4.767525000000001
         ],
         "xaxis": "x",
         "y": [
          95.462,
          94.741,
          95.386,
          94.595,
          95.275,
          95.534,
          95.017,
          95.293,
          95.608,
          95.827,
          null
         ],
         "yaxis": "y"
        },
        {
         "hovertemplate": "Unique Name=06.15.22-cell 24_0002_C002T001<br>thresholdSec=%{x}<br>k_diam_percent=%{y}<extra></extra>",
         "legendgroup": "06.15.22-cell 24_0002_C002T001",
         "line": {
          "color": "#19d3f3",
          "dash": "solid"
         },
         "marker": {
          "symbol": "circle"
         },
         "mode": "lines",
         "name": "06.15.22-cell 24_0002_C002T001",
         "orientation": "v",
         "showlegend": true,
         "type": "scatter",
         "x": [
          0.32032,
          0.79079,
          1.26126,
          1.73173,
          2.2022,
          2.67267,
          3.14314,
          3.6136099999999995,
          4.08408,
          4.55455
         ],
         "xaxis": "x",
         "y": [
          96.313,
          96.549,
          97.378,
          96.729,
          97.412,
          97.549,
          98.113,
          97.642,
          97.642,
          null
         ],
         "yaxis": "y"
        },
        {
         "hovertemplate": "Unique Name=09.08.22-cell03_C002T001<br>thresholdSec=%{x}<br>k_diam_percent=%{y}<extra></extra>",
         "legendgroup": "09.08.22-cell03_C002T001",
         "line": {
          "color": "#FF6692",
          "dash": "solid"
         },
         "marker": {
          "symbol": "circle"
         },
         "mode": "lines",
         "name": "09.08.22-cell03_C002T001",
         "orientation": "v",
         "showlegend": true,
         "type": "scatter",
         "x": [
          0.44783999999999996,
          0.937665,
          1.42749,
          1.917315,
          2.402475,
          2.8922999999999996,
          3.382125,
          3.867285,
          4.35711
         ],
         "xaxis": "x",
         "y": [
          72.316,
          71.489,
          68.829,
          71.086,
          70.984,
          73.384,
          69.715,
          70.641,
          null
         ],
         "yaxis": "y"
        },
        {
         "hovertemplate": "Unique Name=09.08.22-cell04_C002T001<br>thresholdSec=%{x}<br>k_diam_percent=%{y}<extra></extra>",
         "legendgroup": "09.08.22-cell04_C002T001",
         "line": {
          "color": "#B6E880",
          "dash": "solid"
         },
         "marker": {
          "symbol": "circle"
         },
         "mode": "lines",
         "name": "09.08.22-cell04_C002T001",
         "orientation": "v",
         "showlegend": true,
         "type": "scatter",
         "x": [
          0.035315,
          0.52468,
          1.014045,
          1.5034100000000001,
          1.9927750000000002,
          2.4770950000000003,
          2.96646,
          3.4558250000000004,
          3.94519,
          4.4345550000000005,
          4.92392
         ],
         "xaxis": "x",
         "y": [
          null,
          83.418,
          84.157,
          85.048,
          80.176,
          76.692,
          71.898,
          75.774,
          71.181,
          74.891,
          null
         ],
         "yaxis": "y"
        },
        {
         "hovertemplate": "Unique Name=09.08.22-cell13_C002T001<br>thresholdSec=%{x}<br>k_diam_percent=%{y}<extra></extra>",
         "legendgroup": "09.08.22-cell13_C002T001",
         "line": {
          "color": "#FF97FF",
          "dash": "solid"
         },
         "marker": {
          "symbol": "circle"
         },
         "mode": "lines",
         "name": "09.08.22-cell13_C002T001",
         "orientation": "v",
         "showlegend": true,
         "type": "scatter",
         "x": [
          0.034895,
          0.523425,
          1.0119550000000002,
          1.500485,
          1.9890150000000004,
          2.477545,
          2.9660750000000005,
          3.4546050000000004,
          3.9431350000000003,
          4.431665000000001,
          4.9201950000000005
         ],
         "xaxis": "x",
         "y": [
          null,
          68.957,
          68.493,
          68.663,
          80.166,
          68.129,
          67.718,
          79.731,
          69.251,
          68.305,
          null
         ],
         "yaxis": "y"
        },
        {
         "hovertemplate": "Unique Name=09.08.22-cell05_C002T001<br>thresholdSec=%{x}<br>k_diam_percent=%{y}<extra></extra>",
         "legendgroup": "09.08.22-cell05_C002T001",
         "line": {
          "color": "#FECB52",
          "dash": "solid"
         },
         "marker": {
          "symbol": "circle"
         },
         "mode": "lines",
         "name": "09.08.22-cell05_C002T001",
         "orientation": "v",
         "showlegend": true,
         "type": "scatter",
         "x": [
          0.035175000000000005,
          0.5226000000000001,
          1.0100250000000002,
          1.49745,
          1.9848750000000002,
          2.4773250000000004,
          2.9647500000000004,
          3.452175,
          3.9396000000000004,
          4.43205,
          4.919475
         ],
         "xaxis": "x",
         "y": [
          null,
          95.934,
          85.705,
          86.196,
          87.708,
          88.309,
          93.74,
          88.84,
          89.218,
          94.595,
          null
         ],
         "yaxis": "y"
        },
        {
         "hovertemplate": "Unique Name=09.13.22-cell 07_0001_C002T001<br>thresholdSec=%{x}<br>k_diam_percent=%{y}<extra></extra>",
         "legendgroup": "09.13.22-cell 07_0001_C002T001",
         "line": {
          "color": "#636efa",
          "dash": "solid"
         },
         "marker": {
          "symbol": "circle"
         },
         "mode": "lines",
         "name": "09.13.22-cell 07_0001_C002T001",
         "orientation": "v",
         "showlegend": true,
         "type": "scatter",
         "x": [
          0.42703499999999994,
          0.910665,
          1.3942949999999998,
          1.8779249999999998,
          2.3615549999999996,
          2.845185,
          3.328815,
          3.812445,
          4.296075,
          4.779705
         ],
         "xaxis": "x",
         "y": [
          93.281,
          93.281,
          92.857,
          93.339,
          93.116,
          93.625,
          92.829,
          92.968,
          93.079,
          null
         ],
         "yaxis": "y"
        },
        {
         "hovertemplate": "Unique Name=09.13.22-cell 01_0004_C002T001<br>thresholdSec=%{x}<br>k_diam_percent=%{y}<extra></extra>",
         "legendgroup": "09.13.22-cell 01_0004_C002T001",
         "line": {
          "color": "#EF553B",
          "dash": "solid"
         },
         "marker": {
          "symbol": "circle"
         },
         "mode": "lines",
         "name": "09.13.22-cell 01_0004_C002T001",
         "orientation": "v",
         "showlegend": true,
         "type": "scatter",
         "x": [
          0.228696,
          0.709544,
          1.196256,
          1.6771040000000002,
          2.157952,
          2.6446639999999997,
          3.125512,
          3.6122240000000003,
          4.093072,
          4.57392,
          5.060632,
          5.54148
         ],
         "xaxis": "x",
         "y": [
          null,
          null,
          null,
          null,
          null,
          null,
          null,
          null,
          null,
          null,
          null,
          null
         ],
         "yaxis": "y"
        },
        {
         "hovertemplate": "Unique Name=09.13.22-cell 06_C002T001<br>thresholdSec=%{x}<br>k_diam_percent=%{y}<extra></extra>",
         "legendgroup": "09.13.22-cell 06_C002T001",
         "line": {
          "color": "#00cc96",
          "dash": "solid"
         },
         "marker": {
          "symbol": "circle"
         },
         "mode": "lines",
         "name": "09.13.22-cell 06_C002T001",
         "orientation": "v",
         "showlegend": true,
         "type": "scatter",
         "x": [
          0.04276,
          0.52381,
          1.010205,
          1.4912549999999998,
          1.97765,
          2.4587,
          2.945095,
          3.4314899999999997,
          3.9125399999999995,
          4.398935,
          4.879985
         ],
         "xaxis": "x",
         "y": [
          null,
          null,
          null,
          null,
          null,
          null,
          null,
          null,
          null,
          null,
          null
         ],
         "yaxis": "y"
        },
        {
         "hovertemplate": "Unique Name=10.12.22-cell 06_C002T001<br>thresholdSec=%{x}<br>k_diam_percent=%{y}<extra></extra>",
         "legendgroup": "10.12.22-cell 06_C002T001",
         "line": {
          "color": "#ab63fa",
          "dash": "solid"
         },
         "marker": {
          "symbol": "circle"
         },
         "mode": "lines",
         "name": "10.12.22-cell 06_C002T001",
         "orientation": "v",
         "showlegend": true,
         "type": "scatter",
         "x": [
          0.127774,
          0.61684,
          1.0926879999999999,
          1.5817539999999999,
          2.0620079999999996,
          2.559886,
          3.026922,
          3.5159879999999997,
          3.9918359999999997
         ],
         "xaxis": "x",
         "y": [
          null,
          null,
          null,
          null,
          null,
          null,
          null,
          null,
          null
         ],
         "yaxis": "y"
        },
        {
         "hovertemplate": "Unique Name=07.26.22-Cell 02_C002T001<br>thresholdSec=%{x}<br>k_diam_percent=%{y}<extra></extra>",
         "legendgroup": "07.26.22-Cell 02_C002T001",
         "line": {
          "color": "#FFA15A",
          "dash": "solid"
         },
         "marker": {
          "symbol": "circle"
         },
         "mode": "lines",
         "name": "07.26.22-Cell 02_C002T001",
         "orientation": "v",
         "showlegend": true,
         "type": "scatter",
         "x": [
          0.344508,
          1.311548,
          1.78298,
          2.7439759999999995,
          3.2214519999999998,
          3.7049719999999997,
          5.143444,
          5.62092
         ],
         "xaxis": "x",
         "y": [
          91.061,
          95.021,
          91.035,
          92.35,
          91.212,
          92.269,
          90.859,
          null
         ],
         "yaxis": "y"
        },
        {
         "hovertemplate": "Unique Name=07.26.22-Cell 03_C002T001<br>thresholdSec=%{x}<br>k_diam_percent=%{y}<extra></extra>",
         "legendgroup": "07.26.22-Cell 03_C002T001",
         "line": {
          "color": "#19d3f3",
          "dash": "solid"
         },
         "marker": {
          "symbol": "circle"
         },
         "mode": "lines",
         "name": "07.26.22-Cell 03_C002T001",
         "orientation": "v",
         "showlegend": true,
         "type": "scatter",
         "x": [
          0.18687800000000002,
          0.669284,
          1.1473440000000001,
          1.625404,
          2.1078099999999997,
          2.5858700000000003,
          3.0682760000000004,
          3.546336,
          4.024396
         ],
         "xaxis": "x",
         "y": [
          94.203,
          94.819,
          94.72,
          94.301,
          94.301,
          94.136,
          94.33,
          93.142,
          null
         ],
         "yaxis": "y"
        },
        {
         "hovertemplate": "Unique Name=07.26.22-Cell 06_C002T001<br>thresholdSec=%{x}<br>k_diam_percent=%{y}<extra></extra>",
         "legendgroup": "07.26.22-Cell 06_C002T001",
         "line": {
          "color": "#FF6692",
          "dash": "solid"
         },
         "marker": {
          "symbol": "circle"
         },
         "mode": "lines",
         "name": "07.26.22-Cell 06_C002T001",
         "orientation": "v",
         "showlegend": true,
         "type": "scatter",
         "x": [
          0.07567499999999999,
          0.55495,
          1.034225,
          1.5135,
          1.99782,
          2.4770950000000003,
          2.9563699999999997,
          3.44069,
          3.91492,
          4.39924,
          4.878515
         ],
         "xaxis": "x",
         "y": [
          93.96,
          96.995,
          92.443,
          92.38,
          95.32,
          92.199,
          92.448,
          95.625,
          92.517,
          93.215,
          null
         ],
         "yaxis": "y"
        },
        {
         "hovertemplate": "Unique Name=06.08.22-cell24_0002_C002T001<br>thresholdSec=%{x}<br>k_diam_percent=%{y}<extra></extra>",
         "legendgroup": "06.08.22-cell24_0002_C002T001",
         "line": {
          "color": "#B6E880",
          "dash": "solid"
         },
         "marker": {
          "symbol": "circle"
         },
         "mode": "lines",
         "name": "06.08.22-cell24_0002_C002T001",
         "orientation": "v",
         "showlegend": true,
         "type": "scatter",
         "x": [
          0.18791,
          0.6576850000000001,
          1.1274600000000001,
          1.5972350000000002,
          2.0670100000000002,
          2.5367850000000005,
          3.00656,
          3.476335,
          3.951055,
          4.42083,
          4.890605000000001
         ],
         "xaxis": "x",
         "y": [
          86.719,
          85.078,
          84.992,
          84.333,
          83.525,
          82.521,
          82.524,
          83.66,
          82.201,
          84.746,
          null
         ],
         "yaxis": "y"
        },
        {
         "hovertemplate": "Unique Name=06.08.22-cell17_C002T001<br>thresholdSec=%{x}<br>k_diam_percent=%{y}<extra></extra>",
         "legendgroup": "06.08.22-cell17_C002T001",
         "line": {
          "color": "#FF97FF",
          "dash": "solid"
         },
         "marker": {
          "symbol": "circle"
         },
         "mode": "lines",
         "name": "06.08.22-cell17_C002T001",
         "orientation": "v",
         "showlegend": true,
         "type": "scatter",
         "x": [
          0.25299,
          0.72149,
          1.194675,
          1.6631749999999998,
          2.1316749999999995,
          2.6048599999999995,
          3.0733599999999996,
          3.54186,
          4.015045,
          4.483545
         ],
         "xaxis": "x",
         "y": [
          91.382,
          90.607,
          92.188,
          93.23,
          94.109,
          94.375,
          94.799,
          95.22,
          95.151,
          null
         ],
         "yaxis": "y"
        },
        {
         "hovertemplate": "Unique Name=06.08.22-cell18_C002T001<br>thresholdSec=%{x}<br>k_diam_percent=%{y}<extra></extra>",
         "legendgroup": "06.08.22-cell18_C002T001",
         "line": {
          "color": "#FECB52",
          "dash": "solid"
         },
         "marker": {
          "symbol": "circle"
         },
         "mode": "lines",
         "name": "06.08.22-cell18_C002T001",
         "orientation": "v",
         "showlegend": true,
         "type": "scatter",
         "x": [
          0.314246,
          0.783402,
          1.252558,
          1.72614,
          2.1952960000000004,
          2.6644520000000003,
          3.133608,
          3.60719,
          4.076346
         ],
         "xaxis": "x",
         "y": [
          null,
          null,
          null,
          null,
          null,
          null,
          null,
          null,
          null
         ],
         "yaxis": "y"
        },
        {
         "hovertemplate": "Unique Name=06.08.22-cell15_0001_C002T001<br>thresholdSec=%{x}<br>k_diam_percent=%{y}<extra></extra>",
         "legendgroup": "06.08.22-cell15_0001_C002T001",
         "line": {
          "color": "#636efa",
          "dash": "solid"
         },
         "marker": {
          "symbol": "circle"
         },
         "mode": "lines",
         "name": "06.08.22-cell15_0001_C002T001",
         "orientation": "v",
         "showlegend": true,
         "type": "scatter",
         "x": [
          0.45616500000000004,
          0.9270450000000001,
          1.39302,
          1.868805,
          2.339685,
          2.8056600000000005,
          3.2765400000000002,
          3.74742,
          4.2183,
          4.684275
         ],
         "xaxis": "x",
         "y": [
          91.868,
          89.704,
          95.153,
          87.248,
          45.255,
          92.95,
          91.393,
          90.87,
          53.5,
          null
         ],
         "yaxis": "y"
        },
        {
         "hovertemplate": "Unique Name=06.08.22-cell10_C002T001<br>thresholdSec=%{x}<br>k_diam_percent=%{y}<extra></extra>",
         "legendgroup": "06.08.22-cell10_C002T001",
         "line": {
          "color": "#EF553B",
          "dash": "solid"
         },
         "marker": {
          "symbol": "circle"
         },
         "mode": "lines",
         "name": "06.08.22-cell10_C002T001",
         "orientation": "v",
         "showlegend": true,
         "type": "scatter",
         "x": [
          0.39652499999999996,
          0.86769,
          1.34352,
          1.81002,
          2.27652,
          2.747685,
          3.2188499999999998,
          3.69468,
          4.156515000000001,
          4.627680000000001
         ],
         "xaxis": "x",
         "y": [
          88.476,
          88.815,
          94.821,
          87.961,
          87.667,
          88.664,
          88.74,
          95.092,
          88.29,
          null
         ],
         "yaxis": "y"
        },
        {
         "hovertemplate": "Unique Name=06.08.22-cell10_0001_C002T001<br>thresholdSec=%{x}<br>k_diam_percent=%{y}<extra></extra>",
         "legendgroup": "06.08.22-cell10_0001_C002T001",
         "line": {
          "color": "#00cc96",
          "dash": "solid"
         },
         "marker": {
          "symbol": "circle"
         },
         "mode": "lines",
         "name": "06.08.22-cell10_0001_C002T001",
         "orientation": "v",
         "showlegend": true,
         "type": "scatter",
         "x": [
          0.46320000000000006,
          0.93605,
          1.404075,
          1.8769250000000002,
          2.3449500000000003,
          2.8129750000000002,
          3.2858250000000004,
          3.7538500000000004,
          4.221875,
          4.694725
         ],
         "xaxis": "x",
         "y": [
          55.024,
          58.362,
          53.584,
          53.301,
          65.559,
          60.419,
          58.703,
          54.949,
          55.29,
          null
         ],
         "yaxis": "y"
        },
        {
         "hovertemplate": "Unique Name=06.08.22-cell11_C002T001<br>thresholdSec=%{x}<br>k_diam_percent=%{y}<extra></extra>",
         "legendgroup": "06.08.22-cell11_C002T001",
         "line": {
          "color": "#ab63fa",
          "dash": "solid"
         },
         "marker": {
          "symbol": "circle"
         },
         "mode": "lines",
         "name": "06.08.22-cell11_C002T001",
         "orientation": "v",
         "showlegend": true,
         "type": "scatter",
         "x": [
          0.4586200000000001,
          0.9272100000000002,
          1.4007850000000002,
          1.8693750000000002,
          2.337965,
          2.8065550000000004,
          3.2801300000000007,
          3.74872,
          4.21731,
          4.6859
         ],
         "xaxis": "x",
         "y": [
          87.667,
          88.333,
          88.333,
          88.333,
          88.667,
          88.667,
          88.667,
          89,
          90,
          null
         ],
         "yaxis": "y"
        },
        {
         "hovertemplate": "Unique Name=06.08.22-cell19_C002T001<br>thresholdSec=%{x}<br>k_diam_percent=%{y}<extra></extra>",
         "legendgroup": "06.08.22-cell19_C002T001",
         "line": {
          "color": "#FFA15A",
          "dash": "solid"
         },
         "marker": {
          "symbol": "circle"
         },
         "mode": "lines",
         "name": "06.08.22-cell19_C002T001",
         "orientation": "v",
         "showlegend": true,
         "type": "scatter",
         "x": [
          0.46502499999999997,
          0.935275,
          1.4055250000000001,
          1.8757750000000002,
          2.346025,
          2.816275,
          3.286525,
          3.756775,
          4.227024999999999,
          4.697274999999999,
          5.1675249999999995
         ],
         "xaxis": "x",
         "y": [
          79.561,
          87.179,
          80.137,
          92.916,
          89.304,
          84.983,
          88.913,
          91.627,
          80.33,
          90.692,
          null
         ],
         "yaxis": "y"
        },
        {
         "hovertemplate": "Unique Name=06.08.22-cell14_C002T001<br>thresholdSec=%{x}<br>k_diam_percent=%{y}<extra></extra>",
         "legendgroup": "06.08.22-cell14_C002T001",
         "line": {
          "color": "#19d3f3",
          "dash": "solid"
         },
         "marker": {
          "symbol": "circle"
         },
         "mode": "lines",
         "name": "06.08.22-cell14_C002T001",
         "orientation": "v",
         "showlegend": true,
         "type": "scatter",
         "x": [
          0.041985,
          0.51315,
          0.9843149999999999,
          1.450815,
          1.92198,
          2.393145,
          2.86431,
          3.33081,
          3.801975,
          4.273140000000001
         ],
         "xaxis": "x",
         "y": [
          null,
          86.038,
          86.038,
          86.415,
          86.415,
          86.792,
          86.415,
          86.792,
          86.038,
          null
         ],
         "yaxis": "y"
        },
        {
         "hovertemplate": "Unique Name=07.18.22-cell05_0001_C002T001<br>thresholdSec=%{x}<br>k_diam_percent=%{y}<extra></extra>",
         "legendgroup": "07.18.22-cell05_0001_C002T001",
         "line": {
          "color": "#FF6692",
          "dash": "solid"
         },
         "marker": {
          "symbol": "circle"
         },
         "mode": "lines",
         "name": "07.18.22-cell05_0001_C002T001",
         "orientation": "v",
         "showlegend": true,
         "type": "scatter",
         "x": [
          0.005884,
          0.4824880000000001,
          0.9649760000000002,
          1.44158,
          1.9240680000000001,
          2.400672,
          2.88316,
          3.359764,
          3.8422520000000002,
          4.318856,
          4.801344,
          5.277948,
          5.760436
         ],
         "xaxis": "x",
         "y": [
          null,
          93.938,
          94.294,
          94.895,
          94.895,
          95.338,
          94.939,
          95.495,
          95.41,
          95.11,
          95.495,
          96.096,
          null
         ],
         "yaxis": "y"
        },
        {
         "hovertemplate": "Unique Name=07.18.22-cell07_0002_C002T001<br>thresholdSec=%{x}<br>k_diam_percent=%{y}<extra></extra>",
         "legendgroup": "07.18.22-cell07_0002_C002T001",
         "line": {
          "color": "#B6E880",
          "dash": "solid"
         },
         "marker": {
          "symbol": "circle"
         },
         "mode": "lines",
         "name": "07.18.22-cell07_0002_C002T001",
         "orientation": "v",
         "showlegend": true,
         "type": "scatter",
         "x": [
          0.40014,
          0.88452,
          1.363635,
          1.8427499999999997,
          2.321865,
          2.80098,
          3.2800949999999998,
          3.7592099999999995,
          4.238325,
          4.7227049999999995,
          5.20182
         ],
         "xaxis": "x",
         "y": [
          84.613,
          82.692,
          84.295,
          84.512,
          86.774,
          85.058,
          86.218,
          72.301,
          84.434,
          86.42,
          null
         ],
         "yaxis": "y"
        },
        {
         "hovertemplate": "Unique Name=07.18.22-cell04_0001_C002T001<br>thresholdSec=%{x}<br>k_diam_percent=%{y}<extra></extra>",
         "legendgroup": "07.18.22-cell04_0001_C002T001",
         "line": {
          "color": "#FF97FF",
          "dash": "solid"
         },
         "marker": {
          "symbol": "circle"
         },
         "mode": "lines",
         "name": "07.18.22-cell04_0001_C002T001",
         "orientation": "v",
         "showlegend": true,
         "type": "scatter",
         "x": [
          0.393375,
          0.8706699999999999,
          1.35321,
          1.830505,
          2.3130450000000002,
          2.79034,
          3.2728800000000002,
          3.750175,
          4.232715,
          4.7100100000000005,
          5.19255
         ],
         "xaxis": "x",
         "y": [
          98.079,
          97.717,
          97.643,
          97.61,
          98.211,
          98.549,
          97.503,
          97.676,
          98.25,
          98.311,
          null
         ],
         "yaxis": "y"
        },
        {
         "hovertemplate": "Unique Name=07.18.22-cell03_0002_C002T001<br>thresholdSec=%{x}<br>k_diam_percent=%{y}<extra></extra>",
         "legendgroup": "07.18.22-cell03_0002_C002T001",
         "line": {
          "color": "#FECB52",
          "dash": "solid"
         },
         "marker": {
          "symbol": "circle"
         },
         "mode": "lines",
         "name": "07.18.22-cell03_0002_C002T001",
         "orientation": "v",
         "showlegend": true,
         "type": "scatter",
         "x": [
          0.087125,
          0.56375,
          1.0455,
          1.522125,
          2.003875,
          2.4805,
          2.96225,
          3.444,
          3.920625,
          4.402375,
          4.879
         ],
         "xaxis": "x",
         "y": [
          91.685,
          92.164,
          92.91,
          92.634,
          94.318,
          94.713,
          94.189,
          93.561,
          93.962,
          94.069,
          null
         ],
         "yaxis": "y"
        },
        {
         "hovertemplate": "Unique Name=07.18.22-cell02_0002_C002T001<br>thresholdSec=%{x}<br>k_diam_percent=%{y}<extra></extra>",
         "legendgroup": "07.18.22-cell02_0002_C002T001",
         "line": {
          "color": "#636efa",
          "dash": "solid"
         },
         "marker": {
          "symbol": "circle"
         },
         "mode": "lines",
         "name": "07.18.22-cell02_0002_C002T001",
         "orientation": "v",
         "showlegend": true,
         "type": "scatter",
         "x": [
          0.013515,
          0.49104499999999995,
          0.97308,
          1.45061,
          1.92814,
          2.4101749999999997,
          2.887705,
          3.3652349999999998,
          3.84727,
          4.3248
         ],
         "xaxis": "x",
         "y": [
          null,
          96.847,
          97.87,
          97.561,
          98.11,
          97.572,
          97.297,
          97.297,
          97.517,
          null
         ],
         "yaxis": "y"
        },
        {
         "hovertemplate": "Unique Name=06.27.22-cell14_0001_C002T001<br>thresholdSec=%{x}<br>k_diam_percent=%{y}<extra></extra>",
         "legendgroup": "06.27.22-cell14_0001_C002T001",
         "line": {
          "color": "#EF553B",
          "dash": "solid"
         },
         "marker": {
          "symbol": "circle"
         },
         "mode": "lines",
         "name": "06.27.22-cell14_0001_C002T001",
         "orientation": "v",
         "showlegend": true,
         "type": "scatter",
         "x": [
          0.20246399999999998,
          0.697376,
          1.1922879999999998,
          1.6871999999999998,
          2.1821119999999996,
          2.677024,
          3.1719359999999996,
          3.6668479999999994,
          4.161759999999999,
          4.6566719999999995,
          5.151584
         ],
         "xaxis": "x",
         "y": [
          57.684,
          57.066,
          56.052,
          60.09,
          56.325,
          56.49,
          57.329,
          62.821,
          58.268,
          55.618,
          null
         ],
         "yaxis": "y"
        },
        {
         "hovertemplate": "Unique Name=06.27.22-cell5_0001_C002T001<br>thresholdSec=%{x}<br>k_diam_percent=%{y}<extra></extra>",
         "legendgroup": "06.27.22-cell5_0001_C002T001",
         "line": {
          "color": "#00cc96",
          "dash": "solid"
         },
         "marker": {
          "symbol": "circle"
         },
         "mode": "lines",
         "name": "06.27.22-cell5_0001_C002T001",
         "orientation": "v",
         "showlegend": true,
         "type": "scatter",
         "x": [
          0.005884,
          0.48837200000000003,
          0.9708600000000002,
          1.453348,
          1.9358360000000003,
          2.418324,
          2.900812,
          3.3833,
          3.8657880000000007,
          4.348276000000001,
          4.830764,
          5.313252,
          5.789856
         ],
         "xaxis": "x",
         "y": [
          null,
          91.279,
          91.971,
          92.048,
          92.56,
          92.42,
          92.344,
          92.717,
          92.582,
          92.989,
          92.533,
          92.771,
          null
         ],
         "yaxis": "y"
        },
        {
         "hovertemplate": "Unique Name=06.27.22-cell12_0001_C002T001<br>thresholdSec=%{x}<br>k_diam_percent=%{y}<extra></extra>",
         "legendgroup": "06.27.22-cell12_0001_C002T001",
         "line": {
          "color": "#ab63fa",
          "dash": "solid"
         },
         "marker": {
          "symbol": "circle"
         },
         "mode": "lines",
         "name": "06.27.22-cell12_0001_C002T001",
         "orientation": "v",
         "showlegend": true,
         "type": "scatter",
         "x": [
          0.005644,
          0.48538400000000004,
          0.965124,
          1.4505080000000001,
          1.930248,
          2.415632,
          2.8953720000000005,
          3.3807560000000003,
          3.860496,
          4.34588,
          4.82562,
          5.311004
         ],
         "xaxis": "x",
         "y": [
          null,
          92.918,
          93.484,
          93.768,
          93.201,
          94.051,
          93.768,
          94.618,
          93.484,
          94.334,
          93.768,
          null
         ],
         "yaxis": "y"
        },
        {
         "hovertemplate": "Unique Name=06.27.22-cell7_0001_C002T001<br>thresholdSec=%{x}<br>k_diam_percent=%{y}<extra></extra>",
         "legendgroup": "06.27.22-cell7_0001_C002T001",
         "line": {
          "color": "#FFA15A",
          "dash": "solid"
         },
         "marker": {
          "symbol": "circle"
         },
         "mode": "lines",
         "name": "06.27.22-cell7_0001_C002T001",
         "orientation": "v",
         "showlegend": true,
         "type": "scatter",
         "x": [
          0.325296,
          0.807216,
          1.289136,
          1.771056,
          2.2529760000000003,
          2.734896,
          3.22284,
          3.7047600000000003,
          4.18668,
          4.6686000000000005,
          5.15052,
          5.632440000000001
         ],
         "xaxis": "x",
         "y": [
          95.405,
          85.44,
          91.694,
          97.463,
          96.38,
          96.336,
          96.642,
          96.479,
          97.762,
          96.789,
          97.203,
          null
         ],
         "yaxis": "y"
        },
        {
         "hovertemplate": "Unique Name=06.27.22-cell10_0001_C002T001<br>thresholdSec=%{x}<br>k_diam_percent=%{y}<extra></extra>",
         "legendgroup": "06.27.22-cell10_0001_C002T001",
         "line": {
          "color": "#19d3f3",
          "dash": "solid"
         },
         "marker": {
          "symbol": "circle"
         },
         "mode": "lines",
         "name": "06.27.22-cell10_0001_C002T001",
         "orientation": "v",
         "showlegend": true,
         "type": "scatter",
         "x": [
          0.151525,
          0.6374500000000001,
          1.1181500000000002,
          1.6040750000000001,
          2.084775,
          2.5654749999999997,
          3.0461750000000003,
          3.5321,
          4.0128,
          4.4935,
          4.979425
         ],
         "xaxis": "x",
         "y": [
          83.916,
          81.532,
          79.485,
          89.86,
          79.623,
          80.325,
          78.88,
          78.425,
          80.013,
          81.518,
          null
         ],
         "yaxis": "y"
        },
        {
         "hovertemplate": "Unique Name=06.27.22-cell11_0001_C002T001<br>thresholdSec=%{x}<br>k_diam_percent=%{y}<extra></extra>",
         "legendgroup": "06.27.22-cell11_0001_C002T001",
         "line": {
          "color": "#FF6692",
          "dash": "solid"
         },
         "marker": {
          "symbol": "circle"
         },
         "mode": "lines",
         "name": "06.27.22-cell11_0001_C002T001",
         "orientation": "v",
         "showlegend": true,
         "type": "scatter",
         "x": [
          0.15077999999999997,
          0.630045,
          1.114695,
          1.5939599999999998,
          2.5632599999999996,
          3.0425249999999995,
          3.5271749999999997,
          4.00644,
          4.491089999999999,
          4.97574
         ],
         "xaxis": "x",
         "y": [
          91.603,
          91.951,
          91.348,
          91.404,
          90.115,
          90.882,
          90.689,
          92.006,
          91.511,
          null
         ],
         "yaxis": "y"
        },
        {
         "hovertemplate": "Unique Name=06.27.22-cell9_0001_C002T001<br>thresholdSec=%{x}<br>k_diam_percent=%{y}<extra></extra>",
         "legendgroup": "06.27.22-cell9_0001_C002T001",
         "line": {
          "color": "#B6E880",
          "dash": "solid"
         },
         "marker": {
          "symbol": "circle"
         },
         "mode": "lines",
         "name": "06.27.22-cell9_0001_C002T001",
         "orientation": "v",
         "showlegend": true,
         "type": "scatter",
         "x": [
          0.472648,
          0.9568240000000001,
          1.4352360000000002,
          1.9194120000000003,
          2.403588,
          2.8820000000000006,
          3.3661760000000003,
          3.8503520000000004,
          4.3287640000000005,
          4.81294,
          5.297116000000001
         ],
         "xaxis": "x",
         "y": [
          92.572,
          92.801,
          92.905,
          93.45,
          94.533,
          92.373,
          92.551,
          92.094,
          93.201,
          93.307,
          null
         ],
         "yaxis": "y"
        },
        {
         "hovertemplate": "Unique Name=06.03.22-cell 05_C002T001<br>thresholdSec=%{x}<br>k_diam_percent=%{y}<extra></extra>",
         "legendgroup": "06.03.22-cell 05_C002T001",
         "line": {
          "color": "#FF97FF",
          "dash": "solid"
         },
         "marker": {
          "symbol": "circle"
         },
         "mode": "lines",
         "name": "06.03.22-cell 05_C002T001",
         "orientation": "v",
         "showlegend": true,
         "type": "scatter",
         "x": [
          0.47123999999999994,
          0.948024,
          1.435896,
          1.91268,
          2.395008,
          2.8773359999999997,
          3.35412,
          3.836448,
          4.318776,
          4.795559999999999,
          5.277888
         ],
         "xaxis": "x",
         "y": [
          97.66,
          97.561,
          97.904,
          98.556,
          97.812,
          97.966,
          98.15,
          98.304,
          98.428,
          98.299,
          null
         ],
         "yaxis": "y"
        },
        {
         "hovertemplate": "Unique Name=06.03.22-cell 08_0002_C002T001<br>thresholdSec=%{x}<br>k_diam_percent=%{y}<extra></extra>",
         "legendgroup": "06.03.22-cell 08_0002_C002T001",
         "line": {
          "color": "#FECB52",
          "dash": "solid"
         },
         "marker": {
          "symbol": "circle"
         },
         "mode": "lines",
         "name": "06.03.22-cell 08_0002_C002T001",
         "orientation": "v",
         "showlegend": true,
         "type": "scatter",
         "x": [
          0.4705,
          0.95041,
          1.43032,
          1.9055250000000001,
          2.3901399999999997,
          2.87005,
          3.34996,
          3.82987,
          4.30978
         ],
         "xaxis": "x",
         "y": [
          95.966,
          96.395,
          95.928,
          96.901,
          95.72,
          96.395,
          96.447,
          96.939,
          null
         ],
         "yaxis": "y"
        }
       ],
       "layout": {
        "legend": {
         "title": {
          "text": "Unique Name"
         },
         "tracegroupgap": 0
        },
        "margin": {
         "t": 60
        },
        "template": {
         "data": {
          "bar": [
           {
            "error_x": {
             "color": "#2a3f5f"
            },
            "error_y": {
             "color": "#2a3f5f"
            },
            "marker": {
             "line": {
              "color": "#E5ECF6",
              "width": 0.5
             },
             "pattern": {
              "fillmode": "overlay",
              "size": 10,
              "solidity": 0.2
             }
            },
            "type": "bar"
           }
          ],
          "barpolar": [
           {
            "marker": {
             "line": {
              "color": "#E5ECF6",
              "width": 0.5
             },
             "pattern": {
              "fillmode": "overlay",
              "size": 10,
              "solidity": 0.2
             }
            },
            "type": "barpolar"
           }
          ],
          "carpet": [
           {
            "aaxis": {
             "endlinecolor": "#2a3f5f",
             "gridcolor": "white",
             "linecolor": "white",
             "minorgridcolor": "white",
             "startlinecolor": "#2a3f5f"
            },
            "baxis": {
             "endlinecolor": "#2a3f5f",
             "gridcolor": "white",
             "linecolor": "white",
             "minorgridcolor": "white",
             "startlinecolor": "#2a3f5f"
            },
            "type": "carpet"
           }
          ],
          "choropleth": [
           {
            "colorbar": {
             "outlinewidth": 0,
             "ticks": ""
            },
            "type": "choropleth"
           }
          ],
          "contour": [
           {
            "colorbar": {
             "outlinewidth": 0,
             "ticks": ""
            },
            "colorscale": [
             [
              0,
              "#0d0887"
             ],
             [
              0.1111111111111111,
              "#46039f"
             ],
             [
              0.2222222222222222,
              "#7201a8"
             ],
             [
              0.3333333333333333,
              "#9c179e"
             ],
             [
              0.4444444444444444,
              "#bd3786"
             ],
             [
              0.5555555555555556,
              "#d8576b"
             ],
             [
              0.6666666666666666,
              "#ed7953"
             ],
             [
              0.7777777777777778,
              "#fb9f3a"
             ],
             [
              0.8888888888888888,
              "#fdca26"
             ],
             [
              1,
              "#f0f921"
             ]
            ],
            "type": "contour"
           }
          ],
          "contourcarpet": [
           {
            "colorbar": {
             "outlinewidth": 0,
             "ticks": ""
            },
            "type": "contourcarpet"
           }
          ],
          "heatmap": [
           {
            "colorbar": {
             "outlinewidth": 0,
             "ticks": ""
            },
            "colorscale": [
             [
              0,
              "#0d0887"
             ],
             [
              0.1111111111111111,
              "#46039f"
             ],
             [
              0.2222222222222222,
              "#7201a8"
             ],
             [
              0.3333333333333333,
              "#9c179e"
             ],
             [
              0.4444444444444444,
              "#bd3786"
             ],
             [
              0.5555555555555556,
              "#d8576b"
             ],
             [
              0.6666666666666666,
              "#ed7953"
             ],
             [
              0.7777777777777778,
              "#fb9f3a"
             ],
             [
              0.8888888888888888,
              "#fdca26"
             ],
             [
              1,
              "#f0f921"
             ]
            ],
            "type": "heatmap"
           }
          ],
          "heatmapgl": [
           {
            "colorbar": {
             "outlinewidth": 0,
             "ticks": ""
            },
            "colorscale": [
             [
              0,
              "#0d0887"
             ],
             [
              0.1111111111111111,
              "#46039f"
             ],
             [
              0.2222222222222222,
              "#7201a8"
             ],
             [
              0.3333333333333333,
              "#9c179e"
             ],
             [
              0.4444444444444444,
              "#bd3786"
             ],
             [
              0.5555555555555556,
              "#d8576b"
             ],
             [
              0.6666666666666666,
              "#ed7953"
             ],
             [
              0.7777777777777778,
              "#fb9f3a"
             ],
             [
              0.8888888888888888,
              "#fdca26"
             ],
             [
              1,
              "#f0f921"
             ]
            ],
            "type": "heatmapgl"
           }
          ],
          "histogram": [
           {
            "marker": {
             "pattern": {
              "fillmode": "overlay",
              "size": 10,
              "solidity": 0.2
             }
            },
            "type": "histogram"
           }
          ],
          "histogram2d": [
           {
            "colorbar": {
             "outlinewidth": 0,
             "ticks": ""
            },
            "colorscale": [
             [
              0,
              "#0d0887"
             ],
             [
              0.1111111111111111,
              "#46039f"
             ],
             [
              0.2222222222222222,
              "#7201a8"
             ],
             [
              0.3333333333333333,
              "#9c179e"
             ],
             [
              0.4444444444444444,
              "#bd3786"
             ],
             [
              0.5555555555555556,
              "#d8576b"
             ],
             [
              0.6666666666666666,
              "#ed7953"
             ],
             [
              0.7777777777777778,
              "#fb9f3a"
             ],
             [
              0.8888888888888888,
              "#fdca26"
             ],
             [
              1,
              "#f0f921"
             ]
            ],
            "type": "histogram2d"
           }
          ],
          "histogram2dcontour": [
           {
            "colorbar": {
             "outlinewidth": 0,
             "ticks": ""
            },
            "colorscale": [
             [
              0,
              "#0d0887"
             ],
             [
              0.1111111111111111,
              "#46039f"
             ],
             [
              0.2222222222222222,
              "#7201a8"
             ],
             [
              0.3333333333333333,
              "#9c179e"
             ],
             [
              0.4444444444444444,
              "#bd3786"
             ],
             [
              0.5555555555555556,
              "#d8576b"
             ],
             [
              0.6666666666666666,
              "#ed7953"
             ],
             [
              0.7777777777777778,
              "#fb9f3a"
             ],
             [
              0.8888888888888888,
              "#fdca26"
             ],
             [
              1,
              "#f0f921"
             ]
            ],
            "type": "histogram2dcontour"
           }
          ],
          "mesh3d": [
           {
            "colorbar": {
             "outlinewidth": 0,
             "ticks": ""
            },
            "type": "mesh3d"
           }
          ],
          "parcoords": [
           {
            "line": {
             "colorbar": {
              "outlinewidth": 0,
              "ticks": ""
             }
            },
            "type": "parcoords"
           }
          ],
          "pie": [
           {
            "automargin": true,
            "type": "pie"
           }
          ],
          "scatter": [
           {
            "fillpattern": {
             "fillmode": "overlay",
             "size": 10,
             "solidity": 0.2
            },
            "type": "scatter"
           }
          ],
          "scatter3d": [
           {
            "line": {
             "colorbar": {
              "outlinewidth": 0,
              "ticks": ""
             }
            },
            "marker": {
             "colorbar": {
              "outlinewidth": 0,
              "ticks": ""
             }
            },
            "type": "scatter3d"
           }
          ],
          "scattercarpet": [
           {
            "marker": {
             "colorbar": {
              "outlinewidth": 0,
              "ticks": ""
             }
            },
            "type": "scattercarpet"
           }
          ],
          "scattergeo": [
           {
            "marker": {
             "colorbar": {
              "outlinewidth": 0,
              "ticks": ""
             }
            },
            "type": "scattergeo"
           }
          ],
          "scattergl": [
           {
            "marker": {
             "colorbar": {
              "outlinewidth": 0,
              "ticks": ""
             }
            },
            "type": "scattergl"
           }
          ],
          "scattermapbox": [
           {
            "marker": {
             "colorbar": {
              "outlinewidth": 0,
              "ticks": ""
             }
            },
            "type": "scattermapbox"
           }
          ],
          "scatterpolar": [
           {
            "marker": {
             "colorbar": {
              "outlinewidth": 0,
              "ticks": ""
             }
            },
            "type": "scatterpolar"
           }
          ],
          "scatterpolargl": [
           {
            "marker": {
             "colorbar": {
              "outlinewidth": 0,
              "ticks": ""
             }
            },
            "type": "scatterpolargl"
           }
          ],
          "scatterternary": [
           {
            "marker": {
             "colorbar": {
              "outlinewidth": 0,
              "ticks": ""
             }
            },
            "type": "scatterternary"
           }
          ],
          "surface": [
           {
            "colorbar": {
             "outlinewidth": 0,
             "ticks": ""
            },
            "colorscale": [
             [
              0,
              "#0d0887"
             ],
             [
              0.1111111111111111,
              "#46039f"
             ],
             [
              0.2222222222222222,
              "#7201a8"
             ],
             [
              0.3333333333333333,
              "#9c179e"
             ],
             [
              0.4444444444444444,
              "#bd3786"
             ],
             [
              0.5555555555555556,
              "#d8576b"
             ],
             [
              0.6666666666666666,
              "#ed7953"
             ],
             [
              0.7777777777777778,
              "#fb9f3a"
             ],
             [
              0.8888888888888888,
              "#fdca26"
             ],
             [
              1,
              "#f0f921"
             ]
            ],
            "type": "surface"
           }
          ],
          "table": [
           {
            "cells": {
             "fill": {
              "color": "#EBF0F8"
             },
             "line": {
              "color": "white"
             }
            },
            "header": {
             "fill": {
              "color": "#C8D4E3"
             },
             "line": {
              "color": "white"
             }
            },
            "type": "table"
           }
          ]
         },
         "layout": {
          "annotationdefaults": {
           "arrowcolor": "#2a3f5f",
           "arrowhead": 0,
           "arrowwidth": 1
          },
          "autotypenumbers": "strict",
          "coloraxis": {
           "colorbar": {
            "outlinewidth": 0,
            "ticks": ""
           }
          },
          "colorscale": {
           "diverging": [
            [
             0,
             "#8e0152"
            ],
            [
             0.1,
             "#c51b7d"
            ],
            [
             0.2,
             "#de77ae"
            ],
            [
             0.3,
             "#f1b6da"
            ],
            [
             0.4,
             "#fde0ef"
            ],
            [
             0.5,
             "#f7f7f7"
            ],
            [
             0.6,
             "#e6f5d0"
            ],
            [
             0.7,
             "#b8e186"
            ],
            [
             0.8,
             "#7fbc41"
            ],
            [
             0.9,
             "#4d9221"
            ],
            [
             1,
             "#276419"
            ]
           ],
           "sequential": [
            [
             0,
             "#0d0887"
            ],
            [
             0.1111111111111111,
             "#46039f"
            ],
            [
             0.2222222222222222,
             "#7201a8"
            ],
            [
             0.3333333333333333,
             "#9c179e"
            ],
            [
             0.4444444444444444,
             "#bd3786"
            ],
            [
             0.5555555555555556,
             "#d8576b"
            ],
            [
             0.6666666666666666,
             "#ed7953"
            ],
            [
             0.7777777777777778,
             "#fb9f3a"
            ],
            [
             0.8888888888888888,
             "#fdca26"
            ],
            [
             1,
             "#f0f921"
            ]
           ],
           "sequentialminus": [
            [
             0,
             "#0d0887"
            ],
            [
             0.1111111111111111,
             "#46039f"
            ],
            [
             0.2222222222222222,
             "#7201a8"
            ],
            [
             0.3333333333333333,
             "#9c179e"
            ],
            [
             0.4444444444444444,
             "#bd3786"
            ],
            [
             0.5555555555555556,
             "#d8576b"
            ],
            [
             0.6666666666666666,
             "#ed7953"
            ],
            [
             0.7777777777777778,
             "#fb9f3a"
            ],
            [
             0.8888888888888888,
             "#fdca26"
            ],
            [
             1,
             "#f0f921"
            ]
           ]
          },
          "colorway": [
           "#636efa",
           "#EF553B",
           "#00cc96",
           "#ab63fa",
           "#FFA15A",
           "#19d3f3",
           "#FF6692",
           "#B6E880",
           "#FF97FF",
           "#FECB52"
          ],
          "font": {
           "color": "#2a3f5f"
          },
          "geo": {
           "bgcolor": "white",
           "lakecolor": "white",
           "landcolor": "#E5ECF6",
           "showlakes": true,
           "showland": true,
           "subunitcolor": "white"
          },
          "hoverlabel": {
           "align": "left"
          },
          "hovermode": "closest",
          "mapbox": {
           "style": "light"
          },
          "paper_bgcolor": "white",
          "plot_bgcolor": "#E5ECF6",
          "polar": {
           "angularaxis": {
            "gridcolor": "white",
            "linecolor": "white",
            "ticks": ""
           },
           "bgcolor": "#E5ECF6",
           "radialaxis": {
            "gridcolor": "white",
            "linecolor": "white",
            "ticks": ""
           }
          },
          "scene": {
           "xaxis": {
            "backgroundcolor": "#E5ECF6",
            "gridcolor": "white",
            "gridwidth": 2,
            "linecolor": "white",
            "showbackground": true,
            "ticks": "",
            "zerolinecolor": "white"
           },
           "yaxis": {
            "backgroundcolor": "#E5ECF6",
            "gridcolor": "white",
            "gridwidth": 2,
            "linecolor": "white",
            "showbackground": true,
            "ticks": "",
            "zerolinecolor": "white"
           },
           "zaxis": {
            "backgroundcolor": "#E5ECF6",
            "gridcolor": "white",
            "gridwidth": 2,
            "linecolor": "white",
            "showbackground": true,
            "ticks": "",
            "zerolinecolor": "white"
           }
          },
          "shapedefaults": {
           "line": {
            "color": "#2a3f5f"
           }
          },
          "ternary": {
           "aaxis": {
            "gridcolor": "white",
            "linecolor": "white",
            "ticks": ""
           },
           "baxis": {
            "gridcolor": "white",
            "linecolor": "white",
            "ticks": ""
           },
           "bgcolor": "#E5ECF6",
           "caxis": {
            "gridcolor": "white",
            "linecolor": "white",
            "ticks": ""
           }
          },
          "title": {
           "x": 0.05
          },
          "xaxis": {
           "automargin": true,
           "gridcolor": "white",
           "linecolor": "white",
           "ticks": "",
           "title": {
            "standoff": 15
           },
           "zerolinecolor": "white",
           "zerolinewidth": 2
          },
          "yaxis": {
           "automargin": true,
           "gridcolor": "white",
           "linecolor": "white",
           "ticks": "",
           "title": {
            "standoff": 15
           },
           "zerolinecolor": "white",
           "zerolinewidth": 2
          }
         }
        },
        "xaxis": {
         "anchor": "y",
         "domain": [
          0,
          1
         ],
         "title": {
          "text": "thresholdSec"
         }
        },
        "yaxis": {
         "anchor": "x",
         "domain": [
          0,
          1
         ],
         "title": {
          "text": "k_diam_percent"
         }
        }
       }
      },
      "text/html": [
       "<div>                            <div id=\"2ea319e5-c614-4810-9ef6-c5193b40bfb2\" class=\"plotly-graph-div\" style=\"height:525px; width:100%;\"></div>            <script type=\"text/javascript\">                require([\"plotly\"], function(Plotly) {                    window.PLOTLYENV=window.PLOTLYENV || {};                                    if (document.getElementById(\"2ea319e5-c614-4810-9ef6-c5193b40bfb2\")) {                    Plotly.newPlot(                        \"2ea319e5-c614-4810-9ef6-c5193b40bfb2\",                        [{\"hovertemplate\":\"Unique Name=11.17.22-Cell 02_C002T001\\u003cbr\\u003ethresholdSec=%{x}\\u003cbr\\u003ek_diam_percent=%{y}\\u003cextra\\u003e\\u003c\\u002fextra\\u003e\",\"legendgroup\":\"11.17.22-Cell 02_C002T001\",\"line\":{\"color\":\"#636efa\",\"dash\":\"solid\"},\"marker\":{\"symbol\":\"circle\"},\"mode\":\"lines\",\"name\":\"11.17.22-Cell 02_C002T001\",\"orientation\":\"v\",\"showlegend\":true,\"x\":[0.26933500000000005,0.753225,1.23255,1.71644,2.20033,2.6842200000000003,3.16811,3.652,4.135890000000001],\"xaxis\":\"x\",\"y\":[93.6,91.918,89.307,89.888,88.729,89.976,91.232,96.443,null],\"yaxis\":\"y\",\"type\":\"scatter\"},{\"hovertemplate\":\"Unique Name=06.15.22-cell 16_0001_C002T001\\u003cbr\\u003ethresholdSec=%{x}\\u003cbr\\u003ek_diam_percent=%{y}\\u003cextra\\u003e\\u003c\\u002fextra\\u003e\",\"legendgroup\":\"06.15.22-cell 16_0001_C002T001\",\"line\":{\"color\":\"#EF553B\",\"dash\":\"solid\"},\"marker\":{\"symbol\":\"circle\"},\"mode\":\"lines\",\"name\":\"06.15.22-cell 16_0001_C002T001\",\"orientation\":\"v\",\"showlegend\":true,\"x\":[0.36232800000000004,0.829848,1.297368,1.770732,2.238252,2.711616,3.179136,3.6525,4.12002,4.593384,5.060904000000001,5.528424],\"xaxis\":\"x\",\"y\":[96.166,96.178,96.24,96.558,96.558,96.497,96.528,96.939,96.815,96.908,96.682,null],\"yaxis\":\"y\",\"type\":\"scatter\"},{\"hovertemplate\":\"Unique Name=06.15.22-cell 19_0001_C002T001\\u003cbr\\u003ethresholdSec=%{x}\\u003cbr\\u003ek_diam_percent=%{y}\\u003cextra\\u003e\\u003c\\u002fextra\\u003e\",\"legendgroup\":\"06.15.22-cell 19_0001_C002T001\",\"line\":{\"color\":\"#00cc96\",\"dash\":\"solid\"},\"marker\":{\"symbol\":\"circle\"},\"mode\":\"lines\",\"name\":\"06.15.22-cell 19_0001_C002T001\",\"orientation\":\"v\",\"showlegend\":true,\"x\":[0.18563,0.6594749999999999,1.1284349999999999,1.597395,2.066355,2.5402,3.00916,3.47812,3.9519649999999995,4.4209249999999995],\"xaxis\":\"x\",\"y\":[95.462,88.132,89.412,88.05,88.235,89.328,87.795,88.282,86.405,null],\"yaxis\":\"y\",\"type\":\"scatter\"},{\"hovertemplate\":\"Unique Name=06.15.22-cell 17_0002_C002T001\\u003cbr\\u003ethresholdSec=%{x}\\u003cbr\\u003ek_diam_percent=%{y}\\u003cextra\\u003e\\u003c\\u002fextra\\u003e\",\"legendgroup\":\"06.15.22-cell 17_0002_C002T001\",\"line\":{\"color\":\"#ab63fa\",\"dash\":\"solid\"},\"marker\":{\"symbol\":\"circle\"},\"mode\":\"lines\",\"name\":\"06.15.22-cell 17_0002_C002T001\",\"orientation\":\"v\",\"showlegend\":true,\"x\":[0.37011499999999997,0.838615,1.3117999999999999,1.7803,2.2487999999999997,2.7173,3.190485,3.6589849999999995,4.13217,4.60067],\"xaxis\":\"x\",\"y\":[92.899,93.304,93.75,94.704,95.045,95.625,94.765,95.023,95.866,null],\"yaxis\":\"y\",\"type\":\"scatter\"},{\"hovertemplate\":\"Unique Name=06.15.22-cell 25_0002_C002T001\\u003cbr\\u003ethresholdSec=%{x}\\u003cbr\\u003ek_diam_percent=%{y}\\u003cextra\\u003e\\u003c\\u002fextra\\u003e\",\"legendgroup\":\"06.15.22-cell 25_0002_C002T001\",\"line\":{\"color\":\"#FFA15A\",\"dash\":\"solid\"},\"marker\":{\"symbol\":\"circle\"},\"mode\":\"lines\",\"name\":\"06.15.22-cell 25_0002_C002T001\",\"orientation\":\"v\",\"showlegend\":true,\"x\":[0.06054,0.53477,1.003955,1.4731400000000001,1.942325,2.416555,2.88574,3.354925,3.829155,4.2983400000000005,4.767525000000001],\"xaxis\":\"x\",\"y\":[95.462,94.741,95.386,94.595,95.275,95.534,95.017,95.293,95.608,95.827,null],\"yaxis\":\"y\",\"type\":\"scatter\"},{\"hovertemplate\":\"Unique Name=06.15.22-cell 24_0002_C002T001\\u003cbr\\u003ethresholdSec=%{x}\\u003cbr\\u003ek_diam_percent=%{y}\\u003cextra\\u003e\\u003c\\u002fextra\\u003e\",\"legendgroup\":\"06.15.22-cell 24_0002_C002T001\",\"line\":{\"color\":\"#19d3f3\",\"dash\":\"solid\"},\"marker\":{\"symbol\":\"circle\"},\"mode\":\"lines\",\"name\":\"06.15.22-cell 24_0002_C002T001\",\"orientation\":\"v\",\"showlegend\":true,\"x\":[0.32032,0.79079,1.26126,1.73173,2.2022,2.67267,3.14314,3.6136099999999995,4.08408,4.55455],\"xaxis\":\"x\",\"y\":[96.313,96.549,97.378,96.729,97.412,97.549,98.113,97.642,97.642,null],\"yaxis\":\"y\",\"type\":\"scatter\"},{\"hovertemplate\":\"Unique Name=09.08.22-cell03_C002T001\\u003cbr\\u003ethresholdSec=%{x}\\u003cbr\\u003ek_diam_percent=%{y}\\u003cextra\\u003e\\u003c\\u002fextra\\u003e\",\"legendgroup\":\"09.08.22-cell03_C002T001\",\"line\":{\"color\":\"#FF6692\",\"dash\":\"solid\"},\"marker\":{\"symbol\":\"circle\"},\"mode\":\"lines\",\"name\":\"09.08.22-cell03_C002T001\",\"orientation\":\"v\",\"showlegend\":true,\"x\":[0.44783999999999996,0.937665,1.42749,1.917315,2.402475,2.8922999999999996,3.382125,3.867285,4.35711],\"xaxis\":\"x\",\"y\":[72.316,71.489,68.829,71.086,70.984,73.384,69.715,70.641,null],\"yaxis\":\"y\",\"type\":\"scatter\"},{\"hovertemplate\":\"Unique Name=09.08.22-cell04_C002T001\\u003cbr\\u003ethresholdSec=%{x}\\u003cbr\\u003ek_diam_percent=%{y}\\u003cextra\\u003e\\u003c\\u002fextra\\u003e\",\"legendgroup\":\"09.08.22-cell04_C002T001\",\"line\":{\"color\":\"#B6E880\",\"dash\":\"solid\"},\"marker\":{\"symbol\":\"circle\"},\"mode\":\"lines\",\"name\":\"09.08.22-cell04_C002T001\",\"orientation\":\"v\",\"showlegend\":true,\"x\":[0.035315,0.52468,1.014045,1.5034100000000001,1.9927750000000002,2.4770950000000003,2.96646,3.4558250000000004,3.94519,4.4345550000000005,4.92392],\"xaxis\":\"x\",\"y\":[null,83.418,84.157,85.048,80.176,76.692,71.898,75.774,71.181,74.891,null],\"yaxis\":\"y\",\"type\":\"scatter\"},{\"hovertemplate\":\"Unique Name=09.08.22-cell13_C002T001\\u003cbr\\u003ethresholdSec=%{x}\\u003cbr\\u003ek_diam_percent=%{y}\\u003cextra\\u003e\\u003c\\u002fextra\\u003e\",\"legendgroup\":\"09.08.22-cell13_C002T001\",\"line\":{\"color\":\"#FF97FF\",\"dash\":\"solid\"},\"marker\":{\"symbol\":\"circle\"},\"mode\":\"lines\",\"name\":\"09.08.22-cell13_C002T001\",\"orientation\":\"v\",\"showlegend\":true,\"x\":[0.034895,0.523425,1.0119550000000002,1.500485,1.9890150000000004,2.477545,2.9660750000000005,3.4546050000000004,3.9431350000000003,4.431665000000001,4.9201950000000005],\"xaxis\":\"x\",\"y\":[null,68.957,68.493,68.663,80.166,68.129,67.718,79.731,69.251,68.305,null],\"yaxis\":\"y\",\"type\":\"scatter\"},{\"hovertemplate\":\"Unique Name=09.08.22-cell05_C002T001\\u003cbr\\u003ethresholdSec=%{x}\\u003cbr\\u003ek_diam_percent=%{y}\\u003cextra\\u003e\\u003c\\u002fextra\\u003e\",\"legendgroup\":\"09.08.22-cell05_C002T001\",\"line\":{\"color\":\"#FECB52\",\"dash\":\"solid\"},\"marker\":{\"symbol\":\"circle\"},\"mode\":\"lines\",\"name\":\"09.08.22-cell05_C002T001\",\"orientation\":\"v\",\"showlegend\":true,\"x\":[0.035175000000000005,0.5226000000000001,1.0100250000000002,1.49745,1.9848750000000002,2.4773250000000004,2.9647500000000004,3.452175,3.9396000000000004,4.43205,4.919475],\"xaxis\":\"x\",\"y\":[null,95.934,85.705,86.196,87.708,88.309,93.74,88.84,89.218,94.595,null],\"yaxis\":\"y\",\"type\":\"scatter\"},{\"hovertemplate\":\"Unique Name=09.13.22-cell 07_0001_C002T001\\u003cbr\\u003ethresholdSec=%{x}\\u003cbr\\u003ek_diam_percent=%{y}\\u003cextra\\u003e\\u003c\\u002fextra\\u003e\",\"legendgroup\":\"09.13.22-cell 07_0001_C002T001\",\"line\":{\"color\":\"#636efa\",\"dash\":\"solid\"},\"marker\":{\"symbol\":\"circle\"},\"mode\":\"lines\",\"name\":\"09.13.22-cell 07_0001_C002T001\",\"orientation\":\"v\",\"showlegend\":true,\"x\":[0.42703499999999994,0.910665,1.3942949999999998,1.8779249999999998,2.3615549999999996,2.845185,3.328815,3.812445,4.296075,4.779705],\"xaxis\":\"x\",\"y\":[93.281,93.281,92.857,93.339,93.116,93.625,92.829,92.968,93.079,null],\"yaxis\":\"y\",\"type\":\"scatter\"},{\"hovertemplate\":\"Unique Name=09.13.22-cell 01_0004_C002T001\\u003cbr\\u003ethresholdSec=%{x}\\u003cbr\\u003ek_diam_percent=%{y}\\u003cextra\\u003e\\u003c\\u002fextra\\u003e\",\"legendgroup\":\"09.13.22-cell 01_0004_C002T001\",\"line\":{\"color\":\"#EF553B\",\"dash\":\"solid\"},\"marker\":{\"symbol\":\"circle\"},\"mode\":\"lines\",\"name\":\"09.13.22-cell 01_0004_C002T001\",\"orientation\":\"v\",\"showlegend\":true,\"x\":[0.228696,0.709544,1.196256,1.6771040000000002,2.157952,2.6446639999999997,3.125512,3.6122240000000003,4.093072,4.57392,5.060632,5.54148],\"xaxis\":\"x\",\"y\":[null,null,null,null,null,null,null,null,null,null,null,null],\"yaxis\":\"y\",\"type\":\"scatter\"},{\"hovertemplate\":\"Unique Name=09.13.22-cell 06_C002T001\\u003cbr\\u003ethresholdSec=%{x}\\u003cbr\\u003ek_diam_percent=%{y}\\u003cextra\\u003e\\u003c\\u002fextra\\u003e\",\"legendgroup\":\"09.13.22-cell 06_C002T001\",\"line\":{\"color\":\"#00cc96\",\"dash\":\"solid\"},\"marker\":{\"symbol\":\"circle\"},\"mode\":\"lines\",\"name\":\"09.13.22-cell 06_C002T001\",\"orientation\":\"v\",\"showlegend\":true,\"x\":[0.04276,0.52381,1.010205,1.4912549999999998,1.97765,2.4587,2.945095,3.4314899999999997,3.9125399999999995,4.398935,4.879985],\"xaxis\":\"x\",\"y\":[null,null,null,null,null,null,null,null,null,null,null],\"yaxis\":\"y\",\"type\":\"scatter\"},{\"hovertemplate\":\"Unique Name=10.12.22-cell 06_C002T001\\u003cbr\\u003ethresholdSec=%{x}\\u003cbr\\u003ek_diam_percent=%{y}\\u003cextra\\u003e\\u003c\\u002fextra\\u003e\",\"legendgroup\":\"10.12.22-cell 06_C002T001\",\"line\":{\"color\":\"#ab63fa\",\"dash\":\"solid\"},\"marker\":{\"symbol\":\"circle\"},\"mode\":\"lines\",\"name\":\"10.12.22-cell 06_C002T001\",\"orientation\":\"v\",\"showlegend\":true,\"x\":[0.127774,0.61684,1.0926879999999999,1.5817539999999999,2.0620079999999996,2.559886,3.026922,3.5159879999999997,3.9918359999999997],\"xaxis\":\"x\",\"y\":[null,null,null,null,null,null,null,null,null],\"yaxis\":\"y\",\"type\":\"scatter\"},{\"hovertemplate\":\"Unique Name=07.26.22-Cell 02_C002T001\\u003cbr\\u003ethresholdSec=%{x}\\u003cbr\\u003ek_diam_percent=%{y}\\u003cextra\\u003e\\u003c\\u002fextra\\u003e\",\"legendgroup\":\"07.26.22-Cell 02_C002T001\",\"line\":{\"color\":\"#FFA15A\",\"dash\":\"solid\"},\"marker\":{\"symbol\":\"circle\"},\"mode\":\"lines\",\"name\":\"07.26.22-Cell 02_C002T001\",\"orientation\":\"v\",\"showlegend\":true,\"x\":[0.344508,1.311548,1.78298,2.7439759999999995,3.2214519999999998,3.7049719999999997,5.143444,5.62092],\"xaxis\":\"x\",\"y\":[91.061,95.021,91.035,92.35,91.212,92.269,90.859,null],\"yaxis\":\"y\",\"type\":\"scatter\"},{\"hovertemplate\":\"Unique Name=07.26.22-Cell 03_C002T001\\u003cbr\\u003ethresholdSec=%{x}\\u003cbr\\u003ek_diam_percent=%{y}\\u003cextra\\u003e\\u003c\\u002fextra\\u003e\",\"legendgroup\":\"07.26.22-Cell 03_C002T001\",\"line\":{\"color\":\"#19d3f3\",\"dash\":\"solid\"},\"marker\":{\"symbol\":\"circle\"},\"mode\":\"lines\",\"name\":\"07.26.22-Cell 03_C002T001\",\"orientation\":\"v\",\"showlegend\":true,\"x\":[0.18687800000000002,0.669284,1.1473440000000001,1.625404,2.1078099999999997,2.5858700000000003,3.0682760000000004,3.546336,4.024396],\"xaxis\":\"x\",\"y\":[94.203,94.819,94.72,94.301,94.301,94.136,94.33,93.142,null],\"yaxis\":\"y\",\"type\":\"scatter\"},{\"hovertemplate\":\"Unique Name=07.26.22-Cell 06_C002T001\\u003cbr\\u003ethresholdSec=%{x}\\u003cbr\\u003ek_diam_percent=%{y}\\u003cextra\\u003e\\u003c\\u002fextra\\u003e\",\"legendgroup\":\"07.26.22-Cell 06_C002T001\",\"line\":{\"color\":\"#FF6692\",\"dash\":\"solid\"},\"marker\":{\"symbol\":\"circle\"},\"mode\":\"lines\",\"name\":\"07.26.22-Cell 06_C002T001\",\"orientation\":\"v\",\"showlegend\":true,\"x\":[0.07567499999999999,0.55495,1.034225,1.5135,1.99782,2.4770950000000003,2.9563699999999997,3.44069,3.91492,4.39924,4.878515],\"xaxis\":\"x\",\"y\":[93.96,96.995,92.443,92.38,95.32,92.199,92.448,95.625,92.517,93.215,null],\"yaxis\":\"y\",\"type\":\"scatter\"},{\"hovertemplate\":\"Unique Name=06.08.22-cell24_0002_C002T001\\u003cbr\\u003ethresholdSec=%{x}\\u003cbr\\u003ek_diam_percent=%{y}\\u003cextra\\u003e\\u003c\\u002fextra\\u003e\",\"legendgroup\":\"06.08.22-cell24_0002_C002T001\",\"line\":{\"color\":\"#B6E880\",\"dash\":\"solid\"},\"marker\":{\"symbol\":\"circle\"},\"mode\":\"lines\",\"name\":\"06.08.22-cell24_0002_C002T001\",\"orientation\":\"v\",\"showlegend\":true,\"x\":[0.18791,0.6576850000000001,1.1274600000000001,1.5972350000000002,2.0670100000000002,2.5367850000000005,3.00656,3.476335,3.951055,4.42083,4.890605000000001],\"xaxis\":\"x\",\"y\":[86.719,85.078,84.992,84.333,83.525,82.521,82.524,83.66,82.201,84.746,null],\"yaxis\":\"y\",\"type\":\"scatter\"},{\"hovertemplate\":\"Unique Name=06.08.22-cell17_C002T001\\u003cbr\\u003ethresholdSec=%{x}\\u003cbr\\u003ek_diam_percent=%{y}\\u003cextra\\u003e\\u003c\\u002fextra\\u003e\",\"legendgroup\":\"06.08.22-cell17_C002T001\",\"line\":{\"color\":\"#FF97FF\",\"dash\":\"solid\"},\"marker\":{\"symbol\":\"circle\"},\"mode\":\"lines\",\"name\":\"06.08.22-cell17_C002T001\",\"orientation\":\"v\",\"showlegend\":true,\"x\":[0.25299,0.72149,1.194675,1.6631749999999998,2.1316749999999995,2.6048599999999995,3.0733599999999996,3.54186,4.015045,4.483545],\"xaxis\":\"x\",\"y\":[91.382,90.607,92.188,93.23,94.109,94.375,94.799,95.22,95.151,null],\"yaxis\":\"y\",\"type\":\"scatter\"},{\"hovertemplate\":\"Unique Name=06.08.22-cell18_C002T001\\u003cbr\\u003ethresholdSec=%{x}\\u003cbr\\u003ek_diam_percent=%{y}\\u003cextra\\u003e\\u003c\\u002fextra\\u003e\",\"legendgroup\":\"06.08.22-cell18_C002T001\",\"line\":{\"color\":\"#FECB52\",\"dash\":\"solid\"},\"marker\":{\"symbol\":\"circle\"},\"mode\":\"lines\",\"name\":\"06.08.22-cell18_C002T001\",\"orientation\":\"v\",\"showlegend\":true,\"x\":[0.314246,0.783402,1.252558,1.72614,2.1952960000000004,2.6644520000000003,3.133608,3.60719,4.076346],\"xaxis\":\"x\",\"y\":[null,null,null,null,null,null,null,null,null],\"yaxis\":\"y\",\"type\":\"scatter\"},{\"hovertemplate\":\"Unique Name=06.08.22-cell15_0001_C002T001\\u003cbr\\u003ethresholdSec=%{x}\\u003cbr\\u003ek_diam_percent=%{y}\\u003cextra\\u003e\\u003c\\u002fextra\\u003e\",\"legendgroup\":\"06.08.22-cell15_0001_C002T001\",\"line\":{\"color\":\"#636efa\",\"dash\":\"solid\"},\"marker\":{\"symbol\":\"circle\"},\"mode\":\"lines\",\"name\":\"06.08.22-cell15_0001_C002T001\",\"orientation\":\"v\",\"showlegend\":true,\"x\":[0.45616500000000004,0.9270450000000001,1.39302,1.868805,2.339685,2.8056600000000005,3.2765400000000002,3.74742,4.2183,4.684275],\"xaxis\":\"x\",\"y\":[91.868,89.704,95.153,87.248,45.255,92.95,91.393,90.87,53.5,null],\"yaxis\":\"y\",\"type\":\"scatter\"},{\"hovertemplate\":\"Unique Name=06.08.22-cell10_C002T001\\u003cbr\\u003ethresholdSec=%{x}\\u003cbr\\u003ek_diam_percent=%{y}\\u003cextra\\u003e\\u003c\\u002fextra\\u003e\",\"legendgroup\":\"06.08.22-cell10_C002T001\",\"line\":{\"color\":\"#EF553B\",\"dash\":\"solid\"},\"marker\":{\"symbol\":\"circle\"},\"mode\":\"lines\",\"name\":\"06.08.22-cell10_C002T001\",\"orientation\":\"v\",\"showlegend\":true,\"x\":[0.39652499999999996,0.86769,1.34352,1.81002,2.27652,2.747685,3.2188499999999998,3.69468,4.156515000000001,4.627680000000001],\"xaxis\":\"x\",\"y\":[88.476,88.815,94.821,87.961,87.667,88.664,88.74,95.092,88.29,null],\"yaxis\":\"y\",\"type\":\"scatter\"},{\"hovertemplate\":\"Unique Name=06.08.22-cell10_0001_C002T001\\u003cbr\\u003ethresholdSec=%{x}\\u003cbr\\u003ek_diam_percent=%{y}\\u003cextra\\u003e\\u003c\\u002fextra\\u003e\",\"legendgroup\":\"06.08.22-cell10_0001_C002T001\",\"line\":{\"color\":\"#00cc96\",\"dash\":\"solid\"},\"marker\":{\"symbol\":\"circle\"},\"mode\":\"lines\",\"name\":\"06.08.22-cell10_0001_C002T001\",\"orientation\":\"v\",\"showlegend\":true,\"x\":[0.46320000000000006,0.93605,1.404075,1.8769250000000002,2.3449500000000003,2.8129750000000002,3.2858250000000004,3.7538500000000004,4.221875,4.694725],\"xaxis\":\"x\",\"y\":[55.024,58.362,53.584,53.301,65.559,60.419,58.703,54.949,55.29,null],\"yaxis\":\"y\",\"type\":\"scatter\"},{\"hovertemplate\":\"Unique Name=06.08.22-cell11_C002T001\\u003cbr\\u003ethresholdSec=%{x}\\u003cbr\\u003ek_diam_percent=%{y}\\u003cextra\\u003e\\u003c\\u002fextra\\u003e\",\"legendgroup\":\"06.08.22-cell11_C002T001\",\"line\":{\"color\":\"#ab63fa\",\"dash\":\"solid\"},\"marker\":{\"symbol\":\"circle\"},\"mode\":\"lines\",\"name\":\"06.08.22-cell11_C002T001\",\"orientation\":\"v\",\"showlegend\":true,\"x\":[0.4586200000000001,0.9272100000000002,1.4007850000000002,1.8693750000000002,2.337965,2.8065550000000004,3.2801300000000007,3.74872,4.21731,4.6859],\"xaxis\":\"x\",\"y\":[87.667,88.333,88.333,88.333,88.667,88.667,88.667,89.0,90.0,null],\"yaxis\":\"y\",\"type\":\"scatter\"},{\"hovertemplate\":\"Unique Name=06.08.22-cell19_C002T001\\u003cbr\\u003ethresholdSec=%{x}\\u003cbr\\u003ek_diam_percent=%{y}\\u003cextra\\u003e\\u003c\\u002fextra\\u003e\",\"legendgroup\":\"06.08.22-cell19_C002T001\",\"line\":{\"color\":\"#FFA15A\",\"dash\":\"solid\"},\"marker\":{\"symbol\":\"circle\"},\"mode\":\"lines\",\"name\":\"06.08.22-cell19_C002T001\",\"orientation\":\"v\",\"showlegend\":true,\"x\":[0.46502499999999997,0.935275,1.4055250000000001,1.8757750000000002,2.346025,2.816275,3.286525,3.756775,4.227024999999999,4.697274999999999,5.1675249999999995],\"xaxis\":\"x\",\"y\":[79.561,87.179,80.137,92.916,89.304,84.983,88.913,91.627,80.33,90.692,null],\"yaxis\":\"y\",\"type\":\"scatter\"},{\"hovertemplate\":\"Unique Name=06.08.22-cell14_C002T001\\u003cbr\\u003ethresholdSec=%{x}\\u003cbr\\u003ek_diam_percent=%{y}\\u003cextra\\u003e\\u003c\\u002fextra\\u003e\",\"legendgroup\":\"06.08.22-cell14_C002T001\",\"line\":{\"color\":\"#19d3f3\",\"dash\":\"solid\"},\"marker\":{\"symbol\":\"circle\"},\"mode\":\"lines\",\"name\":\"06.08.22-cell14_C002T001\",\"orientation\":\"v\",\"showlegend\":true,\"x\":[0.041985,0.51315,0.9843149999999999,1.450815,1.92198,2.393145,2.86431,3.33081,3.801975,4.273140000000001],\"xaxis\":\"x\",\"y\":[null,86.038,86.038,86.415,86.415,86.792,86.415,86.792,86.038,null],\"yaxis\":\"y\",\"type\":\"scatter\"},{\"hovertemplate\":\"Unique Name=07.18.22-cell05_0001_C002T001\\u003cbr\\u003ethresholdSec=%{x}\\u003cbr\\u003ek_diam_percent=%{y}\\u003cextra\\u003e\\u003c\\u002fextra\\u003e\",\"legendgroup\":\"07.18.22-cell05_0001_C002T001\",\"line\":{\"color\":\"#FF6692\",\"dash\":\"solid\"},\"marker\":{\"symbol\":\"circle\"},\"mode\":\"lines\",\"name\":\"07.18.22-cell05_0001_C002T001\",\"orientation\":\"v\",\"showlegend\":true,\"x\":[0.005884,0.4824880000000001,0.9649760000000002,1.44158,1.9240680000000001,2.400672,2.88316,3.359764,3.8422520000000002,4.318856,4.801344,5.277948,5.760436],\"xaxis\":\"x\",\"y\":[null,93.938,94.294,94.895,94.895,95.338,94.939,95.495,95.41,95.11,95.495,96.096,null],\"yaxis\":\"y\",\"type\":\"scatter\"},{\"hovertemplate\":\"Unique Name=07.18.22-cell07_0002_C002T001\\u003cbr\\u003ethresholdSec=%{x}\\u003cbr\\u003ek_diam_percent=%{y}\\u003cextra\\u003e\\u003c\\u002fextra\\u003e\",\"legendgroup\":\"07.18.22-cell07_0002_C002T001\",\"line\":{\"color\":\"#B6E880\",\"dash\":\"solid\"},\"marker\":{\"symbol\":\"circle\"},\"mode\":\"lines\",\"name\":\"07.18.22-cell07_0002_C002T001\",\"orientation\":\"v\",\"showlegend\":true,\"x\":[0.40014,0.88452,1.363635,1.8427499999999997,2.321865,2.80098,3.2800949999999998,3.7592099999999995,4.238325,4.7227049999999995,5.20182],\"xaxis\":\"x\",\"y\":[84.613,82.692,84.295,84.512,86.774,85.058,86.218,72.301,84.434,86.42,null],\"yaxis\":\"y\",\"type\":\"scatter\"},{\"hovertemplate\":\"Unique Name=07.18.22-cell04_0001_C002T001\\u003cbr\\u003ethresholdSec=%{x}\\u003cbr\\u003ek_diam_percent=%{y}\\u003cextra\\u003e\\u003c\\u002fextra\\u003e\",\"legendgroup\":\"07.18.22-cell04_0001_C002T001\",\"line\":{\"color\":\"#FF97FF\",\"dash\":\"solid\"},\"marker\":{\"symbol\":\"circle\"},\"mode\":\"lines\",\"name\":\"07.18.22-cell04_0001_C002T001\",\"orientation\":\"v\",\"showlegend\":true,\"x\":[0.393375,0.8706699999999999,1.35321,1.830505,2.3130450000000002,2.79034,3.2728800000000002,3.750175,4.232715,4.7100100000000005,5.19255],\"xaxis\":\"x\",\"y\":[98.079,97.717,97.643,97.61,98.211,98.549,97.503,97.676,98.25,98.311,null],\"yaxis\":\"y\",\"type\":\"scatter\"},{\"hovertemplate\":\"Unique Name=07.18.22-cell03_0002_C002T001\\u003cbr\\u003ethresholdSec=%{x}\\u003cbr\\u003ek_diam_percent=%{y}\\u003cextra\\u003e\\u003c\\u002fextra\\u003e\",\"legendgroup\":\"07.18.22-cell03_0002_C002T001\",\"line\":{\"color\":\"#FECB52\",\"dash\":\"solid\"},\"marker\":{\"symbol\":\"circle\"},\"mode\":\"lines\",\"name\":\"07.18.22-cell03_0002_C002T001\",\"orientation\":\"v\",\"showlegend\":true,\"x\":[0.087125,0.56375,1.0455,1.522125,2.003875,2.4805,2.96225,3.444,3.920625,4.402375,4.879],\"xaxis\":\"x\",\"y\":[91.685,92.164,92.91,92.634,94.318,94.713,94.189,93.561,93.962,94.069,null],\"yaxis\":\"y\",\"type\":\"scatter\"},{\"hovertemplate\":\"Unique Name=07.18.22-cell02_0002_C002T001\\u003cbr\\u003ethresholdSec=%{x}\\u003cbr\\u003ek_diam_percent=%{y}\\u003cextra\\u003e\\u003c\\u002fextra\\u003e\",\"legendgroup\":\"07.18.22-cell02_0002_C002T001\",\"line\":{\"color\":\"#636efa\",\"dash\":\"solid\"},\"marker\":{\"symbol\":\"circle\"},\"mode\":\"lines\",\"name\":\"07.18.22-cell02_0002_C002T001\",\"orientation\":\"v\",\"showlegend\":true,\"x\":[0.013515,0.49104499999999995,0.97308,1.45061,1.92814,2.4101749999999997,2.887705,3.3652349999999998,3.84727,4.3248],\"xaxis\":\"x\",\"y\":[null,96.847,97.87,97.561,98.11,97.572,97.297,97.297,97.517,null],\"yaxis\":\"y\",\"type\":\"scatter\"},{\"hovertemplate\":\"Unique Name=06.27.22-cell14_0001_C002T001\\u003cbr\\u003ethresholdSec=%{x}\\u003cbr\\u003ek_diam_percent=%{y}\\u003cextra\\u003e\\u003c\\u002fextra\\u003e\",\"legendgroup\":\"06.27.22-cell14_0001_C002T001\",\"line\":{\"color\":\"#EF553B\",\"dash\":\"solid\"},\"marker\":{\"symbol\":\"circle\"},\"mode\":\"lines\",\"name\":\"06.27.22-cell14_0001_C002T001\",\"orientation\":\"v\",\"showlegend\":true,\"x\":[0.20246399999999998,0.697376,1.1922879999999998,1.6871999999999998,2.1821119999999996,2.677024,3.1719359999999996,3.6668479999999994,4.161759999999999,4.6566719999999995,5.151584],\"xaxis\":\"x\",\"y\":[57.684,57.066,56.052,60.09,56.325,56.49,57.329,62.821,58.268,55.618,null],\"yaxis\":\"y\",\"type\":\"scatter\"},{\"hovertemplate\":\"Unique Name=06.27.22-cell5_0001_C002T001\\u003cbr\\u003ethresholdSec=%{x}\\u003cbr\\u003ek_diam_percent=%{y}\\u003cextra\\u003e\\u003c\\u002fextra\\u003e\",\"legendgroup\":\"06.27.22-cell5_0001_C002T001\",\"line\":{\"color\":\"#00cc96\",\"dash\":\"solid\"},\"marker\":{\"symbol\":\"circle\"},\"mode\":\"lines\",\"name\":\"06.27.22-cell5_0001_C002T001\",\"orientation\":\"v\",\"showlegend\":true,\"x\":[0.005884,0.48837200000000003,0.9708600000000002,1.453348,1.9358360000000003,2.418324,2.900812,3.3833,3.8657880000000007,4.348276000000001,4.830764,5.313252,5.789856],\"xaxis\":\"x\",\"y\":[null,91.279,91.971,92.048,92.56,92.42,92.344,92.717,92.582,92.989,92.533,92.771,null],\"yaxis\":\"y\",\"type\":\"scatter\"},{\"hovertemplate\":\"Unique Name=06.27.22-cell12_0001_C002T001\\u003cbr\\u003ethresholdSec=%{x}\\u003cbr\\u003ek_diam_percent=%{y}\\u003cextra\\u003e\\u003c\\u002fextra\\u003e\",\"legendgroup\":\"06.27.22-cell12_0001_C002T001\",\"line\":{\"color\":\"#ab63fa\",\"dash\":\"solid\"},\"marker\":{\"symbol\":\"circle\"},\"mode\":\"lines\",\"name\":\"06.27.22-cell12_0001_C002T001\",\"orientation\":\"v\",\"showlegend\":true,\"x\":[0.005644,0.48538400000000004,0.965124,1.4505080000000001,1.930248,2.415632,2.8953720000000005,3.3807560000000003,3.860496,4.34588,4.82562,5.311004],\"xaxis\":\"x\",\"y\":[null,92.918,93.484,93.768,93.201,94.051,93.768,94.618,93.484,94.334,93.768,null],\"yaxis\":\"y\",\"type\":\"scatter\"},{\"hovertemplate\":\"Unique Name=06.27.22-cell7_0001_C002T001\\u003cbr\\u003ethresholdSec=%{x}\\u003cbr\\u003ek_diam_percent=%{y}\\u003cextra\\u003e\\u003c\\u002fextra\\u003e\",\"legendgroup\":\"06.27.22-cell7_0001_C002T001\",\"line\":{\"color\":\"#FFA15A\",\"dash\":\"solid\"},\"marker\":{\"symbol\":\"circle\"},\"mode\":\"lines\",\"name\":\"06.27.22-cell7_0001_C002T001\",\"orientation\":\"v\",\"showlegend\":true,\"x\":[0.325296,0.807216,1.289136,1.771056,2.2529760000000003,2.734896,3.22284,3.7047600000000003,4.18668,4.6686000000000005,5.15052,5.632440000000001],\"xaxis\":\"x\",\"y\":[95.405,85.44,91.694,97.463,96.38,96.336,96.642,96.479,97.762,96.789,97.203,null],\"yaxis\":\"y\",\"type\":\"scatter\"},{\"hovertemplate\":\"Unique Name=06.27.22-cell10_0001_C002T001\\u003cbr\\u003ethresholdSec=%{x}\\u003cbr\\u003ek_diam_percent=%{y}\\u003cextra\\u003e\\u003c\\u002fextra\\u003e\",\"legendgroup\":\"06.27.22-cell10_0001_C002T001\",\"line\":{\"color\":\"#19d3f3\",\"dash\":\"solid\"},\"marker\":{\"symbol\":\"circle\"},\"mode\":\"lines\",\"name\":\"06.27.22-cell10_0001_C002T001\",\"orientation\":\"v\",\"showlegend\":true,\"x\":[0.151525,0.6374500000000001,1.1181500000000002,1.6040750000000001,2.084775,2.5654749999999997,3.0461750000000003,3.5321,4.0128,4.4935,4.979425],\"xaxis\":\"x\",\"y\":[83.916,81.532,79.485,89.86,79.623,80.325,78.88,78.425,80.013,81.518,null],\"yaxis\":\"y\",\"type\":\"scatter\"},{\"hovertemplate\":\"Unique Name=06.27.22-cell11_0001_C002T001\\u003cbr\\u003ethresholdSec=%{x}\\u003cbr\\u003ek_diam_percent=%{y}\\u003cextra\\u003e\\u003c\\u002fextra\\u003e\",\"legendgroup\":\"06.27.22-cell11_0001_C002T001\",\"line\":{\"color\":\"#FF6692\",\"dash\":\"solid\"},\"marker\":{\"symbol\":\"circle\"},\"mode\":\"lines\",\"name\":\"06.27.22-cell11_0001_C002T001\",\"orientation\":\"v\",\"showlegend\":true,\"x\":[0.15077999999999997,0.630045,1.114695,1.5939599999999998,2.5632599999999996,3.0425249999999995,3.5271749999999997,4.00644,4.491089999999999,4.97574],\"xaxis\":\"x\",\"y\":[91.603,91.951,91.348,91.404,90.115,90.882,90.689,92.006,91.511,null],\"yaxis\":\"y\",\"type\":\"scatter\"},{\"hovertemplate\":\"Unique Name=06.27.22-cell9_0001_C002T001\\u003cbr\\u003ethresholdSec=%{x}\\u003cbr\\u003ek_diam_percent=%{y}\\u003cextra\\u003e\\u003c\\u002fextra\\u003e\",\"legendgroup\":\"06.27.22-cell9_0001_C002T001\",\"line\":{\"color\":\"#B6E880\",\"dash\":\"solid\"},\"marker\":{\"symbol\":\"circle\"},\"mode\":\"lines\",\"name\":\"06.27.22-cell9_0001_C002T001\",\"orientation\":\"v\",\"showlegend\":true,\"x\":[0.472648,0.9568240000000001,1.4352360000000002,1.9194120000000003,2.403588,2.8820000000000006,3.3661760000000003,3.8503520000000004,4.3287640000000005,4.81294,5.297116000000001],\"xaxis\":\"x\",\"y\":[92.572,92.801,92.905,93.45,94.533,92.373,92.551,92.094,93.201,93.307,null],\"yaxis\":\"y\",\"type\":\"scatter\"},{\"hovertemplate\":\"Unique Name=06.03.22-cell 05_C002T001\\u003cbr\\u003ethresholdSec=%{x}\\u003cbr\\u003ek_diam_percent=%{y}\\u003cextra\\u003e\\u003c\\u002fextra\\u003e\",\"legendgroup\":\"06.03.22-cell 05_C002T001\",\"line\":{\"color\":\"#FF97FF\",\"dash\":\"solid\"},\"marker\":{\"symbol\":\"circle\"},\"mode\":\"lines\",\"name\":\"06.03.22-cell 05_C002T001\",\"orientation\":\"v\",\"showlegend\":true,\"x\":[0.47123999999999994,0.948024,1.435896,1.91268,2.395008,2.8773359999999997,3.35412,3.836448,4.318776,4.795559999999999,5.277888],\"xaxis\":\"x\",\"y\":[97.66,97.561,97.904,98.556,97.812,97.966,98.15,98.304,98.428,98.299,null],\"yaxis\":\"y\",\"type\":\"scatter\"},{\"hovertemplate\":\"Unique Name=06.03.22-cell 08_0002_C002T001\\u003cbr\\u003ethresholdSec=%{x}\\u003cbr\\u003ek_diam_percent=%{y}\\u003cextra\\u003e\\u003c\\u002fextra\\u003e\",\"legendgroup\":\"06.03.22-cell 08_0002_C002T001\",\"line\":{\"color\":\"#FECB52\",\"dash\":\"solid\"},\"marker\":{\"symbol\":\"circle\"},\"mode\":\"lines\",\"name\":\"06.03.22-cell 08_0002_C002T001\",\"orientation\":\"v\",\"showlegend\":true,\"x\":[0.4705,0.95041,1.43032,1.9055250000000001,2.3901399999999997,2.87005,3.34996,3.82987,4.30978],\"xaxis\":\"x\",\"y\":[95.966,96.395,95.928,96.901,95.72,96.395,96.447,96.939,null],\"yaxis\":\"y\",\"type\":\"scatter\"}],                        {\"template\":{\"data\":{\"histogram2dcontour\":[{\"type\":\"histogram2dcontour\",\"colorbar\":{\"outlinewidth\":0,\"ticks\":\"\"},\"colorscale\":[[0.0,\"#0d0887\"],[0.1111111111111111,\"#46039f\"],[0.2222222222222222,\"#7201a8\"],[0.3333333333333333,\"#9c179e\"],[0.4444444444444444,\"#bd3786\"],[0.5555555555555556,\"#d8576b\"],[0.6666666666666666,\"#ed7953\"],[0.7777777777777778,\"#fb9f3a\"],[0.8888888888888888,\"#fdca26\"],[1.0,\"#f0f921\"]]}],\"choropleth\":[{\"type\":\"choropleth\",\"colorbar\":{\"outlinewidth\":0,\"ticks\":\"\"}}],\"histogram2d\":[{\"type\":\"histogram2d\",\"colorbar\":{\"outlinewidth\":0,\"ticks\":\"\"},\"colorscale\":[[0.0,\"#0d0887\"],[0.1111111111111111,\"#46039f\"],[0.2222222222222222,\"#7201a8\"],[0.3333333333333333,\"#9c179e\"],[0.4444444444444444,\"#bd3786\"],[0.5555555555555556,\"#d8576b\"],[0.6666666666666666,\"#ed7953\"],[0.7777777777777778,\"#fb9f3a\"],[0.8888888888888888,\"#fdca26\"],[1.0,\"#f0f921\"]]}],\"heatmap\":[{\"type\":\"heatmap\",\"colorbar\":{\"outlinewidth\":0,\"ticks\":\"\"},\"colorscale\":[[0.0,\"#0d0887\"],[0.1111111111111111,\"#46039f\"],[0.2222222222222222,\"#7201a8\"],[0.3333333333333333,\"#9c179e\"],[0.4444444444444444,\"#bd3786\"],[0.5555555555555556,\"#d8576b\"],[0.6666666666666666,\"#ed7953\"],[0.7777777777777778,\"#fb9f3a\"],[0.8888888888888888,\"#fdca26\"],[1.0,\"#f0f921\"]]}],\"heatmapgl\":[{\"type\":\"heatmapgl\",\"colorbar\":{\"outlinewidth\":0,\"ticks\":\"\"},\"colorscale\":[[0.0,\"#0d0887\"],[0.1111111111111111,\"#46039f\"],[0.2222222222222222,\"#7201a8\"],[0.3333333333333333,\"#9c179e\"],[0.4444444444444444,\"#bd3786\"],[0.5555555555555556,\"#d8576b\"],[0.6666666666666666,\"#ed7953\"],[0.7777777777777778,\"#fb9f3a\"],[0.8888888888888888,\"#fdca26\"],[1.0,\"#f0f921\"]]}],\"contourcarpet\":[{\"type\":\"contourcarpet\",\"colorbar\":{\"outlinewidth\":0,\"ticks\":\"\"}}],\"contour\":[{\"type\":\"contour\",\"colorbar\":{\"outlinewidth\":0,\"ticks\":\"\"},\"colorscale\":[[0.0,\"#0d0887\"],[0.1111111111111111,\"#46039f\"],[0.2222222222222222,\"#7201a8\"],[0.3333333333333333,\"#9c179e\"],[0.4444444444444444,\"#bd3786\"],[0.5555555555555556,\"#d8576b\"],[0.6666666666666666,\"#ed7953\"],[0.7777777777777778,\"#fb9f3a\"],[0.8888888888888888,\"#fdca26\"],[1.0,\"#f0f921\"]]}],\"surface\":[{\"type\":\"surface\",\"colorbar\":{\"outlinewidth\":0,\"ticks\":\"\"},\"colorscale\":[[0.0,\"#0d0887\"],[0.1111111111111111,\"#46039f\"],[0.2222222222222222,\"#7201a8\"],[0.3333333333333333,\"#9c179e\"],[0.4444444444444444,\"#bd3786\"],[0.5555555555555556,\"#d8576b\"],[0.6666666666666666,\"#ed7953\"],[0.7777777777777778,\"#fb9f3a\"],[0.8888888888888888,\"#fdca26\"],[1.0,\"#f0f921\"]]}],\"mesh3d\":[{\"type\":\"mesh3d\",\"colorbar\":{\"outlinewidth\":0,\"ticks\":\"\"}}],\"scatter\":[{\"fillpattern\":{\"fillmode\":\"overlay\",\"size\":10,\"solidity\":0.2},\"type\":\"scatter\"}],\"parcoords\":[{\"type\":\"parcoords\",\"line\":{\"colorbar\":{\"outlinewidth\":0,\"ticks\":\"\"}}}],\"scatterpolargl\":[{\"type\":\"scatterpolargl\",\"marker\":{\"colorbar\":{\"outlinewidth\":0,\"ticks\":\"\"}}}],\"bar\":[{\"error_x\":{\"color\":\"#2a3f5f\"},\"error_y\":{\"color\":\"#2a3f5f\"},\"marker\":{\"line\":{\"color\":\"#E5ECF6\",\"width\":0.5},\"pattern\":{\"fillmode\":\"overlay\",\"size\":10,\"solidity\":0.2}},\"type\":\"bar\"}],\"scattergeo\":[{\"type\":\"scattergeo\",\"marker\":{\"colorbar\":{\"outlinewidth\":0,\"ticks\":\"\"}}}],\"scatterpolar\":[{\"type\":\"scatterpolar\",\"marker\":{\"colorbar\":{\"outlinewidth\":0,\"ticks\":\"\"}}}],\"histogram\":[{\"marker\":{\"pattern\":{\"fillmode\":\"overlay\",\"size\":10,\"solidity\":0.2}},\"type\":\"histogram\"}],\"scattergl\":[{\"type\":\"scattergl\",\"marker\":{\"colorbar\":{\"outlinewidth\":0,\"ticks\":\"\"}}}],\"scatter3d\":[{\"type\":\"scatter3d\",\"line\":{\"colorbar\":{\"outlinewidth\":0,\"ticks\":\"\"}},\"marker\":{\"colorbar\":{\"outlinewidth\":0,\"ticks\":\"\"}}}],\"scattermapbox\":[{\"type\":\"scattermapbox\",\"marker\":{\"colorbar\":{\"outlinewidth\":0,\"ticks\":\"\"}}}],\"scatterternary\":[{\"type\":\"scatterternary\",\"marker\":{\"colorbar\":{\"outlinewidth\":0,\"ticks\":\"\"}}}],\"scattercarpet\":[{\"type\":\"scattercarpet\",\"marker\":{\"colorbar\":{\"outlinewidth\":0,\"ticks\":\"\"}}}],\"carpet\":[{\"aaxis\":{\"endlinecolor\":\"#2a3f5f\",\"gridcolor\":\"white\",\"linecolor\":\"white\",\"minorgridcolor\":\"white\",\"startlinecolor\":\"#2a3f5f\"},\"baxis\":{\"endlinecolor\":\"#2a3f5f\",\"gridcolor\":\"white\",\"linecolor\":\"white\",\"minorgridcolor\":\"white\",\"startlinecolor\":\"#2a3f5f\"},\"type\":\"carpet\"}],\"table\":[{\"cells\":{\"fill\":{\"color\":\"#EBF0F8\"},\"line\":{\"color\":\"white\"}},\"header\":{\"fill\":{\"color\":\"#C8D4E3\"},\"line\":{\"color\":\"white\"}},\"type\":\"table\"}],\"barpolar\":[{\"marker\":{\"line\":{\"color\":\"#E5ECF6\",\"width\":0.5},\"pattern\":{\"fillmode\":\"overlay\",\"size\":10,\"solidity\":0.2}},\"type\":\"barpolar\"}],\"pie\":[{\"automargin\":true,\"type\":\"pie\"}]},\"layout\":{\"autotypenumbers\":\"strict\",\"colorway\":[\"#636efa\",\"#EF553B\",\"#00cc96\",\"#ab63fa\",\"#FFA15A\",\"#19d3f3\",\"#FF6692\",\"#B6E880\",\"#FF97FF\",\"#FECB52\"],\"font\":{\"color\":\"#2a3f5f\"},\"hovermode\":\"closest\",\"hoverlabel\":{\"align\":\"left\"},\"paper_bgcolor\":\"white\",\"plot_bgcolor\":\"#E5ECF6\",\"polar\":{\"bgcolor\":\"#E5ECF6\",\"angularaxis\":{\"gridcolor\":\"white\",\"linecolor\":\"white\",\"ticks\":\"\"},\"radialaxis\":{\"gridcolor\":\"white\",\"linecolor\":\"white\",\"ticks\":\"\"}},\"ternary\":{\"bgcolor\":\"#E5ECF6\",\"aaxis\":{\"gridcolor\":\"white\",\"linecolor\":\"white\",\"ticks\":\"\"},\"baxis\":{\"gridcolor\":\"white\",\"linecolor\":\"white\",\"ticks\":\"\"},\"caxis\":{\"gridcolor\":\"white\",\"linecolor\":\"white\",\"ticks\":\"\"}},\"coloraxis\":{\"colorbar\":{\"outlinewidth\":0,\"ticks\":\"\"}},\"colorscale\":{\"sequential\":[[0.0,\"#0d0887\"],[0.1111111111111111,\"#46039f\"],[0.2222222222222222,\"#7201a8\"],[0.3333333333333333,\"#9c179e\"],[0.4444444444444444,\"#bd3786\"],[0.5555555555555556,\"#d8576b\"],[0.6666666666666666,\"#ed7953\"],[0.7777777777777778,\"#fb9f3a\"],[0.8888888888888888,\"#fdca26\"],[1.0,\"#f0f921\"]],\"sequentialminus\":[[0.0,\"#0d0887\"],[0.1111111111111111,\"#46039f\"],[0.2222222222222222,\"#7201a8\"],[0.3333333333333333,\"#9c179e\"],[0.4444444444444444,\"#bd3786\"],[0.5555555555555556,\"#d8576b\"],[0.6666666666666666,\"#ed7953\"],[0.7777777777777778,\"#fb9f3a\"],[0.8888888888888888,\"#fdca26\"],[1.0,\"#f0f921\"]],\"diverging\":[[0,\"#8e0152\"],[0.1,\"#c51b7d\"],[0.2,\"#de77ae\"],[0.3,\"#f1b6da\"],[0.4,\"#fde0ef\"],[0.5,\"#f7f7f7\"],[0.6,\"#e6f5d0\"],[0.7,\"#b8e186\"],[0.8,\"#7fbc41\"],[0.9,\"#4d9221\"],[1,\"#276419\"]]},\"xaxis\":{\"gridcolor\":\"white\",\"linecolor\":\"white\",\"ticks\":\"\",\"title\":{\"standoff\":15},\"zerolinecolor\":\"white\",\"automargin\":true,\"zerolinewidth\":2},\"yaxis\":{\"gridcolor\":\"white\",\"linecolor\":\"white\",\"ticks\":\"\",\"title\":{\"standoff\":15},\"zerolinecolor\":\"white\",\"automargin\":true,\"zerolinewidth\":2},\"scene\":{\"xaxis\":{\"backgroundcolor\":\"#E5ECF6\",\"gridcolor\":\"white\",\"linecolor\":\"white\",\"showbackground\":true,\"ticks\":\"\",\"zerolinecolor\":\"white\",\"gridwidth\":2},\"yaxis\":{\"backgroundcolor\":\"#E5ECF6\",\"gridcolor\":\"white\",\"linecolor\":\"white\",\"showbackground\":true,\"ticks\":\"\",\"zerolinecolor\":\"white\",\"gridwidth\":2},\"zaxis\":{\"backgroundcolor\":\"#E5ECF6\",\"gridcolor\":\"white\",\"linecolor\":\"white\",\"showbackground\":true,\"ticks\":\"\",\"zerolinecolor\":\"white\",\"gridwidth\":2}},\"shapedefaults\":{\"line\":{\"color\":\"#2a3f5f\"}},\"annotationdefaults\":{\"arrowcolor\":\"#2a3f5f\",\"arrowhead\":0,\"arrowwidth\":1},\"geo\":{\"bgcolor\":\"white\",\"landcolor\":\"#E5ECF6\",\"subunitcolor\":\"white\",\"showland\":true,\"showlakes\":true,\"lakecolor\":\"white\"},\"title\":{\"x\":0.05},\"mapbox\":{\"style\":\"light\"}}},\"xaxis\":{\"anchor\":\"y\",\"domain\":[0.0,1.0],\"title\":{\"text\":\"thresholdSec\"}},\"yaxis\":{\"anchor\":\"x\",\"domain\":[0.0,1.0],\"title\":{\"text\":\"k_diam_percent\"}},\"legend\":{\"title\":{\"text\":\"Unique Name\"},\"tracegroupgap\":0},\"margin\":{\"t\":60}},                        {\"responsive\": true}                    ).then(function(){\n",
       "                            \n",
       "var gd = document.getElementById('2ea319e5-c614-4810-9ef6-c5193b40bfb2');\n",
       "var x = new MutationObserver(function (mutations, observer) {{\n",
       "        var display = window.getComputedStyle(gd).display;\n",
       "        if (!display || display === 'none') {{\n",
       "            console.log([gd, 'removed!']);\n",
       "            Plotly.purge(gd);\n",
       "            observer.disconnect();\n",
       "        }}\n",
       "}});\n",
       "\n",
       "// Listen for the removal of the full notebook cells\n",
       "var notebookContainer = gd.closest('#notebook-container');\n",
       "if (notebookContainer) {{\n",
       "    x.observe(notebookContainer, {childList: true});\n",
       "}}\n",
       "\n",
       "// Listen for the clearing of the current output cell\n",
       "var outputEl = gd.closest('.output');\n",
       "if (outputEl) {{\n",
       "    x.observe(outputEl, {childList: true});\n",
       "}}\n",
       "\n",
       "                        })                };                });            </script>        </div>"
      ]
     },
     "metadata": {},
     "output_type": "display_data"
    }
   ],
   "source": [
    "\n",
    "fig = px.line(dfMaster, x=x, y=y, color='Unique Name')\n",
    "fig.show()\n",
    "\n"
   ]
  },
  {
   "cell_type": "markdown",
   "id": "8cde6809",
   "metadata": {},
   "source": [
    "## Generate  per cell summary plots and tables\n",
    "\n",
    "- Ca++ amp\n",
    "- Percent diam change"
   ]
  },
  {
   "cell_type": "code",
   "execution_count": 16,
   "id": "6759c482",
   "metadata": {},
   "outputs": [
    {
     "data": {
      "image/png": "[encoded data removed]",
      "text/plain": [
       "<Figure size 800x400 with 1 Axes>"
      ]
     },
     "metadata": {},
     "output_type": "display_data"
    }
   ],
   "source": [
    "stat = 'k_diam_percent'\n",
    "#stat = 'peakHeight'\n",
    "#stat = 'k_diam_time_to_peak_sec'\n",
    "\n",
    "fig, ax = pyplot.subplots(figsize=(8,4))\n",
    "\n",
    "bp = sns.boxplot(data=dfMaster, x='Unique Name', y=stat,\n",
    "                 hue=None,\n",
    "                ax=ax);\n",
    "\n",
    "#rotate x-axis labels\n",
    "bp.set_xticklabels(bp.get_xticklabels(), rotation=45,\n",
    "                  horizontalalignment='right');\n",
    "sns.despine()"
   ]
  },
  {
   "cell_type": "markdown",
   "id": "bfb01e26",
   "metadata": {},
   "source": [
    "### Make a table of per cell mean for one statistic\n",
    "\n",
    "Here we are also including the 'Sex' metadata for each file."
   ]
  },
  {
   "cell_type": "code",
   "execution_count": 19,
   "id": "180f536e",
   "metadata": {},
   "outputs": [
    {
     "data": {
      "text/html": [
       "<div>\n",
       "<style scoped>\n",
       "    .dataframe tbody tr th:only-of-type {\n",
       "        vertical-align: middle;\n",
       "    }\n",
       "\n",
       "    .dataframe tbody tr th {\n",
       "        vertical-align: top;\n",
       "    }\n",
       "\n",
       "    .dataframe thead tr th {\n",
       "        text-align: left;\n",
       "    }\n",
       "</style>\n",
       "<table border=\"1\" class=\"dataframe\">\n",
       "  <thead>\n",
       "    <tr>\n",
       "      <th></th>\n",
       "      <th>Unique Name</th>\n",
       "      <th>Sex</th>\n",
       "      <th colspan=\"7\" halign=\"left\">k_diam_percent</th>\n",
       "    </tr>\n",
       "    <tr>\n",
       "      <th></th>\n",
       "      <th></th>\n",
       "      <th></th>\n",
       "      <th>count</th>\n",
       "      <th>mean</th>\n",
       "      <th>median</th>\n",
       "      <th>min</th>\n",
       "      <th>max</th>\n",
       "      <th>std</th>\n",
       "      <th>sem</th>\n",
       "    </tr>\n",
       "  </thead>\n",
       "  <tbody>\n",
       "    <tr>\n",
       "      <th>0</th>\n",
       "      <td>06.03.22-cell 05_C002T001</td>\n",
       "      <td>male</td>\n",
       "      <td>10</td>\n",
       "      <td>98.064</td>\n",
       "      <td>98.058</td>\n",
       "      <td>97.561</td>\n",
       "      <td>98.556</td>\n",
       "      <td>0.335</td>\n",
       "      <td>0.106</td>\n",
       "    </tr>\n",
       "    <tr>\n",
       "      <th>1</th>\n",
       "      <td>06.03.22-cell 08_0002_C002T001</td>\n",
       "      <td>male</td>\n",
       "      <td>8</td>\n",
       "      <td>96.336</td>\n",
       "      <td>96.395</td>\n",
       "      <td>95.720</td>\n",
       "      <td>96.939</td>\n",
       "      <td>0.445</td>\n",
       "      <td>0.157</td>\n",
       "    </tr>\n",
       "    <tr>\n",
       "      <th>2</th>\n",
       "      <td>06.08.22-cell10_0001_C002T001</td>\n",
       "      <td>unknown</td>\n",
       "      <td>9</td>\n",
       "      <td>57.243</td>\n",
       "      <td>55.290</td>\n",
       "      <td>53.301</td>\n",
       "      <td>65.559</td>\n",
       "      <td>3.962</td>\n",
       "      <td>1.321</td>\n",
       "    </tr>\n",
       "    <tr>\n",
       "      <th>3</th>\n",
       "      <td>06.08.22-cell10_C002T001</td>\n",
       "      <td>male</td>\n",
       "      <td>9</td>\n",
       "      <td>89.836</td>\n",
       "      <td>88.664</td>\n",
       "      <td>87.667</td>\n",
       "      <td>95.092</td>\n",
       "      <td>2.927</td>\n",
       "      <td>0.976</td>\n",
       "    </tr>\n",
       "    <tr>\n",
       "      <th>4</th>\n",
       "      <td>06.08.22-cell11_C002T001</td>\n",
       "      <td>male</td>\n",
       "      <td>9</td>\n",
       "      <td>88.630</td>\n",
       "      <td>88.667</td>\n",
       "      <td>87.667</td>\n",
       "      <td>90.000</td>\n",
       "      <td>0.633</td>\n",
       "      <td>0.211</td>\n",
       "    </tr>\n",
       "    <tr>\n",
       "      <th>5</th>\n",
       "      <td>06.08.22-cell14_C002T001</td>\n",
       "      <td>female</td>\n",
       "      <td>8</td>\n",
       "      <td>86.368</td>\n",
       "      <td>86.415</td>\n",
       "      <td>86.038</td>\n",
       "      <td>86.792</td>\n",
       "      <td>0.315</td>\n",
       "      <td>0.111</td>\n",
       "    </tr>\n",
       "    <tr>\n",
       "      <th>6</th>\n",
       "      <td>06.08.22-cell15_0001_C002T001</td>\n",
       "      <td>unknown</td>\n",
       "      <td>9</td>\n",
       "      <td>81.993</td>\n",
       "      <td>90.870</td>\n",
       "      <td>45.255</td>\n",
       "      <td>95.153</td>\n",
       "      <td>18.730</td>\n",
       "      <td>6.243</td>\n",
       "    </tr>\n",
       "    <tr>\n",
       "      <th>7</th>\n",
       "      <td>06.08.22-cell17_C002T001</td>\n",
       "      <td>female</td>\n",
       "      <td>9</td>\n",
       "      <td>93.451</td>\n",
       "      <td>94.109</td>\n",
       "      <td>90.607</td>\n",
       "      <td>95.220</td>\n",
       "      <td>1.701</td>\n",
       "      <td>0.567</td>\n",
       "    </tr>\n",
       "    <tr>\n",
       "      <th>8</th>\n",
       "      <td>06.08.22-cell18_C002T001</td>\n",
       "      <td>male</td>\n",
       "      <td>0</td>\n",
       "      <td>NaN</td>\n",
       "      <td>NaN</td>\n",
       "      <td>NaN</td>\n",
       "      <td>NaN</td>\n",
       "      <td>NaN</td>\n",
       "      <td>NaN</td>\n",
       "    </tr>\n",
       "    <tr>\n",
       "      <th>9</th>\n",
       "      <td>06.08.22-cell19_C002T001</td>\n",
       "      <td>female</td>\n",
       "      <td>10</td>\n",
       "      <td>86.564</td>\n",
       "      <td>88.046</td>\n",
       "      <td>79.561</td>\n",
       "      <td>92.916</td>\n",
       "      <td>5.035</td>\n",
       "      <td>1.592</td>\n",
       "    </tr>\n",
       "    <tr>\n",
       "      <th>10</th>\n",
       "      <td>06.08.22-cell24_0002_C002T001</td>\n",
       "      <td>female</td>\n",
       "      <td>10</td>\n",
       "      <td>84.030</td>\n",
       "      <td>83.996</td>\n",
       "      <td>82.201</td>\n",
       "      <td>86.719</td>\n",
       "      <td>1.420</td>\n",
       "      <td>0.449</td>\n",
       "    </tr>\n",
       "    <tr>\n",
       "      <th>11</th>\n",
       "      <td>06.15.22-cell 16_0001_C002T001</td>\n",
       "      <td>male</td>\n",
       "      <td>11</td>\n",
       "      <td>96.552</td>\n",
       "      <td>96.558</td>\n",
       "      <td>96.166</td>\n",
       "      <td>96.939</td>\n",
       "      <td>0.274</td>\n",
       "      <td>0.083</td>\n",
       "    </tr>\n",
       "    <tr>\n",
       "      <th>12</th>\n",
       "      <td>06.15.22-cell 17_0002_C002T001</td>\n",
       "      <td>male</td>\n",
       "      <td>9</td>\n",
       "      <td>94.553</td>\n",
       "      <td>94.765</td>\n",
       "      <td>92.899</td>\n",
       "      <td>95.866</td>\n",
       "      <td>1.021</td>\n",
       "      <td>0.340</td>\n",
       "    </tr>\n",
       "    <tr>\n",
       "      <th>13</th>\n",
       "      <td>06.15.22-cell 19_0001_C002T001</td>\n",
       "      <td>male</td>\n",
       "      <td>9</td>\n",
       "      <td>89.011</td>\n",
       "      <td>88.235</td>\n",
       "      <td>86.405</td>\n",
       "      <td>95.462</td>\n",
       "      <td>2.573</td>\n",
       "      <td>0.858</td>\n",
       "    </tr>\n",
       "    <tr>\n",
       "      <th>14</th>\n",
       "      <td>06.15.22-cell 24_0002_C002T001</td>\n",
       "      <td>male</td>\n",
       "      <td>9</td>\n",
       "      <td>97.259</td>\n",
       "      <td>97.412</td>\n",
       "      <td>96.313</td>\n",
       "      <td>98.113</td>\n",
       "      <td>0.594</td>\n",
       "      <td>0.198</td>\n",
       "    </tr>\n",
       "    <tr>\n",
       "      <th>15</th>\n",
       "      <td>06.15.22-cell 25_0002_C002T001</td>\n",
       "      <td>unknown</td>\n",
       "      <td>10</td>\n",
       "      <td>95.274</td>\n",
       "      <td>95.340</td>\n",
       "      <td>94.595</td>\n",
       "      <td>95.827</td>\n",
       "      <td>0.386</td>\n",
       "      <td>0.122</td>\n",
       "    </tr>\n",
       "    <tr>\n",
       "      <th>16</th>\n",
       "      <td>06.27.22-cell10_0001_C002T001</td>\n",
       "      <td>female</td>\n",
       "      <td>10</td>\n",
       "      <td>81.358</td>\n",
       "      <td>80.169</td>\n",
       "      <td>78.425</td>\n",
       "      <td>89.860</td>\n",
       "      <td>3.383</td>\n",
       "      <td>1.070</td>\n",
       "    </tr>\n",
       "    <tr>\n",
       "      <th>17</th>\n",
       "      <td>06.27.22-cell11_0001_C002T001</td>\n",
       "      <td>male</td>\n",
       "      <td>9</td>\n",
       "      <td>91.279</td>\n",
       "      <td>91.404</td>\n",
       "      <td>90.115</td>\n",
       "      <td>92.006</td>\n",
       "      <td>0.614</td>\n",
       "      <td>0.205</td>\n",
       "    </tr>\n",
       "    <tr>\n",
       "      <th>18</th>\n",
       "      <td>06.27.22-cell12_0001_C002T001</td>\n",
       "      <td>male</td>\n",
       "      <td>10</td>\n",
       "      <td>93.739</td>\n",
       "      <td>93.768</td>\n",
       "      <td>92.918</td>\n",
       "      <td>94.618</td>\n",
       "      <td>0.508</td>\n",
       "      <td>0.161</td>\n",
       "    </tr>\n",
       "    <tr>\n",
       "      <th>19</th>\n",
       "      <td>06.27.22-cell14_0001_C002T001</td>\n",
       "      <td>female</td>\n",
       "      <td>10</td>\n",
       "      <td>57.774</td>\n",
       "      <td>57.198</td>\n",
       "      <td>55.618</td>\n",
       "      <td>62.821</td>\n",
       "      <td>2.190</td>\n",
       "      <td>0.692</td>\n",
       "    </tr>\n",
       "    <tr>\n",
       "      <th>20</th>\n",
       "      <td>06.27.22-cell5_0001_C002T001</td>\n",
       "      <td>unknown</td>\n",
       "      <td>11</td>\n",
       "      <td>92.383</td>\n",
       "      <td>92.533</td>\n",
       "      <td>91.279</td>\n",
       "      <td>92.989</td>\n",
       "      <td>0.472</td>\n",
       "      <td>0.142</td>\n",
       "    </tr>\n",
       "    <tr>\n",
       "      <th>21</th>\n",
       "      <td>06.27.22-cell7_0001_C002T001</td>\n",
       "      <td>female</td>\n",
       "      <td>11</td>\n",
       "      <td>95.236</td>\n",
       "      <td>96.479</td>\n",
       "      <td>85.440</td>\n",
       "      <td>97.762</td>\n",
       "      <td>3.636</td>\n",
       "      <td>1.096</td>\n",
       "    </tr>\n",
       "    <tr>\n",
       "      <th>22</th>\n",
       "      <td>06.27.22-cell9_0001_C002T001</td>\n",
       "      <td>female</td>\n",
       "      <td>10</td>\n",
       "      <td>92.979</td>\n",
       "      <td>92.853</td>\n",
       "      <td>92.094</td>\n",
       "      <td>94.533</td>\n",
       "      <td>0.694</td>\n",
       "      <td>0.219</td>\n",
       "    </tr>\n",
       "    <tr>\n",
       "      <th>23</th>\n",
       "      <td>07.18.22-cell02_0002_C002T001</td>\n",
       "      <td>unknown</td>\n",
       "      <td>8</td>\n",
       "      <td>97.509</td>\n",
       "      <td>97.539</td>\n",
       "      <td>96.847</td>\n",
       "      <td>98.110</td>\n",
       "      <td>0.383</td>\n",
       "      <td>0.135</td>\n",
       "    </tr>\n",
       "    <tr>\n",
       "      <th>24</th>\n",
       "      <td>07.18.22-cell03_0002_C002T001</td>\n",
       "      <td>female</td>\n",
       "      <td>10</td>\n",
       "      <td>93.420</td>\n",
       "      <td>93.762</td>\n",
       "      <td>91.685</td>\n",
       "      <td>94.713</td>\n",
       "      <td>1.015</td>\n",
       "      <td>0.321</td>\n",
       "    </tr>\n",
       "    <tr>\n",
       "      <th>25</th>\n",
       "      <td>07.18.22-cell04_0001_C002T001</td>\n",
       "      <td>male</td>\n",
       "      <td>10</td>\n",
       "      <td>97.955</td>\n",
       "      <td>97.898</td>\n",
       "      <td>97.503</td>\n",
       "      <td>98.549</td>\n",
       "      <td>0.366</td>\n",
       "      <td>0.116</td>\n",
       "    </tr>\n",
       "    <tr>\n",
       "      <th>26</th>\n",
       "      <td>07.18.22-cell05_0001_C002T001</td>\n",
       "      <td>unknown</td>\n",
       "      <td>11</td>\n",
       "      <td>95.082</td>\n",
       "      <td>95.110</td>\n",
       "      <td>93.938</td>\n",
       "      <td>96.096</td>\n",
       "      <td>0.597</td>\n",
       "      <td>0.180</td>\n",
       "    </tr>\n",
       "    <tr>\n",
       "      <th>27</th>\n",
       "      <td>07.18.22-cell07_0002_C002T001</td>\n",
       "      <td>female</td>\n",
       "      <td>10</td>\n",
       "      <td>83.732</td>\n",
       "      <td>84.562</td>\n",
       "      <td>72.301</td>\n",
       "      <td>86.774</td>\n",
       "      <td>4.195</td>\n",
       "      <td>1.326</td>\n",
       "    </tr>\n",
       "    <tr>\n",
       "      <th>28</th>\n",
       "      <td>07.26.22-Cell 02_C002T001</td>\n",
       "      <td>female</td>\n",
       "      <td>7</td>\n",
       "      <td>91.972</td>\n",
       "      <td>91.212</td>\n",
       "      <td>90.859</td>\n",
       "      <td>95.021</td>\n",
       "      <td>1.475</td>\n",
       "      <td>0.557</td>\n",
       "    </tr>\n",
       "    <tr>\n",
       "      <th>29</th>\n",
       "      <td>07.26.22-Cell 03_C002T001</td>\n",
       "      <td>male</td>\n",
       "      <td>8</td>\n",
       "      <td>94.244</td>\n",
       "      <td>94.301</td>\n",
       "      <td>93.142</td>\n",
       "      <td>94.819</td>\n",
       "      <td>0.507</td>\n",
       "      <td>0.179</td>\n",
       "    </tr>\n",
       "    <tr>\n",
       "      <th>30</th>\n",
       "      <td>07.26.22-Cell 06_C002T001</td>\n",
       "      <td>unknown</td>\n",
       "      <td>10</td>\n",
       "      <td>93.710</td>\n",
       "      <td>92.866</td>\n",
       "      <td>92.199</td>\n",
       "      <td>96.995</td>\n",
       "      <td>1.701</td>\n",
       "      <td>0.538</td>\n",
       "    </tr>\n",
       "    <tr>\n",
       "      <th>31</th>\n",
       "      <td>09.08.22-cell03_C002T001</td>\n",
       "      <td>female</td>\n",
       "      <td>8</td>\n",
       "      <td>71.056</td>\n",
       "      <td>71.035</td>\n",
       "      <td>68.829</td>\n",
       "      <td>73.384</td>\n",
       "      <td>1.421</td>\n",
       "      <td>0.502</td>\n",
       "    </tr>\n",
       "    <tr>\n",
       "      <th>32</th>\n",
       "      <td>09.08.22-cell04_C002T001</td>\n",
       "      <td>male</td>\n",
       "      <td>9</td>\n",
       "      <td>78.137</td>\n",
       "      <td>76.692</td>\n",
       "      <td>71.181</td>\n",
       "      <td>85.048</td>\n",
       "      <td>5.263</td>\n",
       "      <td>1.754</td>\n",
       "    </tr>\n",
       "    <tr>\n",
       "      <th>33</th>\n",
       "      <td>09.08.22-cell05_C002T001</td>\n",
       "      <td>unknown</td>\n",
       "      <td>9</td>\n",
       "      <td>90.027</td>\n",
       "      <td>88.840</td>\n",
       "      <td>85.705</td>\n",
       "      <td>95.934</td>\n",
       "      <td>3.763</td>\n",
       "      <td>1.254</td>\n",
       "    </tr>\n",
       "    <tr>\n",
       "      <th>34</th>\n",
       "      <td>09.08.22-cell13_C002T001</td>\n",
       "      <td>unknown</td>\n",
       "      <td>9</td>\n",
       "      <td>71.046</td>\n",
       "      <td>68.663</td>\n",
       "      <td>67.718</td>\n",
       "      <td>80.166</td>\n",
       "      <td>5.068</td>\n",
       "      <td>1.689</td>\n",
       "    </tr>\n",
       "    <tr>\n",
       "      <th>35</th>\n",
       "      <td>09.13.22-cell 01_0004_C002T001</td>\n",
       "      <td>unknown</td>\n",
       "      <td>0</td>\n",
       "      <td>NaN</td>\n",
       "      <td>NaN</td>\n",
       "      <td>NaN</td>\n",
       "      <td>NaN</td>\n",
       "      <td>NaN</td>\n",
       "      <td>NaN</td>\n",
       "    </tr>\n",
       "    <tr>\n",
       "      <th>36</th>\n",
       "      <td>09.13.22-cell 06_C002T001</td>\n",
       "      <td>male</td>\n",
       "      <td>0</td>\n",
       "      <td>NaN</td>\n",
       "      <td>NaN</td>\n",
       "      <td>NaN</td>\n",
       "      <td>NaN</td>\n",
       "      <td>NaN</td>\n",
       "      <td>NaN</td>\n",
       "    </tr>\n",
       "    <tr>\n",
       "      <th>37</th>\n",
       "      <td>09.13.22-cell 07_0001_C002T001</td>\n",
       "      <td>male</td>\n",
       "      <td>9</td>\n",
       "      <td>93.153</td>\n",
       "      <td>93.116</td>\n",
       "      <td>92.829</td>\n",
       "      <td>93.625</td>\n",
       "      <td>0.256</td>\n",
       "      <td>0.085</td>\n",
       "    </tr>\n",
       "    <tr>\n",
       "      <th>38</th>\n",
       "      <td>10.12.22-cell 06_C002T001</td>\n",
       "      <td>female</td>\n",
       "      <td>0</td>\n",
       "      <td>NaN</td>\n",
       "      <td>NaN</td>\n",
       "      <td>NaN</td>\n",
       "      <td>NaN</td>\n",
       "      <td>NaN</td>\n",
       "      <td>NaN</td>\n",
       "    </tr>\n",
       "    <tr>\n",
       "      <th>39</th>\n",
       "      <td>11.17.22-Cell 02_C002T001</td>\n",
       "      <td>unknown</td>\n",
       "      <td>8</td>\n",
       "      <td>91.387</td>\n",
       "      <td>90.604</td>\n",
       "      <td>88.729</td>\n",
       "      <td>96.443</td>\n",
       "      <td>2.574</td>\n",
       "      <td>0.910</td>\n",
       "    </tr>\n",
       "  </tbody>\n",
       "</table>\n",
       "</div>"
      ],
      "text/plain": [
       "                       Unique Name      Sex k_diam_percent                  \\\n",
       "                                                     count    mean  median   \n",
       "0        06.03.22-cell 05_C002T001     male             10  98.064  98.058   \n",
       "1   06.03.22-cell 08_0002_C002T001     male              8  96.336  96.395   \n",
       "2    06.08.22-cell10_0001_C002T001  unknown              9  57.243  55.290   \n",
       "3         06.08.22-cell10_C002T001     male              9  89.836  88.664   \n",
       "4         06.08.22-cell11_C002T001     male              9  88.630  88.667   \n",
       "5         06.08.22-cell14_C002T001   female              8  86.368  86.415   \n",
       "6    06.08.22-cell15_0001_C002T001  unknown              9  81.993  90.870   \n",
       "7         06.08.22-cell17_C002T001   female              9  93.451  94.109   \n",
       "8         06.08.22-cell18_C002T001     male              0     NaN     NaN   \n",
       "9         06.08.22-cell19_C002T001   female             10  86.564  88.046   \n",
       "10   06.08.22-cell24_0002_C002T001   female             10  84.030  83.996   \n",
       "11  06.15.22-cell 16_0001_C002T001     male             11  96.552  96.558   \n",
       "12  06.15.22-cell 17_0002_C002T001     male              9  94.553  94.765   \n",
       "13  06.15.22-cell 19_0001_C002T001     male              9  89.011  88.235   \n",
       "14  06.15.22-cell 24_0002_C002T001     male              9  97.259  97.412   \n",
       "15  06.15.22-cell 25_0002_C002T001  unknown             10  95.274  95.340   \n",
       "16   06.27.22-cell10_0001_C002T001   female             10  81.358  80.169   \n",
       "17   06.27.22-cell11_0001_C002T001     male              9  91.279  91.404   \n",
       "18   06.27.22-cell12_0001_C002T001     male             10  93.739  93.768   \n",
       "19   06.27.22-cell14_0001_C002T001   female             10  57.774  57.198   \n",
       "20    06.27.22-cell5_0001_C002T001  unknown             11  92.383  92.533   \n",
       "21    06.27.22-cell7_0001_C002T001   female             11  95.236  96.479   \n",
       "22    06.27.22-cell9_0001_C002T001   female             10  92.979  92.853   \n",
       "23   07.18.22-cell02_0002_C002T001  unknown              8  97.509  97.539   \n",
       "24   07.18.22-cell03_0002_C002T001   female             10  93.420  93.762   \n",
       "25   07.18.22-cell04_0001_C002T001     male             10  97.955  97.898   \n",
       "26   07.18.22-cell05_0001_C002T001  unknown             11  95.082  95.110   \n",
       "27   07.18.22-cell07_0002_C002T001   female             10  83.732  84.562   \n",
       "28       07.26.22-Cell 02_C002T001   female              7  91.972  91.212   \n",
       "29       07.26.22-Cell 03_C002T001     male              8  94.244  94.301   \n",
       "30       07.26.22-Cell 06_C002T001  unknown             10  93.710  92.866   \n",
       "31        09.08.22-cell03_C002T001   female              8  71.056  71.035   \n",
       "32        09.08.22-cell04_C002T001     male              9  78.137  76.692   \n",
       "33        09.08.22-cell05_C002T001  unknown              9  90.027  88.840   \n",
       "34        09.08.22-cell13_C002T001  unknown              9  71.046  68.663   \n",
       "35  09.13.22-cell 01_0004_C002T001  unknown              0     NaN     NaN   \n",
       "36       09.13.22-cell 06_C002T001     male              0     NaN     NaN   \n",
       "37  09.13.22-cell 07_0001_C002T001     male              9  93.153  93.116   \n",
       "38       10.12.22-cell 06_C002T001   female              0     NaN     NaN   \n",
       "39       11.17.22-Cell 02_C002T001  unknown              8  91.387  90.604   \n",
       "\n",
       "                                   \n",
       "       min     max     std    sem  \n",
       "0   97.561  98.556   0.335  0.106  \n",
       "1   95.720  96.939   0.445  0.157  \n",
       "2   53.301  65.559   3.962  1.321  \n",
       "3   87.667  95.092   2.927  0.976  \n",
       "4   87.667  90.000   0.633  0.211  \n",
       "5   86.038  86.792   0.315  0.111  \n",
       "6   45.255  95.153  18.730  6.243  \n",
       "7   90.607  95.220   1.701  0.567  \n",
       "8      NaN     NaN     NaN    NaN  \n",
       "9   79.561  92.916   5.035  1.592  \n",
       "10  82.201  86.719   1.420  0.449  \n",
       "11  96.166  96.939   0.274  0.083  \n",
       "12  92.899  95.866   1.021  0.340  \n",
       "13  86.405  95.462   2.573  0.858  \n",
       "14  96.313  98.113   0.594  0.198  \n",
       "15  94.595  95.827   0.386  0.122  \n",
       "16  78.425  89.860   3.383  1.070  \n",
       "17  90.115  92.006   0.614  0.205  \n",
       "18  92.918  94.618   0.508  0.161  \n",
       "19  55.618  62.821   2.190  0.692  \n",
       "20  91.279  92.989   0.472  0.142  \n",
       "21  85.440  97.762   3.636  1.096  \n",
       "22  92.094  94.533   0.694  0.219  \n",
       "23  96.847  98.110   0.383  0.135  \n",
       "24  91.685  94.713   1.015  0.321  \n",
       "25  97.503  98.549   0.366  0.116  \n",
       "26  93.938  96.096   0.597  0.180  \n",
       "27  72.301  86.774   4.195  1.326  \n",
       "28  90.859  95.021   1.475  0.557  \n",
       "29  93.142  94.819   0.507  0.179  \n",
       "30  92.199  96.995   1.701  0.538  \n",
       "31  68.829  73.384   1.421  0.502  \n",
       "32  71.181  85.048   5.263  1.754  \n",
       "33  85.705  95.934   3.763  1.254  \n",
       "34  67.718  80.166   5.068  1.689  \n",
       "35     NaN     NaN     NaN    NaN  \n",
       "36     NaN     NaN     NaN    NaN  \n",
       "37  92.829  93.625   0.256  0.085  \n",
       "38     NaN     NaN     NaN    NaN  \n",
       "39  88.729  96.443   2.574  0.910  "
      ]
     },
     "metadata": {},
     "output_type": "display_data"
    }
   ],
   "source": [
    "stat = 'k_diam_percent'\n",
    "agg_func_math = {stat: [\"count\", \"mean\", \"median\", \"min\", \"max\", \"std\", \"sem\"]}\n",
    "\n",
    "dfSummary = (\n",
    "    dfMaster.groupby([\"Unique Name\", 'Sex'], as_index=False).agg(agg_func_math).round(3)\n",
    ")\n",
    "\n",
    "# flatten\n",
    "# dfSummary.columns = [\n",
    "#     \"_\".join(col).rstrip(\"_\") for col in dfSummary.columns.values\n",
    "# ]\n",
    "\n",
    "display(dfSummary)"
   ]
  },
  {
   "cell_type": "code",
   "execution_count": null,
   "id": "1b4fdac0",
   "metadata": {},
   "outputs": [],
   "source": []
  },
  {
   "cell_type": "markdown",
   "id": "b8ffe768",
   "metadata": {},
   "source": [
    "## Utilities (ignore)\n",
    "\n",
    "Load all analysis and resave csv files in a new folder."
   ]
  },
  {
   "cell_type": "code",
   "execution_count": 27,
   "id": "697503ad",
   "metadata": {},
   "outputs": [],
   "source": [
    "folderName = os.path.split(folderPath)[1]\n",
    "saveFolderPath = os.path.join(folderPath, f'{folderName}-analysis')\n",
    "\n",
    "if not os.path.isdir(saveFolderPath):\n",
    "    os.mkdir(saveFolderPath)\n",
    "\n",
    "for rowIdx, rowDict in ad._df.iterrows():\n",
    "    \n",
    "    if rowDict['Include'] == 'no':\n",
    "        continue\n",
    "\n",
    "    ba = ad.getAnalysis(rowIdx)\n",
    "    if not ba.isAnalyzed():\n",
    "        continue\n",
    "\n",
    "    # parent2 is the date folder\n",
    "    fileName = rowDict['File']  # corresponds to date folder\n",
    "    fileName, _ = os.path.splitext(fileName)\n",
    "    parent2 = rowDict['parent2']  # corresponds to date folder\n",
    "    \n",
    "    # ba.kymAnalysis.analyzeDiameter()\n",
    "\n",
    "    thisSaveFolder = os.path.join(saveFolderPath, parent2)\n",
    "    if not os.path.isdir(thisSaveFolder):\n",
    "        os.mkdir(thisSaveFolder)\n",
    "        \n",
    "    sanpyAnalysisFile = os.path.join(thisSaveFolder, fileName + '.csv')\n",
    "#     print(sanpyAnalysisFile)\n",
    "    ba.saveAnalysis_tocsv(sanpyAnalysisFile)\n",
    "\n",
    "    diamAnalysisFile = os.path.join(thisSaveFolder, fileName + '-diam.csv')\n",
    "#     print(diamAnalysisFile)\n",
    "    ba.kymAnalysis.saveAnalysis(diamAnalysisFile)\n",
    "    "
   ]
  },
  {
   "cell_type": "code",
   "execution_count": null,
   "id": "4c5320f8",
   "metadata": {},
   "outputs": [],
   "source": []
  }
 ],
 "metadata": {
  "kernelspec": {
   "display_name": "Python 3 (ipykernel)",
   "language": "python",
   "name": "python3"
  },
  "language_info": {
   "codemirror_mode": {
    "name": "ipython",
    "version": 3
   },
   "file_extension": ".py",
   "mimetype": "text/x-python",
   "name": "python",
   "nbconvert_exporter": "python",
   "pygments_lexer": "ipython3",
   "version": "3.9.16"
  }
 },
 "nbformat": 4,
 "nbformat_minor": 5
}
