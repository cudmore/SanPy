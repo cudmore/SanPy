{
 "cells": [
  {
   "cell_type": "code",
   "execution_count": null,
   "id": "b178e4d7",
   "metadata": {},
   "outputs": [],
   "source": []
  },
  {
   "cell_type": "code",
   "execution_count": 2,
   "id": "9bfd73a6",
   "metadata": {},
   "outputs": [],
   "source": [
    "import os\n",
    "import pandas as pd\n",
    "import matplotlib.pyplot as plt\n",
    "import seaborn as sns\n",
    "\n",
    "from IPython.display import display"
   ]
  },
  {
   "cell_type": "code",
   "execution_count": 3,
   "id": "6c1d8e23",
   "metadata": {},
   "outputs": [],
   "source": [
    "def myDespine(ax):\n",
    "    \"\"\"Remove right and top lines on plots.\n",
    "    \"\"\"\n",
    "    ax.spines['right'].set_visible(False)\n",
    "    ax.spines['top'].set_visible(False)\n",
    "    #ax.spines['left'].set_visible(False)\n",
    "    #ax.spines['bottom'].set_visible(False)\n"
   ]
  },
  {
   "cell_type": "code",
   "execution_count": 42,
   "id": "6bf291f6",
   "metadata": {},
   "outputs": [
    {
     "name": "stdout",
     "output_type": "stream",
     "text": [
      "kymSummary-jan-18\n"
     ]
    },
    {
     "data": {
      "text/html": [
       "<div>\n",
       "<style scoped>\n",
       "    .dataframe tbody tr th:only-of-type {\n",
       "        vertical-align: middle;\n",
       "    }\n",
       "\n",
       "    .dataframe tbody tr th {\n",
       "        vertical-align: top;\n",
       "    }\n",
       "\n",
       "    .dataframe thead th {\n",
       "        text-align: right;\n",
       "    }\n",
       "</style>\n",
       "<table border=\"1\" class=\"dataframe\">\n",
       "  <thead>\n",
       "    <tr style=\"text-align: right;\">\n",
       "      <th></th>\n",
       "      <th>Unnamed: 0</th>\n",
       "      <th>saveFolder</th>\n",
       "      <th>convertToMolar</th>\n",
       "      <th>condition</th>\n",
       "      <th>mvThreshold</th>\n",
       "      <th>meanPeak</th>\n",
       "      <th>meanPeakTime</th>\n",
       "      <th>varPeak</th>\n",
       "      <th>varPeakTime</th>\n",
       "      <th>var_at_meanPeakTime</th>\n",
       "      <th>percentChangeInPeakVal</th>\n",
       "      <th>numSpikes</th>\n",
       "      <th>file</th>\n",
       "      <th>kd</th>\n",
       "      <th>caRest</th>\n",
       "      <th>startMetaSec</th>\n",
       "      <th>stopMetaSec</th>\n",
       "      <th>LFS eval</th>\n",
       "    </tr>\n",
       "  </thead>\n",
       "  <tbody>\n",
       "    <tr>\n",
       "      <th>0</th>\n",
       "      <td>0</td>\n",
       "      <td>rabbit-molar-jan-18-2022</td>\n",
       "      <td>True</td>\n",
       "      <td>Control</td>\n",
       "      <td>2.56</td>\n",
       "      <td>928.242929</td>\n",
       "      <td>0.134010</td>\n",
       "      <td>7725.409668</td>\n",
       "      <td>0.030631</td>\n",
       "      <td>2822.976213</td>\n",
       "      <td>98.0</td>\n",
       "      <td>5</td>\n",
       "      <td>1Hz_ctrl.tif</td>\n",
       "      <td>1200</td>\n",
       "      <td>125</td>\n",
       "      <td>0</td>\n",
       "      <td>0.8</td>\n",
       "      <td>Reject</td>\n",
       "    </tr>\n",
       "    <tr>\n",
       "      <th>1</th>\n",
       "      <td>1</td>\n",
       "      <td>rabbit-molar-jan-18-2022</td>\n",
       "      <td>True</td>\n",
       "      <td>Control</td>\n",
       "      <td>1.44</td>\n",
       "      <td>299.945916</td>\n",
       "      <td>0.303038</td>\n",
       "      <td>2815.094029</td>\n",
       "      <td>0.130475</td>\n",
       "      <td>1578.325445</td>\n",
       "      <td>83.0</td>\n",
       "      <td>9</td>\n",
       "      <td>1Hz_ctrl_0001.tif</td>\n",
       "      <td>1200</td>\n",
       "      <td>125</td>\n",
       "      <td>0</td>\n",
       "      <td>0.8</td>\n",
       "      <td>Reject</td>\n",
       "    </tr>\n",
       "    <tr>\n",
       "      <th>2</th>\n",
       "      <td>2</td>\n",
       "      <td>rabbit-molar-jan-18-2022</td>\n",
       "      <td>True</td>\n",
       "      <td>Control</td>\n",
       "      <td>1.28</td>\n",
       "      <td>269.857815</td>\n",
       "      <td>0.461037</td>\n",
       "      <td>334.507705</td>\n",
       "      <td>0.115259</td>\n",
       "      <td>98.409116</td>\n",
       "      <td>107.0</td>\n",
       "      <td>11</td>\n",
       "      <td>2.5Hz_ctrl_0004.tif</td>\n",
       "      <td>1200</td>\n",
       "      <td>125</td>\n",
       "      <td>0</td>\n",
       "      <td>0.8</td>\n",
       "      <td>Reject</td>\n",
       "    </tr>\n",
       "    <tr>\n",
       "      <th>3</th>\n",
       "      <td>3</td>\n",
       "      <td>rabbit-molar-jan-18-2022</td>\n",
       "      <td>True</td>\n",
       "      <td>Control</td>\n",
       "      <td>1.50</td>\n",
       "      <td>486.712215</td>\n",
       "      <td>0.102839</td>\n",
       "      <td>585.903737</td>\n",
       "      <td>0.072368</td>\n",
       "      <td>518.832736</td>\n",
       "      <td>89.0</td>\n",
       "      <td>13</td>\n",
       "      <td>2.5Hz_ctrl_0005.tif</td>\n",
       "      <td>1200</td>\n",
       "      <td>125</td>\n",
       "      <td>0</td>\n",
       "      <td>0.8</td>\n",
       "      <td>Accept</td>\n",
       "    </tr>\n",
       "    <tr>\n",
       "      <th>4</th>\n",
       "      <td>4</td>\n",
       "      <td>rabbit-molar-jan-18-2022</td>\n",
       "      <td>True</td>\n",
       "      <td>Control</td>\n",
       "      <td>1.41</td>\n",
       "      <td>463.911191</td>\n",
       "      <td>0.180896</td>\n",
       "      <td>661.554697</td>\n",
       "      <td>0.246327</td>\n",
       "      <td>483.417085</td>\n",
       "      <td>87.0</td>\n",
       "      <td>14</td>\n",
       "      <td>2.5Hz_ctrl_0006.tif</td>\n",
       "      <td>1200</td>\n",
       "      <td>125</td>\n",
       "      <td>0</td>\n",
       "      <td>0.8</td>\n",
       "      <td>Reject</td>\n",
       "    </tr>\n",
       "    <tr>\n",
       "      <th>5</th>\n",
       "      <td>5</td>\n",
       "      <td>rabbit-molar-jan-18-2022</td>\n",
       "      <td>True</td>\n",
       "      <td>Control</td>\n",
       "      <td>1.30</td>\n",
       "      <td>337.371614</td>\n",
       "      <td>0.223376</td>\n",
       "      <td>549.787194</td>\n",
       "      <td>0.063822</td>\n",
       "      <td>133.314811</td>\n",
       "      <td>98.0</td>\n",
       "      <td>13</td>\n",
       "      <td>2.5Hz_ctrl_0007.tif</td>\n",
       "      <td>1200</td>\n",
       "      <td>125</td>\n",
       "      <td>0</td>\n",
       "      <td>0.8</td>\n",
       "      <td>Reject</td>\n",
       "    </tr>\n",
       "    <tr>\n",
       "      <th>6</th>\n",
       "      <td>6</td>\n",
       "      <td>rabbit-molar-jan-18-2022</td>\n",
       "      <td>True</td>\n",
       "      <td>Control</td>\n",
       "      <td>1.51</td>\n",
       "      <td>454.821500</td>\n",
       "      <td>0.245415</td>\n",
       "      <td>1378.027156</td>\n",
       "      <td>0.061354</td>\n",
       "      <td>121.520823</td>\n",
       "      <td>93.0</td>\n",
       "      <td>8</td>\n",
       "      <td>2.5Hz_ctrl_0009.tif</td>\n",
       "      <td>1200</td>\n",
       "      <td>125</td>\n",
       "      <td>0</td>\n",
       "      <td>0.8</td>\n",
       "      <td>Accept</td>\n",
       "    </tr>\n",
       "    <tr>\n",
       "      <th>7</th>\n",
       "      <td>7</td>\n",
       "      <td>rabbit-molar-jan-18-2022</td>\n",
       "      <td>True</td>\n",
       "      <td>Control</td>\n",
       "      <td>1.60</td>\n",
       "      <td>393.214309</td>\n",
       "      <td>0.176647</td>\n",
       "      <td>701.728972</td>\n",
       "      <td>0.088323</td>\n",
       "      <td>306.618431</td>\n",
       "      <td>94.0</td>\n",
       "      <td>7</td>\n",
       "      <td>2.5Hz_ctrl_0010.tif</td>\n",
       "      <td>1200</td>\n",
       "      <td>125</td>\n",
       "      <td>0</td>\n",
       "      <td>0.8</td>\n",
       "      <td>Reject</td>\n",
       "    </tr>\n",
       "    <tr>\n",
       "      <th>8</th>\n",
       "      <td>8</td>\n",
       "      <td>rabbit-molar-jan-18-2022</td>\n",
       "      <td>True</td>\n",
       "      <td>Control</td>\n",
       "      <td>1.80</td>\n",
       "      <td>520.605727</td>\n",
       "      <td>0.254076</td>\n",
       "      <td>14589.893446</td>\n",
       "      <td>0.070359</td>\n",
       "      <td>2370.375055</td>\n",
       "      <td>94.0</td>\n",
       "      <td>7</td>\n",
       "      <td>2.5Hz_ctrl_0011.tif</td>\n",
       "      <td>1200</td>\n",
       "      <td>125</td>\n",
       "      <td>0</td>\n",
       "      <td>0.8</td>\n",
       "      <td>Reject</td>\n",
       "    </tr>\n",
       "    <tr>\n",
       "      <th>9</th>\n",
       "      <td>9</td>\n",
       "      <td>rabbit-molar-jan-18-2022</td>\n",
       "      <td>True</td>\n",
       "      <td>Control</td>\n",
       "      <td>1.41</td>\n",
       "      <td>482.975037</td>\n",
       "      <td>0.168767</td>\n",
       "      <td>1053.028099</td>\n",
       "      <td>0.062371</td>\n",
       "      <td>852.222657</td>\n",
       "      <td>84.0</td>\n",
       "      <td>13</td>\n",
       "      <td>2.5Hz_ctrl_0012.tif</td>\n",
       "      <td>1200</td>\n",
       "      <td>125</td>\n",
       "      <td>0</td>\n",
       "      <td>0.8</td>\n",
       "      <td>Accept</td>\n",
       "    </tr>\n",
       "    <tr>\n",
       "      <th>10</th>\n",
       "      <td>10</td>\n",
       "      <td>rabbit-molar-jan-18-2022</td>\n",
       "      <td>True</td>\n",
       "      <td>Control</td>\n",
       "      <td>1.43</td>\n",
       "      <td>375.009968</td>\n",
       "      <td>0.333453</td>\n",
       "      <td>3589.398867</td>\n",
       "      <td>0.111151</td>\n",
       "      <td>37.962772</td>\n",
       "      <td>94.0</td>\n",
       "      <td>9</td>\n",
       "      <td>2.5Hz_ctrl_0015.tif</td>\n",
       "      <td>1200</td>\n",
       "      <td>125</td>\n",
       "      <td>0</td>\n",
       "      <td>0.8</td>\n",
       "      <td>Reject</td>\n",
       "    </tr>\n",
       "    <tr>\n",
       "      <th>11</th>\n",
       "      <td>11</td>\n",
       "      <td>rabbit-molar-jan-18-2022</td>\n",
       "      <td>True</td>\n",
       "      <td>Control</td>\n",
       "      <td>1.24</td>\n",
       "      <td>406.625340</td>\n",
       "      <td>0.242169</td>\n",
       "      <td>996.833329</td>\n",
       "      <td>0.127457</td>\n",
       "      <td>336.354846</td>\n",
       "      <td>96.0</td>\n",
       "      <td>6</td>\n",
       "      <td>2.5Hz_ctrl_0016.tif</td>\n",
       "      <td>1200</td>\n",
       "      <td>125</td>\n",
       "      <td>0</td>\n",
       "      <td>0.8</td>\n",
       "      <td>Reject</td>\n",
       "    </tr>\n",
       "    <tr>\n",
       "      <th>12</th>\n",
       "      <td>12</td>\n",
       "      <td>rabbit-molar-jan-18-2022</td>\n",
       "      <td>True</td>\n",
       "      <td>Control</td>\n",
       "      <td>1.25</td>\n",
       "      <td>372.579516</td>\n",
       "      <td>0.252365</td>\n",
       "      <td>214.641391</td>\n",
       "      <td>0.163145</td>\n",
       "      <td>62.766696</td>\n",
       "      <td>95.0</td>\n",
       "      <td>9</td>\n",
       "      <td>2.5Hz_ctrl_0017.tif</td>\n",
       "      <td>1200</td>\n",
       "      <td>125</td>\n",
       "      <td>0</td>\n",
       "      <td>0.8</td>\n",
       "      <td>Accept</td>\n",
       "    </tr>\n",
       "    <tr>\n",
       "      <th>13</th>\n",
       "      <td>13</td>\n",
       "      <td>rabbit-molar-jan-18-2022</td>\n",
       "      <td>True</td>\n",
       "      <td>Control</td>\n",
       "      <td>1.49</td>\n",
       "      <td>432.032827</td>\n",
       "      <td>0.307299</td>\n",
       "      <td>10871.978146</td>\n",
       "      <td>0.094805</td>\n",
       "      <td>1481.475588</td>\n",
       "      <td>81.0</td>\n",
       "      <td>7</td>\n",
       "      <td>2.5Hz_ctrl_0018.tif</td>\n",
       "      <td>1200</td>\n",
       "      <td>125</td>\n",
       "      <td>0</td>\n",
       "      <td>0.8</td>\n",
       "      <td>Reject</td>\n",
       "    </tr>\n",
       "    <tr>\n",
       "      <th>14</th>\n",
       "      <td>14</td>\n",
       "      <td>rabbit-molar-jan-18-2022</td>\n",
       "      <td>True</td>\n",
       "      <td>Control</td>\n",
       "      <td>1.59</td>\n",
       "      <td>440.817494</td>\n",
       "      <td>0.287685</td>\n",
       "      <td>6059.886764</td>\n",
       "      <td>0.101343</td>\n",
       "      <td>2067.117897</td>\n",
       "      <td>99.0</td>\n",
       "      <td>9</td>\n",
       "      <td>2.5Hz_ctrl_0019.tif</td>\n",
       "      <td>1200</td>\n",
       "      <td>125</td>\n",
       "      <td>0</td>\n",
       "      <td>0.8</td>\n",
       "      <td>Reject</td>\n",
       "    </tr>\n",
       "    <tr>\n",
       "      <th>15</th>\n",
       "      <td>15</td>\n",
       "      <td>rabbit-molar-jan-18-2022</td>\n",
       "      <td>True</td>\n",
       "      <td>Control</td>\n",
       "      <td>1.45</td>\n",
       "      <td>531.214385</td>\n",
       "      <td>0.183032</td>\n",
       "      <td>3989.441750</td>\n",
       "      <td>0.046655</td>\n",
       "      <td>284.571443</td>\n",
       "      <td>102.0</td>\n",
       "      <td>12</td>\n",
       "      <td>2.5Hz_ctrl_0020.tif</td>\n",
       "      <td>1200</td>\n",
       "      <td>125</td>\n",
       "      <td>0</td>\n",
       "      <td>0.8</td>\n",
       "      <td>Reject</td>\n",
       "    </tr>\n",
       "    <tr>\n",
       "      <th>16</th>\n",
       "      <td>16</td>\n",
       "      <td>rabbit-molar-jan-18-2022</td>\n",
       "      <td>True</td>\n",
       "      <td>Control</td>\n",
       "      <td>1.27</td>\n",
       "      <td>420.274698</td>\n",
       "      <td>0.251220</td>\n",
       "      <td>3349.189945</td>\n",
       "      <td>0.100488</td>\n",
       "      <td>370.181756</td>\n",
       "      <td>87.0</td>\n",
       "      <td>13</td>\n",
       "      <td>2.5Hz_ctrl_0021.tif</td>\n",
       "      <td>1200</td>\n",
       "      <td>125</td>\n",
       "      <td>0</td>\n",
       "      <td>0.8</td>\n",
       "      <td>Reject</td>\n",
       "    </tr>\n",
       "    <tr>\n",
       "      <th>17</th>\n",
       "      <td>17</td>\n",
       "      <td>rabbit-molar-jan-18-2022</td>\n",
       "      <td>True</td>\n",
       "      <td>Control</td>\n",
       "      <td>1.32</td>\n",
       "      <td>372.947057</td>\n",
       "      <td>0.208887</td>\n",
       "      <td>3818.737389</td>\n",
       "      <td>0.070752</td>\n",
       "      <td>523.469597</td>\n",
       "      <td>87.0</td>\n",
       "      <td>9</td>\n",
       "      <td>2.5Hz_ctrl_0022.tif</td>\n",
       "      <td>1200</td>\n",
       "      <td>125</td>\n",
       "      <td>0</td>\n",
       "      <td>0.8</td>\n",
       "      <td>Reject</td>\n",
       "    </tr>\n",
       "    <tr>\n",
       "      <th>18</th>\n",
       "      <td>18</td>\n",
       "      <td>rabbit-molar-jan-18-2022</td>\n",
       "      <td>True</td>\n",
       "      <td>Control</td>\n",
       "      <td>1.62</td>\n",
       "      <td>369.141881</td>\n",
       "      <td>0.303223</td>\n",
       "      <td>3254.058397</td>\n",
       "      <td>0.094336</td>\n",
       "      <td>888.347865</td>\n",
       "      <td>90.0</td>\n",
       "      <td>10</td>\n",
       "      <td>2.5Hz_ctrl_0023.tif</td>\n",
       "      <td>1200</td>\n",
       "      <td>125</td>\n",
       "      <td>0</td>\n",
       "      <td>0.8</td>\n",
       "      <td>Reject</td>\n",
       "    </tr>\n",
       "    <tr>\n",
       "      <th>19</th>\n",
       "      <td>19</td>\n",
       "      <td>rabbit-molar-jan-18-2022</td>\n",
       "      <td>True</td>\n",
       "      <td>Control</td>\n",
       "      <td>1.30</td>\n",
       "      <td>253.953876</td>\n",
       "      <td>0.148783</td>\n",
       "      <td>258.177229</td>\n",
       "      <td>0.435463</td>\n",
       "      <td>182.023032</td>\n",
       "      <td>91.0</td>\n",
       "      <td>13</td>\n",
       "      <td>2.5Hz_ctrl_0024.tif</td>\n",
       "      <td>1200</td>\n",
       "      <td>125</td>\n",
       "      <td>0</td>\n",
       "      <td>0.8</td>\n",
       "      <td>Reject</td>\n",
       "    </tr>\n",
       "    <tr>\n",
       "      <th>20</th>\n",
       "      <td>20</td>\n",
       "      <td>rabbit-molar-jan-18-2022</td>\n",
       "      <td>True</td>\n",
       "      <td>Control</td>\n",
       "      <td>1.26</td>\n",
       "      <td>212.762837</td>\n",
       "      <td>0.192329</td>\n",
       "      <td>1286.798902</td>\n",
       "      <td>0.794720</td>\n",
       "      <td>873.038629</td>\n",
       "      <td>94.0</td>\n",
       "      <td>15</td>\n",
       "      <td>2.5Hz_ctrl_0025.tif</td>\n",
       "      <td>1200</td>\n",
       "      <td>125</td>\n",
       "      <td>0</td>\n",
       "      <td>0.8</td>\n",
       "      <td>Reject</td>\n",
       "    </tr>\n",
       "    <tr>\n",
       "      <th>21</th>\n",
       "      <td>21</td>\n",
       "      <td>rabbit-molar-jan-18-2022</td>\n",
       "      <td>True</td>\n",
       "      <td>Control</td>\n",
       "      <td>1.65</td>\n",
       "      <td>487.168002</td>\n",
       "      <td>0.180903</td>\n",
       "      <td>11504.331720</td>\n",
       "      <td>0.055915</td>\n",
       "      <td>3503.959169</td>\n",
       "      <td>74.0</td>\n",
       "      <td>8</td>\n",
       "      <td>2.5Hz_ctrl_0026.tif</td>\n",
       "      <td>1200</td>\n",
       "      <td>125</td>\n",
       "      <td>0</td>\n",
       "      <td>0.8</td>\n",
       "      <td>Reject</td>\n",
       "    </tr>\n",
       "    <tr>\n",
       "      <th>22</th>\n",
       "      <td>22</td>\n",
       "      <td>rabbit-molar-jan-18-2022</td>\n",
       "      <td>True</td>\n",
       "      <td>Control</td>\n",
       "      <td>1.58</td>\n",
       "      <td>482.876579</td>\n",
       "      <td>0.180903</td>\n",
       "      <td>9495.033623</td>\n",
       "      <td>0.088807</td>\n",
       "      <td>4710.127841</td>\n",
       "      <td>98.0</td>\n",
       "      <td>8</td>\n",
       "      <td>2.5Hz_ctrl_0027.tif</td>\n",
       "      <td>1200</td>\n",
       "      <td>125</td>\n",
       "      <td>0</td>\n",
       "      <td>0.8</td>\n",
       "      <td>Reject</td>\n",
       "    </tr>\n",
       "    <tr>\n",
       "      <th>23</th>\n",
       "      <td>23</td>\n",
       "      <td>rabbit-molar-jan-18-2022</td>\n",
       "      <td>True</td>\n",
       "      <td>Control</td>\n",
       "      <td>1.36</td>\n",
       "      <td>411.235680</td>\n",
       "      <td>0.196434</td>\n",
       "      <td>380.843971</td>\n",
       "      <td>0.048106</td>\n",
       "      <td>166.333125</td>\n",
       "      <td>91.0</td>\n",
       "      <td>10</td>\n",
       "      <td>2.5Hz_ctrl_0028.tif</td>\n",
       "      <td>1200</td>\n",
       "      <td>125</td>\n",
       "      <td>0</td>\n",
       "      <td>0.8</td>\n",
       "      <td>Accept</td>\n",
       "    </tr>\n",
       "    <tr>\n",
       "      <th>24</th>\n",
       "      <td>24</td>\n",
       "      <td>rabbit-molar-jan-18-2022</td>\n",
       "      <td>True</td>\n",
       "      <td>Control</td>\n",
       "      <td>1.23</td>\n",
       "      <td>351.522228</td>\n",
       "      <td>0.300664</td>\n",
       "      <td>1289.669768</td>\n",
       "      <td>0.112248</td>\n",
       "      <td>281.842773</td>\n",
       "      <td>89.0</td>\n",
       "      <td>10</td>\n",
       "      <td>2.5Hz_ctrl_0029.tif</td>\n",
       "      <td>1200</td>\n",
       "      <td>125</td>\n",
       "      <td>0</td>\n",
       "      <td>0.8</td>\n",
       "      <td>Reject</td>\n",
       "    </tr>\n",
       "    <tr>\n",
       "      <th>25</th>\n",
       "      <td>25</td>\n",
       "      <td>rabbit-molar-jan-18-2022</td>\n",
       "      <td>True</td>\n",
       "      <td>Control</td>\n",
       "      <td>1.53</td>\n",
       "      <td>507.730505</td>\n",
       "      <td>0.404567</td>\n",
       "      <td>1330.856034</td>\n",
       "      <td>0.183894</td>\n",
       "      <td>564.074692</td>\n",
       "      <td>NaN</td>\n",
       "      <td>2</td>\n",
       "      <td>2.5Hz_ctrl_0030.tif</td>\n",
       "      <td>1200</td>\n",
       "      <td>125</td>\n",
       "      <td>0</td>\n",
       "      <td>0.8</td>\n",
       "      <td>Reject</td>\n",
       "    </tr>\n",
       "    <tr>\n",
       "      <th>26</th>\n",
       "      <td>26</td>\n",
       "      <td>rabbit-molar-jan-18-2022</td>\n",
       "      <td>True</td>\n",
       "      <td>Control</td>\n",
       "      <td>1.12</td>\n",
       "      <td>208.949267</td>\n",
       "      <td>0.174874</td>\n",
       "      <td>31.427233</td>\n",
       "      <td>0.431832</td>\n",
       "      <td>11.103337</td>\n",
       "      <td>97.0</td>\n",
       "      <td>8</td>\n",
       "      <td>2.5Hz_ctrl_0031.tif</td>\n",
       "      <td>1200</td>\n",
       "      <td>125</td>\n",
       "      <td>0</td>\n",
       "      <td>0.8</td>\n",
       "      <td>Reject</td>\n",
       "    </tr>\n",
       "    <tr>\n",
       "      <th>27</th>\n",
       "      <td>27</td>\n",
       "      <td>rabbit-molar-jan-18-2022</td>\n",
       "      <td>True</td>\n",
       "      <td>Control</td>\n",
       "      <td>1.23</td>\n",
       "      <td>250.658584</td>\n",
       "      <td>0.092656</td>\n",
       "      <td>67.203181</td>\n",
       "      <td>0.797503</td>\n",
       "      <td>0.001917</td>\n",
       "      <td>100.0</td>\n",
       "      <td>11</td>\n",
       "      <td>2.5Hz_ctrl_0033.tif</td>\n",
       "      <td>1200</td>\n",
       "      <td>125</td>\n",
       "      <td>0</td>\n",
       "      <td>0.8</td>\n",
       "      <td>Reject</td>\n",
       "    </tr>\n",
       "    <tr>\n",
       "      <th>28</th>\n",
       "      <td>28</td>\n",
       "      <td>rabbit-molar-jan-18-2022</td>\n",
       "      <td>True</td>\n",
       "      <td>Control</td>\n",
       "      <td>1.13</td>\n",
       "      <td>312.784174</td>\n",
       "      <td>0.135675</td>\n",
       "      <td>100.950250</td>\n",
       "      <td>0.099274</td>\n",
       "      <td>70.349090</td>\n",
       "      <td>93.0</td>\n",
       "      <td>11</td>\n",
       "      <td>2.5Hz_ctrl_0034.tif</td>\n",
       "      <td>1200</td>\n",
       "      <td>125</td>\n",
       "      <td>0</td>\n",
       "      <td>0.8</td>\n",
       "      <td>Reject</td>\n",
       "    </tr>\n",
       "    <tr>\n",
       "      <th>29</th>\n",
       "      <td>29</td>\n",
       "      <td>rabbit-molar-jan-18-2022</td>\n",
       "      <td>True</td>\n",
       "      <td>Control</td>\n",
       "      <td>1.34</td>\n",
       "      <td>644.342725</td>\n",
       "      <td>0.182738</td>\n",
       "      <td>969.127675</td>\n",
       "      <td>0.108655</td>\n",
       "      <td>343.351356</td>\n",
       "      <td>100.0</td>\n",
       "      <td>4</td>\n",
       "      <td>2.5Hz_ctrl_0035.tif</td>\n",
       "      <td>1200</td>\n",
       "      <td>125</td>\n",
       "      <td>0</td>\n",
       "      <td>0.8</td>\n",
       "      <td>Reject</td>\n",
       "    </tr>\n",
       "    <tr>\n",
       "      <th>30</th>\n",
       "      <td>30</td>\n",
       "      <td>rabbit-molar-jan-18-2022</td>\n",
       "      <td>True</td>\n",
       "      <td>TG</td>\n",
       "      <td>1.10</td>\n",
       "      <td>162.094455</td>\n",
       "      <td>0.596955</td>\n",
       "      <td>143.064837</td>\n",
       "      <td>0.795941</td>\n",
       "      <td>67.514272</td>\n",
       "      <td>91.0</td>\n",
       "      <td>6</td>\n",
       "      <td>2.5Hz_thapsi.tif</td>\n",
       "      <td>1200</td>\n",
       "      <td>125</td>\n",
       "      <td>0</td>\n",
       "      <td>0.8</td>\n",
       "      <td>Reject</td>\n",
       "    </tr>\n",
       "    <tr>\n",
       "      <th>31</th>\n",
       "      <td>31</td>\n",
       "      <td>rabbit-molar-jan-18-2022</td>\n",
       "      <td>True</td>\n",
       "      <td>TG</td>\n",
       "      <td>1.16</td>\n",
       "      <td>187.948435</td>\n",
       "      <td>0.785651</td>\n",
       "      <td>42.931315</td>\n",
       "      <td>0.639358</td>\n",
       "      <td>7.465366</td>\n",
       "      <td>NaN</td>\n",
       "      <td>3</td>\n",
       "      <td>2.5Hz_thapsi_0003.tif</td>\n",
       "      <td>1200</td>\n",
       "      <td>125</td>\n",
       "      <td>0</td>\n",
       "      <td>0.8</td>\n",
       "      <td>Reject</td>\n",
       "    </tr>\n",
       "    <tr>\n",
       "      <th>32</th>\n",
       "      <td>32</td>\n",
       "      <td>rabbit-molar-jan-18-2022</td>\n",
       "      <td>True</td>\n",
       "      <td>TG</td>\n",
       "      <td>1.17</td>\n",
       "      <td>179.262195</td>\n",
       "      <td>0.378137</td>\n",
       "      <td>260.110044</td>\n",
       "      <td>0.766681</td>\n",
       "      <td>45.196325</td>\n",
       "      <td>91.0</td>\n",
       "      <td>6</td>\n",
       "      <td>2.5Hz_thapsi_0005.tif</td>\n",
       "      <td>1200</td>\n",
       "      <td>125</td>\n",
       "      <td>0</td>\n",
       "      <td>0.8</td>\n",
       "      <td>Reject</td>\n",
       "    </tr>\n",
       "    <tr>\n",
       "      <th>33</th>\n",
       "      <td>33</td>\n",
       "      <td>rabbit-molar-jan-18-2022</td>\n",
       "      <td>True</td>\n",
       "      <td>TG</td>\n",
       "      <td>1.12</td>\n",
       "      <td>188.372541</td>\n",
       "      <td>0.336668</td>\n",
       "      <td>82.530639</td>\n",
       "      <td>0.622411</td>\n",
       "      <td>26.065974</td>\n",
       "      <td>97.0</td>\n",
       "      <td>4</td>\n",
       "      <td>2.5Hz_thapsi_0006.tif</td>\n",
       "      <td>1200</td>\n",
       "      <td>125</td>\n",
       "      <td>0</td>\n",
       "      <td>0.8</td>\n",
       "      <td>Reject</td>\n",
       "    </tr>\n",
       "    <tr>\n",
       "      <th>34</th>\n",
       "      <td>34</td>\n",
       "      <td>rabbit-molar-jan-18-2022</td>\n",
       "      <td>True</td>\n",
       "      <td>TG</td>\n",
       "      <td>1.11</td>\n",
       "      <td>175.479251</td>\n",
       "      <td>0.715807</td>\n",
       "      <td>57.633002</td>\n",
       "      <td>0.796511</td>\n",
       "      <td>53.555754</td>\n",
       "      <td>95.0</td>\n",
       "      <td>5</td>\n",
       "      <td>2.5Hz_thapsi_0012.tif</td>\n",
       "      <td>1200</td>\n",
       "      <td>125</td>\n",
       "      <td>0</td>\n",
       "      <td>0.8</td>\n",
       "      <td>Reject</td>\n",
       "    </tr>\n",
       "    <tr>\n",
       "      <th>35</th>\n",
       "      <td>35</td>\n",
       "      <td>rabbit-molar-jan-18-2022</td>\n",
       "      <td>True</td>\n",
       "      <td>TG</td>\n",
       "      <td>1.09</td>\n",
       "      <td>163.849807</td>\n",
       "      <td>0.673701</td>\n",
       "      <td>246.186865</td>\n",
       "      <td>0.778966</td>\n",
       "      <td>146.050710</td>\n",
       "      <td>86.0</td>\n",
       "      <td>7</td>\n",
       "      <td>2.5Hz_thapsi_0013.tif</td>\n",
       "      <td>1200</td>\n",
       "      <td>125</td>\n",
       "      <td>0</td>\n",
       "      <td>0.8</td>\n",
       "      <td>Reject</td>\n",
       "    </tr>\n",
       "    <tr>\n",
       "      <th>36</th>\n",
       "      <td>36</td>\n",
       "      <td>rabbit-molar-jan-18-2022</td>\n",
       "      <td>True</td>\n",
       "      <td>TG</td>\n",
       "      <td>1.24</td>\n",
       "      <td>189.300530</td>\n",
       "      <td>0.150423</td>\n",
       "      <td>52.037812</td>\n",
       "      <td>0.377892</td>\n",
       "      <td>34.914535</td>\n",
       "      <td>95.0</td>\n",
       "      <td>5</td>\n",
       "      <td>2.5Hz_thapsi_0015.tif</td>\n",
       "      <td>1200</td>\n",
       "      <td>125</td>\n",
       "      <td>0</td>\n",
       "      <td>0.8</td>\n",
       "      <td>Reject</td>\n",
       "    </tr>\n",
       "    <tr>\n",
       "      <th>37</th>\n",
       "      <td>37</td>\n",
       "      <td>rabbit-molar-jan-18-2022</td>\n",
       "      <td>True</td>\n",
       "      <td>TG</td>\n",
       "      <td>1.21</td>\n",
       "      <td>179.517579</td>\n",
       "      <td>0.538754</td>\n",
       "      <td>312.704457</td>\n",
       "      <td>0.798624</td>\n",
       "      <td>74.392855</td>\n",
       "      <td>90.0</td>\n",
       "      <td>8</td>\n",
       "      <td>2.5Hz_thapsi_0018.tif</td>\n",
       "      <td>1200</td>\n",
       "      <td>125</td>\n",
       "      <td>0</td>\n",
       "      <td>0.8</td>\n",
       "      <td>Reject</td>\n",
       "    </tr>\n",
       "    <tr>\n",
       "      <th>38</th>\n",
       "      <td>38</td>\n",
       "      <td>rabbit-molar-jan-18-2022</td>\n",
       "      <td>True</td>\n",
       "      <td>TG</td>\n",
       "      <td>1.30</td>\n",
       "      <td>187.133573</td>\n",
       "      <td>0.440511</td>\n",
       "      <td>200.785442</td>\n",
       "      <td>0.579953</td>\n",
       "      <td>98.291573</td>\n",
       "      <td>87.0</td>\n",
       "      <td>8</td>\n",
       "      <td>2.5Hz_thapsi_0019.tif</td>\n",
       "      <td>1200</td>\n",
       "      <td>125</td>\n",
       "      <td>0</td>\n",
       "      <td>0.8</td>\n",
       "      <td>Reject</td>\n",
       "    </tr>\n",
       "    <tr>\n",
       "      <th>39</th>\n",
       "      <td>39</td>\n",
       "      <td>rabbit-molar-jan-18-2022</td>\n",
       "      <td>True</td>\n",
       "      <td>TG</td>\n",
       "      <td>1.08</td>\n",
       "      <td>158.453025</td>\n",
       "      <td>0.315120</td>\n",
       "      <td>16.762627</td>\n",
       "      <td>0.558440</td>\n",
       "      <td>9.187779</td>\n",
       "      <td>96.0</td>\n",
       "      <td>7</td>\n",
       "      <td>2.5Hz_thapsi_0021.tif</td>\n",
       "      <td>1200</td>\n",
       "      <td>125</td>\n",
       "      <td>0</td>\n",
       "      <td>0.8</td>\n",
       "      <td>Reject</td>\n",
       "    </tr>\n",
       "    <tr>\n",
       "      <th>40</th>\n",
       "      <td>40</td>\n",
       "      <td>rabbit-molar-jan-18-2022</td>\n",
       "      <td>True</td>\n",
       "      <td>TG</td>\n",
       "      <td>1.17</td>\n",
       "      <td>169.141147</td>\n",
       "      <td>0.635671</td>\n",
       "      <td>83.707024</td>\n",
       "      <td>0.797625</td>\n",
       "      <td>37.503240</td>\n",
       "      <td>90.0</td>\n",
       "      <td>10</td>\n",
       "      <td>2.5Hz_thapsi_0022.tif</td>\n",
       "      <td>1200</td>\n",
       "      <td>125</td>\n",
       "      <td>0</td>\n",
       "      <td>0.8</td>\n",
       "      <td>Reject</td>\n",
       "    </tr>\n",
       "    <tr>\n",
       "      <th>41</th>\n",
       "      <td>41</td>\n",
       "      <td>rabbit-molar-jan-18-2022</td>\n",
       "      <td>True</td>\n",
       "      <td>TG</td>\n",
       "      <td>1.17</td>\n",
       "      <td>173.915030</td>\n",
       "      <td>0.693505</td>\n",
       "      <td>273.881622</td>\n",
       "      <td>0.361508</td>\n",
       "      <td>170.318056</td>\n",
       "      <td>83.0</td>\n",
       "      <td>9</td>\n",
       "      <td>2.5Hz_thapsi_0023.tif</td>\n",
       "      <td>1200</td>\n",
       "      <td>125</td>\n",
       "      <td>0</td>\n",
       "      <td>0.8</td>\n",
       "      <td>Reject</td>\n",
       "    </tr>\n",
       "    <tr>\n",
       "      <th>42</th>\n",
       "      <td>42</td>\n",
       "      <td>rabbit-molar-jan-18-2022</td>\n",
       "      <td>True</td>\n",
       "      <td>TG</td>\n",
       "      <td>1.08</td>\n",
       "      <td>158.064109</td>\n",
       "      <td>0.675061</td>\n",
       "      <td>18.968786</td>\n",
       "      <td>0.778349</td>\n",
       "      <td>12.394480</td>\n",
       "      <td>92.0</td>\n",
       "      <td>10</td>\n",
       "      <td>2.5Hz_thapsi_0024.tif</td>\n",
       "      <td>1200</td>\n",
       "      <td>125</td>\n",
       "      <td>0</td>\n",
       "      <td>0.8</td>\n",
       "      <td>Accept</td>\n",
       "    </tr>\n",
       "    <tr>\n",
       "      <th>43</th>\n",
       "      <td>43</td>\n",
       "      <td>rabbit-molar-jan-18-2022</td>\n",
       "      <td>True</td>\n",
       "      <td>TG</td>\n",
       "      <td>1.16</td>\n",
       "      <td>167.380940</td>\n",
       "      <td>0.407441</td>\n",
       "      <td>21.495190</td>\n",
       "      <td>0.793439</td>\n",
       "      <td>5.545575</td>\n",
       "      <td>98.0</td>\n",
       "      <td>8</td>\n",
       "      <td>2.5Hz_thapsi_0025.tif</td>\n",
       "      <td>1200</td>\n",
       "      <td>125</td>\n",
       "      <td>0</td>\n",
       "      <td>0.8</td>\n",
       "      <td>Reject</td>\n",
       "    </tr>\n",
       "  </tbody>\n",
       "</table>\n",
       "</div>"
      ],
      "text/plain": [
       "    Unnamed: 0                saveFolder  convertToMolar condition  \\\n",
       "0            0  rabbit-molar-jan-18-2022            True   Control   \n",
       "1            1  rabbit-molar-jan-18-2022            True   Control   \n",
       "2            2  rabbit-molar-jan-18-2022            True   Control   \n",
       "3            3  rabbit-molar-jan-18-2022            True   Control   \n",
       "4            4  rabbit-molar-jan-18-2022            True   Control   \n",
       "5            5  rabbit-molar-jan-18-2022            True   Control   \n",
       "6            6  rabbit-molar-jan-18-2022            True   Control   \n",
       "7            7  rabbit-molar-jan-18-2022            True   Control   \n",
       "8            8  rabbit-molar-jan-18-2022            True   Control   \n",
       "9            9  rabbit-molar-jan-18-2022            True   Control   \n",
       "10          10  rabbit-molar-jan-18-2022            True   Control   \n",
       "11          11  rabbit-molar-jan-18-2022            True   Control   \n",
       "12          12  rabbit-molar-jan-18-2022            True   Control   \n",
       "13          13  rabbit-molar-jan-18-2022            True   Control   \n",
       "14          14  rabbit-molar-jan-18-2022            True   Control   \n",
       "15          15  rabbit-molar-jan-18-2022            True   Control   \n",
       "16          16  rabbit-molar-jan-18-2022            True   Control   \n",
       "17          17  rabbit-molar-jan-18-2022            True   Control   \n",
       "18          18  rabbit-molar-jan-18-2022            True   Control   \n",
       "19          19  rabbit-molar-jan-18-2022            True   Control   \n",
       "20          20  rabbit-molar-jan-18-2022            True   Control   \n",
       "21          21  rabbit-molar-jan-18-2022            True   Control   \n",
       "22          22  rabbit-molar-jan-18-2022            True   Control   \n",
       "23          23  rabbit-molar-jan-18-2022            True   Control   \n",
       "24          24  rabbit-molar-jan-18-2022            True   Control   \n",
       "25          25  rabbit-molar-jan-18-2022            True   Control   \n",
       "26          26  rabbit-molar-jan-18-2022            True   Control   \n",
       "27          27  rabbit-molar-jan-18-2022            True   Control   \n",
       "28          28  rabbit-molar-jan-18-2022            True   Control   \n",
       "29          29  rabbit-molar-jan-18-2022            True   Control   \n",
       "30          30  rabbit-molar-jan-18-2022            True        TG   \n",
       "31          31  rabbit-molar-jan-18-2022            True        TG   \n",
       "32          32  rabbit-molar-jan-18-2022            True        TG   \n",
       "33          33  rabbit-molar-jan-18-2022            True        TG   \n",
       "34          34  rabbit-molar-jan-18-2022            True        TG   \n",
       "35          35  rabbit-molar-jan-18-2022            True        TG   \n",
       "36          36  rabbit-molar-jan-18-2022            True        TG   \n",
       "37          37  rabbit-molar-jan-18-2022            True        TG   \n",
       "38          38  rabbit-molar-jan-18-2022            True        TG   \n",
       "39          39  rabbit-molar-jan-18-2022            True        TG   \n",
       "40          40  rabbit-molar-jan-18-2022            True        TG   \n",
       "41          41  rabbit-molar-jan-18-2022            True        TG   \n",
       "42          42  rabbit-molar-jan-18-2022            True        TG   \n",
       "43          43  rabbit-molar-jan-18-2022            True        TG   \n",
       "\n",
       "    mvThreshold    meanPeak  meanPeakTime       varPeak  varPeakTime  \\\n",
       "0          2.56  928.242929      0.134010   7725.409668     0.030631   \n",
       "1          1.44  299.945916      0.303038   2815.094029     0.130475   \n",
       "2          1.28  269.857815      0.461037    334.507705     0.115259   \n",
       "3          1.50  486.712215      0.102839    585.903737     0.072368   \n",
       "4          1.41  463.911191      0.180896    661.554697     0.246327   \n",
       "5          1.30  337.371614      0.223376    549.787194     0.063822   \n",
       "6          1.51  454.821500      0.245415   1378.027156     0.061354   \n",
       "7          1.60  393.214309      0.176647    701.728972     0.088323   \n",
       "8          1.80  520.605727      0.254076  14589.893446     0.070359   \n",
       "9          1.41  482.975037      0.168767   1053.028099     0.062371   \n",
       "10         1.43  375.009968      0.333453   3589.398867     0.111151   \n",
       "11         1.24  406.625340      0.242169    996.833329     0.127457   \n",
       "12         1.25  372.579516      0.252365    214.641391     0.163145   \n",
       "13         1.49  432.032827      0.307299  10871.978146     0.094805   \n",
       "14         1.59  440.817494      0.287685   6059.886764     0.101343   \n",
       "15         1.45  531.214385      0.183032   3989.441750     0.046655   \n",
       "16         1.27  420.274698      0.251220   3349.189945     0.100488   \n",
       "17         1.32  372.947057      0.208887   3818.737389     0.070752   \n",
       "18         1.62  369.141881      0.303223   3254.058397     0.094336   \n",
       "19         1.30  253.953876      0.148783    258.177229     0.435463   \n",
       "20         1.26  212.762837      0.192329   1286.798902     0.794720   \n",
       "21         1.65  487.168002      0.180903  11504.331720     0.055915   \n",
       "22         1.58  482.876579      0.180903   9495.033623     0.088807   \n",
       "23         1.36  411.235680      0.196434    380.843971     0.048106   \n",
       "24         1.23  351.522228      0.300664   1289.669768     0.112248   \n",
       "25         1.53  507.730505      0.404567   1330.856034     0.183894   \n",
       "26         1.12  208.949267      0.174874     31.427233     0.431832   \n",
       "27         1.23  250.658584      0.092656     67.203181     0.797503   \n",
       "28         1.13  312.784174      0.135675    100.950250     0.099274   \n",
       "29         1.34  644.342725      0.182738    969.127675     0.108655   \n",
       "30         1.10  162.094455      0.596955    143.064837     0.795941   \n",
       "31         1.16  187.948435      0.785651     42.931315     0.639358   \n",
       "32         1.17  179.262195      0.378137    260.110044     0.766681   \n",
       "33         1.12  188.372541      0.336668     82.530639     0.622411   \n",
       "34         1.11  175.479251      0.715807     57.633002     0.796511   \n",
       "35         1.09  163.849807      0.673701    246.186865     0.778966   \n",
       "36         1.24  189.300530      0.150423     52.037812     0.377892   \n",
       "37         1.21  179.517579      0.538754    312.704457     0.798624   \n",
       "38         1.30  187.133573      0.440511    200.785442     0.579953   \n",
       "39         1.08  158.453025      0.315120     16.762627     0.558440   \n",
       "40         1.17  169.141147      0.635671     83.707024     0.797625   \n",
       "41         1.17  173.915030      0.693505    273.881622     0.361508   \n",
       "42         1.08  158.064109      0.675061     18.968786     0.778349   \n",
       "43         1.16  167.380940      0.407441     21.495190     0.793439   \n",
       "\n",
       "    var_at_meanPeakTime  percentChangeInPeakVal  numSpikes  \\\n",
       "0           2822.976213                    98.0          5   \n",
       "1           1578.325445                    83.0          9   \n",
       "2             98.409116                   107.0         11   \n",
       "3            518.832736                    89.0         13   \n",
       "4            483.417085                    87.0         14   \n",
       "5            133.314811                    98.0         13   \n",
       "6            121.520823                    93.0          8   \n",
       "7            306.618431                    94.0          7   \n",
       "8           2370.375055                    94.0          7   \n",
       "9            852.222657                    84.0         13   \n",
       "10            37.962772                    94.0          9   \n",
       "11           336.354846                    96.0          6   \n",
       "12            62.766696                    95.0          9   \n",
       "13          1481.475588                    81.0          7   \n",
       "14          2067.117897                    99.0          9   \n",
       "15           284.571443                   102.0         12   \n",
       "16           370.181756                    87.0         13   \n",
       "17           523.469597                    87.0          9   \n",
       "18           888.347865                    90.0         10   \n",
       "19           182.023032                    91.0         13   \n",
       "20           873.038629                    94.0         15   \n",
       "21          3503.959169                    74.0          8   \n",
       "22          4710.127841                    98.0          8   \n",
       "23           166.333125                    91.0         10   \n",
       "24           281.842773                    89.0         10   \n",
       "25           564.074692                     NaN          2   \n",
       "26            11.103337                    97.0          8   \n",
       "27             0.001917                   100.0         11   \n",
       "28            70.349090                    93.0         11   \n",
       "29           343.351356                   100.0          4   \n",
       "30            67.514272                    91.0          6   \n",
       "31             7.465366                     NaN          3   \n",
       "32            45.196325                    91.0          6   \n",
       "33            26.065974                    97.0          4   \n",
       "34            53.555754                    95.0          5   \n",
       "35           146.050710                    86.0          7   \n",
       "36            34.914535                    95.0          5   \n",
       "37            74.392855                    90.0          8   \n",
       "38            98.291573                    87.0          8   \n",
       "39             9.187779                    96.0          7   \n",
       "40            37.503240                    90.0         10   \n",
       "41           170.318056                    83.0          9   \n",
       "42            12.394480                    92.0         10   \n",
       "43             5.545575                    98.0          8   \n",
       "\n",
       "                     file    kd  caRest  startMetaSec  stopMetaSec LFS eval  \n",
       "0            1Hz_ctrl.tif  1200     125             0          0.8   Reject  \n",
       "1       1Hz_ctrl_0001.tif  1200     125             0          0.8   Reject  \n",
       "2     2.5Hz_ctrl_0004.tif  1200     125             0          0.8   Reject  \n",
       "3     2.5Hz_ctrl_0005.tif  1200     125             0          0.8   Accept  \n",
       "4     2.5Hz_ctrl_0006.tif  1200     125             0          0.8   Reject  \n",
       "5     2.5Hz_ctrl_0007.tif  1200     125             0          0.8   Reject  \n",
       "6     2.5Hz_ctrl_0009.tif  1200     125             0          0.8   Accept  \n",
       "7     2.5Hz_ctrl_0010.tif  1200     125             0          0.8   Reject  \n",
       "8     2.5Hz_ctrl_0011.tif  1200     125             0          0.8   Reject  \n",
       "9     2.5Hz_ctrl_0012.tif  1200     125             0          0.8   Accept  \n",
       "10    2.5Hz_ctrl_0015.tif  1200     125             0          0.8   Reject  \n",
       "11    2.5Hz_ctrl_0016.tif  1200     125             0          0.8   Reject  \n",
       "12    2.5Hz_ctrl_0017.tif  1200     125             0          0.8   Accept  \n",
       "13    2.5Hz_ctrl_0018.tif  1200     125             0          0.8   Reject  \n",
       "14    2.5Hz_ctrl_0019.tif  1200     125             0          0.8   Reject  \n",
       "15    2.5Hz_ctrl_0020.tif  1200     125             0          0.8   Reject  \n",
       "16    2.5Hz_ctrl_0021.tif  1200     125             0          0.8   Reject  \n",
       "17    2.5Hz_ctrl_0022.tif  1200     125             0          0.8   Reject  \n",
       "18    2.5Hz_ctrl_0023.tif  1200     125             0          0.8   Reject  \n",
       "19    2.5Hz_ctrl_0024.tif  1200     125             0          0.8   Reject  \n",
       "20    2.5Hz_ctrl_0025.tif  1200     125             0          0.8   Reject  \n",
       "21    2.5Hz_ctrl_0026.tif  1200     125             0          0.8   Reject  \n",
       "22    2.5Hz_ctrl_0027.tif  1200     125             0          0.8   Reject  \n",
       "23    2.5Hz_ctrl_0028.tif  1200     125             0          0.8   Accept  \n",
       "24    2.5Hz_ctrl_0029.tif  1200     125             0          0.8   Reject  \n",
       "25    2.5Hz_ctrl_0030.tif  1200     125             0          0.8   Reject  \n",
       "26    2.5Hz_ctrl_0031.tif  1200     125             0          0.8   Reject  \n",
       "27    2.5Hz_ctrl_0033.tif  1200     125             0          0.8   Reject  \n",
       "28    2.5Hz_ctrl_0034.tif  1200     125             0          0.8   Reject  \n",
       "29    2.5Hz_ctrl_0035.tif  1200     125             0          0.8   Reject  \n",
       "30       2.5Hz_thapsi.tif  1200     125             0          0.8   Reject  \n",
       "31  2.5Hz_thapsi_0003.tif  1200     125             0          0.8   Reject  \n",
       "32  2.5Hz_thapsi_0005.tif  1200     125             0          0.8   Reject  \n",
       "33  2.5Hz_thapsi_0006.tif  1200     125             0          0.8   Reject  \n",
       "34  2.5Hz_thapsi_0012.tif  1200     125             0          0.8   Reject  \n",
       "35  2.5Hz_thapsi_0013.tif  1200     125             0          0.8   Reject  \n",
       "36  2.5Hz_thapsi_0015.tif  1200     125             0          0.8   Reject  \n",
       "37  2.5Hz_thapsi_0018.tif  1200     125             0          0.8   Reject  \n",
       "38  2.5Hz_thapsi_0019.tif  1200     125             0          0.8   Reject  \n",
       "39  2.5Hz_thapsi_0021.tif  1200     125             0          0.8   Reject  \n",
       "40  2.5Hz_thapsi_0022.tif  1200     125             0          0.8   Reject  \n",
       "41  2.5Hz_thapsi_0023.tif  1200     125             0          0.8   Reject  \n",
       "42  2.5Hz_thapsi_0024.tif  1200     125             0          0.8   Accept  \n",
       "43  2.5Hz_thapsi_0025.tif  1200     125             0          0.8   Reject  "
      ]
     },
     "metadata": {},
     "output_type": "display_data"
    }
   ],
   "source": [
    "# from fernando with original marking of accept/reject\n",
    "path = '/home/cudmore/Sites/SanPy/rabbit-molar-jan-18-2022/kymSummary-jan-18-fs.xls'\n",
    "\n",
    "# after i appended fernando accept/reject\n",
    "# new version including clip window [0, 0.8]\n",
    "path = '/home/cudmore/Sites/SanPy/rabbit-molar-jan-18-2022/kymSummary-jan-18.csv'\n",
    "\n",
    "path = '/home/cudmore/Sites/SanPy/examples/kymAnalysis-20220220.csv'\n",
    "\n",
    "saveFolder = os.path.split(path)[0]\n",
    "saveName = os.path.basename(path)\n",
    "saveName = os.path.splitext(saveName)[0]\n",
    "print(saveName)\n",
    "\n",
    "if path.endswith('.xls'):\n",
    "    df = pd.read_excel(path)\n",
    "elif path.endswith('csv'):\n",
    "    df = pd.read_csv(path)\n",
    "    \n",
    "display(df)"
   ]
  },
  {
   "cell_type": "code",
   "execution_count": 43,
   "id": "68e8b564",
   "metadata": {},
   "outputs": [],
   "source": [
    "# remove rows where column 'LFS eval' is 'Reject'\n",
    "\n",
    "dfPlot = df[ df['LFS eval']=='Accept']"
   ]
  },
  {
   "cell_type": "code",
   "execution_count": 44,
   "id": "598c113e",
   "metadata": {},
   "outputs": [
    {
     "data": {
      "text/html": [
       "<div>\n",
       "<style scoped>\n",
       "    .dataframe tbody tr th:only-of-type {\n",
       "        vertical-align: middle;\n",
       "    }\n",
       "\n",
       "    .dataframe tbody tr th {\n",
       "        vertical-align: top;\n",
       "    }\n",
       "\n",
       "    .dataframe thead th {\n",
       "        text-align: right;\n",
       "    }\n",
       "</style>\n",
       "<table border=\"1\" class=\"dataframe\">\n",
       "  <thead>\n",
       "    <tr style=\"text-align: right;\">\n",
       "      <th></th>\n",
       "      <th>count</th>\n",
       "      <th>min</th>\n",
       "      <th>max</th>\n",
       "      <th>mean</th>\n",
       "      <th>median</th>\n",
       "      <th>std</th>\n",
       "      <th>sem</th>\n",
       "    </tr>\n",
       "    <tr>\n",
       "      <th>condition</th>\n",
       "      <th></th>\n",
       "      <th></th>\n",
       "      <th></th>\n",
       "      <th></th>\n",
       "      <th></th>\n",
       "      <th></th>\n",
       "      <th></th>\n",
       "    </tr>\n",
       "  </thead>\n",
       "  <tbody>\n",
       "    <tr>\n",
       "      <th>Control</th>\n",
       "      <td>5</td>\n",
       "      <td>214.641391</td>\n",
       "      <td>1378.027156</td>\n",
       "      <td>722.488871</td>\n",
       "      <td>585.903737</td>\n",
       "      <td>482.771277</td>\n",
       "      <td>215.901879</td>\n",
       "    </tr>\n",
       "    <tr>\n",
       "      <th>TG</th>\n",
       "      <td>1</td>\n",
       "      <td>18.968786</td>\n",
       "      <td>18.968786</td>\n",
       "      <td>18.968786</td>\n",
       "      <td>18.968786</td>\n",
       "      <td>NaN</td>\n",
       "      <td>NaN</td>\n",
       "    </tr>\n",
       "  </tbody>\n",
       "</table>\n",
       "</div>"
      ],
      "text/plain": [
       "           count         min          max        mean      median         std  \\\n",
       "condition                                                                       \n",
       "Control        5  214.641391  1378.027156  722.488871  585.903737  482.771277   \n",
       "TG             1   18.968786    18.968786   18.968786   18.968786         NaN   \n",
       "\n",
       "                  sem  \n",
       "condition              \n",
       "Control    215.901879  \n",
       "TG                NaN  "
      ]
     },
     "metadata": {},
     "output_type": "display_data"
    }
   ],
   "source": [
    "aggList = ['count', 'min', 'max', 'mean', 'median', 'std', 'sem']\n",
    "\n",
    "dfStats = dfPlot.groupby('condition')['varPeak'].agg(aggList)\n",
    "\n",
    "display(dfStats)"
   ]
  },
  {
   "cell_type": "code",
   "execution_count": 45,
   "id": "edafa178",
   "metadata": {
    "scrolled": true
   },
   "outputs": [
    {
     "data": {
      "text/plain": [
       "<AxesSubplot:xlabel='condition', ylabel='varPeak'>"
      ]
     },
     "execution_count": 45,
     "metadata": {},
     "output_type": "execute_result"
    },
    {
     "data": {
      "image/png": "[encoded data removed]",
      "text/plain": [
       "<Figure size 432x288 with 1 Axes>"
      ]
     },
     "metadata": {
      "needs_background": "light"
     },
     "output_type": "display_data"
    }
   ],
   "source": [
    " convertMolarStr = ''\n",
    "\n",
    "figVar, axsVar = plt.subplots(1, 1, sharex=False, figsize=(6, 4))\n",
    "figVar.suptitle(f'units:{convertMolarStr}')\n",
    "axsVar = [axsVar]\n",
    "myDespine(axsVar[0])\n",
    "\n",
    "sns.stripplot(x='condition',\n",
    "    y='varPeak',\n",
    "    data=dfPlot,\n",
    "    alpha=0.3,\n",
    "    jitter=0.2,\n",
    "    color='k',\n",
    "    ax=axsVar[0]);\n",
    "\n",
    "sns.boxplot(showmeans=True,\n",
    "            meanline=True,\n",
    "            meanprops={'color': 'r', 'ls': '-', 'lw': 2},\n",
    "            medianprops={'visible': False},\n",
    "            whiskerprops={'visible': False},\n",
    "            zorder=10,\n",
    "            x=\"condition\",\n",
    "            y=\"varPeak\",\n",
    "            data=dfPlot,\n",
    "            showfliers=False,\n",
    "            showbox=False,\n",
    "            showcaps=False,\n",
    "            ax=axsVar[0])\n"
   ]
  },
  {
   "cell_type": "code",
   "execution_count": 46,
   "id": "df6f5c40",
   "metadata": {},
   "outputs": [
    {
     "name": "stdout",
     "output_type": "stream",
     "text": [
      "saving saveVarFigPath: /home/cudmore/Sites/SanPy/rabbit-molar-jan-18-2022/kymSummary-jan-18.jpg\n"
     ]
    }
   ],
   "source": [
    "#\n",
    "saveVarFigFile = saveName + '.jpg'  # 'pooledVar-20220205.jpg'\n",
    "saveVarFigPath = os.path.join(saveFolder, saveVarFigFile)\n",
    "print(f'saving saveVarFigPath: {saveVarFigPath}')\n",
    "figVar.savefig(saveVarFigPath, dpi=300)\n"
   ]
  },
  {
   "cell_type": "markdown",
   "id": "ad7e8578",
   "metadata": {},
   "source": [
    "## 20220218 - Make new plots from my summary table I am sending to Fernando\n",
    "\n",
    "We now include full stats for peak, height, isi"
   ]
  },
  {
   "cell_type": "code",
   "execution_count": 4,
   "id": "6d92d9b7",
   "metadata": {},
   "outputs": [
    {
     "data": {
      "text/plain": [
       "dateStr      condition   \n",
       "feb-15-2022  Control          5\n",
       "             Thapsigargin     4\n",
       "jan-12-2022  Control         19\n",
       "             Thapsigargin    12\n",
       "jan-18-2022  Control          5\n",
       "             Thapsigargin     1\n",
       "Name: condition, dtype: int64"
      ]
     },
     "metadata": {},
     "output_type": "display_data"
    },
    {
     "data": {
      "text/html": [
       "<div>\n",
       "<style scoped>\n",
       "    .dataframe tbody tr th:only-of-type {\n",
       "        vertical-align: middle;\n",
       "    }\n",
       "\n",
       "    .dataframe tbody tr th {\n",
       "        vertical-align: top;\n",
       "    }\n",
       "\n",
       "    .dataframe thead th {\n",
       "        text-align: right;\n",
       "    }\n",
       "</style>\n",
       "<table border=\"1\" class=\"dataframe\">\n",
       "  <thead>\n",
       "    <tr style=\"text-align: right;\">\n",
       "      <th></th>\n",
       "      <th>Unnamed: 0</th>\n",
       "      <th>saveFolder</th>\n",
       "      <th>dateStr</th>\n",
       "      <th>convertToMolar</th>\n",
       "      <th>condition</th>\n",
       "      <th>mvThreshold</th>\n",
       "      <th>meanPeak</th>\n",
       "      <th>meanPeakTime</th>\n",
       "      <th>varPeak</th>\n",
       "      <th>varPeakTime</th>\n",
       "      <th>...</th>\n",
       "      <th>isi_ms_sweep</th>\n",
       "      <th>isi_ms_count</th>\n",
       "      <th>isi_ms_min</th>\n",
       "      <th>isi_ms_max</th>\n",
       "      <th>isi_ms_mean</th>\n",
       "      <th>isi_ms_median</th>\n",
       "      <th>isi_ms_sem</th>\n",
       "      <th>isi_ms_std</th>\n",
       "      <th>isi_ms_var</th>\n",
       "      <th>isi_ms_cv</th>\n",
       "    </tr>\n",
       "  </thead>\n",
       "  <tbody>\n",
       "    <tr>\n",
       "      <th>0</th>\n",
       "      <td>0.0</td>\n",
       "      <td>rabbit-molar-jan-12-2022</td>\n",
       "      <td>jan-12-2022</td>\n",
       "      <td>True</td>\n",
       "      <td>Control</td>\n",
       "      <td>1.41</td>\n",
       "      <td>282.695448</td>\n",
       "      <td>0.192492</td>\n",
       "      <td>389.504709</td>\n",
       "      <td>0.062854</td>\n",
       "      <td>...</td>\n",
       "      <td>0</td>\n",
       "      <td>9</td>\n",
       "      <td>974.243</td>\n",
       "      <td>993.885</td>\n",
       "      <td>985.155</td>\n",
       "      <td>986.028</td>\n",
       "      <td>NaN</td>\n",
       "      <td>5.165</td>\n",
       "      <td>26.673</td>\n",
       "      <td>0.194</td>\n",
       "    </tr>\n",
       "    <tr>\n",
       "      <th>1</th>\n",
       "      <td>1.0</td>\n",
       "      <td>rabbit-molar-jan-12-2022</td>\n",
       "      <td>jan-12-2022</td>\n",
       "      <td>True</td>\n",
       "      <td>Control</td>\n",
       "      <td>1.33</td>\n",
       "      <td>343.759288</td>\n",
       "      <td>0.123995</td>\n",
       "      <td>416.877847</td>\n",
       "      <td>0.048712</td>\n",
       "      <td>...</td>\n",
       "      <td>0</td>\n",
       "      <td>5</td>\n",
       "      <td>1966.210</td>\n",
       "      <td>1975.066</td>\n",
       "      <td>1970.638</td>\n",
       "      <td>1970.638</td>\n",
       "      <td>NaN</td>\n",
       "      <td>2.801</td>\n",
       "      <td>7.844</td>\n",
       "      <td>0.357</td>\n",
       "    </tr>\n",
       "    <tr>\n",
       "      <th>2</th>\n",
       "      <td>2.0</td>\n",
       "      <td>rabbit-molar-jan-12-2022</td>\n",
       "      <td>jan-12-2022</td>\n",
       "      <td>True</td>\n",
       "      <td>Control</td>\n",
       "      <td>1.20</td>\n",
       "      <td>391.021728</td>\n",
       "      <td>0.207195</td>\n",
       "      <td>455.713037</td>\n",
       "      <td>0.039676</td>\n",
       "      <td>...</td>\n",
       "      <td>0</td>\n",
       "      <td>4</td>\n",
       "      <td>1961.738</td>\n",
       "      <td>1974.963</td>\n",
       "      <td>1969.453</td>\n",
       "      <td>1970.555</td>\n",
       "      <td>NaN</td>\n",
       "      <td>4.804</td>\n",
       "      <td>23.078</td>\n",
       "      <td>0.208</td>\n",
       "    </tr>\n",
       "    <tr>\n",
       "      <th>3</th>\n",
       "      <td>3.0</td>\n",
       "      <td>rabbit-molar-jan-12-2022</td>\n",
       "      <td>jan-12-2022</td>\n",
       "      <td>True</td>\n",
       "      <td>Control</td>\n",
       "      <td>1.28</td>\n",
       "      <td>368.023432</td>\n",
       "      <td>0.246870</td>\n",
       "      <td>250.590949</td>\n",
       "      <td>0.044084</td>\n",
       "      <td>...</td>\n",
       "      <td>0</td>\n",
       "      <td>5</td>\n",
       "      <td>1961.738</td>\n",
       "      <td>1983.780</td>\n",
       "      <td>1971.436</td>\n",
       "      <td>1970.555</td>\n",
       "      <td>NaN</td>\n",
       "      <td>7.584</td>\n",
       "      <td>57.525</td>\n",
       "      <td>0.132</td>\n",
       "    </tr>\n",
       "    <tr>\n",
       "      <th>4</th>\n",
       "      <td>4.0</td>\n",
       "      <td>rabbit-molar-jan-12-2022</td>\n",
       "      <td>jan-12-2022</td>\n",
       "      <td>True</td>\n",
       "      <td>Control</td>\n",
       "      <td>1.46</td>\n",
       "      <td>347.869414</td>\n",
       "      <td>0.197490</td>\n",
       "      <td>615.363577</td>\n",
       "      <td>0.049372</td>\n",
       "      <td>...</td>\n",
       "      <td>0</td>\n",
       "      <td>10</td>\n",
       "      <td>982.960</td>\n",
       "      <td>1032.332</td>\n",
       "      <td>993.283</td>\n",
       "      <td>989.692</td>\n",
       "      <td>NaN</td>\n",
       "      <td>13.621</td>\n",
       "      <td>185.542</td>\n",
       "      <td>0.073</td>\n",
       "    </tr>\n",
       "  </tbody>\n",
       "</table>\n",
       "<p>5 rows × 49 columns</p>\n",
       "</div>"
      ],
      "text/plain": [
       "   Unnamed: 0                saveFolder      dateStr  convertToMolar  \\\n",
       "0         0.0  rabbit-molar-jan-12-2022  jan-12-2022            True   \n",
       "1         1.0  rabbit-molar-jan-12-2022  jan-12-2022            True   \n",
       "2         2.0  rabbit-molar-jan-12-2022  jan-12-2022            True   \n",
       "3         3.0  rabbit-molar-jan-12-2022  jan-12-2022            True   \n",
       "4         4.0  rabbit-molar-jan-12-2022  jan-12-2022            True   \n",
       "\n",
       "  condition  mvThreshold    meanPeak  meanPeakTime     varPeak  varPeakTime  \\\n",
       "0   Control         1.41  282.695448      0.192492  389.504709     0.062854   \n",
       "1   Control         1.33  343.759288      0.123995  416.877847     0.048712   \n",
       "2   Control         1.20  391.021728      0.207195  455.713037     0.039676   \n",
       "3   Control         1.28  368.023432      0.246870  250.590949     0.044084   \n",
       "4   Control         1.46  347.869414      0.197490  615.363577     0.049372   \n",
       "\n",
       "   ...  isi_ms_sweep  isi_ms_count  isi_ms_min  isi_ms_max isi_ms_mean  \\\n",
       "0  ...             0             9     974.243     993.885     985.155   \n",
       "1  ...             0             5    1966.210    1975.066    1970.638   \n",
       "2  ...             0             4    1961.738    1974.963    1969.453   \n",
       "3  ...             0             5    1961.738    1983.780    1971.436   \n",
       "4  ...             0            10     982.960    1032.332     993.283   \n",
       "\n",
       "   isi_ms_median  isi_ms_sem  isi_ms_std  isi_ms_var  isi_ms_cv  \n",
       "0        986.028         NaN       5.165      26.673      0.194  \n",
       "1       1970.638         NaN       2.801       7.844      0.357  \n",
       "2       1970.555         NaN       4.804      23.078      0.208  \n",
       "3       1970.555         NaN       7.584      57.525      0.132  \n",
       "4        989.692         NaN      13.621     185.542      0.073  \n",
       "\n",
       "[5 rows x 49 columns]"
      ]
     },
     "metadata": {},
     "output_type": "display_data"
    }
   ],
   "source": [
    "'''\n",
    "summaryFilePath = '/home/cudmore/Sites/SanPy/rabbit-molar-jan-12-2022/kymSummary.csv'\n",
    "summaryFilePath = '/home/cudmore/Sites/SanPy/rabbit-molar-jan-18-2022/kymSummary.csv'\n",
    "summaryFilePath = '/home/cudmore/Sites/SanPy/rabbit-molar-feb-15-2022/kymSummary.csv'\n",
    "'''\n",
    "\n",
    "summaryFilePath = '/home/cudmore/Sites/SanPy/examples/kymAnalysis-20220220.csv'\n",
    "\n",
    "dfSummary = pd.read_csv(summaryFilePath)\n",
    "\n",
    "# we have a number of recording dates, each has a number of (control, TP) recordings\n",
    "dateStrGroup = dfSummary.groupby(['dateStr', 'condition'])['condition'].count()\n",
    "display(dateStrGroup)\n",
    "\n",
    "display(dfSummary.head())"
   ]
  },
  {
   "cell_type": "markdown",
   "id": "800a63f9",
   "metadata": {},
   "source": [
    "## Ploting var from peak versus var from spike clips"
   ]
  },
  {
   "cell_type": "code",
   "execution_count": 25,
   "id": "6f055104",
   "metadata": {},
   "outputs": [
    {
     "data": {
      "text/plain": [
       "<AxesSubplot:xlabel='meanPeak', ylabel='varPeak'>"
      ]
     },
     "execution_count": 25,
     "metadata": {},
     "output_type": "execute_result"
    },
    {
     "data": {
      "image/png": "[encoded data removed]",
      "text/plain": [
       "<Figure size 432x288 with 1 Axes>"
      ]
     },
     "metadata": {
      "needs_background": "light"
     },
     "output_type": "display_data"
    }
   ],
   "source": [
    "xStat = 'meanPeak'  # mean peak amplitude across all peaks\n",
    "#yStat = 'peakVal_var'  # var measured from actual peaks (each spike has a peak)\n",
    "yStat = 'varPeak'  # var measured from spike clips\n",
    "\n",
    "sns.scatterplot(x=xStat, y=yStat, hue='condition', style='dateStr', data=dfSummary)\n"
   ]
  },
  {
   "cell_type": "code",
   "execution_count": 23,
   "id": "49da394d",
   "metadata": {},
   "outputs": [
    {
     "data": {
      "application/vnd.plotly.v1+json": {
       "config": {
        "plotlyServerURL": "https://plot.ly"
       },
       "data": [
        {
         "customdata": [
          [
           "jan-12-2022"
          ],
          [
           "jan-12-2022"
          ],
          [
           "jan-12-2022"
          ],
          [
           "jan-12-2022"
          ],
          [
           "jan-12-2022"
          ],
          [
           "jan-12-2022"
          ],
          [
           "jan-12-2022"
          ],
          [
           "jan-12-2022"
          ],
          [
           "jan-12-2022"
          ],
          [
           "jan-12-2022"
          ],
          [
           "jan-12-2022"
          ],
          [
           "jan-12-2022"
          ],
          [
           "jan-12-2022"
          ],
          [
           "jan-12-2022"
          ],
          [
           "jan-12-2022"
          ],
          [
           "jan-12-2022"
          ],
          [
           "jan-12-2022"
          ],
          [
           "jan-12-2022"
          ],
          [
           "jan-12-2022"
          ]
         ],
         "hovertemplate": "condition=Control<br>dateStr=%{customdata[0]}<br>meanPeak=%{x}<br>varPeak=%{y}<extra></extra>",
         "legendgroup": "Control, jan-12-2022",
         "marker": {
          "color": "#636efa",
          "symbol": "circle"
         },
         "mode": "markers",
         "name": "Control, jan-12-2022",
         "orientation": "v",
         "showlegend": true,
         "type": "scatter",
         "x": [
          282.695448426862,
          343.759287518085,
          391.021728058043,
          368.023431977549,
          347.869413739633,
          208.368678809715,
          373.049167550582,
          350.732331370044,
          328.781361478297,
          290.140903309398,
          295.06398721082,
          296.56308713209,
          364.243543930525,
          306.782393473797,
          339.609655535206,
          304.132437807722,
          293.976408522122,
          384.951644480709,
          270.582287850075
         ],
         "xaxis": "x",
         "y": [
          389.504708937951,
          416.877847377016,
          455.713036865347,
          250.59094891465,
          615.36357683836,
          154.536270187606,
          622.665356996891,
          1429.89551068333,
          476.009969043115,
          244.238600473544,
          369.164426935728,
          367.880407757186,
          749.203928962291,
          609.361172593613,
          506.980647556644,
          603.837631578108,
          427.507438360987,
          566.51951360516,
          168.234797662804
         ],
         "yaxis": "y"
        },
        {
         "customdata": [
          [
           "jan-18-2022"
          ],
          [
           "jan-18-2022"
          ],
          [
           "jan-18-2022"
          ],
          [
           "jan-18-2022"
          ],
          [
           "jan-18-2022"
          ]
         ],
         "hovertemplate": "condition=Control<br>dateStr=%{customdata[0]}<br>meanPeak=%{x}<br>varPeak=%{y}<extra></extra>",
         "legendgroup": "Control, jan-18-2022",
         "marker": {
          "color": "#636efa",
          "symbol": "diamond"
         },
         "mode": "markers",
         "name": "Control, jan-18-2022",
         "orientation": "v",
         "showlegend": true,
         "type": "scatter",
         "x": [
          462.548548507208,
          435.106299930229,
          456.890684329219,
          340.98954675303,
          388.201565022677
         ],
         "xaxis": "x",
         "y": [
          1463.08347609605,
          1515.3813721007,
          3753.90791012963,
          310.751397087379,
          416.755005509618
         ],
         "yaxis": "y"
        },
        {
         "customdata": [
          [
           "feb-15-2022"
          ],
          [
           "feb-15-2022"
          ],
          [
           "feb-15-2022"
          ],
          [
           "feb-15-2022"
          ],
          [
           "feb-15-2022"
          ]
         ],
         "hovertemplate": "condition=Control<br>dateStr=%{customdata[0]}<br>meanPeak=%{x}<br>varPeak=%{y}<extra></extra>",
         "legendgroup": "Control, feb-15-2022",
         "marker": {
          "color": "#636efa",
          "symbol": "square"
         },
         "mode": "markers",
         "name": "Control, feb-15-2022",
         "orientation": "v",
         "showlegend": true,
         "type": "scatter",
         "x": [
          218.680111167934,
          158.028117088728,
          155.425327798555,
          148.904078311328,
          252.435898340403
         ],
         "xaxis": "x",
         "y": [
          575.535352395805,
          79.325703937602,
          75.7258478303374,
          26.610254423869,
          537.785142598472
         ],
         "yaxis": "y"
        },
        {
         "customdata": [
          [
           "jan-12-2022"
          ],
          [
           "jan-12-2022"
          ],
          [
           "jan-12-2022"
          ],
          [
           "jan-12-2022"
          ],
          [
           "jan-12-2022"
          ],
          [
           "jan-12-2022"
          ],
          [
           "jan-12-2022"
          ],
          [
           "jan-12-2022"
          ],
          [
           "jan-12-2022"
          ],
          [
           "jan-12-2022"
          ],
          [
           "jan-12-2022"
          ],
          [
           "jan-12-2022"
          ]
         ],
         "hovertemplate": "condition=Thapsigargin<br>dateStr=%{customdata[0]}<br>meanPeak=%{x}<br>varPeak=%{y}<extra></extra>",
         "legendgroup": "Thapsigargin, jan-12-2022",
         "marker": {
          "color": "#EF553B",
          "symbol": "circle"
         },
         "mode": "markers",
         "name": "Thapsigargin, jan-12-2022",
         "orientation": "v",
         "showlegend": true,
         "type": "scatter",
         "x": [
          140.474671875744,
          155.693158675329,
          150.909169978498,
          153.314293212927,
          151.973393846503,
          144.295839578152,
          149.557125826794,
          177.179715812477,
          181.85063130777,
          178.019392613309,
          153.334408111148,
          151.123978821457
         ],
         "xaxis": "x",
         "y": [
          6.44441853576082,
          4.79959601579387,
          25.9603347489287,
          8.24599081137011,
          8.3350966105453,
          6.35064993245252,
          13.8936688878973,
          34.3714666204609,
          10.9808943235497,
          27.1862214005442,
          12.6155273557123,
          7.39835280941341
         ],
         "yaxis": "y"
        },
        {
         "customdata": [
          [
           "jan-18-2022"
          ]
         ],
         "hovertemplate": "condition=Thapsigargin<br>dateStr=%{customdata[0]}<br>meanPeak=%{x}<br>varPeak=%{y}<extra></extra>",
         "legendgroup": "Thapsigargin, jan-18-2022",
         "marker": {
          "color": "#EF553B",
          "symbol": "diamond"
         },
         "mode": "markers",
         "name": "Thapsigargin, jan-18-2022",
         "orientation": "v",
         "showlegend": true,
         "type": "scatter",
         "x": [
          157.374046346286
         ],
         "xaxis": "x",
         "y": [
          16.2282717223809
         ],
         "yaxis": "y"
        },
        {
         "customdata": [
          [
           "feb-15-2022"
          ],
          [
           "feb-15-2022"
          ],
          [
           "feb-15-2022"
          ],
          [
           "feb-15-2022"
          ]
         ],
         "hovertemplate": "condition=Thapsigargin<br>dateStr=%{customdata[0]}<br>meanPeak=%{x}<br>varPeak=%{y}<extra></extra>",
         "legendgroup": "Thapsigargin, feb-15-2022",
         "marker": {
          "color": "#EF553B",
          "symbol": "square"
         },
         "mode": "markers",
         "name": "Thapsigargin, feb-15-2022",
         "orientation": "v",
         "showlegend": true,
         "type": "scatter",
         "x": [
          148.271897636999,
          144.486046001291,
          157.124911401932,
          153.344325451242
         ],
         "xaxis": "x",
         "y": [
          9.94262806600517,
          22.7907575922872,
          34.5839984922794,
          109.35789567401
         ],
         "yaxis": "y"
        }
       ],
       "layout": {
        "legend": {
         "title": {
          "text": "condition, dateStr"
         },
         "tracegroupgap": 0
        },
        "margin": {
         "t": 60
        },
        "template": {
         "data": {
          "bar": [
           {
            "error_x": {
             "color": "#2a3f5f"
            },
            "error_y": {
             "color": "#2a3f5f"
            },
            "marker": {
             "line": {
              "color": "#E5ECF6",
              "width": 0.5
             },
             "pattern": {
              "fillmode": "overlay",
              "size": 10,
              "solidity": 0.2
             }
            },
            "type": "bar"
           }
          ],
          "barpolar": [
           {
            "marker": {
             "line": {
              "color": "#E5ECF6",
              "width": 0.5
             },
             "pattern": {
              "fillmode": "overlay",
              "size": 10,
              "solidity": 0.2
             }
            },
            "type": "barpolar"
           }
          ],
          "carpet": [
           {
            "aaxis": {
             "endlinecolor": "#2a3f5f",
             "gridcolor": "white",
             "linecolor": "white",
             "minorgridcolor": "white",
             "startlinecolor": "#2a3f5f"
            },
            "baxis": {
             "endlinecolor": "#2a3f5f",
             "gridcolor": "white",
             "linecolor": "white",
             "minorgridcolor": "white",
             "startlinecolor": "#2a3f5f"
            },
            "type": "carpet"
           }
          ],
          "choropleth": [
           {
            "colorbar": {
             "outlinewidth": 0,
             "ticks": ""
            },
            "type": "choropleth"
           }
          ],
          "contour": [
           {
            "colorbar": {
             "outlinewidth": 0,
             "ticks": ""
            },
            "colorscale": [
             [
              0,
              "#0d0887"
             ],
             [
              0.1111111111111111,
              "#46039f"
             ],
             [
              0.2222222222222222,
              "#7201a8"
             ],
             [
              0.3333333333333333,
              "#9c179e"
             ],
             [
              0.4444444444444444,
              "#bd3786"
             ],
             [
              0.5555555555555556,
              "#d8576b"
             ],
             [
              0.6666666666666666,
              "#ed7953"
             ],
             [
              0.7777777777777778,
              "#fb9f3a"
             ],
             [
              0.8888888888888888,
              "#fdca26"
             ],
             [
              1,
              "#f0f921"
             ]
            ],
            "type": "contour"
           }
          ],
          "contourcarpet": [
           {
            "colorbar": {
             "outlinewidth": 0,
             "ticks": ""
            },
            "type": "contourcarpet"
           }
          ],
          "heatmap": [
           {
            "colorbar": {
             "outlinewidth": 0,
             "ticks": ""
            },
            "colorscale": [
             [
              0,
              "#0d0887"
             ],
             [
              0.1111111111111111,
              "#46039f"
             ],
             [
              0.2222222222222222,
              "#7201a8"
             ],
             [
              0.3333333333333333,
              "#9c179e"
             ],
             [
              0.4444444444444444,
              "#bd3786"
             ],
             [
              0.5555555555555556,
              "#d8576b"
             ],
             [
              0.6666666666666666,
              "#ed7953"
             ],
             [
              0.7777777777777778,
              "#fb9f3a"
             ],
             [
              0.8888888888888888,
              "#fdca26"
             ],
             [
              1,
              "#f0f921"
             ]
            ],
            "type": "heatmap"
           }
          ],
          "heatmapgl": [
           {
            "colorbar": {
             "outlinewidth": 0,
             "ticks": ""
            },
            "colorscale": [
             [
              0,
              "#0d0887"
             ],
             [
              0.1111111111111111,
              "#46039f"
             ],
             [
              0.2222222222222222,
              "#7201a8"
             ],
             [
              0.3333333333333333,
              "#9c179e"
             ],
             [
              0.4444444444444444,
              "#bd3786"
             ],
             [
              0.5555555555555556,
              "#d8576b"
             ],
             [
              0.6666666666666666,
              "#ed7953"
             ],
             [
              0.7777777777777778,
              "#fb9f3a"
             ],
             [
              0.8888888888888888,
              "#fdca26"
             ],
             [
              1,
              "#f0f921"
             ]
            ],
            "type": "heatmapgl"
           }
          ],
          "histogram": [
           {
            "marker": {
             "pattern": {
              "fillmode": "overlay",
              "size": 10,
              "solidity": 0.2
             }
            },
            "type": "histogram"
           }
          ],
          "histogram2d": [
           {
            "colorbar": {
             "outlinewidth": 0,
             "ticks": ""
            },
            "colorscale": [
             [
              0,
              "#0d0887"
             ],
             [
              0.1111111111111111,
              "#46039f"
             ],
             [
              0.2222222222222222,
              "#7201a8"
             ],
             [
              0.3333333333333333,
              "#9c179e"
             ],
             [
              0.4444444444444444,
              "#bd3786"
             ],
             [
              0.5555555555555556,
              "#d8576b"
             ],
             [
              0.6666666666666666,
              "#ed7953"
             ],
             [
              0.7777777777777778,
              "#fb9f3a"
             ],
             [
              0.8888888888888888,
              "#fdca26"
             ],
             [
              1,
              "#f0f921"
             ]
            ],
            "type": "histogram2d"
           }
          ],
          "histogram2dcontour": [
           {
            "colorbar": {
             "outlinewidth": 0,
             "ticks": ""
            },
            "colorscale": [
             [
              0,
              "#0d0887"
             ],
             [
              0.1111111111111111,
              "#46039f"
             ],
             [
              0.2222222222222222,
              "#7201a8"
             ],
             [
              0.3333333333333333,
              "#9c179e"
             ],
             [
              0.4444444444444444,
              "#bd3786"
             ],
             [
              0.5555555555555556,
              "#d8576b"
             ],
             [
              0.6666666666666666,
              "#ed7953"
             ],
             [
              0.7777777777777778,
              "#fb9f3a"
             ],
             [
              0.8888888888888888,
              "#fdca26"
             ],
             [
              1,
              "#f0f921"
             ]
            ],
            "type": "histogram2dcontour"
           }
          ],
          "mesh3d": [
           {
            "colorbar": {
             "outlinewidth": 0,
             "ticks": ""
            },
            "type": "mesh3d"
           }
          ],
          "parcoords": [
           {
            "line": {
             "colorbar": {
              "outlinewidth": 0,
              "ticks": ""
             }
            },
            "type": "parcoords"
           }
          ],
          "pie": [
           {
            "automargin": true,
            "type": "pie"
           }
          ],
          "scatter": [
           {
            "marker": {
             "colorbar": {
              "outlinewidth": 0,
              "ticks": ""
             }
            },
            "type": "scatter"
           }
          ],
          "scatter3d": [
           {
            "line": {
             "colorbar": {
              "outlinewidth": 0,
              "ticks": ""
             }
            },
            "marker": {
             "colorbar": {
              "outlinewidth": 0,
              "ticks": ""
             }
            },
            "type": "scatter3d"
           }
          ],
          "scattercarpet": [
           {
            "marker": {
             "colorbar": {
              "outlinewidth": 0,
              "ticks": ""
             }
            },
            "type": "scattercarpet"
           }
          ],
          "scattergeo": [
           {
            "marker": {
             "colorbar": {
              "outlinewidth": 0,
              "ticks": ""
             }
            },
            "type": "scattergeo"
           }
          ],
          "scattergl": [
           {
            "marker": {
             "colorbar": {
              "outlinewidth": 0,
              "ticks": ""
             }
            },
            "type": "scattergl"
           }
          ],
          "scattermapbox": [
           {
            "marker": {
             "colorbar": {
              "outlinewidth": 0,
              "ticks": ""
             }
            },
            "type": "scattermapbox"
           }
          ],
          "scatterpolar": [
           {
            "marker": {
             "colorbar": {
              "outlinewidth": 0,
              "ticks": ""
             }
            },
            "type": "scatterpolar"
           }
          ],
          "scatterpolargl": [
           {
            "marker": {
             "colorbar": {
              "outlinewidth": 0,
              "ticks": ""
             }
            },
            "type": "scatterpolargl"
           }
          ],
          "scatterternary": [
           {
            "marker": {
             "colorbar": {
              "outlinewidth": 0,
              "ticks": ""
             }
            },
            "type": "scatterternary"
           }
          ],
          "surface": [
           {
            "colorbar": {
             "outlinewidth": 0,
             "ticks": ""
            },
            "colorscale": [
             [
              0,
              "#0d0887"
             ],
             [
              0.1111111111111111,
              "#46039f"
             ],
             [
              0.2222222222222222,
              "#7201a8"
             ],
             [
              0.3333333333333333,
              "#9c179e"
             ],
             [
              0.4444444444444444,
              "#bd3786"
             ],
             [
              0.5555555555555556,
              "#d8576b"
             ],
             [
              0.6666666666666666,
              "#ed7953"
             ],
             [
              0.7777777777777778,
              "#fb9f3a"
             ],
             [
              0.8888888888888888,
              "#fdca26"
             ],
             [
              1,
              "#f0f921"
             ]
            ],
            "type": "surface"
           }
          ],
          "table": [
           {
            "cells": {
             "fill": {
              "color": "#EBF0F8"
             },
             "line": {
              "color": "white"
             }
            },
            "header": {
             "fill": {
              "color": "#C8D4E3"
             },
             "line": {
              "color": "white"
             }
            },
            "type": "table"
           }
          ]
         },
         "layout": {
          "annotationdefaults": {
           "arrowcolor": "#2a3f5f",
           "arrowhead": 0,
           "arrowwidth": 1
          },
          "autotypenumbers": "strict",
          "coloraxis": {
           "colorbar": {
            "outlinewidth": 0,
            "ticks": ""
           }
          },
          "colorscale": {
           "diverging": [
            [
             0,
             "#8e0152"
            ],
            [
             0.1,
             "#c51b7d"
            ],
            [
             0.2,
             "#de77ae"
            ],
            [
             0.3,
             "#f1b6da"
            ],
            [
             0.4,
             "#fde0ef"
            ],
            [
             0.5,
             "#f7f7f7"
            ],
            [
             0.6,
             "#e6f5d0"
            ],
            [
             0.7,
             "#b8e186"
            ],
            [
             0.8,
             "#7fbc41"
            ],
            [
             0.9,
             "#4d9221"
            ],
            [
             1,
             "#276419"
            ]
           ],
           "sequential": [
            [
             0,
             "#0d0887"
            ],
            [
             0.1111111111111111,
             "#46039f"
            ],
            [
             0.2222222222222222,
             "#7201a8"
            ],
            [
             0.3333333333333333,
             "#9c179e"
            ],
            [
             0.4444444444444444,
             "#bd3786"
            ],
            [
             0.5555555555555556,
             "#d8576b"
            ],
            [
             0.6666666666666666,
             "#ed7953"
            ],
            [
             0.7777777777777778,
             "#fb9f3a"
            ],
            [
             0.8888888888888888,
             "#fdca26"
            ],
            [
             1,
             "#f0f921"
            ]
           ],
           "sequentialminus": [
            [
             0,
             "#0d0887"
            ],
            [
             0.1111111111111111,
             "#46039f"
            ],
            [
             0.2222222222222222,
             "#7201a8"
            ],
            [
             0.3333333333333333,
             "#9c179e"
            ],
            [
             0.4444444444444444,
             "#bd3786"
            ],
            [
             0.5555555555555556,
             "#d8576b"
            ],
            [
             0.6666666666666666,
             "#ed7953"
            ],
            [
             0.7777777777777778,
             "#fb9f3a"
            ],
            [
             0.8888888888888888,
             "#fdca26"
            ],
            [
             1,
             "#f0f921"
            ]
           ]
          },
          "colorway": [
           "#636efa",
           "#EF553B",
           "#00cc96",
           "#ab63fa",
           "#FFA15A",
           "#19d3f3",
           "#FF6692",
           "#B6E880",
           "#FF97FF",
           "#FECB52"
          ],
          "font": {
           "color": "#2a3f5f"
          },
          "geo": {
           "bgcolor": "white",
           "lakecolor": "white",
           "landcolor": "#E5ECF6",
           "showlakes": true,
           "showland": true,
           "subunitcolor": "white"
          },
          "hoverlabel": {
           "align": "left"
          },
          "hovermode": "closest",
          "mapbox": {
           "style": "light"
          },
          "paper_bgcolor": "white",
          "plot_bgcolor": "#E5ECF6",
          "polar": {
           "angularaxis": {
            "gridcolor": "white",
            "linecolor": "white",
            "ticks": ""
           },
           "bgcolor": "#E5ECF6",
           "radialaxis": {
            "gridcolor": "white",
            "linecolor": "white",
            "ticks": ""
           }
          },
          "scene": {
           "xaxis": {
            "backgroundcolor": "#E5ECF6",
            "gridcolor": "white",
            "gridwidth": 2,
            "linecolor": "white",
            "showbackground": true,
            "ticks": "",
            "zerolinecolor": "white"
           },
           "yaxis": {
            "backgroundcolor": "#E5ECF6",
            "gridcolor": "white",
            "gridwidth": 2,
            "linecolor": "white",
            "showbackground": true,
            "ticks": "",
            "zerolinecolor": "white"
           },
           "zaxis": {
            "backgroundcolor": "#E5ECF6",
            "gridcolor": "white",
            "gridwidth": 2,
            "linecolor": "white",
            "showbackground": true,
            "ticks": "",
            "zerolinecolor": "white"
           }
          },
          "shapedefaults": {
           "line": {
            "color": "#2a3f5f"
           }
          },
          "ternary": {
           "aaxis": {
            "gridcolor": "white",
            "linecolor": "white",
            "ticks": ""
           },
           "baxis": {
            "gridcolor": "white",
            "linecolor": "white",
            "ticks": ""
           },
           "bgcolor": "#E5ECF6",
           "caxis": {
            "gridcolor": "white",
            "linecolor": "white",
            "ticks": ""
           }
          },
          "title": {
           "x": 0.05
          },
          "xaxis": {
           "automargin": true,
           "gridcolor": "white",
           "linecolor": "white",
           "ticks": "",
           "title": {
            "standoff": 15
           },
           "zerolinecolor": "white",
           "zerolinewidth": 2
          },
          "yaxis": {
           "automargin": true,
           "gridcolor": "white",
           "linecolor": "white",
           "ticks": "",
           "title": {
            "standoff": 15
           },
           "zerolinecolor": "white",
           "zerolinewidth": 2
          }
         }
        },
        "xaxis": {
         "anchor": "y",
         "domain": [
          0,
          1
         ],
         "title": {
          "text": "meanPeak"
         }
        },
        "yaxis": {
         "anchor": "x",
         "domain": [
          0,
          1
         ],
         "title": {
          "text": "varPeak"
         }
        }
       }
      },
      "text/html": [
       "<div>                            <div id=\"d9c6a923-87d7-4891-8d5e-d6aaec0ba165\" class=\"plotly-graph-div\" style=\"height:525px; width:100%;\"></div>            <script type=\"text/javascript\">                require([\"plotly\"], function(Plotly) {                    window.PLOTLYENV=window.PLOTLYENV || {};                                    if (document.getElementById(\"d9c6a923-87d7-4891-8d5e-d6aaec0ba165\")) {                    Plotly.newPlot(                        \"d9c6a923-87d7-4891-8d5e-d6aaec0ba165\",                        [{\"customdata\":[[\"jan-12-2022\"],[\"jan-12-2022\"],[\"jan-12-2022\"],[\"jan-12-2022\"],[\"jan-12-2022\"],[\"jan-12-2022\"],[\"jan-12-2022\"],[\"jan-12-2022\"],[\"jan-12-2022\"],[\"jan-12-2022\"],[\"jan-12-2022\"],[\"jan-12-2022\"],[\"jan-12-2022\"],[\"jan-12-2022\"],[\"jan-12-2022\"],[\"jan-12-2022\"],[\"jan-12-2022\"],[\"jan-12-2022\"],[\"jan-12-2022\"]],\"hovertemplate\":\"condition=Control<br>dateStr=%{customdata[0]}<br>meanPeak=%{x}<br>varPeak=%{y}<extra></extra>\",\"legendgroup\":\"Control, jan-12-2022\",\"marker\":{\"color\":\"#636efa\",\"symbol\":\"circle\"},\"mode\":\"markers\",\"name\":\"Control, jan-12-2022\",\"orientation\":\"v\",\"showlegend\":true,\"type\":\"scatter\",\"x\":[282.695448426862,343.759287518085,391.021728058043,368.023431977549,347.869413739633,208.368678809715,373.049167550582,350.732331370044,328.781361478297,290.140903309398,295.06398721082,296.56308713209,364.243543930525,306.782393473797,339.609655535206,304.132437807722,293.976408522122,384.951644480709,270.582287850075],\"xaxis\":\"x\",\"y\":[389.504708937951,416.877847377016,455.713036865347,250.59094891465,615.36357683836,154.536270187606,622.665356996891,1429.89551068333,476.009969043115,244.238600473544,369.164426935728,367.880407757186,749.203928962291,609.361172593613,506.980647556644,603.837631578108,427.507438360987,566.51951360516,168.234797662804],\"yaxis\":\"y\"},{\"customdata\":[[\"jan-18-2022\"],[\"jan-18-2022\"],[\"jan-18-2022\"],[\"jan-18-2022\"],[\"jan-18-2022\"]],\"hovertemplate\":\"condition=Control<br>dateStr=%{customdata[0]}<br>meanPeak=%{x}<br>varPeak=%{y}<extra></extra>\",\"legendgroup\":\"Control, jan-18-2022\",\"marker\":{\"color\":\"#636efa\",\"symbol\":\"diamond\"},\"mode\":\"markers\",\"name\":\"Control, jan-18-2022\",\"orientation\":\"v\",\"showlegend\":true,\"type\":\"scatter\",\"x\":[462.548548507208,435.106299930229,456.890684329219,340.98954675303,388.201565022677],\"xaxis\":\"x\",\"y\":[1463.08347609605,1515.3813721007,3753.90791012963,310.751397087379,416.755005509618],\"yaxis\":\"y\"},{\"customdata\":[[\"feb-15-2022\"],[\"feb-15-2022\"],[\"feb-15-2022\"],[\"feb-15-2022\"],[\"feb-15-2022\"]],\"hovertemplate\":\"condition=Control<br>dateStr=%{customdata[0]}<br>meanPeak=%{x}<br>varPeak=%{y}<extra></extra>\",\"legendgroup\":\"Control, feb-15-2022\",\"marker\":{\"color\":\"#636efa\",\"symbol\":\"square\"},\"mode\":\"markers\",\"name\":\"Control, feb-15-2022\",\"orientation\":\"v\",\"showlegend\":true,\"type\":\"scatter\",\"x\":[218.680111167934,158.028117088728,155.425327798555,148.904078311328,252.435898340403],\"xaxis\":\"x\",\"y\":[575.535352395805,79.325703937602,75.7258478303374,26.610254423869,537.785142598472],\"yaxis\":\"y\"},{\"customdata\":[[\"jan-12-2022\"],[\"jan-12-2022\"],[\"jan-12-2022\"],[\"jan-12-2022\"],[\"jan-12-2022\"],[\"jan-12-2022\"],[\"jan-12-2022\"],[\"jan-12-2022\"],[\"jan-12-2022\"],[\"jan-12-2022\"],[\"jan-12-2022\"],[\"jan-12-2022\"]],\"hovertemplate\":\"condition=Thapsigargin<br>dateStr=%{customdata[0]}<br>meanPeak=%{x}<br>varPeak=%{y}<extra></extra>\",\"legendgroup\":\"Thapsigargin, jan-12-2022\",\"marker\":{\"color\":\"#EF553B\",\"symbol\":\"circle\"},\"mode\":\"markers\",\"name\":\"Thapsigargin, jan-12-2022\",\"orientation\":\"v\",\"showlegend\":true,\"type\":\"scatter\",\"x\":[140.474671875744,155.693158675329,150.909169978498,153.314293212927,151.973393846503,144.295839578152,149.557125826794,177.179715812477,181.85063130777,178.019392613309,153.334408111148,151.123978821457],\"xaxis\":\"x\",\"y\":[6.44441853576082,4.79959601579387,25.9603347489287,8.24599081137011,8.3350966105453,6.35064993245252,13.8936688878973,34.3714666204609,10.9808943235497,27.1862214005442,12.6155273557123,7.39835280941341],\"yaxis\":\"y\"},{\"customdata\":[[\"jan-18-2022\"]],\"hovertemplate\":\"condition=Thapsigargin<br>dateStr=%{customdata[0]}<br>meanPeak=%{x}<br>varPeak=%{y}<extra></extra>\",\"legendgroup\":\"Thapsigargin, jan-18-2022\",\"marker\":{\"color\":\"#EF553B\",\"symbol\":\"diamond\"},\"mode\":\"markers\",\"name\":\"Thapsigargin, jan-18-2022\",\"orientation\":\"v\",\"showlegend\":true,\"type\":\"scatter\",\"x\":[157.374046346286],\"xaxis\":\"x\",\"y\":[16.2282717223809],\"yaxis\":\"y\"},{\"customdata\":[[\"feb-15-2022\"],[\"feb-15-2022\"],[\"feb-15-2022\"],[\"feb-15-2022\"]],\"hovertemplate\":\"condition=Thapsigargin<br>dateStr=%{customdata[0]}<br>meanPeak=%{x}<br>varPeak=%{y}<extra></extra>\",\"legendgroup\":\"Thapsigargin, feb-15-2022\",\"marker\":{\"color\":\"#EF553B\",\"symbol\":\"square\"},\"mode\":\"markers\",\"name\":\"Thapsigargin, feb-15-2022\",\"orientation\":\"v\",\"showlegend\":true,\"type\":\"scatter\",\"x\":[148.271897636999,144.486046001291,157.124911401932,153.344325451242],\"xaxis\":\"x\",\"y\":[9.94262806600517,22.7907575922872,34.5839984922794,109.35789567401],\"yaxis\":\"y\"}],                        {\"legend\":{\"title\":{\"text\":\"condition, dateStr\"},\"tracegroupgap\":0},\"margin\":{\"t\":60},\"template\":{\"data\":{\"bar\":[{\"error_x\":{\"color\":\"#2a3f5f\"},\"error_y\":{\"color\":\"#2a3f5f\"},\"marker\":{\"line\":{\"color\":\"#E5ECF6\",\"width\":0.5},\"pattern\":{\"fillmode\":\"overlay\",\"size\":10,\"solidity\":0.2}},\"type\":\"bar\"}],\"barpolar\":[{\"marker\":{\"line\":{\"color\":\"#E5ECF6\",\"width\":0.5},\"pattern\":{\"fillmode\":\"overlay\",\"size\":10,\"solidity\":0.2}},\"type\":\"barpolar\"}],\"carpet\":[{\"aaxis\":{\"endlinecolor\":\"#2a3f5f\",\"gridcolor\":\"white\",\"linecolor\":\"white\",\"minorgridcolor\":\"white\",\"startlinecolor\":\"#2a3f5f\"},\"baxis\":{\"endlinecolor\":\"#2a3f5f\",\"gridcolor\":\"white\",\"linecolor\":\"white\",\"minorgridcolor\":\"white\",\"startlinecolor\":\"#2a3f5f\"},\"type\":\"carpet\"}],\"choropleth\":[{\"colorbar\":{\"outlinewidth\":0,\"ticks\":\"\"},\"type\":\"choropleth\"}],\"contour\":[{\"colorbar\":{\"outlinewidth\":0,\"ticks\":\"\"},\"colorscale\":[[0.0,\"#0d0887\"],[0.1111111111111111,\"#46039f\"],[0.2222222222222222,\"#7201a8\"],[0.3333333333333333,\"#9c179e\"],[0.4444444444444444,\"#bd3786\"],[0.5555555555555556,\"#d8576b\"],[0.6666666666666666,\"#ed7953\"],[0.7777777777777778,\"#fb9f3a\"],[0.8888888888888888,\"#fdca26\"],[1.0,\"#f0f921\"]],\"type\":\"contour\"}],\"contourcarpet\":[{\"colorbar\":{\"outlinewidth\":0,\"ticks\":\"\"},\"type\":\"contourcarpet\"}],\"heatmap\":[{\"colorbar\":{\"outlinewidth\":0,\"ticks\":\"\"},\"colorscale\":[[0.0,\"#0d0887\"],[0.1111111111111111,\"#46039f\"],[0.2222222222222222,\"#7201a8\"],[0.3333333333333333,\"#9c179e\"],[0.4444444444444444,\"#bd3786\"],[0.5555555555555556,\"#d8576b\"],[0.6666666666666666,\"#ed7953\"],[0.7777777777777778,\"#fb9f3a\"],[0.8888888888888888,\"#fdca26\"],[1.0,\"#f0f921\"]],\"type\":\"heatmap\"}],\"heatmapgl\":[{\"colorbar\":{\"outlinewidth\":0,\"ticks\":\"\"},\"colorscale\":[[0.0,\"#0d0887\"],[0.1111111111111111,\"#46039f\"],[0.2222222222222222,\"#7201a8\"],[0.3333333333333333,\"#9c179e\"],[0.4444444444444444,\"#bd3786\"],[0.5555555555555556,\"#d8576b\"],[0.6666666666666666,\"#ed7953\"],[0.7777777777777778,\"#fb9f3a\"],[0.8888888888888888,\"#fdca26\"],[1.0,\"#f0f921\"]],\"type\":\"heatmapgl\"}],\"histogram\":[{\"marker\":{\"pattern\":{\"fillmode\":\"overlay\",\"size\":10,\"solidity\":0.2}},\"type\":\"histogram\"}],\"histogram2d\":[{\"colorbar\":{\"outlinewidth\":0,\"ticks\":\"\"},\"colorscale\":[[0.0,\"#0d0887\"],[0.1111111111111111,\"#46039f\"],[0.2222222222222222,\"#7201a8\"],[0.3333333333333333,\"#9c179e\"],[0.4444444444444444,\"#bd3786\"],[0.5555555555555556,\"#d8576b\"],[0.6666666666666666,\"#ed7953\"],[0.7777777777777778,\"#fb9f3a\"],[0.8888888888888888,\"#fdca26\"],[1.0,\"#f0f921\"]],\"type\":\"histogram2d\"}],\"histogram2dcontour\":[{\"colorbar\":{\"outlinewidth\":0,\"ticks\":\"\"},\"colorscale\":[[0.0,\"#0d0887\"],[0.1111111111111111,\"#46039f\"],[0.2222222222222222,\"#7201a8\"],[0.3333333333333333,\"#9c179e\"],[0.4444444444444444,\"#bd3786\"],[0.5555555555555556,\"#d8576b\"],[0.6666666666666666,\"#ed7953\"],[0.7777777777777778,\"#fb9f3a\"],[0.8888888888888888,\"#fdca26\"],[1.0,\"#f0f921\"]],\"type\":\"histogram2dcontour\"}],\"mesh3d\":[{\"colorbar\":{\"outlinewidth\":0,\"ticks\":\"\"},\"type\":\"mesh3d\"}],\"parcoords\":[{\"line\":{\"colorbar\":{\"outlinewidth\":0,\"ticks\":\"\"}},\"type\":\"parcoords\"}],\"pie\":[{\"automargin\":true,\"type\":\"pie\"}],\"scatter\":[{\"marker\":{\"colorbar\":{\"outlinewidth\":0,\"ticks\":\"\"}},\"type\":\"scatter\"}],\"scatter3d\":[{\"line\":{\"colorbar\":{\"outlinewidth\":0,\"ticks\":\"\"}},\"marker\":{\"colorbar\":{\"outlinewidth\":0,\"ticks\":\"\"}},\"type\":\"scatter3d\"}],\"scattercarpet\":[{\"marker\":{\"colorbar\":{\"outlinewidth\":0,\"ticks\":\"\"}},\"type\":\"scattercarpet\"}],\"scattergeo\":[{\"marker\":{\"colorbar\":{\"outlinewidth\":0,\"ticks\":\"\"}},\"type\":\"scattergeo\"}],\"scattergl\":[{\"marker\":{\"colorbar\":{\"outlinewidth\":0,\"ticks\":\"\"}},\"type\":\"scattergl\"}],\"scattermapbox\":[{\"marker\":{\"colorbar\":{\"outlinewidth\":0,\"ticks\":\"\"}},\"type\":\"scattermapbox\"}],\"scatterpolar\":[{\"marker\":{\"colorbar\":{\"outlinewidth\":0,\"ticks\":\"\"}},\"type\":\"scatterpolar\"}],\"scatterpolargl\":[{\"marker\":{\"colorbar\":{\"outlinewidth\":0,\"ticks\":\"\"}},\"type\":\"scatterpolargl\"}],\"scatterternary\":[{\"marker\":{\"colorbar\":{\"outlinewidth\":0,\"ticks\":\"\"}},\"type\":\"scatterternary\"}],\"surface\":[{\"colorbar\":{\"outlinewidth\":0,\"ticks\":\"\"},\"colorscale\":[[0.0,\"#0d0887\"],[0.1111111111111111,\"#46039f\"],[0.2222222222222222,\"#7201a8\"],[0.3333333333333333,\"#9c179e\"],[0.4444444444444444,\"#bd3786\"],[0.5555555555555556,\"#d8576b\"],[0.6666666666666666,\"#ed7953\"],[0.7777777777777778,\"#fb9f3a\"],[0.8888888888888888,\"#fdca26\"],[1.0,\"#f0f921\"]],\"type\":\"surface\"}],\"table\":[{\"cells\":{\"fill\":{\"color\":\"#EBF0F8\"},\"line\":{\"color\":\"white\"}},\"header\":{\"fill\":{\"color\":\"#C8D4E3\"},\"line\":{\"color\":\"white\"}},\"type\":\"table\"}]},\"layout\":{\"annotationdefaults\":{\"arrowcolor\":\"#2a3f5f\",\"arrowhead\":0,\"arrowwidth\":1},\"autotypenumbers\":\"strict\",\"coloraxis\":{\"colorbar\":{\"outlinewidth\":0,\"ticks\":\"\"}},\"colorscale\":{\"diverging\":[[0,\"#8e0152\"],[0.1,\"#c51b7d\"],[0.2,\"#de77ae\"],[0.3,\"#f1b6da\"],[0.4,\"#fde0ef\"],[0.5,\"#f7f7f7\"],[0.6,\"#e6f5d0\"],[0.7,\"#b8e186\"],[0.8,\"#7fbc41\"],[0.9,\"#4d9221\"],[1,\"#276419\"]],\"sequential\":[[0.0,\"#0d0887\"],[0.1111111111111111,\"#46039f\"],[0.2222222222222222,\"#7201a8\"],[0.3333333333333333,\"#9c179e\"],[0.4444444444444444,\"#bd3786\"],[0.5555555555555556,\"#d8576b\"],[0.6666666666666666,\"#ed7953\"],[0.7777777777777778,\"#fb9f3a\"],[0.8888888888888888,\"#fdca26\"],[1.0,\"#f0f921\"]],\"sequentialminus\":[[0.0,\"#0d0887\"],[0.1111111111111111,\"#46039f\"],[0.2222222222222222,\"#7201a8\"],[0.3333333333333333,\"#9c179e\"],[0.4444444444444444,\"#bd3786\"],[0.5555555555555556,\"#d8576b\"],[0.6666666666666666,\"#ed7953\"],[0.7777777777777778,\"#fb9f3a\"],[0.8888888888888888,\"#fdca26\"],[1.0,\"#f0f921\"]]},\"colorway\":[\"#636efa\",\"#EF553B\",\"#00cc96\",\"#ab63fa\",\"#FFA15A\",\"#19d3f3\",\"#FF6692\",\"#B6E880\",\"#FF97FF\",\"#FECB52\"],\"font\":{\"color\":\"#2a3f5f\"},\"geo\":{\"bgcolor\":\"white\",\"lakecolor\":\"white\",\"landcolor\":\"#E5ECF6\",\"showlakes\":true,\"showland\":true,\"subunitcolor\":\"white\"},\"hoverlabel\":{\"align\":\"left\"},\"hovermode\":\"closest\",\"mapbox\":{\"style\":\"light\"},\"paper_bgcolor\":\"white\",\"plot_bgcolor\":\"#E5ECF6\",\"polar\":{\"angularaxis\":{\"gridcolor\":\"white\",\"linecolor\":\"white\",\"ticks\":\"\"},\"bgcolor\":\"#E5ECF6\",\"radialaxis\":{\"gridcolor\":\"white\",\"linecolor\":\"white\",\"ticks\":\"\"}},\"scene\":{\"xaxis\":{\"backgroundcolor\":\"#E5ECF6\",\"gridcolor\":\"white\",\"gridwidth\":2,\"linecolor\":\"white\",\"showbackground\":true,\"ticks\":\"\",\"zerolinecolor\":\"white\"},\"yaxis\":{\"backgroundcolor\":\"#E5ECF6\",\"gridcolor\":\"white\",\"gridwidth\":2,\"linecolor\":\"white\",\"showbackground\":true,\"ticks\":\"\",\"zerolinecolor\":\"white\"},\"zaxis\":{\"backgroundcolor\":\"#E5ECF6\",\"gridcolor\":\"white\",\"gridwidth\":2,\"linecolor\":\"white\",\"showbackground\":true,\"ticks\":\"\",\"zerolinecolor\":\"white\"}},\"shapedefaults\":{\"line\":{\"color\":\"#2a3f5f\"}},\"ternary\":{\"aaxis\":{\"gridcolor\":\"white\",\"linecolor\":\"white\",\"ticks\":\"\"},\"baxis\":{\"gridcolor\":\"white\",\"linecolor\":\"white\",\"ticks\":\"\"},\"bgcolor\":\"#E5ECF6\",\"caxis\":{\"gridcolor\":\"white\",\"linecolor\":\"white\",\"ticks\":\"\"}},\"title\":{\"x\":0.05},\"xaxis\":{\"automargin\":true,\"gridcolor\":\"white\",\"linecolor\":\"white\",\"ticks\":\"\",\"title\":{\"standoff\":15},\"zerolinecolor\":\"white\",\"zerolinewidth\":2},\"yaxis\":{\"automargin\":true,\"gridcolor\":\"white\",\"linecolor\":\"white\",\"ticks\":\"\",\"title\":{\"standoff\":15},\"zerolinecolor\":\"white\",\"zerolinewidth\":2}}},\"xaxis\":{\"anchor\":\"y\",\"domain\":[0.0,1.0],\"title\":{\"text\":\"meanPeak\"}},\"yaxis\":{\"anchor\":\"x\",\"domain\":[0.0,1.0],\"title\":{\"text\":\"varPeak\"}}},                        {\"responsive\": true}                    ).then(function(){\n",
       "                            \n",
       "var gd = document.getElementById('d9c6a923-87d7-4891-8d5e-d6aaec0ba165');\n",
       "var x = new MutationObserver(function (mutations, observer) {{\n",
       "        var display = window.getComputedStyle(gd).display;\n",
       "        if (!display || display === 'none') {{\n",
       "            console.log([gd, 'removed!']);\n",
       "            Plotly.purge(gd);\n",
       "            observer.disconnect();\n",
       "        }}\n",
       "}});\n",
       "\n",
       "// Listen for the removal of the full notebook cells\n",
       "var notebookContainer = gd.closest('#notebook-container');\n",
       "if (notebookContainer) {{\n",
       "    x.observe(notebookContainer, {childList: true});\n",
       "}}\n",
       "\n",
       "// Listen for the clearing of the current output cell\n",
       "var outputEl = gd.closest('.output');\n",
       "if (outputEl) {{\n",
       "    x.observe(outputEl, {childList: true});\n",
       "}}\n",
       "\n",
       "                        })                };                });            </script>        </div>"
      ]
     },
     "metadata": {},
     "output_type": "display_data"
    }
   ],
   "source": [
    "import plotly.express as px\n",
    "\n",
    "xStat = 'meanPeak'  # mean peak amplitude across all peaks\n",
    "yStat = 'varPeak'  # var measured from spike clips\n",
    "#yStat = 'peakVal_var'  # var measured from actual peaks (each spike has a peak)\n",
    "\n",
    "fig = px.scatter(dfSummary, x=xStat, y=yStat,\n",
    "                color='condition',\n",
    "                symbol='dateStr',\n",
    "                hover_data=['dateStr'])\n",
    "fig.show()"
   ]
  },
  {
   "cell_type": "code",
   "execution_count": 24,
   "id": "66763306",
   "metadata": {},
   "outputs": [
    {
     "data": {
      "application/vnd.plotly.v1+json": {
       "config": {
        "plotlyServerURL": "https://plot.ly"
       },
       "data": [
        {
         "customdata": [
          [
           "jan-12-2022"
          ],
          [
           "jan-12-2022"
          ],
          [
           "jan-12-2022"
          ],
          [
           "jan-12-2022"
          ],
          [
           "jan-12-2022"
          ],
          [
           "jan-12-2022"
          ],
          [
           "jan-12-2022"
          ],
          [
           "jan-12-2022"
          ],
          [
           "jan-12-2022"
          ],
          [
           "jan-12-2022"
          ],
          [
           "jan-12-2022"
          ],
          [
           "jan-12-2022"
          ],
          [
           "jan-12-2022"
          ],
          [
           "jan-12-2022"
          ],
          [
           "jan-12-2022"
          ],
          [
           "jan-12-2022"
          ],
          [
           "jan-12-2022"
          ],
          [
           "jan-12-2022"
          ],
          [
           "jan-12-2022"
          ]
         ],
         "hovertemplate": "condition=Control<br>dateStr=%{customdata[0]}<br>percentChangeInPeakVal=%{x}<br>varPeak=%{y}<br>meanPeak=%{marker.size}<extra></extra>",
         "legendgroup": "Control, jan-12-2022",
         "marker": {
          "color": "#636efa",
          "size": [
           282.695448426862,
           343.759287518085,
           391.021728058043,
           368.023431977549,
           347.869413739633,
           208.368678809715,
           373.049167550582,
           350.732331370044,
           328.781361478297,
           290.140903309398,
           295.06398721082,
           296.56308713209,
           364.243543930525,
           306.782393473797,
           339.609655535206,
           304.132437807722,
           293.976408522122,
           384.951644480709,
           270.582287850075
          ],
          "sizemode": "area",
          "sizeref": 1.15637137126802,
          "symbol": "circle"
         },
         "mode": "markers",
         "name": "Control, jan-12-2022",
         "orientation": "v",
         "showlegend": true,
         "type": "scatter",
         "x": [
          96,
          92,
          98,
          96,
          88,
          91,
          95,
          96,
          90,
          91,
          98,
          92,
          88,
          95,
          94,
          95,
          91,
          101,
          94
         ],
         "xaxis": "x",
         "y": [
          389.504708937951,
          416.877847377016,
          455.713036865347,
          250.59094891465,
          615.36357683836,
          154.536270187606,
          622.665356996891,
          1429.89551068333,
          476.009969043115,
          244.238600473544,
          369.164426935728,
          367.880407757186,
          749.203928962291,
          609.361172593613,
          506.980647556644,
          603.837631578108,
          427.507438360987,
          566.51951360516,
          168.234797662804
         ],
         "yaxis": "y"
        },
        {
         "customdata": [
          [
           "jan-18-2022"
          ],
          [
           "jan-18-2022"
          ],
          [
           "jan-18-2022"
          ],
          [
           "jan-18-2022"
          ],
          [
           "jan-18-2022"
          ]
         ],
         "hovertemplate": "condition=Control<br>dateStr=%{customdata[0]}<br>percentChangeInPeakVal=%{x}<br>varPeak=%{y}<br>meanPeak=%{marker.size}<extra></extra>",
         "legendgroup": "Control, jan-18-2022",
         "marker": {
          "color": "#636efa",
          "size": [
           462.548548507208,
           435.106299930229,
           456.890684329219,
           340.98954675303,
           388.201565022677
          ],
          "sizemode": "area",
          "sizeref": 1.15637137126802,
          "symbol": "diamond"
         },
         "mode": "markers",
         "name": "Control, jan-18-2022",
         "orientation": "v",
         "showlegend": true,
         "type": "scatter",
         "x": [
          88,
          93,
          84,
          97,
          91
         ],
         "xaxis": "x",
         "y": [
          1463.08347609605,
          1515.3813721007,
          3753.90791012963,
          310.751397087379,
          416.755005509618
         ],
         "yaxis": "y"
        },
        {
         "customdata": [
          [
           "feb-15-2022"
          ],
          [
           "feb-15-2022"
          ],
          [
           "feb-15-2022"
          ],
          [
           "feb-15-2022"
          ],
          [
           "feb-15-2022"
          ]
         ],
         "hovertemplate": "condition=Control<br>dateStr=%{customdata[0]}<br>percentChangeInPeakVal=%{x}<br>varPeak=%{y}<br>meanPeak=%{marker.size}<extra></extra>",
         "legendgroup": "Control, feb-15-2022",
         "marker": {
          "color": "#636efa",
          "size": [
           218.680111167934,
           158.028117088728,
           155.425327798555,
           148.904078311328,
           252.435898340403
          ],
          "sizemode": "area",
          "sizeref": 1.15637137126802,
          "symbol": "square"
         },
         "mode": "markers",
         "name": "Control, feb-15-2022",
         "orientation": "v",
         "showlegend": true,
         "type": "scatter",
         "x": [
          90,
          94,
          91,
          94,
          97
         ],
         "xaxis": "x",
         "y": [
          575.535352395805,
          79.325703937602,
          75.7258478303374,
          26.610254423869,
          537.785142598472
         ],
         "yaxis": "y"
        },
        {
         "customdata": [
          [
           "jan-12-2022"
          ],
          [
           "jan-12-2022"
          ],
          [
           "jan-12-2022"
          ],
          [
           "jan-12-2022"
          ],
          [
           "jan-12-2022"
          ],
          [
           "jan-12-2022"
          ],
          [
           "jan-12-2022"
          ],
          [
           "jan-12-2022"
          ],
          [
           "jan-12-2022"
          ],
          [
           "jan-12-2022"
          ],
          [
           "jan-12-2022"
          ],
          [
           "jan-12-2022"
          ]
         ],
         "hovertemplate": "condition=Thapsigargin<br>dateStr=%{customdata[0]}<br>percentChangeInPeakVal=%{x}<br>varPeak=%{y}<br>meanPeak=%{marker.size}<extra></extra>",
         "legendgroup": "Thapsigargin, jan-12-2022",
         "marker": {
          "color": "#EF553B",
          "size": [
           140.474671875744,
           155.693158675329,
           150.909169978498,
           153.314293212927,
           151.973393846503,
           144.295839578152,
           149.557125826794,
           177.179715812477,
           181.85063130777,
           178.019392613309,
           153.334408111148,
           151.123978821457
          ],
          "sizemode": "area",
          "sizeref": 1.15637137126802,
          "symbol": "circle"
         },
         "mode": "markers",
         "name": "Thapsigargin, jan-12-2022",
         "orientation": "v",
         "showlegend": true,
         "type": "scatter",
         "x": [
          97,
          101,
          96,
          97,
          96,
          98,
          95,
          95,
          98,
          96,
          97,
          98
         ],
         "xaxis": "x",
         "y": [
          6.44441853576082,
          4.79959601579387,
          25.9603347489287,
          8.24599081137011,
          8.3350966105453,
          6.35064993245252,
          13.8936688878973,
          34.3714666204609,
          10.9808943235497,
          27.1862214005442,
          12.6155273557123,
          7.39835280941341
         ],
         "yaxis": "y"
        },
        {
         "customdata": [
          [
           "jan-18-2022"
          ]
         ],
         "hovertemplate": "condition=Thapsigargin<br>dateStr=%{customdata[0]}<br>percentChangeInPeakVal=%{x}<br>varPeak=%{y}<br>meanPeak=%{marker.size}<extra></extra>",
         "legendgroup": "Thapsigargin, jan-18-2022",
         "marker": {
          "color": "#EF553B",
          "size": [
           157.374046346286
          ],
          "sizemode": "area",
          "sizeref": 1.15637137126802,
          "symbol": "diamond"
         },
         "mode": "markers",
         "name": "Thapsigargin, jan-18-2022",
         "orientation": "v",
         "showlegend": true,
         "type": "scatter",
         "x": [
          93
         ],
         "xaxis": "x",
         "y": [
          16.2282717223809
         ],
         "yaxis": "y"
        },
        {
         "customdata": [
          [
           "feb-15-2022"
          ],
          [
           "feb-15-2022"
          ],
          [
           "feb-15-2022"
          ],
          [
           "feb-15-2022"
          ]
         ],
         "hovertemplate": "condition=Thapsigargin<br>dateStr=%{customdata[0]}<br>percentChangeInPeakVal=%{x}<br>varPeak=%{y}<br>meanPeak=%{marker.size}<extra></extra>",
         "legendgroup": "Thapsigargin, feb-15-2022",
         "marker": {
          "color": "#EF553B",
          "size": [
           148.271897636999,
           144.486046001291,
           157.124911401932,
           153.344325451242
          ],
          "sizemode": "area",
          "sizeref": 1.15637137126802,
          "symbol": "square"
         },
         "mode": "markers",
         "name": "Thapsigargin, feb-15-2022",
         "orientation": "v",
         "showlegend": true,
         "type": "scatter",
         "x": [
          99,
          98,
          98,
          95
         ],
         "xaxis": "x",
         "y": [
          9.94262806600517,
          22.7907575922872,
          34.5839984922794,
          109.35789567401
         ],
         "yaxis": "y"
        }
       ],
       "layout": {
        "legend": {
         "itemsizing": "constant",
         "title": {
          "text": "condition, dateStr"
         },
         "tracegroupgap": 0
        },
        "margin": {
         "t": 60
        },
        "template": {
         "data": {
          "bar": [
           {
            "error_x": {
             "color": "#2a3f5f"
            },
            "error_y": {
             "color": "#2a3f5f"
            },
            "marker": {
             "line": {
              "color": "#E5ECF6",
              "width": 0.5
             },
             "pattern": {
              "fillmode": "overlay",
              "size": 10,
              "solidity": 0.2
             }
            },
            "type": "bar"
           }
          ],
          "barpolar": [
           {
            "marker": {
             "line": {
              "color": "#E5ECF6",
              "width": 0.5
             },
             "pattern": {
              "fillmode": "overlay",
              "size": 10,
              "solidity": 0.2
             }
            },
            "type": "barpolar"
           }
          ],
          "carpet": [
           {
            "aaxis": {
             "endlinecolor": "#2a3f5f",
             "gridcolor": "white",
             "linecolor": "white",
             "minorgridcolor": "white",
             "startlinecolor": "#2a3f5f"
            },
            "baxis": {
             "endlinecolor": "#2a3f5f",
             "gridcolor": "white",
             "linecolor": "white",
             "minorgridcolor": "white",
             "startlinecolor": "#2a3f5f"
            },
            "type": "carpet"
           }
          ],
          "choropleth": [
           {
            "colorbar": {
             "outlinewidth": 0,
             "ticks": ""
            },
            "type": "choropleth"
           }
          ],
          "contour": [
           {
            "colorbar": {
             "outlinewidth": 0,
             "ticks": ""
            },
            "colorscale": [
             [
              0,
              "#0d0887"
             ],
             [
              0.1111111111111111,
              "#46039f"
             ],
             [
              0.2222222222222222,
              "#7201a8"
             ],
             [
              0.3333333333333333,
              "#9c179e"
             ],
             [
              0.4444444444444444,
              "#bd3786"
             ],
             [
              0.5555555555555556,
              "#d8576b"
             ],
             [
              0.6666666666666666,
              "#ed7953"
             ],
             [
              0.7777777777777778,
              "#fb9f3a"
             ],
             [
              0.8888888888888888,
              "#fdca26"
             ],
             [
              1,
              "#f0f921"
             ]
            ],
            "type": "contour"
           }
          ],
          "contourcarpet": [
           {
            "colorbar": {
             "outlinewidth": 0,
             "ticks": ""
            },
            "type": "contourcarpet"
           }
          ],
          "heatmap": [
           {
            "colorbar": {
             "outlinewidth": 0,
             "ticks": ""
            },
            "colorscale": [
             [
              0,
              "#0d0887"
             ],
             [
              0.1111111111111111,
              "#46039f"
             ],
             [
              0.2222222222222222,
              "#7201a8"
             ],
             [
              0.3333333333333333,
              "#9c179e"
             ],
             [
              0.4444444444444444,
              "#bd3786"
             ],
             [
              0.5555555555555556,
              "#d8576b"
             ],
             [
              0.6666666666666666,
              "#ed7953"
             ],
             [
              0.7777777777777778,
              "#fb9f3a"
             ],
             [
              0.8888888888888888,
              "#fdca26"
             ],
             [
              1,
              "#f0f921"
             ]
            ],
            "type": "heatmap"
           }
          ],
          "heatmapgl": [
           {
            "colorbar": {
             "outlinewidth": 0,
             "ticks": ""
            },
            "colorscale": [
             [
              0,
              "#0d0887"
             ],
             [
              0.1111111111111111,
              "#46039f"
             ],
             [
              0.2222222222222222,
              "#7201a8"
             ],
             [
              0.3333333333333333,
              "#9c179e"
             ],
             [
              0.4444444444444444,
              "#bd3786"
             ],
             [
              0.5555555555555556,
              "#d8576b"
             ],
             [
              0.6666666666666666,
              "#ed7953"
             ],
             [
              0.7777777777777778,
              "#fb9f3a"
             ],
             [
              0.8888888888888888,
              "#fdca26"
             ],
             [
              1,
              "#f0f921"
             ]
            ],
            "type": "heatmapgl"
           }
          ],
          "histogram": [
           {
            "marker": {
             "pattern": {
              "fillmode": "overlay",
              "size": 10,
              "solidity": 0.2
             }
            },
            "type": "histogram"
           }
          ],
          "histogram2d": [
           {
            "colorbar": {
             "outlinewidth": 0,
             "ticks": ""
            },
            "colorscale": [
             [
              0,
              "#0d0887"
             ],
             [
              0.1111111111111111,
              "#46039f"
             ],
             [
              0.2222222222222222,
              "#7201a8"
             ],
             [
              0.3333333333333333,
              "#9c179e"
             ],
             [
              0.4444444444444444,
              "#bd3786"
             ],
             [
              0.5555555555555556,
              "#d8576b"
             ],
             [
              0.6666666666666666,
              "#ed7953"
             ],
             [
              0.7777777777777778,
              "#fb9f3a"
             ],
             [
              0.8888888888888888,
              "#fdca26"
             ],
             [
              1,
              "#f0f921"
             ]
            ],
            "type": "histogram2d"
           }
          ],
          "histogram2dcontour": [
           {
            "colorbar": {
             "outlinewidth": 0,
             "ticks": ""
            },
            "colorscale": [
             [
              0,
              "#0d0887"
             ],
             [
              0.1111111111111111,
              "#46039f"
             ],
             [
              0.2222222222222222,
              "#7201a8"
             ],
             [
              0.3333333333333333,
              "#9c179e"
             ],
             [
              0.4444444444444444,
              "#bd3786"
             ],
             [
              0.5555555555555556,
              "#d8576b"
             ],
             [
              0.6666666666666666,
              "#ed7953"
             ],
             [
              0.7777777777777778,
              "#fb9f3a"
             ],
             [
              0.8888888888888888,
              "#fdca26"
             ],
             [
              1,
              "#f0f921"
             ]
            ],
            "type": "histogram2dcontour"
           }
          ],
          "mesh3d": [
           {
            "colorbar": {
             "outlinewidth": 0,
             "ticks": ""
            },
            "type": "mesh3d"
           }
          ],
          "parcoords": [
           {
            "line": {
             "colorbar": {
              "outlinewidth": 0,
              "ticks": ""
             }
            },
            "type": "parcoords"
           }
          ],
          "pie": [
           {
            "automargin": true,
            "type": "pie"
           }
          ],
          "scatter": [
           {
            "marker": {
             "colorbar": {
              "outlinewidth": 0,
              "ticks": ""
             }
            },
            "type": "scatter"
           }
          ],
          "scatter3d": [
           {
            "line": {
             "colorbar": {
              "outlinewidth": 0,
              "ticks": ""
             }
            },
            "marker": {
             "colorbar": {
              "outlinewidth": 0,
              "ticks": ""
             }
            },
            "type": "scatter3d"
           }
          ],
          "scattercarpet": [
           {
            "marker": {
             "colorbar": {
              "outlinewidth": 0,
              "ticks": ""
             }
            },
            "type": "scattercarpet"
           }
          ],
          "scattergeo": [
           {
            "marker": {
             "colorbar": {
              "outlinewidth": 0,
              "ticks": ""
             }
            },
            "type": "scattergeo"
           }
          ],
          "scattergl": [
           {
            "marker": {
             "colorbar": {
              "outlinewidth": 0,
              "ticks": ""
             }
            },
            "type": "scattergl"
           }
          ],
          "scattermapbox": [
           {
            "marker": {
             "colorbar": {
              "outlinewidth": 0,
              "ticks": ""
             }
            },
            "type": "scattermapbox"
           }
          ],
          "scatterpolar": [
           {
            "marker": {
             "colorbar": {
              "outlinewidth": 0,
              "ticks": ""
             }
            },
            "type": "scatterpolar"
           }
          ],
          "scatterpolargl": [
           {
            "marker": {
             "colorbar": {
              "outlinewidth": 0,
              "ticks": ""
             }
            },
            "type": "scatterpolargl"
           }
          ],
          "scatterternary": [
           {
            "marker": {
             "colorbar": {
              "outlinewidth": 0,
              "ticks": ""
             }
            },
            "type": "scatterternary"
           }
          ],
          "surface": [
           {
            "colorbar": {
             "outlinewidth": 0,
             "ticks": ""
            },
            "colorscale": [
             [
              0,
              "#0d0887"
             ],
             [
              0.1111111111111111,
              "#46039f"
             ],
             [
              0.2222222222222222,
              "#7201a8"
             ],
             [
              0.3333333333333333,
              "#9c179e"
             ],
             [
              0.4444444444444444,
              "#bd3786"
             ],
             [
              0.5555555555555556,
              "#d8576b"
             ],
             [
              0.6666666666666666,
              "#ed7953"
             ],
             [
              0.7777777777777778,
              "#fb9f3a"
             ],
             [
              0.8888888888888888,
              "#fdca26"
             ],
             [
              1,
              "#f0f921"
             ]
            ],
            "type": "surface"
           }
          ],
          "table": [
           {
            "cells": {
             "fill": {
              "color": "#EBF0F8"
             },
             "line": {
              "color": "white"
             }
            },
            "header": {
             "fill": {
              "color": "#C8D4E3"
             },
             "line": {
              "color": "white"
             }
            },
            "type": "table"
           }
          ]
         },
         "layout": {
          "annotationdefaults": {
           "arrowcolor": "#2a3f5f",
           "arrowhead": 0,
           "arrowwidth": 1
          },
          "autotypenumbers": "strict",
          "coloraxis": {
           "colorbar": {
            "outlinewidth": 0,
            "ticks": ""
           }
          },
          "colorscale": {
           "diverging": [
            [
             0,
             "#8e0152"
            ],
            [
             0.1,
             "#c51b7d"
            ],
            [
             0.2,
             "#de77ae"
            ],
            [
             0.3,
             "#f1b6da"
            ],
            [
             0.4,
             "#fde0ef"
            ],
            [
             0.5,
             "#f7f7f7"
            ],
            [
             0.6,
             "#e6f5d0"
            ],
            [
             0.7,
             "#b8e186"
            ],
            [
             0.8,
             "#7fbc41"
            ],
            [
             0.9,
             "#4d9221"
            ],
            [
             1,
             "#276419"
            ]
           ],
           "sequential": [
            [
             0,
             "#0d0887"
            ],
            [
             0.1111111111111111,
             "#46039f"
            ],
            [
             0.2222222222222222,
             "#7201a8"
            ],
            [
             0.3333333333333333,
             "#9c179e"
            ],
            [
             0.4444444444444444,
             "#bd3786"
            ],
            [
             0.5555555555555556,
             "#d8576b"
            ],
            [
             0.6666666666666666,
             "#ed7953"
            ],
            [
             0.7777777777777778,
             "#fb9f3a"
            ],
            [
             0.8888888888888888,
             "#fdca26"
            ],
            [
             1,
             "#f0f921"
            ]
           ],
           "sequentialminus": [
            [
             0,
             "#0d0887"
            ],
            [
             0.1111111111111111,
             "#46039f"
            ],
            [
             0.2222222222222222,
             "#7201a8"
            ],
            [
             0.3333333333333333,
             "#9c179e"
            ],
            [
             0.4444444444444444,
             "#bd3786"
            ],
            [
             0.5555555555555556,
             "#d8576b"
            ],
            [
             0.6666666666666666,
             "#ed7953"
            ],
            [
             0.7777777777777778,
             "#fb9f3a"
            ],
            [
             0.8888888888888888,
             "#fdca26"
            ],
            [
             1,
             "#f0f921"
            ]
           ]
          },
          "colorway": [
           "#636efa",
           "#EF553B",
           "#00cc96",
           "#ab63fa",
           "#FFA15A",
           "#19d3f3",
           "#FF6692",
           "#B6E880",
           "#FF97FF",
           "#FECB52"
          ],
          "font": {
           "color": "#2a3f5f"
          },
          "geo": {
           "bgcolor": "white",
           "lakecolor": "white",
           "landcolor": "#E5ECF6",
           "showlakes": true,
           "showland": true,
           "subunitcolor": "white"
          },
          "hoverlabel": {
           "align": "left"
          },
          "hovermode": "closest",
          "mapbox": {
           "style": "light"
          },
          "paper_bgcolor": "white",
          "plot_bgcolor": "#E5ECF6",
          "polar": {
           "angularaxis": {
            "gridcolor": "white",
            "linecolor": "white",
            "ticks": ""
           },
           "bgcolor": "#E5ECF6",
           "radialaxis": {
            "gridcolor": "white",
            "linecolor": "white",
            "ticks": ""
           }
          },
          "scene": {
           "xaxis": {
            "backgroundcolor": "#E5ECF6",
            "gridcolor": "white",
            "gridwidth": 2,
            "linecolor": "white",
            "showbackground": true,
            "ticks": "",
            "zerolinecolor": "white"
           },
           "yaxis": {
            "backgroundcolor": "#E5ECF6",
            "gridcolor": "white",
            "gridwidth": 2,
            "linecolor": "white",
            "showbackground": true,
            "ticks": "",
            "zerolinecolor": "white"
           },
           "zaxis": {
            "backgroundcolor": "#E5ECF6",
            "gridcolor": "white",
            "gridwidth": 2,
            "linecolor": "white",
            "showbackground": true,
            "ticks": "",
            "zerolinecolor": "white"
           }
          },
          "shapedefaults": {
           "line": {
            "color": "#2a3f5f"
           }
          },
          "ternary": {
           "aaxis": {
            "gridcolor": "white",
            "linecolor": "white",
            "ticks": ""
           },
           "baxis": {
            "gridcolor": "white",
            "linecolor": "white",
            "ticks": ""
           },
           "bgcolor": "#E5ECF6",
           "caxis": {
            "gridcolor": "white",
            "linecolor": "white",
            "ticks": ""
           }
          },
          "title": {
           "x": 0.05
          },
          "xaxis": {
           "automargin": true,
           "gridcolor": "white",
           "linecolor": "white",
           "ticks": "",
           "title": {
            "standoff": 15
           },
           "zerolinecolor": "white",
           "zerolinewidth": 2
          },
          "yaxis": {
           "automargin": true,
           "gridcolor": "white",
           "linecolor": "white",
           "ticks": "",
           "title": {
            "standoff": 15
           },
           "zerolinecolor": "white",
           "zerolinewidth": 2
          }
         }
        },
        "xaxis": {
         "anchor": "y",
         "domain": [
          0,
          1
         ],
         "title": {
          "text": "percentChangeInPeakVal"
         }
        },
        "yaxis": {
         "anchor": "x",
         "domain": [
          0,
          1
         ],
         "title": {
          "text": "varPeak"
         }
        }
       }
      },
      "text/html": [
       "<div>                            <div id=\"2ba2ff80-3aa0-4cc1-b740-a34eef0bafc1\" class=\"plotly-graph-div\" style=\"height:525px; width:100%;\"></div>            <script type=\"text/javascript\">                require([\"plotly\"], function(Plotly) {                    window.PLOTLYENV=window.PLOTLYENV || {};                                    if (document.getElementById(\"2ba2ff80-3aa0-4cc1-b740-a34eef0bafc1\")) {                    Plotly.newPlot(                        \"2ba2ff80-3aa0-4cc1-b740-a34eef0bafc1\",                        [{\"customdata\":[[\"jan-12-2022\"],[\"jan-12-2022\"],[\"jan-12-2022\"],[\"jan-12-2022\"],[\"jan-12-2022\"],[\"jan-12-2022\"],[\"jan-12-2022\"],[\"jan-12-2022\"],[\"jan-12-2022\"],[\"jan-12-2022\"],[\"jan-12-2022\"],[\"jan-12-2022\"],[\"jan-12-2022\"],[\"jan-12-2022\"],[\"jan-12-2022\"],[\"jan-12-2022\"],[\"jan-12-2022\"],[\"jan-12-2022\"],[\"jan-12-2022\"]],\"hovertemplate\":\"condition=Control<br>dateStr=%{customdata[0]}<br>percentChangeInPeakVal=%{x}<br>varPeak=%{y}<br>meanPeak=%{marker.size}<extra></extra>\",\"legendgroup\":\"Control, jan-12-2022\",\"marker\":{\"color\":\"#636efa\",\"size\":[282.695448426862,343.759287518085,391.021728058043,368.023431977549,347.869413739633,208.368678809715,373.049167550582,350.732331370044,328.781361478297,290.140903309398,295.06398721082,296.56308713209,364.243543930525,306.782393473797,339.609655535206,304.132437807722,293.976408522122,384.951644480709,270.582287850075],\"sizemode\":\"area\",\"sizeref\":1.15637137126802,\"symbol\":\"circle\"},\"mode\":\"markers\",\"name\":\"Control, jan-12-2022\",\"orientation\":\"v\",\"showlegend\":true,\"type\":\"scatter\",\"x\":[96,92,98,96,88,91,95,96,90,91,98,92,88,95,94,95,91,101,94],\"xaxis\":\"x\",\"y\":[389.504708937951,416.877847377016,455.713036865347,250.59094891465,615.36357683836,154.536270187606,622.665356996891,1429.89551068333,476.009969043115,244.238600473544,369.164426935728,367.880407757186,749.203928962291,609.361172593613,506.980647556644,603.837631578108,427.507438360987,566.51951360516,168.234797662804],\"yaxis\":\"y\"},{\"customdata\":[[\"jan-18-2022\"],[\"jan-18-2022\"],[\"jan-18-2022\"],[\"jan-18-2022\"],[\"jan-18-2022\"]],\"hovertemplate\":\"condition=Control<br>dateStr=%{customdata[0]}<br>percentChangeInPeakVal=%{x}<br>varPeak=%{y}<br>meanPeak=%{marker.size}<extra></extra>\",\"legendgroup\":\"Control, jan-18-2022\",\"marker\":{\"color\":\"#636efa\",\"size\":[462.548548507208,435.106299930229,456.890684329219,340.98954675303,388.201565022677],\"sizemode\":\"area\",\"sizeref\":1.15637137126802,\"symbol\":\"diamond\"},\"mode\":\"markers\",\"name\":\"Control, jan-18-2022\",\"orientation\":\"v\",\"showlegend\":true,\"type\":\"scatter\",\"x\":[88,93,84,97,91],\"xaxis\":\"x\",\"y\":[1463.08347609605,1515.3813721007,3753.90791012963,310.751397087379,416.755005509618],\"yaxis\":\"y\"},{\"customdata\":[[\"feb-15-2022\"],[\"feb-15-2022\"],[\"feb-15-2022\"],[\"feb-15-2022\"],[\"feb-15-2022\"]],\"hovertemplate\":\"condition=Control<br>dateStr=%{customdata[0]}<br>percentChangeInPeakVal=%{x}<br>varPeak=%{y}<br>meanPeak=%{marker.size}<extra></extra>\",\"legendgroup\":\"Control, feb-15-2022\",\"marker\":{\"color\":\"#636efa\",\"size\":[218.680111167934,158.028117088728,155.425327798555,148.904078311328,252.435898340403],\"sizemode\":\"area\",\"sizeref\":1.15637137126802,\"symbol\":\"square\"},\"mode\":\"markers\",\"name\":\"Control, feb-15-2022\",\"orientation\":\"v\",\"showlegend\":true,\"type\":\"scatter\",\"x\":[90,94,91,94,97],\"xaxis\":\"x\",\"y\":[575.535352395805,79.325703937602,75.7258478303374,26.610254423869,537.785142598472],\"yaxis\":\"y\"},{\"customdata\":[[\"jan-12-2022\"],[\"jan-12-2022\"],[\"jan-12-2022\"],[\"jan-12-2022\"],[\"jan-12-2022\"],[\"jan-12-2022\"],[\"jan-12-2022\"],[\"jan-12-2022\"],[\"jan-12-2022\"],[\"jan-12-2022\"],[\"jan-12-2022\"],[\"jan-12-2022\"]],\"hovertemplate\":\"condition=Thapsigargin<br>dateStr=%{customdata[0]}<br>percentChangeInPeakVal=%{x}<br>varPeak=%{y}<br>meanPeak=%{marker.size}<extra></extra>\",\"legendgroup\":\"Thapsigargin, jan-12-2022\",\"marker\":{\"color\":\"#EF553B\",\"size\":[140.474671875744,155.693158675329,150.909169978498,153.314293212927,151.973393846503,144.295839578152,149.557125826794,177.179715812477,181.85063130777,178.019392613309,153.334408111148,151.123978821457],\"sizemode\":\"area\",\"sizeref\":1.15637137126802,\"symbol\":\"circle\"},\"mode\":\"markers\",\"name\":\"Thapsigargin, jan-12-2022\",\"orientation\":\"v\",\"showlegend\":true,\"type\":\"scatter\",\"x\":[97,101,96,97,96,98,95,95,98,96,97,98],\"xaxis\":\"x\",\"y\":[6.44441853576082,4.79959601579387,25.9603347489287,8.24599081137011,8.3350966105453,6.35064993245252,13.8936688878973,34.3714666204609,10.9808943235497,27.1862214005442,12.6155273557123,7.39835280941341],\"yaxis\":\"y\"},{\"customdata\":[[\"jan-18-2022\"]],\"hovertemplate\":\"condition=Thapsigargin<br>dateStr=%{customdata[0]}<br>percentChangeInPeakVal=%{x}<br>varPeak=%{y}<br>meanPeak=%{marker.size}<extra></extra>\",\"legendgroup\":\"Thapsigargin, jan-18-2022\",\"marker\":{\"color\":\"#EF553B\",\"size\":[157.374046346286],\"sizemode\":\"area\",\"sizeref\":1.15637137126802,\"symbol\":\"diamond\"},\"mode\":\"markers\",\"name\":\"Thapsigargin, jan-18-2022\",\"orientation\":\"v\",\"showlegend\":true,\"type\":\"scatter\",\"x\":[93],\"xaxis\":\"x\",\"y\":[16.2282717223809],\"yaxis\":\"y\"},{\"customdata\":[[\"feb-15-2022\"],[\"feb-15-2022\"],[\"feb-15-2022\"],[\"feb-15-2022\"]],\"hovertemplate\":\"condition=Thapsigargin<br>dateStr=%{customdata[0]}<br>percentChangeInPeakVal=%{x}<br>varPeak=%{y}<br>meanPeak=%{marker.size}<extra></extra>\",\"legendgroup\":\"Thapsigargin, feb-15-2022\",\"marker\":{\"color\":\"#EF553B\",\"size\":[148.271897636999,144.486046001291,157.124911401932,153.344325451242],\"sizemode\":\"area\",\"sizeref\":1.15637137126802,\"symbol\":\"square\"},\"mode\":\"markers\",\"name\":\"Thapsigargin, feb-15-2022\",\"orientation\":\"v\",\"showlegend\":true,\"type\":\"scatter\",\"x\":[99,98,98,95],\"xaxis\":\"x\",\"y\":[9.94262806600517,22.7907575922872,34.5839984922794,109.35789567401],\"yaxis\":\"y\"}],                        {\"legend\":{\"itemsizing\":\"constant\",\"title\":{\"text\":\"condition, dateStr\"},\"tracegroupgap\":0},\"margin\":{\"t\":60},\"template\":{\"data\":{\"bar\":[{\"error_x\":{\"color\":\"#2a3f5f\"},\"error_y\":{\"color\":\"#2a3f5f\"},\"marker\":{\"line\":{\"color\":\"#E5ECF6\",\"width\":0.5},\"pattern\":{\"fillmode\":\"overlay\",\"size\":10,\"solidity\":0.2}},\"type\":\"bar\"}],\"barpolar\":[{\"marker\":{\"line\":{\"color\":\"#E5ECF6\",\"width\":0.5},\"pattern\":{\"fillmode\":\"overlay\",\"size\":10,\"solidity\":0.2}},\"type\":\"barpolar\"}],\"carpet\":[{\"aaxis\":{\"endlinecolor\":\"#2a3f5f\",\"gridcolor\":\"white\",\"linecolor\":\"white\",\"minorgridcolor\":\"white\",\"startlinecolor\":\"#2a3f5f\"},\"baxis\":{\"endlinecolor\":\"#2a3f5f\",\"gridcolor\":\"white\",\"linecolor\":\"white\",\"minorgridcolor\":\"white\",\"startlinecolor\":\"#2a3f5f\"},\"type\":\"carpet\"}],\"choropleth\":[{\"colorbar\":{\"outlinewidth\":0,\"ticks\":\"\"},\"type\":\"choropleth\"}],\"contour\":[{\"colorbar\":{\"outlinewidth\":0,\"ticks\":\"\"},\"colorscale\":[[0.0,\"#0d0887\"],[0.1111111111111111,\"#46039f\"],[0.2222222222222222,\"#7201a8\"],[0.3333333333333333,\"#9c179e\"],[0.4444444444444444,\"#bd3786\"],[0.5555555555555556,\"#d8576b\"],[0.6666666666666666,\"#ed7953\"],[0.7777777777777778,\"#fb9f3a\"],[0.8888888888888888,\"#fdca26\"],[1.0,\"#f0f921\"]],\"type\":\"contour\"}],\"contourcarpet\":[{\"colorbar\":{\"outlinewidth\":0,\"ticks\":\"\"},\"type\":\"contourcarpet\"}],\"heatmap\":[{\"colorbar\":{\"outlinewidth\":0,\"ticks\":\"\"},\"colorscale\":[[0.0,\"#0d0887\"],[0.1111111111111111,\"#46039f\"],[0.2222222222222222,\"#7201a8\"],[0.3333333333333333,\"#9c179e\"],[0.4444444444444444,\"#bd3786\"],[0.5555555555555556,\"#d8576b\"],[0.6666666666666666,\"#ed7953\"],[0.7777777777777778,\"#fb9f3a\"],[0.8888888888888888,\"#fdca26\"],[1.0,\"#f0f921\"]],\"type\":\"heatmap\"}],\"heatmapgl\":[{\"colorbar\":{\"outlinewidth\":0,\"ticks\":\"\"},\"colorscale\":[[0.0,\"#0d0887\"],[0.1111111111111111,\"#46039f\"],[0.2222222222222222,\"#7201a8\"],[0.3333333333333333,\"#9c179e\"],[0.4444444444444444,\"#bd3786\"],[0.5555555555555556,\"#d8576b\"],[0.6666666666666666,\"#ed7953\"],[0.7777777777777778,\"#fb9f3a\"],[0.8888888888888888,\"#fdca26\"],[1.0,\"#f0f921\"]],\"type\":\"heatmapgl\"}],\"histogram\":[{\"marker\":{\"pattern\":{\"fillmode\":\"overlay\",\"size\":10,\"solidity\":0.2}},\"type\":\"histogram\"}],\"histogram2d\":[{\"colorbar\":{\"outlinewidth\":0,\"ticks\":\"\"},\"colorscale\":[[0.0,\"#0d0887\"],[0.1111111111111111,\"#46039f\"],[0.2222222222222222,\"#7201a8\"],[0.3333333333333333,\"#9c179e\"],[0.4444444444444444,\"#bd3786\"],[0.5555555555555556,\"#d8576b\"],[0.6666666666666666,\"#ed7953\"],[0.7777777777777778,\"#fb9f3a\"],[0.8888888888888888,\"#fdca26\"],[1.0,\"#f0f921\"]],\"type\":\"histogram2d\"}],\"histogram2dcontour\":[{\"colorbar\":{\"outlinewidth\":0,\"ticks\":\"\"},\"colorscale\":[[0.0,\"#0d0887\"],[0.1111111111111111,\"#46039f\"],[0.2222222222222222,\"#7201a8\"],[0.3333333333333333,\"#9c179e\"],[0.4444444444444444,\"#bd3786\"],[0.5555555555555556,\"#d8576b\"],[0.6666666666666666,\"#ed7953\"],[0.7777777777777778,\"#fb9f3a\"],[0.8888888888888888,\"#fdca26\"],[1.0,\"#f0f921\"]],\"type\":\"histogram2dcontour\"}],\"mesh3d\":[{\"colorbar\":{\"outlinewidth\":0,\"ticks\":\"\"},\"type\":\"mesh3d\"}],\"parcoords\":[{\"line\":{\"colorbar\":{\"outlinewidth\":0,\"ticks\":\"\"}},\"type\":\"parcoords\"}],\"pie\":[{\"automargin\":true,\"type\":\"pie\"}],\"scatter\":[{\"marker\":{\"colorbar\":{\"outlinewidth\":0,\"ticks\":\"\"}},\"type\":\"scatter\"}],\"scatter3d\":[{\"line\":{\"colorbar\":{\"outlinewidth\":0,\"ticks\":\"\"}},\"marker\":{\"colorbar\":{\"outlinewidth\":0,\"ticks\":\"\"}},\"type\":\"scatter3d\"}],\"scattercarpet\":[{\"marker\":{\"colorbar\":{\"outlinewidth\":0,\"ticks\":\"\"}},\"type\":\"scattercarpet\"}],\"scattergeo\":[{\"marker\":{\"colorbar\":{\"outlinewidth\":0,\"ticks\":\"\"}},\"type\":\"scattergeo\"}],\"scattergl\":[{\"marker\":{\"colorbar\":{\"outlinewidth\":0,\"ticks\":\"\"}},\"type\":\"scattergl\"}],\"scattermapbox\":[{\"marker\":{\"colorbar\":{\"outlinewidth\":0,\"ticks\":\"\"}},\"type\":\"scattermapbox\"}],\"scatterpolar\":[{\"marker\":{\"colorbar\":{\"outlinewidth\":0,\"ticks\":\"\"}},\"type\":\"scatterpolar\"}],\"scatterpolargl\":[{\"marker\":{\"colorbar\":{\"outlinewidth\":0,\"ticks\":\"\"}},\"type\":\"scatterpolargl\"}],\"scatterternary\":[{\"marker\":{\"colorbar\":{\"outlinewidth\":0,\"ticks\":\"\"}},\"type\":\"scatterternary\"}],\"surface\":[{\"colorbar\":{\"outlinewidth\":0,\"ticks\":\"\"},\"colorscale\":[[0.0,\"#0d0887\"],[0.1111111111111111,\"#46039f\"],[0.2222222222222222,\"#7201a8\"],[0.3333333333333333,\"#9c179e\"],[0.4444444444444444,\"#bd3786\"],[0.5555555555555556,\"#d8576b\"],[0.6666666666666666,\"#ed7953\"],[0.7777777777777778,\"#fb9f3a\"],[0.8888888888888888,\"#fdca26\"],[1.0,\"#f0f921\"]],\"type\":\"surface\"}],\"table\":[{\"cells\":{\"fill\":{\"color\":\"#EBF0F8\"},\"line\":{\"color\":\"white\"}},\"header\":{\"fill\":{\"color\":\"#C8D4E3\"},\"line\":{\"color\":\"white\"}},\"type\":\"table\"}]},\"layout\":{\"annotationdefaults\":{\"arrowcolor\":\"#2a3f5f\",\"arrowhead\":0,\"arrowwidth\":1},\"autotypenumbers\":\"strict\",\"coloraxis\":{\"colorbar\":{\"outlinewidth\":0,\"ticks\":\"\"}},\"colorscale\":{\"diverging\":[[0,\"#8e0152\"],[0.1,\"#c51b7d\"],[0.2,\"#de77ae\"],[0.3,\"#f1b6da\"],[0.4,\"#fde0ef\"],[0.5,\"#f7f7f7\"],[0.6,\"#e6f5d0\"],[0.7,\"#b8e186\"],[0.8,\"#7fbc41\"],[0.9,\"#4d9221\"],[1,\"#276419\"]],\"sequential\":[[0.0,\"#0d0887\"],[0.1111111111111111,\"#46039f\"],[0.2222222222222222,\"#7201a8\"],[0.3333333333333333,\"#9c179e\"],[0.4444444444444444,\"#bd3786\"],[0.5555555555555556,\"#d8576b\"],[0.6666666666666666,\"#ed7953\"],[0.7777777777777778,\"#fb9f3a\"],[0.8888888888888888,\"#fdca26\"],[1.0,\"#f0f921\"]],\"sequentialminus\":[[0.0,\"#0d0887\"],[0.1111111111111111,\"#46039f\"],[0.2222222222222222,\"#7201a8\"],[0.3333333333333333,\"#9c179e\"],[0.4444444444444444,\"#bd3786\"],[0.5555555555555556,\"#d8576b\"],[0.6666666666666666,\"#ed7953\"],[0.7777777777777778,\"#fb9f3a\"],[0.8888888888888888,\"#fdca26\"],[1.0,\"#f0f921\"]]},\"colorway\":[\"#636efa\",\"#EF553B\",\"#00cc96\",\"#ab63fa\",\"#FFA15A\",\"#19d3f3\",\"#FF6692\",\"#B6E880\",\"#FF97FF\",\"#FECB52\"],\"font\":{\"color\":\"#2a3f5f\"},\"geo\":{\"bgcolor\":\"white\",\"lakecolor\":\"white\",\"landcolor\":\"#E5ECF6\",\"showlakes\":true,\"showland\":true,\"subunitcolor\":\"white\"},\"hoverlabel\":{\"align\":\"left\"},\"hovermode\":\"closest\",\"mapbox\":{\"style\":\"light\"},\"paper_bgcolor\":\"white\",\"plot_bgcolor\":\"#E5ECF6\",\"polar\":{\"angularaxis\":{\"gridcolor\":\"white\",\"linecolor\":\"white\",\"ticks\":\"\"},\"bgcolor\":\"#E5ECF6\",\"radialaxis\":{\"gridcolor\":\"white\",\"linecolor\":\"white\",\"ticks\":\"\"}},\"scene\":{\"xaxis\":{\"backgroundcolor\":\"#E5ECF6\",\"gridcolor\":\"white\",\"gridwidth\":2,\"linecolor\":\"white\",\"showbackground\":true,\"ticks\":\"\",\"zerolinecolor\":\"white\"},\"yaxis\":{\"backgroundcolor\":\"#E5ECF6\",\"gridcolor\":\"white\",\"gridwidth\":2,\"linecolor\":\"white\",\"showbackground\":true,\"ticks\":\"\",\"zerolinecolor\":\"white\"},\"zaxis\":{\"backgroundcolor\":\"#E5ECF6\",\"gridcolor\":\"white\",\"gridwidth\":2,\"linecolor\":\"white\",\"showbackground\":true,\"ticks\":\"\",\"zerolinecolor\":\"white\"}},\"shapedefaults\":{\"line\":{\"color\":\"#2a3f5f\"}},\"ternary\":{\"aaxis\":{\"gridcolor\":\"white\",\"linecolor\":\"white\",\"ticks\":\"\"},\"baxis\":{\"gridcolor\":\"white\",\"linecolor\":\"white\",\"ticks\":\"\"},\"bgcolor\":\"#E5ECF6\",\"caxis\":{\"gridcolor\":\"white\",\"linecolor\":\"white\",\"ticks\":\"\"}},\"title\":{\"x\":0.05},\"xaxis\":{\"automargin\":true,\"gridcolor\":\"white\",\"linecolor\":\"white\",\"ticks\":\"\",\"title\":{\"standoff\":15},\"zerolinecolor\":\"white\",\"zerolinewidth\":2},\"yaxis\":{\"automargin\":true,\"gridcolor\":\"white\",\"linecolor\":\"white\",\"ticks\":\"\",\"title\":{\"standoff\":15},\"zerolinecolor\":\"white\",\"zerolinewidth\":2}}},\"xaxis\":{\"anchor\":\"y\",\"domain\":[0.0,1.0],\"title\":{\"text\":\"percentChangeInPeakVal\"}},\"yaxis\":{\"anchor\":\"x\",\"domain\":[0.0,1.0],\"title\":{\"text\":\"varPeak\"}}},                        {\"responsive\": true}                    ).then(function(){\n",
       "                            \n",
       "var gd = document.getElementById('2ba2ff80-3aa0-4cc1-b740-a34eef0bafc1');\n",
       "var x = new MutationObserver(function (mutations, observer) {{\n",
       "        var display = window.getComputedStyle(gd).display;\n",
       "        if (!display || display === 'none') {{\n",
       "            console.log([gd, 'removed!']);\n",
       "            Plotly.purge(gd);\n",
       "            observer.disconnect();\n",
       "        }}\n",
       "}});\n",
       "\n",
       "// Listen for the removal of the full notebook cells\n",
       "var notebookContainer = gd.closest('#notebook-container');\n",
       "if (notebookContainer) {{\n",
       "    x.observe(notebookContainer, {childList: true});\n",
       "}}\n",
       "\n",
       "// Listen for the clearing of the current output cell\n",
       "var outputEl = gd.closest('.output');\n",
       "if (outputEl) {{\n",
       "    x.observe(outputEl, {childList: true});\n",
       "}}\n",
       "\n",
       "                        })                };                });            </script>        </div>"
      ]
     },
     "metadata": {},
     "output_type": "display_data"
    }
   ],
   "source": [
    "# examine % change from start to stop of kymograph, does it predict variance of peaks?\n",
    "\n",
    "xStat = 'percentChangeInPeakVal'\n",
    "#yStat = 'peakVal_var'  # var measured from actual peaks (each spike has a peak)\n",
    "yStat = 'varPeak'  # var measured from spike clips\n",
    "\n",
    "fig = px.scatter(dfSummary, x=xStat, y=yStat,\n",
    "                color='condition',\n",
    "                symbol='dateStr',\n",
    "                size='meanPeak',\n",
    "                 hover_data=['dateStr'])\n",
    "fig.show()"
   ]
  },
  {
   "cell_type": "code",
   "execution_count": 66,
   "id": "b37367d9",
   "metadata": {},
   "outputs": [],
   "source": [
    "def plotSummary(yStat, axs=None):\n",
    "    if axs is None:\n",
    "        #convertMolarStr = '???'\n",
    "        fig, axs = plt.subplots(1, 1, sharex=False, figsize=(6, 4));\n",
    "        #fig.suptitle(f'units:{convertMolarStr}');\n",
    "        #axs = [axs]\n",
    "    \n",
    "    myDespine(axs)\n",
    "\n",
    "    #yStat = 'peakVal_cv'\n",
    "\n",
    "    sns.stripplot(x='condition',\n",
    "        y=yStat,\n",
    "        data=dfSummary,\n",
    "        alpha=0.3,\n",
    "        jitter=0.2,\n",
    "        color='k',\n",
    "        ax=axs);\n",
    "\n",
    "    sns.boxplot(showmeans=True,\n",
    "                meanline=True,\n",
    "                meanprops={'color': 'r', 'ls': '-', 'lw': 2},\n",
    "                medianprops={'visible': False},\n",
    "                whiskerprops={'visible': False},\n",
    "                zorder=10,\n",
    "                x=\"condition\",\n",
    "                y=yStat,\n",
    "                data=dfSummary,\n",
    "                showfliers=False,\n",
    "                showbox=False,\n",
    "                showcaps=False,\n",
    "                ax=axs);\n",
    "    \n",
    "    return figVar, axsVar\n"
   ]
  },
  {
   "cell_type": "code",
   "execution_count": 71,
   "id": "82a17224",
   "metadata": {},
   "outputs": [
    {
     "data": {
      "text/plain": [
       "\"\\nyStat = 'peakVal_var'\\nplotSummary(yStat, axs=axs[1]);\\n\\nyStat = 'peakHeight_var'\\nplotSummary(yStat, axs=axs[2]);\\n\""
      ]
     },
     "execution_count": 71,
     "metadata": {},
     "output_type": "execute_result"
    },
    {
     "data": {
      "image/png": "[encoded data removed]",
      "text/plain": [
       "<Figure size 360x288 with 1 Axes>"
      ]
     },
     "metadata": {
      "needs_background": "light"
     },
     "output_type": "display_data"
    }
   ],
   "source": [
    "#fig, axs = plt.subplots(1, 3, sharex=False, figsize=(10, 4));\n",
    "\n",
    "fig, axs = plt.subplots(1, 1, sharex=False, figsize=(5, 4));\n",
    "axs = [axs]\n",
    "\n",
    "yStat = 'varPeak'\n",
    "plotSummary(yStat, axs=axs[0]);\n",
    "\n",
    "'''\n",
    "yStat = 'peakVal_var'\n",
    "plotSummary(yStat, axs=axs[1]);\n",
    "\n",
    "yStat = 'peakHeight_var'\n",
    "plotSummary(yStat, axs=axs[2]);\n",
    "'''\n"
   ]
  },
  {
   "cell_type": "code",
   "execution_count": 68,
   "id": "602a0a40",
   "metadata": {},
   "outputs": [
    {
     "data": {
      "image/png": "[encoded data removed]",
      "text/plain": [
       "<Figure size 720x288 with 3 Axes>"
      ]
     },
     "metadata": {
      "needs_background": "light"
     },
     "output_type": "display_data"
    }
   ],
   "source": [
    "# what if we normalize the std of peak to mean peak (e.g. CV of peak)\n",
    "fig, axs = plt.subplots(1, 3, sharex=False, figsize=(10, 4));\n",
    "\n",
    "yStat = 'cvPeak'\n",
    "plotSummary(yStat, axs=axs[0]);\n",
    "\n",
    "yStat = 'peakVal_cv'\n",
    "plotSummary(yStat, axs=axs[1]);\n",
    "\n",
    "yStat = 'peakHeight_cv'\n",
    "plotSummary(yStat, axs=axs[2]);\n",
    "\n"
   ]
  },
  {
   "cell_type": "markdown",
   "id": "2db29b93",
   "metadata": {},
   "source": [
    "My variance measured as \"max in spike clips\" is significantly larger than my \"variance measured at peak\"\n",
    "\n",
    "My impression is that the variance measured as macx across spike clips is an overestimate as it depends on getting the threshold (take-off-potential) aligned perfectly which is often not the case\n"
   ]
  },
  {
   "cell_type": "code",
   "execution_count": 19,
   "id": "58fba669",
   "metadata": {},
   "outputs": [
    {
     "name": "stdout",
     "output_type": "stream",
     "text": [
      "[ 3.62094709e+02  2.75025847e+02  4.28796037e+02  2.07719949e+02\n",
      "  3.64045577e+02  7.95742702e+01  5.41502357e+02  1.39095051e+03\n",
      "  2.82172969e+02  1.28093600e+02  3.00618427e+02  2.86127408e+02\n",
      "  3.42326929e+02  5.15265173e+02  2.45409648e+02  3.68550632e+02\n",
      "  7.35864384e+01  1.71747514e+02  7.06397977e+01  2.31141854e+00\n",
      "  3.34596016e-01  1.93583347e+01  3.03599081e+00  1.99609661e+00\n",
      "  3.57864993e+00  6.62666889e+00  1.65734666e+01  6.83089432e+00\n",
      "  9.54722140e+00  7.17052736e+00  4.81935281e+00  1.01982248e+03\n",
      "  1.38411837e+03  2.82659191e+03 -7.42996603e+02  1.71339006e+02\n",
      " -1.04272828e+00  1.51100352e+02  5.38427039e+01  4.35838478e+01\n",
      "  1.28202544e+01  3.54621426e+01 -5.29337193e+00  1.88797576e+01\n",
      "  2.40519985e+01  9.35018957e+01]\n",
      "MannwhitneyuResult(statistic=1404.0, pvalue=0.006976079484916705)\n"
     ]
    }
   ],
   "source": [
    "# ask if my \"variance from peak\" is different from \"variance from max in clips\"\n",
    "varPeak = 'varPeak'  # var measured from spike clips\n",
    "peakVal_var = 'peakVal_var'  # var measured from actual peaks (each spike has a peak)\n",
    "\n",
    "varPeakValues = dfSummary['varPeak'].values\n",
    "peakVal_var_values = dfSummary['peakVal_var'].values\n",
    "\n",
    "diffPeak = varPeakValues - peakVal_var_values\n",
    "print(diffPeak)\n",
    "\n",
    "import scipy.stats\n",
    "\n",
    "p = scipy.stats.mannwhitneyu(varPeakValues, peakVal_var_values)\n",
    "print(p)"
   ]
  },
  {
   "cell_type": "markdown",
   "id": "0c074ad0",
   "metadata": {},
   "source": [
    "## Check inter-spike-interval"
   ]
  },
  {
   "cell_type": "code",
   "execution_count": 20,
   "id": "6ee06aa7",
   "metadata": {},
   "outputs": [
    {
     "data": {
      "text/plain": [
       "Index(['Unnamed: 0', 'saveFolder', 'dateStr', 'convertToMolar', 'condition',\n",
       "       'mvThreshold', 'meanPeak', 'meanPeakTime', 'varPeak', 'varPeakTime',\n",
       "       'sdPeak', 'cvPeak', 'percentChangeInPeakVal', 'numSpikes', 'file', 'kd',\n",
       "       'caRest', 'startMetaSec', 'stopMetaSec', 'peakVal_sweep',\n",
       "       'peakVal_count', 'peakVal_min', 'peakVal_max', 'peakVal_mean',\n",
       "       'peakVal_median', 'peakVal_sem', 'peakVal_std', 'peakVal_var',\n",
       "       'peakVal_cv', 'peakHeight_sweep', 'peakHeight_count', 'peakHeight_min',\n",
       "       'peakHeight_max', 'peakHeight_mean', 'peakHeight_median',\n",
       "       'peakHeight_sem', 'peakHeight_std', 'peakHeight_var', 'peakHeight_cv',\n",
       "       'isi_ms_sweep', 'isi_ms_count', 'isi_ms_min', 'isi_ms_max',\n",
       "       'isi_ms_mean', 'isi_ms_median', 'isi_ms_sem', 'isi_ms_std',\n",
       "       'isi_ms_var', 'isi_ms_cv'],\n",
       "      dtype='object')"
      ]
     },
     "execution_count": 20,
     "metadata": {},
     "output_type": "execute_result"
    }
   ],
   "source": [
    "dfSummary.columns"
   ]
  },
  {
   "cell_type": "code",
   "execution_count": 21,
   "id": "4a16a5d9",
   "metadata": {},
   "outputs": [
    {
     "data": {
      "application/vnd.plotly.v1+json": {
       "config": {
        "plotlyServerURL": "https://plot.ly"
       },
       "data": [
        {
         "customdata": [
          [
           "jan-12-2022"
          ],
          [
           "jan-12-2022"
          ],
          [
           "jan-12-2022"
          ],
          [
           "jan-12-2022"
          ],
          [
           "jan-12-2022"
          ],
          [
           "jan-12-2022"
          ],
          [
           "jan-12-2022"
          ],
          [
           "jan-12-2022"
          ],
          [
           "jan-12-2022"
          ],
          [
           "jan-12-2022"
          ],
          [
           "jan-12-2022"
          ],
          [
           "jan-12-2022"
          ],
          [
           "jan-12-2022"
          ],
          [
           "jan-12-2022"
          ],
          [
           "jan-12-2022"
          ],
          [
           "jan-12-2022"
          ],
          [
           "jan-12-2022"
          ],
          [
           "jan-12-2022"
          ],
          [
           "jan-12-2022"
          ]
         ],
         "hovertemplate": "condition=Control<br>dateStr=%{customdata[0]}<br>isi_ms_mean=%{x}<br>isi_ms_cv=%{y}<extra></extra>",
         "legendgroup": "Control, jan-12-2022",
         "marker": {
          "color": "#636efa",
          "symbol": "circle"
         },
         "mode": "markers",
         "name": "Control, jan-12-2022",
         "orientation": "v",
         "showlegend": true,
         "type": "scatter",
         "x": [
          985.155,
          1970.638,
          1969.453,
          1971.436,
          993.283,
          986.221,
          987.911,
          987.911,
          989.899,
          988.981,
          989.747,
          990.633,
          1980.978,
          1991.634,
          994.85,
          991.34,
          996.169,
          1982.154,
          1935.976
         ],
         "xaxis": "x",
         "y": [
          0.194,
          0.357,
          0.208,
          0.132,
          0.073,
          0.17,
          0.36,
          0.294,
          0.385,
          0.208,
          0.22,
          0.145,
          0.048,
          0.036,
          0.081,
          0.058,
          0.083,
          0.288,
          0.331
         ],
         "yaxis": "y"
        },
        {
         "customdata": [
          [
           "jan-18-2022"
          ],
          [
           "jan-18-2022"
          ],
          [
           "jan-18-2022"
          ],
          [
           "jan-18-2022"
          ],
          [
           "jan-18-2022"
          ]
         ],
         "hovertemplate": "condition=Control<br>dateStr=%{customdata[0]}<br>isi_ms_mean=%{x}<br>isi_ms_cv=%{y}<extra></extra>",
         "legendgroup": "Control, jan-18-2022",
         "marker": {
          "color": "#636efa",
          "symbol": "diamond"
         },
         "mode": "markers",
         "name": "Control, jan-18-2022",
         "orientation": "v",
         "showlegend": true,
         "type": "scatter",
         "x": [
          1065.21,
          1012.567,
          1007.713,
          1007.23,
          1342.967
         ],
         "xaxis": "x",
         "y": [
          0.008,
          0.054,
          0.03,
          0.336,
          0.529
         ],
         "yaxis": "y"
        },
        {
         "customdata": [
          [
           "feb-15-2022"
          ],
          [
           "feb-15-2022"
          ],
          [
           "feb-15-2022"
          ],
          [
           "feb-15-2022"
          ],
          [
           "feb-15-2022"
          ]
         ],
         "hovertemplate": "condition=Control<br>dateStr=%{customdata[0]}<br>isi_ms_mean=%{x}<br>isi_ms_cv=%{y}<extra></extra>",
         "legendgroup": "Control, feb-15-2022",
         "marker": {
          "color": "#636efa",
          "symbol": "square"
         },
         "mode": "markers",
         "name": "Control, feb-15-2022",
         "orientation": "v",
         "showlegend": true,
         "type": "scatter",
         "x": [
          581.715,
          290.098,
          314.239,
          290.167,
          870.276
         ],
         "xaxis": "x",
         "y": [
          0.228,
          0.184,
          0.012,
          0.114,
          0.131
         ],
         "yaxis": "y"
        },
        {
         "customdata": [
          [
           "jan-12-2022"
          ],
          [
           "jan-12-2022"
          ],
          [
           "jan-12-2022"
          ],
          [
           "jan-12-2022"
          ],
          [
           "jan-12-2022"
          ],
          [
           "jan-12-2022"
          ],
          [
           "jan-12-2022"
          ],
          [
           "jan-12-2022"
          ],
          [
           "jan-12-2022"
          ],
          [
           "jan-12-2022"
          ],
          [
           "jan-12-2022"
          ],
          [
           "jan-12-2022"
          ]
         ],
         "hovertemplate": "condition=Thapsigargin<br>dateStr=%{customdata[0]}<br>isi_ms_mean=%{x}<br>isi_ms_cv=%{y}<extra></extra>",
         "legendgroup": "Thapsigargin, jan-12-2022",
         "marker": {
          "color": "#EF553B",
          "symbol": "circle"
         },
         "mode": "markers",
         "name": "Thapsigargin, jan-12-2022",
         "orientation": "v",
         "showlegend": true,
         "type": "scatter",
         "x": [
          972.839,
          966.139,
          978.665,
          971.166,
          973.235,
          976.986,
          977.786,
          1945.52,
          1946.458,
          1974.144,
          979.761,
          975.292
         ],
         "xaxis": "x",
         "y": [
          0.066,
          0.051,
          0.055,
          0.042,
          0.12,
          0.043,
          0.041,
          0.061,
          0.05,
          0.025,
          0.083,
          0.073
         ],
         "yaxis": "y"
        },
        {
         "customdata": [
          [
           "jan-18-2022"
          ]
         ],
         "hovertemplate": "condition=Thapsigargin<br>dateStr=%{customdata[0]}<br>isi_ms_mean=%{x}<br>isi_ms_cv=%{y}<extra></extra>",
         "legendgroup": "Thapsigargin, jan-18-2022",
         "marker": {
          "color": "#EF553B",
          "symbol": "diamond"
         },
         "mode": "markers",
         "name": "Thapsigargin, jan-18-2022",
         "orientation": "v",
         "showlegend": true,
         "type": "scatter",
         "x": [
          1354.63
         ],
         "xaxis": "x",
         "y": [
          0.044
         ],
         "yaxis": "y"
        },
        {
         "customdata": [
          [
           "feb-15-2022"
          ],
          [
           "feb-15-2022"
          ],
          [
           "feb-15-2022"
          ],
          [
           "feb-15-2022"
          ]
         ],
         "hovertemplate": "condition=Thapsigargin<br>dateStr=%{customdata[0]}<br>isi_ms_mean=%{x}<br>isi_ms_cv=%{y}<extra></extra>",
         "legendgroup": "Thapsigargin, feb-15-2022",
         "marker": {
          "color": "#EF553B",
          "symbol": "square"
         },
         "mode": "markers",
         "name": "Thapsigargin, feb-15-2022",
         "orientation": "v",
         "showlegend": true,
         "type": "scatter",
         "x": [
          1452.37,
          1214.292,
          921.794,
          785.909
         ],
         "xaxis": "x",
         "y": [
          0.002,
          0.034,
          0.05,
          0.007
         ],
         "yaxis": "y"
        }
       ],
       "layout": {
        "legend": {
         "title": {
          "text": "condition, dateStr"
         },
         "tracegroupgap": 0
        },
        "margin": {
         "t": 60
        },
        "template": {
         "data": {
          "bar": [
           {
            "error_x": {
             "color": "#2a3f5f"
            },
            "error_y": {
             "color": "#2a3f5f"
            },
            "marker": {
             "line": {
              "color": "#E5ECF6",
              "width": 0.5
             },
             "pattern": {
              "fillmode": "overlay",
              "size": 10,
              "solidity": 0.2
             }
            },
            "type": "bar"
           }
          ],
          "barpolar": [
           {
            "marker": {
             "line": {
              "color": "#E5ECF6",
              "width": 0.5
             },
             "pattern": {
              "fillmode": "overlay",
              "size": 10,
              "solidity": 0.2
             }
            },
            "type": "barpolar"
           }
          ],
          "carpet": [
           {
            "aaxis": {
             "endlinecolor": "#2a3f5f",
             "gridcolor": "white",
             "linecolor": "white",
             "minorgridcolor": "white",
             "startlinecolor": "#2a3f5f"
            },
            "baxis": {
             "endlinecolor": "#2a3f5f",
             "gridcolor": "white",
             "linecolor": "white",
             "minorgridcolor": "white",
             "startlinecolor": "#2a3f5f"
            },
            "type": "carpet"
           }
          ],
          "choropleth": [
           {
            "colorbar": {
             "outlinewidth": 0,
             "ticks": ""
            },
            "type": "choropleth"
           }
          ],
          "contour": [
           {
            "colorbar": {
             "outlinewidth": 0,
             "ticks": ""
            },
            "colorscale": [
             [
              0,
              "#0d0887"
             ],
             [
              0.1111111111111111,
              "#46039f"
             ],
             [
              0.2222222222222222,
              "#7201a8"
             ],
             [
              0.3333333333333333,
              "#9c179e"
             ],
             [
              0.4444444444444444,
              "#bd3786"
             ],
             [
              0.5555555555555556,
              "#d8576b"
             ],
             [
              0.6666666666666666,
              "#ed7953"
             ],
             [
              0.7777777777777778,
              "#fb9f3a"
             ],
             [
              0.8888888888888888,
              "#fdca26"
             ],
             [
              1,
              "#f0f921"
             ]
            ],
            "type": "contour"
           }
          ],
          "contourcarpet": [
           {
            "colorbar": {
             "outlinewidth": 0,
             "ticks": ""
            },
            "type": "contourcarpet"
           }
          ],
          "heatmap": [
           {
            "colorbar": {
             "outlinewidth": 0,
             "ticks": ""
            },
            "colorscale": [
             [
              0,
              "#0d0887"
             ],
             [
              0.1111111111111111,
              "#46039f"
             ],
             [
              0.2222222222222222,
              "#7201a8"
             ],
             [
              0.3333333333333333,
              "#9c179e"
             ],
             [
              0.4444444444444444,
              "#bd3786"
             ],
             [
              0.5555555555555556,
              "#d8576b"
             ],
             [
              0.6666666666666666,
              "#ed7953"
             ],
             [
              0.7777777777777778,
              "#fb9f3a"
             ],
             [
              0.8888888888888888,
              "#fdca26"
             ],
             [
              1,
              "#f0f921"
             ]
            ],
            "type": "heatmap"
           }
          ],
          "heatmapgl": [
           {
            "colorbar": {
             "outlinewidth": 0,
             "ticks": ""
            },
            "colorscale": [
             [
              0,
              "#0d0887"
             ],
             [
              0.1111111111111111,
              "#46039f"
             ],
             [
              0.2222222222222222,
              "#7201a8"
             ],
             [
              0.3333333333333333,
              "#9c179e"
             ],
             [
              0.4444444444444444,
              "#bd3786"
             ],
             [
              0.5555555555555556,
              "#d8576b"
             ],
             [
              0.6666666666666666,
              "#ed7953"
             ],
             [
              0.7777777777777778,
              "#fb9f3a"
             ],
             [
              0.8888888888888888,
              "#fdca26"
             ],
             [
              1,
              "#f0f921"
             ]
            ],
            "type": "heatmapgl"
           }
          ],
          "histogram": [
           {
            "marker": {
             "pattern": {
              "fillmode": "overlay",
              "size": 10,
              "solidity": 0.2
             }
            },
            "type": "histogram"
           }
          ],
          "histogram2d": [
           {
            "colorbar": {
             "outlinewidth": 0,
             "ticks": ""
            },
            "colorscale": [
             [
              0,
              "#0d0887"
             ],
             [
              0.1111111111111111,
              "#46039f"
             ],
             [
              0.2222222222222222,
              "#7201a8"
             ],
             [
              0.3333333333333333,
              "#9c179e"
             ],
             [
              0.4444444444444444,
              "#bd3786"
             ],
             [
              0.5555555555555556,
              "#d8576b"
             ],
             [
              0.6666666666666666,
              "#ed7953"
             ],
             [
              0.7777777777777778,
              "#fb9f3a"
             ],
             [
              0.8888888888888888,
              "#fdca26"
             ],
             [
              1,
              "#f0f921"
             ]
            ],
            "type": "histogram2d"
           }
          ],
          "histogram2dcontour": [
           {
            "colorbar": {
             "outlinewidth": 0,
             "ticks": ""
            },
            "colorscale": [
             [
              0,
              "#0d0887"
             ],
             [
              0.1111111111111111,
              "#46039f"
             ],
             [
              0.2222222222222222,
              "#7201a8"
             ],
             [
              0.3333333333333333,
              "#9c179e"
             ],
             [
              0.4444444444444444,
              "#bd3786"
             ],
             [
              0.5555555555555556,
              "#d8576b"
             ],
             [
              0.6666666666666666,
              "#ed7953"
             ],
             [
              0.7777777777777778,
              "#fb9f3a"
             ],
             [
              0.8888888888888888,
              "#fdca26"
             ],
             [
              1,
              "#f0f921"
             ]
            ],
            "type": "histogram2dcontour"
           }
          ],
          "mesh3d": [
           {
            "colorbar": {
             "outlinewidth": 0,
             "ticks": ""
            },
            "type": "mesh3d"
           }
          ],
          "parcoords": [
           {
            "line": {
             "colorbar": {
              "outlinewidth": 0,
              "ticks": ""
             }
            },
            "type": "parcoords"
           }
          ],
          "pie": [
           {
            "automargin": true,
            "type": "pie"
           }
          ],
          "scatter": [
           {
            "marker": {
             "colorbar": {
              "outlinewidth": 0,
              "ticks": ""
             }
            },
            "type": "scatter"
           }
          ],
          "scatter3d": [
           {
            "line": {
             "colorbar": {
              "outlinewidth": 0,
              "ticks": ""
             }
            },
            "marker": {
             "colorbar": {
              "outlinewidth": 0,
              "ticks": ""
             }
            },
            "type": "scatter3d"
           }
          ],
          "scattercarpet": [
           {
            "marker": {
             "colorbar": {
              "outlinewidth": 0,
              "ticks": ""
             }
            },
            "type": "scattercarpet"
           }
          ],
          "scattergeo": [
           {
            "marker": {
             "colorbar": {
              "outlinewidth": 0,
              "ticks": ""
             }
            },
            "type": "scattergeo"
           }
          ],
          "scattergl": [
           {
            "marker": {
             "colorbar": {
              "outlinewidth": 0,
              "ticks": ""
             }
            },
            "type": "scattergl"
           }
          ],
          "scattermapbox": [
           {
            "marker": {
             "colorbar": {
              "outlinewidth": 0,
              "ticks": ""
             }
            },
            "type": "scattermapbox"
           }
          ],
          "scatterpolar": [
           {
            "marker": {
             "colorbar": {
              "outlinewidth": 0,
              "ticks": ""
             }
            },
            "type": "scatterpolar"
           }
          ],
          "scatterpolargl": [
           {
            "marker": {
             "colorbar": {
              "outlinewidth": 0,
              "ticks": ""
             }
            },
            "type": "scatterpolargl"
           }
          ],
          "scatterternary": [
           {
            "marker": {
             "colorbar": {
              "outlinewidth": 0,
              "ticks": ""
             }
            },
            "type": "scatterternary"
           }
          ],
          "surface": [
           {
            "colorbar": {
             "outlinewidth": 0,
             "ticks": ""
            },
            "colorscale": [
             [
              0,
              "#0d0887"
             ],
             [
              0.1111111111111111,
              "#46039f"
             ],
             [
              0.2222222222222222,
              "#7201a8"
             ],
             [
              0.3333333333333333,
              "#9c179e"
             ],
             [
              0.4444444444444444,
              "#bd3786"
             ],
             [
              0.5555555555555556,
              "#d8576b"
             ],
             [
              0.6666666666666666,
              "#ed7953"
             ],
             [
              0.7777777777777778,
              "#fb9f3a"
             ],
             [
              0.8888888888888888,
              "#fdca26"
             ],
             [
              1,
              "#f0f921"
             ]
            ],
            "type": "surface"
           }
          ],
          "table": [
           {
            "cells": {
             "fill": {
              "color": "#EBF0F8"
             },
             "line": {
              "color": "white"
             }
            },
            "header": {
             "fill": {
              "color": "#C8D4E3"
             },
             "line": {
              "color": "white"
             }
            },
            "type": "table"
           }
          ]
         },
         "layout": {
          "annotationdefaults": {
           "arrowcolor": "#2a3f5f",
           "arrowhead": 0,
           "arrowwidth": 1
          },
          "autotypenumbers": "strict",
          "coloraxis": {
           "colorbar": {
            "outlinewidth": 0,
            "ticks": ""
           }
          },
          "colorscale": {
           "diverging": [
            [
             0,
             "#8e0152"
            ],
            [
             0.1,
             "#c51b7d"
            ],
            [
             0.2,
             "#de77ae"
            ],
            [
             0.3,
             "#f1b6da"
            ],
            [
             0.4,
             "#fde0ef"
            ],
            [
             0.5,
             "#f7f7f7"
            ],
            [
             0.6,
             "#e6f5d0"
            ],
            [
             0.7,
             "#b8e186"
            ],
            [
             0.8,
             "#7fbc41"
            ],
            [
             0.9,
             "#4d9221"
            ],
            [
             1,
             "#276419"
            ]
           ],
           "sequential": [
            [
             0,
             "#0d0887"
            ],
            [
             0.1111111111111111,
             "#46039f"
            ],
            [
             0.2222222222222222,
             "#7201a8"
            ],
            [
             0.3333333333333333,
             "#9c179e"
            ],
            [
             0.4444444444444444,
             "#bd3786"
            ],
            [
             0.5555555555555556,
             "#d8576b"
            ],
            [
             0.6666666666666666,
             "#ed7953"
            ],
            [
             0.7777777777777778,
             "#fb9f3a"
            ],
            [
             0.8888888888888888,
             "#fdca26"
            ],
            [
             1,
             "#f0f921"
            ]
           ],
           "sequentialminus": [
            [
             0,
             "#0d0887"
            ],
            [
             0.1111111111111111,
             "#46039f"
            ],
            [
             0.2222222222222222,
             "#7201a8"
            ],
            [
             0.3333333333333333,
             "#9c179e"
            ],
            [
             0.4444444444444444,
             "#bd3786"
            ],
            [
             0.5555555555555556,
             "#d8576b"
            ],
            [
             0.6666666666666666,
             "#ed7953"
            ],
            [
             0.7777777777777778,
             "#fb9f3a"
            ],
            [
             0.8888888888888888,
             "#fdca26"
            ],
            [
             1,
             "#f0f921"
            ]
           ]
          },
          "colorway": [
           "#636efa",
           "#EF553B",
           "#00cc96",
           "#ab63fa",
           "#FFA15A",
           "#19d3f3",
           "#FF6692",
           "#B6E880",
           "#FF97FF",
           "#FECB52"
          ],
          "font": {
           "color": "#2a3f5f"
          },
          "geo": {
           "bgcolor": "white",
           "lakecolor": "white",
           "landcolor": "#E5ECF6",
           "showlakes": true,
           "showland": true,
           "subunitcolor": "white"
          },
          "hoverlabel": {
           "align": "left"
          },
          "hovermode": "closest",
          "mapbox": {
           "style": "light"
          },
          "paper_bgcolor": "white",
          "plot_bgcolor": "#E5ECF6",
          "polar": {
           "angularaxis": {
            "gridcolor": "white",
            "linecolor": "white",
            "ticks": ""
           },
           "bgcolor": "#E5ECF6",
           "radialaxis": {
            "gridcolor": "white",
            "linecolor": "white",
            "ticks": ""
           }
          },
          "scene": {
           "xaxis": {
            "backgroundcolor": "#E5ECF6",
            "gridcolor": "white",
            "gridwidth": 2,
            "linecolor": "white",
            "showbackground": true,
            "ticks": "",
            "zerolinecolor": "white"
           },
           "yaxis": {
            "backgroundcolor": "#E5ECF6",
            "gridcolor": "white",
            "gridwidth": 2,
            "linecolor": "white",
            "showbackground": true,
            "ticks": "",
            "zerolinecolor": "white"
           },
           "zaxis": {
            "backgroundcolor": "#E5ECF6",
            "gridcolor": "white",
            "gridwidth": 2,
            "linecolor": "white",
            "showbackground": true,
            "ticks": "",
            "zerolinecolor": "white"
           }
          },
          "shapedefaults": {
           "line": {
            "color": "#2a3f5f"
           }
          },
          "ternary": {
           "aaxis": {
            "gridcolor": "white",
            "linecolor": "white",
            "ticks": ""
           },
           "baxis": {
            "gridcolor": "white",
            "linecolor": "white",
            "ticks": ""
           },
           "bgcolor": "#E5ECF6",
           "caxis": {
            "gridcolor": "white",
            "linecolor": "white",
            "ticks": ""
           }
          },
          "title": {
           "x": 0.05
          },
          "xaxis": {
           "automargin": true,
           "gridcolor": "white",
           "linecolor": "white",
           "ticks": "",
           "title": {
            "standoff": 15
           },
           "zerolinecolor": "white",
           "zerolinewidth": 2
          },
          "yaxis": {
           "automargin": true,
           "gridcolor": "white",
           "linecolor": "white",
           "ticks": "",
           "title": {
            "standoff": 15
           },
           "zerolinecolor": "white",
           "zerolinewidth": 2
          }
         }
        },
        "xaxis": {
         "anchor": "y",
         "domain": [
          0,
          1
         ],
         "title": {
          "text": "isi_ms_mean"
         }
        },
        "yaxis": {
         "anchor": "x",
         "domain": [
          0,
          1
         ],
         "title": {
          "text": "isi_ms_cv"
         }
        }
       }
      },
      "text/html": [
       "<div>                            <div id=\"20b6aa8a-9b1a-4778-94d6-fdd772b42296\" class=\"plotly-graph-div\" style=\"height:525px; width:100%;\"></div>            <script type=\"text/javascript\">                require([\"plotly\"], function(Plotly) {                    window.PLOTLYENV=window.PLOTLYENV || {};                                    if (document.getElementById(\"20b6aa8a-9b1a-4778-94d6-fdd772b42296\")) {                    Plotly.newPlot(                        \"20b6aa8a-9b1a-4778-94d6-fdd772b42296\",                        [{\"customdata\":[[\"jan-12-2022\"],[\"jan-12-2022\"],[\"jan-12-2022\"],[\"jan-12-2022\"],[\"jan-12-2022\"],[\"jan-12-2022\"],[\"jan-12-2022\"],[\"jan-12-2022\"],[\"jan-12-2022\"],[\"jan-12-2022\"],[\"jan-12-2022\"],[\"jan-12-2022\"],[\"jan-12-2022\"],[\"jan-12-2022\"],[\"jan-12-2022\"],[\"jan-12-2022\"],[\"jan-12-2022\"],[\"jan-12-2022\"],[\"jan-12-2022\"]],\"hovertemplate\":\"condition=Control<br>dateStr=%{customdata[0]}<br>isi_ms_mean=%{x}<br>isi_ms_cv=%{y}<extra></extra>\",\"legendgroup\":\"Control, jan-12-2022\",\"marker\":{\"color\":\"#636efa\",\"symbol\":\"circle\"},\"mode\":\"markers\",\"name\":\"Control, jan-12-2022\",\"orientation\":\"v\",\"showlegend\":true,\"type\":\"scatter\",\"x\":[985.155,1970.638,1969.453,1971.436,993.283,986.221,987.911,987.911,989.899,988.981,989.747,990.633,1980.978,1991.634,994.85,991.34,996.169,1982.154,1935.976],\"xaxis\":\"x\",\"y\":[0.194,0.357,0.208,0.132,0.073,0.17,0.36,0.294,0.385,0.208,0.22,0.145,0.048,0.036,0.081,0.058,0.083,0.288,0.331],\"yaxis\":\"y\"},{\"customdata\":[[\"jan-18-2022\"],[\"jan-18-2022\"],[\"jan-18-2022\"],[\"jan-18-2022\"],[\"jan-18-2022\"]],\"hovertemplate\":\"condition=Control<br>dateStr=%{customdata[0]}<br>isi_ms_mean=%{x}<br>isi_ms_cv=%{y}<extra></extra>\",\"legendgroup\":\"Control, jan-18-2022\",\"marker\":{\"color\":\"#636efa\",\"symbol\":\"diamond\"},\"mode\":\"markers\",\"name\":\"Control, jan-18-2022\",\"orientation\":\"v\",\"showlegend\":true,\"type\":\"scatter\",\"x\":[1065.21,1012.567,1007.713,1007.23,1342.967],\"xaxis\":\"x\",\"y\":[0.008,0.054,0.03,0.336,0.529],\"yaxis\":\"y\"},{\"customdata\":[[\"feb-15-2022\"],[\"feb-15-2022\"],[\"feb-15-2022\"],[\"feb-15-2022\"],[\"feb-15-2022\"]],\"hovertemplate\":\"condition=Control<br>dateStr=%{customdata[0]}<br>isi_ms_mean=%{x}<br>isi_ms_cv=%{y}<extra></extra>\",\"legendgroup\":\"Control, feb-15-2022\",\"marker\":{\"color\":\"#636efa\",\"symbol\":\"square\"},\"mode\":\"markers\",\"name\":\"Control, feb-15-2022\",\"orientation\":\"v\",\"showlegend\":true,\"type\":\"scatter\",\"x\":[581.715,290.098,314.239,290.167,870.276],\"xaxis\":\"x\",\"y\":[0.228,0.184,0.012,0.114,0.131],\"yaxis\":\"y\"},{\"customdata\":[[\"jan-12-2022\"],[\"jan-12-2022\"],[\"jan-12-2022\"],[\"jan-12-2022\"],[\"jan-12-2022\"],[\"jan-12-2022\"],[\"jan-12-2022\"],[\"jan-12-2022\"],[\"jan-12-2022\"],[\"jan-12-2022\"],[\"jan-12-2022\"],[\"jan-12-2022\"]],\"hovertemplate\":\"condition=Thapsigargin<br>dateStr=%{customdata[0]}<br>isi_ms_mean=%{x}<br>isi_ms_cv=%{y}<extra></extra>\",\"legendgroup\":\"Thapsigargin, jan-12-2022\",\"marker\":{\"color\":\"#EF553B\",\"symbol\":\"circle\"},\"mode\":\"markers\",\"name\":\"Thapsigargin, jan-12-2022\",\"orientation\":\"v\",\"showlegend\":true,\"type\":\"scatter\",\"x\":[972.839,966.139,978.665,971.166,973.235,976.986,977.786,1945.52,1946.458,1974.144,979.761,975.292],\"xaxis\":\"x\",\"y\":[0.066,0.051,0.055,0.042,0.12,0.043,0.041,0.061,0.05,0.025,0.083,0.073],\"yaxis\":\"y\"},{\"customdata\":[[\"jan-18-2022\"]],\"hovertemplate\":\"condition=Thapsigargin<br>dateStr=%{customdata[0]}<br>isi_ms_mean=%{x}<br>isi_ms_cv=%{y}<extra></extra>\",\"legendgroup\":\"Thapsigargin, jan-18-2022\",\"marker\":{\"color\":\"#EF553B\",\"symbol\":\"diamond\"},\"mode\":\"markers\",\"name\":\"Thapsigargin, jan-18-2022\",\"orientation\":\"v\",\"showlegend\":true,\"type\":\"scatter\",\"x\":[1354.63],\"xaxis\":\"x\",\"y\":[0.044],\"yaxis\":\"y\"},{\"customdata\":[[\"feb-15-2022\"],[\"feb-15-2022\"],[\"feb-15-2022\"],[\"feb-15-2022\"]],\"hovertemplate\":\"condition=Thapsigargin<br>dateStr=%{customdata[0]}<br>isi_ms_mean=%{x}<br>isi_ms_cv=%{y}<extra></extra>\",\"legendgroup\":\"Thapsigargin, feb-15-2022\",\"marker\":{\"color\":\"#EF553B\",\"symbol\":\"square\"},\"mode\":\"markers\",\"name\":\"Thapsigargin, feb-15-2022\",\"orientation\":\"v\",\"showlegend\":true,\"type\":\"scatter\",\"x\":[1452.37,1214.292,921.794,785.909],\"xaxis\":\"x\",\"y\":[0.002,0.034,0.05,0.007],\"yaxis\":\"y\"}],                        {\"legend\":{\"title\":{\"text\":\"condition, dateStr\"},\"tracegroupgap\":0},\"margin\":{\"t\":60},\"template\":{\"data\":{\"bar\":[{\"error_x\":{\"color\":\"#2a3f5f\"},\"error_y\":{\"color\":\"#2a3f5f\"},\"marker\":{\"line\":{\"color\":\"#E5ECF6\",\"width\":0.5},\"pattern\":{\"fillmode\":\"overlay\",\"size\":10,\"solidity\":0.2}},\"type\":\"bar\"}],\"barpolar\":[{\"marker\":{\"line\":{\"color\":\"#E5ECF6\",\"width\":0.5},\"pattern\":{\"fillmode\":\"overlay\",\"size\":10,\"solidity\":0.2}},\"type\":\"barpolar\"}],\"carpet\":[{\"aaxis\":{\"endlinecolor\":\"#2a3f5f\",\"gridcolor\":\"white\",\"linecolor\":\"white\",\"minorgridcolor\":\"white\",\"startlinecolor\":\"#2a3f5f\"},\"baxis\":{\"endlinecolor\":\"#2a3f5f\",\"gridcolor\":\"white\",\"linecolor\":\"white\",\"minorgridcolor\":\"white\",\"startlinecolor\":\"#2a3f5f\"},\"type\":\"carpet\"}],\"choropleth\":[{\"colorbar\":{\"outlinewidth\":0,\"ticks\":\"\"},\"type\":\"choropleth\"}],\"contour\":[{\"colorbar\":{\"outlinewidth\":0,\"ticks\":\"\"},\"colorscale\":[[0.0,\"#0d0887\"],[0.1111111111111111,\"#46039f\"],[0.2222222222222222,\"#7201a8\"],[0.3333333333333333,\"#9c179e\"],[0.4444444444444444,\"#bd3786\"],[0.5555555555555556,\"#d8576b\"],[0.6666666666666666,\"#ed7953\"],[0.7777777777777778,\"#fb9f3a\"],[0.8888888888888888,\"#fdca26\"],[1.0,\"#f0f921\"]],\"type\":\"contour\"}],\"contourcarpet\":[{\"colorbar\":{\"outlinewidth\":0,\"ticks\":\"\"},\"type\":\"contourcarpet\"}],\"heatmap\":[{\"colorbar\":{\"outlinewidth\":0,\"ticks\":\"\"},\"colorscale\":[[0.0,\"#0d0887\"],[0.1111111111111111,\"#46039f\"],[0.2222222222222222,\"#7201a8\"],[0.3333333333333333,\"#9c179e\"],[0.4444444444444444,\"#bd3786\"],[0.5555555555555556,\"#d8576b\"],[0.6666666666666666,\"#ed7953\"],[0.7777777777777778,\"#fb9f3a\"],[0.8888888888888888,\"#fdca26\"],[1.0,\"#f0f921\"]],\"type\":\"heatmap\"}],\"heatmapgl\":[{\"colorbar\":{\"outlinewidth\":0,\"ticks\":\"\"},\"colorscale\":[[0.0,\"#0d0887\"],[0.1111111111111111,\"#46039f\"],[0.2222222222222222,\"#7201a8\"],[0.3333333333333333,\"#9c179e\"],[0.4444444444444444,\"#bd3786\"],[0.5555555555555556,\"#d8576b\"],[0.6666666666666666,\"#ed7953\"],[0.7777777777777778,\"#fb9f3a\"],[0.8888888888888888,\"#fdca26\"],[1.0,\"#f0f921\"]],\"type\":\"heatmapgl\"}],\"histogram\":[{\"marker\":{\"pattern\":{\"fillmode\":\"overlay\",\"size\":10,\"solidity\":0.2}},\"type\":\"histogram\"}],\"histogram2d\":[{\"colorbar\":{\"outlinewidth\":0,\"ticks\":\"\"},\"colorscale\":[[0.0,\"#0d0887\"],[0.1111111111111111,\"#46039f\"],[0.2222222222222222,\"#7201a8\"],[0.3333333333333333,\"#9c179e\"],[0.4444444444444444,\"#bd3786\"],[0.5555555555555556,\"#d8576b\"],[0.6666666666666666,\"#ed7953\"],[0.7777777777777778,\"#fb9f3a\"],[0.8888888888888888,\"#fdca26\"],[1.0,\"#f0f921\"]],\"type\":\"histogram2d\"}],\"histogram2dcontour\":[{\"colorbar\":{\"outlinewidth\":0,\"ticks\":\"\"},\"colorscale\":[[0.0,\"#0d0887\"],[0.1111111111111111,\"#46039f\"],[0.2222222222222222,\"#7201a8\"],[0.3333333333333333,\"#9c179e\"],[0.4444444444444444,\"#bd3786\"],[0.5555555555555556,\"#d8576b\"],[0.6666666666666666,\"#ed7953\"],[0.7777777777777778,\"#fb9f3a\"],[0.8888888888888888,\"#fdca26\"],[1.0,\"#f0f921\"]],\"type\":\"histogram2dcontour\"}],\"mesh3d\":[{\"colorbar\":{\"outlinewidth\":0,\"ticks\":\"\"},\"type\":\"mesh3d\"}],\"parcoords\":[{\"line\":{\"colorbar\":{\"outlinewidth\":0,\"ticks\":\"\"}},\"type\":\"parcoords\"}],\"pie\":[{\"automargin\":true,\"type\":\"pie\"}],\"scatter\":[{\"marker\":{\"colorbar\":{\"outlinewidth\":0,\"ticks\":\"\"}},\"type\":\"scatter\"}],\"scatter3d\":[{\"line\":{\"colorbar\":{\"outlinewidth\":0,\"ticks\":\"\"}},\"marker\":{\"colorbar\":{\"outlinewidth\":0,\"ticks\":\"\"}},\"type\":\"scatter3d\"}],\"scattercarpet\":[{\"marker\":{\"colorbar\":{\"outlinewidth\":0,\"ticks\":\"\"}},\"type\":\"scattercarpet\"}],\"scattergeo\":[{\"marker\":{\"colorbar\":{\"outlinewidth\":0,\"ticks\":\"\"}},\"type\":\"scattergeo\"}],\"scattergl\":[{\"marker\":{\"colorbar\":{\"outlinewidth\":0,\"ticks\":\"\"}},\"type\":\"scattergl\"}],\"scattermapbox\":[{\"marker\":{\"colorbar\":{\"outlinewidth\":0,\"ticks\":\"\"}},\"type\":\"scattermapbox\"}],\"scatterpolar\":[{\"marker\":{\"colorbar\":{\"outlinewidth\":0,\"ticks\":\"\"}},\"type\":\"scatterpolar\"}],\"scatterpolargl\":[{\"marker\":{\"colorbar\":{\"outlinewidth\":0,\"ticks\":\"\"}},\"type\":\"scatterpolargl\"}],\"scatterternary\":[{\"marker\":{\"colorbar\":{\"outlinewidth\":0,\"ticks\":\"\"}},\"type\":\"scatterternary\"}],\"surface\":[{\"colorbar\":{\"outlinewidth\":0,\"ticks\":\"\"},\"colorscale\":[[0.0,\"#0d0887\"],[0.1111111111111111,\"#46039f\"],[0.2222222222222222,\"#7201a8\"],[0.3333333333333333,\"#9c179e\"],[0.4444444444444444,\"#bd3786\"],[0.5555555555555556,\"#d8576b\"],[0.6666666666666666,\"#ed7953\"],[0.7777777777777778,\"#fb9f3a\"],[0.8888888888888888,\"#fdca26\"],[1.0,\"#f0f921\"]],\"type\":\"surface\"}],\"table\":[{\"cells\":{\"fill\":{\"color\":\"#EBF0F8\"},\"line\":{\"color\":\"white\"}},\"header\":{\"fill\":{\"color\":\"#C8D4E3\"},\"line\":{\"color\":\"white\"}},\"type\":\"table\"}]},\"layout\":{\"annotationdefaults\":{\"arrowcolor\":\"#2a3f5f\",\"arrowhead\":0,\"arrowwidth\":1},\"autotypenumbers\":\"strict\",\"coloraxis\":{\"colorbar\":{\"outlinewidth\":0,\"ticks\":\"\"}},\"colorscale\":{\"diverging\":[[0,\"#8e0152\"],[0.1,\"#c51b7d\"],[0.2,\"#de77ae\"],[0.3,\"#f1b6da\"],[0.4,\"#fde0ef\"],[0.5,\"#f7f7f7\"],[0.6,\"#e6f5d0\"],[0.7,\"#b8e186\"],[0.8,\"#7fbc41\"],[0.9,\"#4d9221\"],[1,\"#276419\"]],\"sequential\":[[0.0,\"#0d0887\"],[0.1111111111111111,\"#46039f\"],[0.2222222222222222,\"#7201a8\"],[0.3333333333333333,\"#9c179e\"],[0.4444444444444444,\"#bd3786\"],[0.5555555555555556,\"#d8576b\"],[0.6666666666666666,\"#ed7953\"],[0.7777777777777778,\"#fb9f3a\"],[0.8888888888888888,\"#fdca26\"],[1.0,\"#f0f921\"]],\"sequentialminus\":[[0.0,\"#0d0887\"],[0.1111111111111111,\"#46039f\"],[0.2222222222222222,\"#7201a8\"],[0.3333333333333333,\"#9c179e\"],[0.4444444444444444,\"#bd3786\"],[0.5555555555555556,\"#d8576b\"],[0.6666666666666666,\"#ed7953\"],[0.7777777777777778,\"#fb9f3a\"],[0.8888888888888888,\"#fdca26\"],[1.0,\"#f0f921\"]]},\"colorway\":[\"#636efa\",\"#EF553B\",\"#00cc96\",\"#ab63fa\",\"#FFA15A\",\"#19d3f3\",\"#FF6692\",\"#B6E880\",\"#FF97FF\",\"#FECB52\"],\"font\":{\"color\":\"#2a3f5f\"},\"geo\":{\"bgcolor\":\"white\",\"lakecolor\":\"white\",\"landcolor\":\"#E5ECF6\",\"showlakes\":true,\"showland\":true,\"subunitcolor\":\"white\"},\"hoverlabel\":{\"align\":\"left\"},\"hovermode\":\"closest\",\"mapbox\":{\"style\":\"light\"},\"paper_bgcolor\":\"white\",\"plot_bgcolor\":\"#E5ECF6\",\"polar\":{\"angularaxis\":{\"gridcolor\":\"white\",\"linecolor\":\"white\",\"ticks\":\"\"},\"bgcolor\":\"#E5ECF6\",\"radialaxis\":{\"gridcolor\":\"white\",\"linecolor\":\"white\",\"ticks\":\"\"}},\"scene\":{\"xaxis\":{\"backgroundcolor\":\"#E5ECF6\",\"gridcolor\":\"white\",\"gridwidth\":2,\"linecolor\":\"white\",\"showbackground\":true,\"ticks\":\"\",\"zerolinecolor\":\"white\"},\"yaxis\":{\"backgroundcolor\":\"#E5ECF6\",\"gridcolor\":\"white\",\"gridwidth\":2,\"linecolor\":\"white\",\"showbackground\":true,\"ticks\":\"\",\"zerolinecolor\":\"white\"},\"zaxis\":{\"backgroundcolor\":\"#E5ECF6\",\"gridcolor\":\"white\",\"gridwidth\":2,\"linecolor\":\"white\",\"showbackground\":true,\"ticks\":\"\",\"zerolinecolor\":\"white\"}},\"shapedefaults\":{\"line\":{\"color\":\"#2a3f5f\"}},\"ternary\":{\"aaxis\":{\"gridcolor\":\"white\",\"linecolor\":\"white\",\"ticks\":\"\"},\"baxis\":{\"gridcolor\":\"white\",\"linecolor\":\"white\",\"ticks\":\"\"},\"bgcolor\":\"#E5ECF6\",\"caxis\":{\"gridcolor\":\"white\",\"linecolor\":\"white\",\"ticks\":\"\"}},\"title\":{\"x\":0.05},\"xaxis\":{\"automargin\":true,\"gridcolor\":\"white\",\"linecolor\":\"white\",\"ticks\":\"\",\"title\":{\"standoff\":15},\"zerolinecolor\":\"white\",\"zerolinewidth\":2},\"yaxis\":{\"automargin\":true,\"gridcolor\":\"white\",\"linecolor\":\"white\",\"ticks\":\"\",\"title\":{\"standoff\":15},\"zerolinecolor\":\"white\",\"zerolinewidth\":2}}},\"xaxis\":{\"anchor\":\"y\",\"domain\":[0.0,1.0],\"title\":{\"text\":\"isi_ms_mean\"}},\"yaxis\":{\"anchor\":\"x\",\"domain\":[0.0,1.0],\"title\":{\"text\":\"isi_ms_cv\"}}},                        {\"responsive\": true}                    ).then(function(){\n",
       "                            \n",
       "var gd = document.getElementById('20b6aa8a-9b1a-4778-94d6-fdd772b42296');\n",
       "var x = new MutationObserver(function (mutations, observer) {{\n",
       "        var display = window.getComputedStyle(gd).display;\n",
       "        if (!display || display === 'none') {{\n",
       "            console.log([gd, 'removed!']);\n",
       "            Plotly.purge(gd);\n",
       "            observer.disconnect();\n",
       "        }}\n",
       "}});\n",
       "\n",
       "// Listen for the removal of the full notebook cells\n",
       "var notebookContainer = gd.closest('#notebook-container');\n",
       "if (notebookContainer) {{\n",
       "    x.observe(notebookContainer, {childList: true});\n",
       "}}\n",
       "\n",
       "// Listen for the clearing of the current output cell\n",
       "var outputEl = gd.closest('.output');\n",
       "if (outputEl) {{\n",
       "    x.observe(outputEl, {childList: true});\n",
       "}}\n",
       "\n",
       "                        })                };                });            </script>        </div>"
      ]
     },
     "metadata": {},
     "output_type": "display_data"
    }
   ],
   "source": [
    "xStat = 'isi_ms_mean'  \n",
    "yStat = 'isi_ms_cv'  \n",
    "\n",
    "fig = px.scatter(dfSummary, x=xStat, y=yStat,\n",
    "                color='condition',\n",
    "                symbol='dateStr',\n",
    "                hover_data=['dateStr'])\n",
    "fig.show()"
   ]
  },
  {
   "cell_type": "code",
   "execution_count": 30,
   "id": "6ed24926",
   "metadata": {},
   "outputs": [
    {
     "data": {
      "application/vnd.plotly.v1+json": {
       "config": {
        "plotlyServerURL": "https://plot.ly"
       },
       "data": [
        {
         "customdata": [
          [
           "jan-12-2022"
          ],
          [
           "jan-12-2022"
          ],
          [
           "jan-12-2022"
          ],
          [
           "jan-12-2022"
          ],
          [
           "jan-12-2022"
          ],
          [
           "jan-12-2022"
          ],
          [
           "jan-12-2022"
          ],
          [
           "jan-12-2022"
          ],
          [
           "jan-12-2022"
          ],
          [
           "jan-12-2022"
          ],
          [
           "jan-12-2022"
          ],
          [
           "jan-12-2022"
          ],
          [
           "jan-12-2022"
          ],
          [
           "jan-12-2022"
          ],
          [
           "jan-12-2022"
          ],
          [
           "jan-12-2022"
          ],
          [
           "jan-12-2022"
          ],
          [
           "jan-12-2022"
          ],
          [
           "jan-12-2022"
          ]
         ],
         "error_x": {
          "array": [
           5.165,
           2.801,
           4.804,
           7.584,
           13.621,
           5.885,
           2.779,
           3.403,
           2.595,
           4.811,
           4.538,
           6.875,
           20.661,
           27.993,
           12.42,
           17.272,
           12.008,
           3.471,
           3.025
          ]
         },
         "hovertemplate": "condition=Control<br>dateStr=%{customdata[0]}<br>isi_ms_mean=%{x}<br>varPeak=%{y}<extra></extra>",
         "legendgroup": "Control, jan-12-2022",
         "marker": {
          "color": "#636efa",
          "symbol": "circle"
         },
         "mode": "markers",
         "name": "Control, jan-12-2022",
         "orientation": "v",
         "showlegend": true,
         "type": "scatter",
         "x": [
          985.155,
          1970.638,
          1969.453,
          1971.436,
          993.283,
          986.221,
          987.911,
          987.911,
          989.899,
          988.981,
          989.747,
          990.633,
          1980.978,
          1991.634,
          994.85,
          991.34,
          996.169,
          1982.154,
          1935.976
         ],
         "xaxis": "x",
         "y": [
          389.504708937951,
          416.877847377016,
          455.713036865347,
          250.59094891465,
          615.36357683836,
          154.536270187606,
          622.665356996891,
          1429.89551068333,
          476.009969043115,
          244.238600473544,
          369.164426935728,
          367.880407757186,
          749.203928962291,
          609.361172593613,
          506.980647556644,
          603.837631578108,
          427.507438360987,
          566.51951360516,
          168.234797662804
         ],
         "yaxis": "y"
        },
        {
         "customdata": [
          [
           "jan-18-2022"
          ],
          [
           "jan-18-2022"
          ],
          [
           "jan-18-2022"
          ],
          [
           "jan-18-2022"
          ],
          [
           "jan-18-2022"
          ]
         ],
         "error_x": {
          "array": [
           125.888,
           18.579,
           32.827,
           2.972,
           1.89
          ]
         },
         "hovertemplate": "condition=Control<br>dateStr=%{customdata[0]}<br>isi_ms_mean=%{x}<br>varPeak=%{y}<extra></extra>",
         "legendgroup": "Control, jan-18-2022",
         "marker": {
          "color": "#636efa",
          "symbol": "diamond"
         },
         "mode": "markers",
         "name": "Control, jan-18-2022",
         "orientation": "v",
         "showlegend": true,
         "type": "scatter",
         "x": [
          1065.21,
          1012.567,
          1007.713,
          1007.23,
          1342.967
         ],
         "xaxis": "x",
         "y": [
          1463.08347609605,
          1515.3813721007,
          3753.90791012963,
          310.751397087379,
          416.755005509618
         ],
         "yaxis": "y"
        },
        {
         "customdata": [
          [
           "feb-15-2022"
          ],
          [
           "feb-15-2022"
          ],
          [
           "feb-15-2022"
          ],
          [
           "feb-15-2022"
          ],
          [
           "feb-15-2022"
          ]
         ],
         "error_x": {
          "array": [
           4.396,
           5.443,
           80.571,
           8.789,
           7.65
          ]
         },
         "hovertemplate": "condition=Control<br>dateStr=%{customdata[0]}<br>isi_ms_mean=%{x}<br>varPeak=%{y}<extra></extra>",
         "legendgroup": "Control, feb-15-2022",
         "marker": {
          "color": "#636efa",
          "symbol": "square"
         },
         "mode": "markers",
         "name": "Control, feb-15-2022",
         "orientation": "v",
         "showlegend": true,
         "type": "scatter",
         "x": [
          581.715,
          290.098,
          314.239,
          290.167,
          870.276
         ],
         "xaxis": "x",
         "y": [
          575.535352395805,
          79.325703937602,
          75.7258478303374,
          26.610254423869,
          537.785142598472
         ],
         "yaxis": "y"
        },
        {
         "customdata": [
          [
           "jan-12-2022"
          ],
          [
           "jan-12-2022"
          ],
          [
           "jan-12-2022"
          ],
          [
           "jan-12-2022"
          ],
          [
           "jan-12-2022"
          ],
          [
           "jan-12-2022"
          ],
          [
           "jan-12-2022"
          ],
          [
           "jan-12-2022"
          ],
          [
           "jan-12-2022"
          ],
          [
           "jan-12-2022"
          ],
          [
           "jan-12-2022"
          ],
          [
           "jan-12-2022"
          ]
         ],
         "error_x": {
          "array": [
           15.216,
           19.638,
           18.042,
           23.717,
           8.336,
           23.218,
           24.366,
           16.508,
           19.978,
           39.543,
           11.994,
           13.66
          ]
         },
         "hovertemplate": "condition=Thapsigargin<br>dateStr=%{customdata[0]}<br>isi_ms_mean=%{x}<br>varPeak=%{y}<extra></extra>",
         "legendgroup": "Thapsigargin, jan-12-2022",
         "marker": {
          "color": "#EF553B",
          "symbol": "circle"
         },
         "mode": "markers",
         "name": "Thapsigargin, jan-12-2022",
         "orientation": "v",
         "showlegend": true,
         "type": "scatter",
         "x": [
          972.839,
          966.139,
          978.665,
          971.166,
          973.235,
          976.986,
          977.786,
          1945.52,
          1946.458,
          1974.144,
          979.761,
          975.292
         ],
         "xaxis": "x",
         "y": [
          6.44441853576082,
          4.79959601579387,
          25.9603347489287,
          8.24599081137011,
          8.3350966105453,
          6.35064993245252,
          13.8936688878973,
          34.3714666204609,
          10.9808943235497,
          27.1862214005442,
          12.6155273557123,
          7.39835280941341
         ],
         "yaxis": "y"
        },
        {
         "customdata": [
          [
           "jan-18-2022"
          ]
         ],
         "error_x": {
          "array": [
           22.924
          ]
         },
         "hovertemplate": "condition=Thapsigargin<br>dateStr=%{customdata[0]}<br>isi_ms_mean=%{x}<br>varPeak=%{y}<extra></extra>",
         "legendgroup": "Thapsigargin, jan-18-2022",
         "marker": {
          "color": "#EF553B",
          "symbol": "diamond"
         },
         "mode": "markers",
         "name": "Thapsigargin, jan-18-2022",
         "orientation": "v",
         "showlegend": true,
         "type": "scatter",
         "x": [
          1354.63
         ],
         "xaxis": "x",
         "y": [
          16.2282717223809
         ],
         "yaxis": "y"
        },
        {
         "customdata": [
          [
           "feb-15-2022"
          ],
          [
           "feb-15-2022"
          ],
          [
           "feb-15-2022"
          ],
          [
           "feb-15-2022"
          ]
         ],
         "error_x": {
          "array": [
           454.438,
           29.039,
           19.835,
           137.086
          ]
         },
         "hovertemplate": "condition=Thapsigargin<br>dateStr=%{customdata[0]}<br>isi_ms_mean=%{x}<br>varPeak=%{y}<extra></extra>",
         "legendgroup": "Thapsigargin, feb-15-2022",
         "marker": {
          "color": "#EF553B",
          "symbol": "square"
         },
         "mode": "markers",
         "name": "Thapsigargin, feb-15-2022",
         "orientation": "v",
         "showlegend": true,
         "type": "scatter",
         "x": [
          1452.37,
          1214.292,
          921.794,
          785.909
         ],
         "xaxis": "x",
         "y": [
          9.94262806600517,
          22.7907575922872,
          34.5839984922794,
          109.35789567401
         ],
         "yaxis": "y"
        }
       ],
       "layout": {
        "legend": {
         "title": {
          "text": "condition, dateStr"
         },
         "tracegroupgap": 0
        },
        "margin": {
         "t": 60
        },
        "template": {
         "data": {
          "bar": [
           {
            "error_x": {
             "color": "#2a3f5f"
            },
            "error_y": {
             "color": "#2a3f5f"
            },
            "marker": {
             "line": {
              "color": "#E5ECF6",
              "width": 0.5
             },
             "pattern": {
              "fillmode": "overlay",
              "size": 10,
              "solidity": 0.2
             }
            },
            "type": "bar"
           }
          ],
          "barpolar": [
           {
            "marker": {
             "line": {
              "color": "#E5ECF6",
              "width": 0.5
             },
             "pattern": {
              "fillmode": "overlay",
              "size": 10,
              "solidity": 0.2
             }
            },
            "type": "barpolar"
           }
          ],
          "carpet": [
           {
            "aaxis": {
             "endlinecolor": "#2a3f5f",
             "gridcolor": "white",
             "linecolor": "white",
             "minorgridcolor": "white",
             "startlinecolor": "#2a3f5f"
            },
            "baxis": {
             "endlinecolor": "#2a3f5f",
             "gridcolor": "white",
             "linecolor": "white",
             "minorgridcolor": "white",
             "startlinecolor": "#2a3f5f"
            },
            "type": "carpet"
           }
          ],
          "choropleth": [
           {
            "colorbar": {
             "outlinewidth": 0,
             "ticks": ""
            },
            "type": "choropleth"
           }
          ],
          "contour": [
           {
            "colorbar": {
             "outlinewidth": 0,
             "ticks": ""
            },
            "colorscale": [
             [
              0,
              "#0d0887"
             ],
             [
              0.1111111111111111,
              "#46039f"
             ],
             [
              0.2222222222222222,
              "#7201a8"
             ],
             [
              0.3333333333333333,
              "#9c179e"
             ],
             [
              0.4444444444444444,
              "#bd3786"
             ],
             [
              0.5555555555555556,
              "#d8576b"
             ],
             [
              0.6666666666666666,
              "#ed7953"
             ],
             [
              0.7777777777777778,
              "#fb9f3a"
             ],
             [
              0.8888888888888888,
              "#fdca26"
             ],
             [
              1,
              "#f0f921"
             ]
            ],
            "type": "contour"
           }
          ],
          "contourcarpet": [
           {
            "colorbar": {
             "outlinewidth": 0,
             "ticks": ""
            },
            "type": "contourcarpet"
           }
          ],
          "heatmap": [
           {
            "colorbar": {
             "outlinewidth": 0,
             "ticks": ""
            },
            "colorscale": [
             [
              0,
              "#0d0887"
             ],
             [
              0.1111111111111111,
              "#46039f"
             ],
             [
              0.2222222222222222,
              "#7201a8"
             ],
             [
              0.3333333333333333,
              "#9c179e"
             ],
             [
              0.4444444444444444,
              "#bd3786"
             ],
             [
              0.5555555555555556,
              "#d8576b"
             ],
             [
              0.6666666666666666,
              "#ed7953"
             ],
             [
              0.7777777777777778,
              "#fb9f3a"
             ],
             [
              0.8888888888888888,
              "#fdca26"
             ],
             [
              1,
              "#f0f921"
             ]
            ],
            "type": "heatmap"
           }
          ],
          "heatmapgl": [
           {
            "colorbar": {
             "outlinewidth": 0,
             "ticks": ""
            },
            "colorscale": [
             [
              0,
              "#0d0887"
             ],
             [
              0.1111111111111111,
              "#46039f"
             ],
             [
              0.2222222222222222,
              "#7201a8"
             ],
             [
              0.3333333333333333,
              "#9c179e"
             ],
             [
              0.4444444444444444,
              "#bd3786"
             ],
             [
              0.5555555555555556,
              "#d8576b"
             ],
             [
              0.6666666666666666,
              "#ed7953"
             ],
             [
              0.7777777777777778,
              "#fb9f3a"
             ],
             [
              0.8888888888888888,
              "#fdca26"
             ],
             [
              1,
              "#f0f921"
             ]
            ],
            "type": "heatmapgl"
           }
          ],
          "histogram": [
           {
            "marker": {
             "pattern": {
              "fillmode": "overlay",
              "size": 10,
              "solidity": 0.2
             }
            },
            "type": "histogram"
           }
          ],
          "histogram2d": [
           {
            "colorbar": {
             "outlinewidth": 0,
             "ticks": ""
            },
            "colorscale": [
             [
              0,
              "#0d0887"
             ],
             [
              0.1111111111111111,
              "#46039f"
             ],
             [
              0.2222222222222222,
              "#7201a8"
             ],
             [
              0.3333333333333333,
              "#9c179e"
             ],
             [
              0.4444444444444444,
              "#bd3786"
             ],
             [
              0.5555555555555556,
              "#d8576b"
             ],
             [
              0.6666666666666666,
              "#ed7953"
             ],
             [
              0.7777777777777778,
              "#fb9f3a"
             ],
             [
              0.8888888888888888,
              "#fdca26"
             ],
             [
              1,
              "#f0f921"
             ]
            ],
            "type": "histogram2d"
           }
          ],
          "histogram2dcontour": [
           {
            "colorbar": {
             "outlinewidth": 0,
             "ticks": ""
            },
            "colorscale": [
             [
              0,
              "#0d0887"
             ],
             [
              0.1111111111111111,
              "#46039f"
             ],
             [
              0.2222222222222222,
              "#7201a8"
             ],
             [
              0.3333333333333333,
              "#9c179e"
             ],
             [
              0.4444444444444444,
              "#bd3786"
             ],
             [
              0.5555555555555556,
              "#d8576b"
             ],
             [
              0.6666666666666666,
              "#ed7953"
             ],
             [
              0.7777777777777778,
              "#fb9f3a"
             ],
             [
              0.8888888888888888,
              "#fdca26"
             ],
             [
              1,
              "#f0f921"
             ]
            ],
            "type": "histogram2dcontour"
           }
          ],
          "mesh3d": [
           {
            "colorbar": {
             "outlinewidth": 0,
             "ticks": ""
            },
            "type": "mesh3d"
           }
          ],
          "parcoords": [
           {
            "line": {
             "colorbar": {
              "outlinewidth": 0,
              "ticks": ""
             }
            },
            "type": "parcoords"
           }
          ],
          "pie": [
           {
            "automargin": true,
            "type": "pie"
           }
          ],
          "scatter": [
           {
            "marker": {
             "colorbar": {
              "outlinewidth": 0,
              "ticks": ""
             }
            },
            "type": "scatter"
           }
          ],
          "scatter3d": [
           {
            "line": {
             "colorbar": {
              "outlinewidth": 0,
              "ticks": ""
             }
            },
            "marker": {
             "colorbar": {
              "outlinewidth": 0,
              "ticks": ""
             }
            },
            "type": "scatter3d"
           }
          ],
          "scattercarpet": [
           {
            "marker": {
             "colorbar": {
              "outlinewidth": 0,
              "ticks": ""
             }
            },
            "type": "scattercarpet"
           }
          ],
          "scattergeo": [
           {
            "marker": {
             "colorbar": {
              "outlinewidth": 0,
              "ticks": ""
             }
            },
            "type": "scattergeo"
           }
          ],
          "scattergl": [
           {
            "marker": {
             "colorbar": {
              "outlinewidth": 0,
              "ticks": ""
             }
            },
            "type": "scattergl"
           }
          ],
          "scattermapbox": [
           {
            "marker": {
             "colorbar": {
              "outlinewidth": 0,
              "ticks": ""
             }
            },
            "type": "scattermapbox"
           }
          ],
          "scatterpolar": [
           {
            "marker": {
             "colorbar": {
              "outlinewidth": 0,
              "ticks": ""
             }
            },
            "type": "scatterpolar"
           }
          ],
          "scatterpolargl": [
           {
            "marker": {
             "colorbar": {
              "outlinewidth": 0,
              "ticks": ""
             }
            },
            "type": "scatterpolargl"
           }
          ],
          "scatterternary": [
           {
            "marker": {
             "colorbar": {
              "outlinewidth": 0,
              "ticks": ""
             }
            },
            "type": "scatterternary"
           }
          ],
          "surface": [
           {
            "colorbar": {
             "outlinewidth": 0,
             "ticks": ""
            },
            "colorscale": [
             [
              0,
              "#0d0887"
             ],
             [
              0.1111111111111111,
              "#46039f"
             ],
             [
              0.2222222222222222,
              "#7201a8"
             ],
             [
              0.3333333333333333,
              "#9c179e"
             ],
             [
              0.4444444444444444,
              "#bd3786"
             ],
             [
              0.5555555555555556,
              "#d8576b"
             ],
             [
              0.6666666666666666,
              "#ed7953"
             ],
             [
              0.7777777777777778,
              "#fb9f3a"
             ],
             [
              0.8888888888888888,
              "#fdca26"
             ],
             [
              1,
              "#f0f921"
             ]
            ],
            "type": "surface"
           }
          ],
          "table": [
           {
            "cells": {
             "fill": {
              "color": "#EBF0F8"
             },
             "line": {
              "color": "white"
             }
            },
            "header": {
             "fill": {
              "color": "#C8D4E3"
             },
             "line": {
              "color": "white"
             }
            },
            "type": "table"
           }
          ]
         },
         "layout": {
          "annotationdefaults": {
           "arrowcolor": "#2a3f5f",
           "arrowhead": 0,
           "arrowwidth": 1
          },
          "autotypenumbers": "strict",
          "coloraxis": {
           "colorbar": {
            "outlinewidth": 0,
            "ticks": ""
           }
          },
          "colorscale": {
           "diverging": [
            [
             0,
             "#8e0152"
            ],
            [
             0.1,
             "#c51b7d"
            ],
            [
             0.2,
             "#de77ae"
            ],
            [
             0.3,
             "#f1b6da"
            ],
            [
             0.4,
             "#fde0ef"
            ],
            [
             0.5,
             "#f7f7f7"
            ],
            [
             0.6,
             "#e6f5d0"
            ],
            [
             0.7,
             "#b8e186"
            ],
            [
             0.8,
             "#7fbc41"
            ],
            [
             0.9,
             "#4d9221"
            ],
            [
             1,
             "#276419"
            ]
           ],
           "sequential": [
            [
             0,
             "#0d0887"
            ],
            [
             0.1111111111111111,
             "#46039f"
            ],
            [
             0.2222222222222222,
             "#7201a8"
            ],
            [
             0.3333333333333333,
             "#9c179e"
            ],
            [
             0.4444444444444444,
             "#bd3786"
            ],
            [
             0.5555555555555556,
             "#d8576b"
            ],
            [
             0.6666666666666666,
             "#ed7953"
            ],
            [
             0.7777777777777778,
             "#fb9f3a"
            ],
            [
             0.8888888888888888,
             "#fdca26"
            ],
            [
             1,
             "#f0f921"
            ]
           ],
           "sequentialminus": [
            [
             0,
             "#0d0887"
            ],
            [
             0.1111111111111111,
             "#46039f"
            ],
            [
             0.2222222222222222,
             "#7201a8"
            ],
            [
             0.3333333333333333,
             "#9c179e"
            ],
            [
             0.4444444444444444,
             "#bd3786"
            ],
            [
             0.5555555555555556,
             "#d8576b"
            ],
            [
             0.6666666666666666,
             "#ed7953"
            ],
            [
             0.7777777777777778,
             "#fb9f3a"
            ],
            [
             0.8888888888888888,
             "#fdca26"
            ],
            [
             1,
             "#f0f921"
            ]
           ]
          },
          "colorway": [
           "#636efa",
           "#EF553B",
           "#00cc96",
           "#ab63fa",
           "#FFA15A",
           "#19d3f3",
           "#FF6692",
           "#B6E880",
           "#FF97FF",
           "#FECB52"
          ],
          "font": {
           "color": "#2a3f5f"
          },
          "geo": {
           "bgcolor": "white",
           "lakecolor": "white",
           "landcolor": "#E5ECF6",
           "showlakes": true,
           "showland": true,
           "subunitcolor": "white"
          },
          "hoverlabel": {
           "align": "left"
          },
          "hovermode": "closest",
          "mapbox": {
           "style": "light"
          },
          "paper_bgcolor": "white",
          "plot_bgcolor": "#E5ECF6",
          "polar": {
           "angularaxis": {
            "gridcolor": "white",
            "linecolor": "white",
            "ticks": ""
           },
           "bgcolor": "#E5ECF6",
           "radialaxis": {
            "gridcolor": "white",
            "linecolor": "white",
            "ticks": ""
           }
          },
          "scene": {
           "xaxis": {
            "backgroundcolor": "#E5ECF6",
            "gridcolor": "white",
            "gridwidth": 2,
            "linecolor": "white",
            "showbackground": true,
            "ticks": "",
            "zerolinecolor": "white"
           },
           "yaxis": {
            "backgroundcolor": "#E5ECF6",
            "gridcolor": "white",
            "gridwidth": 2,
            "linecolor": "white",
            "showbackground": true,
            "ticks": "",
            "zerolinecolor": "white"
           },
           "zaxis": {
            "backgroundcolor": "#E5ECF6",
            "gridcolor": "white",
            "gridwidth": 2,
            "linecolor": "white",
            "showbackground": true,
            "ticks": "",
            "zerolinecolor": "white"
           }
          },
          "shapedefaults": {
           "line": {
            "color": "#2a3f5f"
           }
          },
          "ternary": {
           "aaxis": {
            "gridcolor": "white",
            "linecolor": "white",
            "ticks": ""
           },
           "baxis": {
            "gridcolor": "white",
            "linecolor": "white",
            "ticks": ""
           },
           "bgcolor": "#E5ECF6",
           "caxis": {
            "gridcolor": "white",
            "linecolor": "white",
            "ticks": ""
           }
          },
          "title": {
           "x": 0.05
          },
          "xaxis": {
           "automargin": true,
           "gridcolor": "white",
           "linecolor": "white",
           "ticks": "",
           "title": {
            "standoff": 15
           },
           "zerolinecolor": "white",
           "zerolinewidth": 2
          },
          "yaxis": {
           "automargin": true,
           "gridcolor": "white",
           "linecolor": "white",
           "ticks": "",
           "title": {
            "standoff": 15
           },
           "zerolinecolor": "white",
           "zerolinewidth": 2
          }
         }
        },
        "xaxis": {
         "anchor": "y",
         "domain": [
          0,
          1
         ],
         "title": {
          "text": "isi_ms_mean"
         }
        },
        "yaxis": {
         "anchor": "x",
         "domain": [
          0,
          1
         ],
         "title": {
          "text": "varPeak"
         }
        }
       }
      },
      "text/html": [
       "<div>                            <div id=\"dbe5b16c-fd3e-4165-a908-d8d75fc8aade\" class=\"plotly-graph-div\" style=\"height:525px; width:100%;\"></div>            <script type=\"text/javascript\">                require([\"plotly\"], function(Plotly) {                    window.PLOTLYENV=window.PLOTLYENV || {};                                    if (document.getElementById(\"dbe5b16c-fd3e-4165-a908-d8d75fc8aade\")) {                    Plotly.newPlot(                        \"dbe5b16c-fd3e-4165-a908-d8d75fc8aade\",                        [{\"customdata\":[[\"jan-12-2022\"],[\"jan-12-2022\"],[\"jan-12-2022\"],[\"jan-12-2022\"],[\"jan-12-2022\"],[\"jan-12-2022\"],[\"jan-12-2022\"],[\"jan-12-2022\"],[\"jan-12-2022\"],[\"jan-12-2022\"],[\"jan-12-2022\"],[\"jan-12-2022\"],[\"jan-12-2022\"],[\"jan-12-2022\"],[\"jan-12-2022\"],[\"jan-12-2022\"],[\"jan-12-2022\"],[\"jan-12-2022\"],[\"jan-12-2022\"]],\"error_x\":{\"array\":[5.165,2.801,4.804,7.584,13.621,5.885,2.779,3.403,2.595,4.811,4.538,6.875,20.661,27.993,12.42,17.272,12.008,3.471,3.025]},\"hovertemplate\":\"condition=Control<br>dateStr=%{customdata[0]}<br>isi_ms_mean=%{x}<br>varPeak=%{y}<extra></extra>\",\"legendgroup\":\"Control, jan-12-2022\",\"marker\":{\"color\":\"#636efa\",\"symbol\":\"circle\"},\"mode\":\"markers\",\"name\":\"Control, jan-12-2022\",\"orientation\":\"v\",\"showlegend\":true,\"type\":\"scatter\",\"x\":[985.155,1970.638,1969.453,1971.436,993.283,986.221,987.911,987.911,989.899,988.981,989.747,990.633,1980.978,1991.634,994.85,991.34,996.169,1982.154,1935.976],\"xaxis\":\"x\",\"y\":[389.504708937951,416.877847377016,455.713036865347,250.59094891465,615.36357683836,154.536270187606,622.665356996891,1429.89551068333,476.009969043115,244.238600473544,369.164426935728,367.880407757186,749.203928962291,609.361172593613,506.980647556644,603.837631578108,427.507438360987,566.51951360516,168.234797662804],\"yaxis\":\"y\"},{\"customdata\":[[\"jan-18-2022\"],[\"jan-18-2022\"],[\"jan-18-2022\"],[\"jan-18-2022\"],[\"jan-18-2022\"]],\"error_x\":{\"array\":[125.888,18.579,32.827,2.972,1.89]},\"hovertemplate\":\"condition=Control<br>dateStr=%{customdata[0]}<br>isi_ms_mean=%{x}<br>varPeak=%{y}<extra></extra>\",\"legendgroup\":\"Control, jan-18-2022\",\"marker\":{\"color\":\"#636efa\",\"symbol\":\"diamond\"},\"mode\":\"markers\",\"name\":\"Control, jan-18-2022\",\"orientation\":\"v\",\"showlegend\":true,\"type\":\"scatter\",\"x\":[1065.21,1012.567,1007.713,1007.23,1342.967],\"xaxis\":\"x\",\"y\":[1463.08347609605,1515.3813721007,3753.90791012963,310.751397087379,416.755005509618],\"yaxis\":\"y\"},{\"customdata\":[[\"feb-15-2022\"],[\"feb-15-2022\"],[\"feb-15-2022\"],[\"feb-15-2022\"],[\"feb-15-2022\"]],\"error_x\":{\"array\":[4.396,5.443,80.571,8.789,7.65]},\"hovertemplate\":\"condition=Control<br>dateStr=%{customdata[0]}<br>isi_ms_mean=%{x}<br>varPeak=%{y}<extra></extra>\",\"legendgroup\":\"Control, feb-15-2022\",\"marker\":{\"color\":\"#636efa\",\"symbol\":\"square\"},\"mode\":\"markers\",\"name\":\"Control, feb-15-2022\",\"orientation\":\"v\",\"showlegend\":true,\"type\":\"scatter\",\"x\":[581.715,290.098,314.239,290.167,870.276],\"xaxis\":\"x\",\"y\":[575.535352395805,79.325703937602,75.7258478303374,26.610254423869,537.785142598472],\"yaxis\":\"y\"},{\"customdata\":[[\"jan-12-2022\"],[\"jan-12-2022\"],[\"jan-12-2022\"],[\"jan-12-2022\"],[\"jan-12-2022\"],[\"jan-12-2022\"],[\"jan-12-2022\"],[\"jan-12-2022\"],[\"jan-12-2022\"],[\"jan-12-2022\"],[\"jan-12-2022\"],[\"jan-12-2022\"]],\"error_x\":{\"array\":[15.216,19.638,18.042,23.717,8.336,23.218,24.366,16.508,19.978,39.543,11.994,13.66]},\"hovertemplate\":\"condition=Thapsigargin<br>dateStr=%{customdata[0]}<br>isi_ms_mean=%{x}<br>varPeak=%{y}<extra></extra>\",\"legendgroup\":\"Thapsigargin, jan-12-2022\",\"marker\":{\"color\":\"#EF553B\",\"symbol\":\"circle\"},\"mode\":\"markers\",\"name\":\"Thapsigargin, jan-12-2022\",\"orientation\":\"v\",\"showlegend\":true,\"type\":\"scatter\",\"x\":[972.839,966.139,978.665,971.166,973.235,976.986,977.786,1945.52,1946.458,1974.144,979.761,975.292],\"xaxis\":\"x\",\"y\":[6.44441853576082,4.79959601579387,25.9603347489287,8.24599081137011,8.3350966105453,6.35064993245252,13.8936688878973,34.3714666204609,10.9808943235497,27.1862214005442,12.6155273557123,7.39835280941341],\"yaxis\":\"y\"},{\"customdata\":[[\"jan-18-2022\"]],\"error_x\":{\"array\":[22.924]},\"hovertemplate\":\"condition=Thapsigargin<br>dateStr=%{customdata[0]}<br>isi_ms_mean=%{x}<br>varPeak=%{y}<extra></extra>\",\"legendgroup\":\"Thapsigargin, jan-18-2022\",\"marker\":{\"color\":\"#EF553B\",\"symbol\":\"diamond\"},\"mode\":\"markers\",\"name\":\"Thapsigargin, jan-18-2022\",\"orientation\":\"v\",\"showlegend\":true,\"type\":\"scatter\",\"x\":[1354.63],\"xaxis\":\"x\",\"y\":[16.2282717223809],\"yaxis\":\"y\"},{\"customdata\":[[\"feb-15-2022\"],[\"feb-15-2022\"],[\"feb-15-2022\"],[\"feb-15-2022\"]],\"error_x\":{\"array\":[454.438,29.039,19.835,137.086]},\"hovertemplate\":\"condition=Thapsigargin<br>dateStr=%{customdata[0]}<br>isi_ms_mean=%{x}<br>varPeak=%{y}<extra></extra>\",\"legendgroup\":\"Thapsigargin, feb-15-2022\",\"marker\":{\"color\":\"#EF553B\",\"symbol\":\"square\"},\"mode\":\"markers\",\"name\":\"Thapsigargin, feb-15-2022\",\"orientation\":\"v\",\"showlegend\":true,\"type\":\"scatter\",\"x\":[1452.37,1214.292,921.794,785.909],\"xaxis\":\"x\",\"y\":[9.94262806600517,22.7907575922872,34.5839984922794,109.35789567401],\"yaxis\":\"y\"}],                        {\"legend\":{\"title\":{\"text\":\"condition, dateStr\"},\"tracegroupgap\":0},\"margin\":{\"t\":60},\"template\":{\"data\":{\"bar\":[{\"error_x\":{\"color\":\"#2a3f5f\"},\"error_y\":{\"color\":\"#2a3f5f\"},\"marker\":{\"line\":{\"color\":\"#E5ECF6\",\"width\":0.5},\"pattern\":{\"fillmode\":\"overlay\",\"size\":10,\"solidity\":0.2}},\"type\":\"bar\"}],\"barpolar\":[{\"marker\":{\"line\":{\"color\":\"#E5ECF6\",\"width\":0.5},\"pattern\":{\"fillmode\":\"overlay\",\"size\":10,\"solidity\":0.2}},\"type\":\"barpolar\"}],\"carpet\":[{\"aaxis\":{\"endlinecolor\":\"#2a3f5f\",\"gridcolor\":\"white\",\"linecolor\":\"white\",\"minorgridcolor\":\"white\",\"startlinecolor\":\"#2a3f5f\"},\"baxis\":{\"endlinecolor\":\"#2a3f5f\",\"gridcolor\":\"white\",\"linecolor\":\"white\",\"minorgridcolor\":\"white\",\"startlinecolor\":\"#2a3f5f\"},\"type\":\"carpet\"}],\"choropleth\":[{\"colorbar\":{\"outlinewidth\":0,\"ticks\":\"\"},\"type\":\"choropleth\"}],\"contour\":[{\"colorbar\":{\"outlinewidth\":0,\"ticks\":\"\"},\"colorscale\":[[0.0,\"#0d0887\"],[0.1111111111111111,\"#46039f\"],[0.2222222222222222,\"#7201a8\"],[0.3333333333333333,\"#9c179e\"],[0.4444444444444444,\"#bd3786\"],[0.5555555555555556,\"#d8576b\"],[0.6666666666666666,\"#ed7953\"],[0.7777777777777778,\"#fb9f3a\"],[0.8888888888888888,\"#fdca26\"],[1.0,\"#f0f921\"]],\"type\":\"contour\"}],\"contourcarpet\":[{\"colorbar\":{\"outlinewidth\":0,\"ticks\":\"\"},\"type\":\"contourcarpet\"}],\"heatmap\":[{\"colorbar\":{\"outlinewidth\":0,\"ticks\":\"\"},\"colorscale\":[[0.0,\"#0d0887\"],[0.1111111111111111,\"#46039f\"],[0.2222222222222222,\"#7201a8\"],[0.3333333333333333,\"#9c179e\"],[0.4444444444444444,\"#bd3786\"],[0.5555555555555556,\"#d8576b\"],[0.6666666666666666,\"#ed7953\"],[0.7777777777777778,\"#fb9f3a\"],[0.8888888888888888,\"#fdca26\"],[1.0,\"#f0f921\"]],\"type\":\"heatmap\"}],\"heatmapgl\":[{\"colorbar\":{\"outlinewidth\":0,\"ticks\":\"\"},\"colorscale\":[[0.0,\"#0d0887\"],[0.1111111111111111,\"#46039f\"],[0.2222222222222222,\"#7201a8\"],[0.3333333333333333,\"#9c179e\"],[0.4444444444444444,\"#bd3786\"],[0.5555555555555556,\"#d8576b\"],[0.6666666666666666,\"#ed7953\"],[0.7777777777777778,\"#fb9f3a\"],[0.8888888888888888,\"#fdca26\"],[1.0,\"#f0f921\"]],\"type\":\"heatmapgl\"}],\"histogram\":[{\"marker\":{\"pattern\":{\"fillmode\":\"overlay\",\"size\":10,\"solidity\":0.2}},\"type\":\"histogram\"}],\"histogram2d\":[{\"colorbar\":{\"outlinewidth\":0,\"ticks\":\"\"},\"colorscale\":[[0.0,\"#0d0887\"],[0.1111111111111111,\"#46039f\"],[0.2222222222222222,\"#7201a8\"],[0.3333333333333333,\"#9c179e\"],[0.4444444444444444,\"#bd3786\"],[0.5555555555555556,\"#d8576b\"],[0.6666666666666666,\"#ed7953\"],[0.7777777777777778,\"#fb9f3a\"],[0.8888888888888888,\"#fdca26\"],[1.0,\"#f0f921\"]],\"type\":\"histogram2d\"}],\"histogram2dcontour\":[{\"colorbar\":{\"outlinewidth\":0,\"ticks\":\"\"},\"colorscale\":[[0.0,\"#0d0887\"],[0.1111111111111111,\"#46039f\"],[0.2222222222222222,\"#7201a8\"],[0.3333333333333333,\"#9c179e\"],[0.4444444444444444,\"#bd3786\"],[0.5555555555555556,\"#d8576b\"],[0.6666666666666666,\"#ed7953\"],[0.7777777777777778,\"#fb9f3a\"],[0.8888888888888888,\"#fdca26\"],[1.0,\"#f0f921\"]],\"type\":\"histogram2dcontour\"}],\"mesh3d\":[{\"colorbar\":{\"outlinewidth\":0,\"ticks\":\"\"},\"type\":\"mesh3d\"}],\"parcoords\":[{\"line\":{\"colorbar\":{\"outlinewidth\":0,\"ticks\":\"\"}},\"type\":\"parcoords\"}],\"pie\":[{\"automargin\":true,\"type\":\"pie\"}],\"scatter\":[{\"marker\":{\"colorbar\":{\"outlinewidth\":0,\"ticks\":\"\"}},\"type\":\"scatter\"}],\"scatter3d\":[{\"line\":{\"colorbar\":{\"outlinewidth\":0,\"ticks\":\"\"}},\"marker\":{\"colorbar\":{\"outlinewidth\":0,\"ticks\":\"\"}},\"type\":\"scatter3d\"}],\"scattercarpet\":[{\"marker\":{\"colorbar\":{\"outlinewidth\":0,\"ticks\":\"\"}},\"type\":\"scattercarpet\"}],\"scattergeo\":[{\"marker\":{\"colorbar\":{\"outlinewidth\":0,\"ticks\":\"\"}},\"type\":\"scattergeo\"}],\"scattergl\":[{\"marker\":{\"colorbar\":{\"outlinewidth\":0,\"ticks\":\"\"}},\"type\":\"scattergl\"}],\"scattermapbox\":[{\"marker\":{\"colorbar\":{\"outlinewidth\":0,\"ticks\":\"\"}},\"type\":\"scattermapbox\"}],\"scatterpolar\":[{\"marker\":{\"colorbar\":{\"outlinewidth\":0,\"ticks\":\"\"}},\"type\":\"scatterpolar\"}],\"scatterpolargl\":[{\"marker\":{\"colorbar\":{\"outlinewidth\":0,\"ticks\":\"\"}},\"type\":\"scatterpolargl\"}],\"scatterternary\":[{\"marker\":{\"colorbar\":{\"outlinewidth\":0,\"ticks\":\"\"}},\"type\":\"scatterternary\"}],\"surface\":[{\"colorbar\":{\"outlinewidth\":0,\"ticks\":\"\"},\"colorscale\":[[0.0,\"#0d0887\"],[0.1111111111111111,\"#46039f\"],[0.2222222222222222,\"#7201a8\"],[0.3333333333333333,\"#9c179e\"],[0.4444444444444444,\"#bd3786\"],[0.5555555555555556,\"#d8576b\"],[0.6666666666666666,\"#ed7953\"],[0.7777777777777778,\"#fb9f3a\"],[0.8888888888888888,\"#fdca26\"],[1.0,\"#f0f921\"]],\"type\":\"surface\"}],\"table\":[{\"cells\":{\"fill\":{\"color\":\"#EBF0F8\"},\"line\":{\"color\":\"white\"}},\"header\":{\"fill\":{\"color\":\"#C8D4E3\"},\"line\":{\"color\":\"white\"}},\"type\":\"table\"}]},\"layout\":{\"annotationdefaults\":{\"arrowcolor\":\"#2a3f5f\",\"arrowhead\":0,\"arrowwidth\":1},\"autotypenumbers\":\"strict\",\"coloraxis\":{\"colorbar\":{\"outlinewidth\":0,\"ticks\":\"\"}},\"colorscale\":{\"diverging\":[[0,\"#8e0152\"],[0.1,\"#c51b7d\"],[0.2,\"#de77ae\"],[0.3,\"#f1b6da\"],[0.4,\"#fde0ef\"],[0.5,\"#f7f7f7\"],[0.6,\"#e6f5d0\"],[0.7,\"#b8e186\"],[0.8,\"#7fbc41\"],[0.9,\"#4d9221\"],[1,\"#276419\"]],\"sequential\":[[0.0,\"#0d0887\"],[0.1111111111111111,\"#46039f\"],[0.2222222222222222,\"#7201a8\"],[0.3333333333333333,\"#9c179e\"],[0.4444444444444444,\"#bd3786\"],[0.5555555555555556,\"#d8576b\"],[0.6666666666666666,\"#ed7953\"],[0.7777777777777778,\"#fb9f3a\"],[0.8888888888888888,\"#fdca26\"],[1.0,\"#f0f921\"]],\"sequentialminus\":[[0.0,\"#0d0887\"],[0.1111111111111111,\"#46039f\"],[0.2222222222222222,\"#7201a8\"],[0.3333333333333333,\"#9c179e\"],[0.4444444444444444,\"#bd3786\"],[0.5555555555555556,\"#d8576b\"],[0.6666666666666666,\"#ed7953\"],[0.7777777777777778,\"#fb9f3a\"],[0.8888888888888888,\"#fdca26\"],[1.0,\"#f0f921\"]]},\"colorway\":[\"#636efa\",\"#EF553B\",\"#00cc96\",\"#ab63fa\",\"#FFA15A\",\"#19d3f3\",\"#FF6692\",\"#B6E880\",\"#FF97FF\",\"#FECB52\"],\"font\":{\"color\":\"#2a3f5f\"},\"geo\":{\"bgcolor\":\"white\",\"lakecolor\":\"white\",\"landcolor\":\"#E5ECF6\",\"showlakes\":true,\"showland\":true,\"subunitcolor\":\"white\"},\"hoverlabel\":{\"align\":\"left\"},\"hovermode\":\"closest\",\"mapbox\":{\"style\":\"light\"},\"paper_bgcolor\":\"white\",\"plot_bgcolor\":\"#E5ECF6\",\"polar\":{\"angularaxis\":{\"gridcolor\":\"white\",\"linecolor\":\"white\",\"ticks\":\"\"},\"bgcolor\":\"#E5ECF6\",\"radialaxis\":{\"gridcolor\":\"white\",\"linecolor\":\"white\",\"ticks\":\"\"}},\"scene\":{\"xaxis\":{\"backgroundcolor\":\"#E5ECF6\",\"gridcolor\":\"white\",\"gridwidth\":2,\"linecolor\":\"white\",\"showbackground\":true,\"ticks\":\"\",\"zerolinecolor\":\"white\"},\"yaxis\":{\"backgroundcolor\":\"#E5ECF6\",\"gridcolor\":\"white\",\"gridwidth\":2,\"linecolor\":\"white\",\"showbackground\":true,\"ticks\":\"\",\"zerolinecolor\":\"white\"},\"zaxis\":{\"backgroundcolor\":\"#E5ECF6\",\"gridcolor\":\"white\",\"gridwidth\":2,\"linecolor\":\"white\",\"showbackground\":true,\"ticks\":\"\",\"zerolinecolor\":\"white\"}},\"shapedefaults\":{\"line\":{\"color\":\"#2a3f5f\"}},\"ternary\":{\"aaxis\":{\"gridcolor\":\"white\",\"linecolor\":\"white\",\"ticks\":\"\"},\"baxis\":{\"gridcolor\":\"white\",\"linecolor\":\"white\",\"ticks\":\"\"},\"bgcolor\":\"#E5ECF6\",\"caxis\":{\"gridcolor\":\"white\",\"linecolor\":\"white\",\"ticks\":\"\"}},\"title\":{\"x\":0.05},\"xaxis\":{\"automargin\":true,\"gridcolor\":\"white\",\"linecolor\":\"white\",\"ticks\":\"\",\"title\":{\"standoff\":15},\"zerolinecolor\":\"white\",\"zerolinewidth\":2},\"yaxis\":{\"automargin\":true,\"gridcolor\":\"white\",\"linecolor\":\"white\",\"ticks\":\"\",\"title\":{\"standoff\":15},\"zerolinecolor\":\"white\",\"zerolinewidth\":2}}},\"xaxis\":{\"anchor\":\"y\",\"domain\":[0.0,1.0],\"title\":{\"text\":\"isi_ms_mean\"}},\"yaxis\":{\"anchor\":\"x\",\"domain\":[0.0,1.0],\"title\":{\"text\":\"varPeak\"}}},                        {\"responsive\": true}                    ).then(function(){\n",
       "                            \n",
       "var gd = document.getElementById('dbe5b16c-fd3e-4165-a908-d8d75fc8aade');\n",
       "var x = new MutationObserver(function (mutations, observer) {{\n",
       "        var display = window.getComputedStyle(gd).display;\n",
       "        if (!display || display === 'none') {{\n",
       "            console.log([gd, 'removed!']);\n",
       "            Plotly.purge(gd);\n",
       "            observer.disconnect();\n",
       "        }}\n",
       "}});\n",
       "\n",
       "// Listen for the removal of the full notebook cells\n",
       "var notebookContainer = gd.closest('#notebook-container');\n",
       "if (notebookContainer) {{\n",
       "    x.observe(notebookContainer, {childList: true});\n",
       "}}\n",
       "\n",
       "// Listen for the clearing of the current output cell\n",
       "var outputEl = gd.closest('.output');\n",
       "if (outputEl) {{\n",
       "    x.observe(outputEl, {childList: true});\n",
       "}}\n",
       "\n",
       "                        })                };                });            </script>        </div>"
      ]
     },
     "metadata": {},
     "output_type": "display_data"
    }
   ],
   "source": [
    "xStat = 'isi_ms_mean'  \n",
    "#yStat = 'isi_ms_cv'  \n",
    "yStat = 'varPeak'  # var measured from spike clips\n",
    "\n",
    "\n",
    "#xStat = 'varPeak'  # var measured from spike clips\n",
    "#xStat = 'meanPeak'  # mean peak amplitude across all peaks\n",
    "#yStat = 'peakVal_var'  # var measured from actual peaks (each spike has a peak)\n",
    "\n",
    "fig = px.scatter(dfSummary, x=xStat, y=yStat,\n",
    "                color='condition',\n",
    "                symbol='dateStr',\n",
    "                error_x = 'isi_ms_std',\n",
    "                 hover_data=['dateStr'])\n",
    "fig.show()"
   ]
  },
  {
   "cell_type": "code",
   "execution_count": null,
   "id": "6fb8e61f",
   "metadata": {},
   "outputs": [],
   "source": []
  }
 ],
 "metadata": {
  "kernelspec": {
   "display_name": "Python 3",
   "language": "python",
   "name": "python3"
  },
  "language_info": {
   "codemirror_mode": {
    "name": "ipython",
    "version": 3
   },
   "file_extension": ".py",
   "mimetype": "text/x-python",
   "name": "python",
   "nbconvert_exporter": "python",
   "pygments_lexer": "ipython3",
   "version": "3.8.3"
  }
 },
 "nbformat": 4,
 "nbformat_minor": 5
}
