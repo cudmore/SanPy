{
 "cells": [
  {
   "cell_type": "code",
   "execution_count": 42,
   "id": "78bd94df",
   "metadata": {},
   "outputs": [],
   "source": [
    "import numpy as np\n",
    "import pandas as pd\n",
    "import scipy.stats\n",
    "\n",
    "import matplotlib.pyplot as plt\n",
    "import seaborn as sns\n",
    "from IPython.display import display  # to pretty plot pandas dataframe"
   ]
  },
  {
   "cell_type": "code",
   "execution_count": 43,
   "id": "4b184254",
   "metadata": {},
   "outputs": [],
   "source": [
    "# we can add to this as we get more data\n",
    "pathList = []\n",
    "pathList.append('dataGianni/masterDb-jan-12-2022.csv')\n",
    "pathList.append('dataGianni/masterDb-jan-18-2022.csv')\n",
    "pathList.append('dataGianni/masterDb-feb-15-2022.csv')\n",
    "\n",
    "# make a list of dataframe (from csv files)\n",
    "dfList = []\n",
    "for fileIdx,path in enumerate(pathList):\n",
    "    dfPath = pd.read_csv(path)\n",
    "    dfPath['myFileIdx'] = fileIdx  # add for our book keeping if necc\n",
    "    dfList.append(dfPath)\n",
    "\n",
    "# make a single dataframe from all files in list\n",
    "dfMaster = pd.concat(dfList, ignore_index=True)\n"
   ]
  },
  {
   "cell_type": "code",
   "execution_count": 44,
   "id": "5e44b1c9",
   "metadata": {
    "scrolled": false
   },
   "outputs": [
    {
     "ename": "IndexError",
     "evalue": "index 2 is out of bounds for axis 0 with size 2",
     "output_type": "error",
     "traceback": [
      "\u001b[0;31m---------------------------------------------------------------------------\u001b[0m",
      "\u001b[0;31mIndexError\u001b[0m                                Traceback (most recent call last)",
      "\u001b[0;32m/tmp/ipykernel_123050/3386967432.py\u001b[0m in \u001b[0;36m<module>\u001b[0;34m\u001b[0m\n\u001b[1;32m     11\u001b[0m \u001b[0;32mfor\u001b[0m \u001b[0midx\u001b[0m\u001b[0;34m,\u001b[0m \u001b[0mitem\u001b[0m \u001b[0;32min\u001b[0m \u001b[0menumerate\u001b[0m\u001b[0;34m(\u001b[0m\u001b[0muniqueList\u001b[0m\u001b[0;34m)\u001b[0m\u001b[0;34m:\u001b[0m\u001b[0;34m\u001b[0m\u001b[0;34m\u001b[0m\u001b[0m\n\u001b[1;32m     12\u001b[0m     \u001b[0mdfPlot\u001b[0m \u001b[0;34m=\u001b[0m \u001b[0mdfMaster\u001b[0m\u001b[0;34m[\u001b[0m \u001b[0mdfMaster\u001b[0m\u001b[0;34m[\u001b[0m\u001b[0mcolName\u001b[0m\u001b[0;34m]\u001b[0m\u001b[0;34m==\u001b[0m\u001b[0mitem\u001b[0m\u001b[0;34m]\u001b[0m\u001b[0;34m\u001b[0m\u001b[0;34m\u001b[0m\u001b[0m\n\u001b[0;32m---> 13\u001b[0;31m     \u001b[0msns\u001b[0m\u001b[0;34m.\u001b[0m\u001b[0mhistplot\u001b[0m\u001b[0;34m(\u001b[0m\u001b[0mx\u001b[0m\u001b[0;34m=\u001b[0m\u001b[0;34m'peakVal'\u001b[0m\u001b[0;34m,\u001b[0m \u001b[0mdata\u001b[0m\u001b[0;34m=\u001b[0m\u001b[0mdfPlot\u001b[0m\u001b[0;34m,\u001b[0m \u001b[0max\u001b[0m\u001b[0;34m=\u001b[0m\u001b[0maxs\u001b[0m\u001b[0;34m[\u001b[0m\u001b[0midx\u001b[0m\u001b[0;34m]\u001b[0m\u001b[0;34m)\u001b[0m\u001b[0;34m.\u001b[0m\u001b[0mset\u001b[0m\u001b[0;34m(\u001b[0m\u001b[0mtitle\u001b[0m \u001b[0;34m=\u001b[0m \u001b[0mitem\u001b[0m\u001b[0;34m)\u001b[0m\u001b[0;34m\u001b[0m\u001b[0;34m\u001b[0m\u001b[0m\n\u001b[0m",
      "\u001b[0;31mIndexError\u001b[0m: index 2 is out of bounds for axis 0 with size 2"
     ]
    },
    {
     "data": {
      "image/png": "[encoded data removed]",
      "text/plain": [
       "<Figure size 432x432 with 2 Axes>"
      ]
     },
     "metadata": {
      "needs_background": "light"
     },
     "output_type": "display_data"
    }
   ],
   "source": [
    "colName = 'file'\n",
    "colName = 'condition'\n",
    "\n",
    "uniqueList = dfMaster[colName].unique()\n",
    "\n",
    "#files = ['220110n_0017.tif', '220110n_0021.tif', '220110n_0024.tif']\n",
    "\n",
    "figHeight = len(files) * 3\n",
    "fig, axs = plt.subplots(len(files), 1, sharex=False, figsize=(6, figHeight))\n",
    "\n",
    "for idx, item in enumerate(uniqueList):\n",
    "    dfPlot = dfMaster[ dfMaster[colName]==item]\n",
    "    sns.histplot(x='peakVal', data=dfPlot, ax=axs[idx]).set(title = item)\n"
   ]
  },
  {
   "cell_type": "code",
   "execution_count": 45,
   "id": "0fdc2ad4",
   "metadata": {},
   "outputs": [
    {
     "name": "stdout",
     "output_type": "stream",
     "text": [
      "Index(['Unnamed: 0', 'analysisVersion', 'interfaceVersion', 'file',\n",
      "       'detectionType', 'cellType', 'sex', 'condition', 'sweep',\n",
      "       'sweepSpikeNumber', 'spikeNumber', 'include', 'userType', 'errors',\n",
      "       'dvdtThreshold', 'mvThreshold', 'medianFilter', 'halfHeights',\n",
      "       'thresholdPnt', 'thresholdSec', 'thresholdVal', 'thresholdVal_dvdt',\n",
      "       'dacCommand', 'peakPnt', 'peakSec', 'peakVal', 'peakHeight',\n",
      "       'timeToPeak_ms', 'preMinPnt', 'preMinVal', 'preLinearFitPnt0',\n",
      "       'preLinearFitPnt1', 'earlyDiastolicDuration_ms', 'preLinearFitVal0',\n",
      "       'preLinearFitVal1', 'earlyDiastolicDurationRate',\n",
      "       'lateDiastolicDuration', 'preSpike_dvdt_max_pnt',\n",
      "       'preSpike_dvdt_max_val', 'preSpike_dvdt_max_val2',\n",
      "       'postSpike_dvdt_min_pnt', 'postSpike_dvdt_min_val',\n",
      "       'postSpike_dvdt_min_val2', 'isi_pnts', 'isi_ms', 'spikeFreq_hz',\n",
      "       'cycleLength_pnts', 'cycleLength_ms', 'diastolicDuration_ms', 'widths',\n",
      "       'widths_10', 'widths_20', 'widths_50', 'widths_80', 'widths_90',\n",
      "       'myDateStr', 'fileIdx', 'myFileIdx'],\n",
      "      dtype='object')\n"
     ]
    }
   ],
   "source": [
    "# these are all the columns we have, some are useful and some are not\n",
    "print(dfMaster.columns)"
   ]
  },
  {
   "cell_type": "markdown",
   "id": "b57a2a17",
   "metadata": {},
   "source": [
    "## Useful columns\n",
    "\n",
    "```\n",
    "myFileIdx: index of csv we were loaded\n",
    "file: name of the file\n",
    "condition: condiiton of recording from ('Control', 'TP')\n",
    "thresholdSec: time of threshold\n",
    "thresholdVal: value at threshold\n",
    "peakSec: time of peak\n",
    "peakVal: value at peak  # look at the variance\n",
    "peakHeight: height of peak (peakVal - thresholdVal)\n",
    "isi_ms: time between peak[i] and peak[i-1]\n",
    "```"
   ]
  },
  {
   "cell_type": "markdown",
   "id": "866c7a3b",
   "metadata": {},
   "source": [
    "## Clean up the data\n",
    "\n",
    "Replace conditon 'TG' with 'Thapsigargin'"
   ]
  },
  {
   "cell_type": "code",
   "execution_count": 46,
   "id": "8dec27fb",
   "metadata": {},
   "outputs": [
    {
     "name": "stdout",
     "output_type": "stream",
     "text": [
      "before condList:['Control' 'Thapsigargin' 'TG']\n",
      "after condList:['Control' 'Thapsigargin']\n"
     ]
    }
   ],
   "source": [
    "condList = dfMaster['condition'].unique()\n",
    "print(f'before condList:{condList}')\n",
    "\n",
    "# do not do this\n",
    "#dfMaster[ dfMaster['condition']=='TG' ]['condition'] = 'Thapsigargin'\n",
    "\n",
    "# do this\n",
    "dfMaster.loc[dfMaster['condition'] == 'TG', 'condition'] = 'Thapsigargin'\n",
    "\n",
    "condList = dfMaster['condition'].unique()\n",
    "print(f'after condList:{condList}')\n"
   ]
  },
  {
   "cell_type": "markdown",
   "id": "126a19eb",
   "metadata": {},
   "source": [
    "## Plot stats in a table"
   ]
  },
  {
   "cell_type": "code",
   "execution_count": 47,
   "id": "3534f9de",
   "metadata": {},
   "outputs": [
    {
     "name": "stdout",
     "output_type": "stream",
     "text": [
      "stats for col: peakVal\n"
     ]
    },
    {
     "data": {
      "text/html": [
       "<div>\n",
       "<style scoped>\n",
       "    .dataframe tbody tr th:only-of-type {\n",
       "        vertical-align: middle;\n",
       "    }\n",
       "\n",
       "    .dataframe tbody tr th {\n",
       "        vertical-align: top;\n",
       "    }\n",
       "\n",
       "    .dataframe thead th {\n",
       "        text-align: right;\n",
       "    }\n",
       "</style>\n",
       "<table border=\"1\" class=\"dataframe\">\n",
       "  <thead>\n",
       "    <tr style=\"text-align: right;\">\n",
       "      <th></th>\n",
       "      <th></th>\n",
       "      <th></th>\n",
       "      <th></th>\n",
       "      <th>count</th>\n",
       "      <th>min</th>\n",
       "      <th>max</th>\n",
       "      <th>mean</th>\n",
       "      <th>sem</th>\n",
       "      <th>median</th>\n",
       "      <th>var</th>\n",
       "    </tr>\n",
       "    <tr>\n",
       "      <th>file</th>\n",
       "      <th>condition</th>\n",
       "      <th>sex</th>\n",
       "      <th>myFileIdx</th>\n",
       "      <th></th>\n",
       "      <th></th>\n",
       "      <th></th>\n",
       "      <th></th>\n",
       "      <th></th>\n",
       "      <th></th>\n",
       "      <th></th>\n",
       "    </tr>\n",
       "  </thead>\n",
       "  <tbody>\n",
       "  </tbody>\n",
       "</table>\n",
       "</div>"
      ],
      "text/plain": [
       "Empty DataFrame\n",
       "Columns: [count, min, max, mean, sem, median, var]\n",
       "Index: []"
      ]
     },
     "metadata": {},
     "output_type": "display_data"
    }
   ],
   "source": [
    "# could set this to any column to get stats\n",
    "colStr = 'peakVal'\n",
    "\n",
    "# a list of stats to take per 'file'\n",
    "aggList = ['count', 'min', 'max', 'mean', scipy.stats.sem, 'median', 'var']\n",
    "\n",
    "dfStats = dfMaster.groupby(['file','condition', 'myFileIdx'], as_index=False)[colStr].agg(aggList)\n",
    "\n",
    "print(f'stats for col: {colStr}')\n",
    "display(dfStats)"
   ]
  },
  {
   "cell_type": "markdown",
   "id": "a88f9d9f",
   "metadata": {},
   "source": [
    "## Plot with seaborn\n",
    "\n",
    "This is my big question. Is the low variance (var) in 'Thapsigargin' condition simply due to the fact that the amplitude of the peak (mean) is small?"
   ]
  },
  {
   "cell_type": "code",
   "execution_count": 6,
   "id": "400399f1",
   "metadata": {},
   "outputs": [
    {
     "data": {
      "image/png": "[encoded data removed]",
      "text/plain": [
       "<Figure size 432x288 with 1 Axes>"
      ]
     },
     "metadata": {
      "needs_background": "light"
     },
     "output_type": "display_data"
    }
   ],
   "source": [
    "# hold off on using style='file', legend is too long and needs to be tweaked\n",
    "#sns.scatterplot(x='mean', y='var', hue='condition', style='file', data=dfStats)\n",
    "\n",
    "sns.scatterplot(x='mean', y='var', hue='condition', style='myFileIdx', data=dfStats);\n"
   ]
  },
  {
   "cell_type": "markdown",
   "id": "8c1cd66f",
   "metadata": {},
   "source": [
    "## for each file, plot the peak versus spike number\n",
    "\n",
    "Is this decay in the peak predicting our changes in variance?\n"
   ]
  },
  {
   "cell_type": "code",
   "execution_count": 7,
   "id": "d65ddebe",
   "metadata": {},
   "outputs": [
    {
     "data": {
      "text/plain": [
       "<AxesSubplot:xlabel='spikeNumber', ylabel='peakVal'>"
      ]
     },
     "execution_count": 7,
     "metadata": {},
     "output_type": "execute_result"
    },
    {
     "data": {
      "image/png": "[encoded data removed]",
      "text/plain": [
       "<Figure size 432x288 with 1 Axes>"
      ]
     },
     "metadata": {
      "needs_background": "light"
     },
     "output_type": "display_data"
    }
   ],
   "source": [
    "# for each file, plot the peak versus spike number\n",
    "fig, axs = plt.subplots(1, 1, sharex=False, figsize=(6, 4))\n",
    "\n",
    "xStat = 'spikeNumber'\n",
    "yStat = 'peakVal'  # could be any other column in original dataframe\n",
    "\n",
    "# this is confusing, try it\n",
    "sns.lineplot(x=xStat, y=yStat, hue='condition', data=dfMaster)\n",
    "\n",
    "# may be usefull\n",
    "#files = dfMaster['file'].unique()\n",
    "#for file in files:\n",
    "#    dfPlot = dfMaster[ dfMaster['file']==file ]\n",
    "#    #sns.lineplot(x=xStat, y=yStat, hue='condition', data=dfPlot, legend=False)"
   ]
  },
  {
   "cell_type": "code",
   "execution_count": null,
   "id": "644e3e70",
   "metadata": {},
   "outputs": [],
   "source": []
  }
 ],
 "metadata": {
  "kernelspec": {
   "display_name": "Python 3",
   "language": "python",
   "name": "python3"
  },
  "language_info": {
   "codemirror_mode": {
    "name": "ipython",
    "version": 3
   },
   "file_extension": ".py",
   "mimetype": "text/x-python",
   "name": "python",
   "nbconvert_exporter": "python",
   "pygments_lexer": "ipython3",
   "version": "3.8.3"
  }
 },
 "nbformat": 4,
 "nbformat_minor": 5
}
