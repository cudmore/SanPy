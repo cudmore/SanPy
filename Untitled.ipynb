{
 "cells": [
  {
   "cell_type": "code",
   "execution_count": null,
   "metadata": {},
   "outputs": [],
   "source": [
    "vm = abf.sweepY\n",
    "vmFiltered = scipy.signal.medfilt(abf.sweepY,3)\n",
    "\n",
    "sweepDeriv = np.diff(vm)\n",
    "sweepDerivFiltered = np.diff(vmFiltered)\n",
    "\n",
    "# scale it to V/S (mV/ms)\n",
    "sweepDeriv = sweepDeriv * abf.dataRate / 1000\n",
    "sweepDerivFiltered = sweepDerivFiltered * abf.dataRate / 1000\n",
    "\n",
    "# add an initial point so it is the same length as raw data in abf.sweepY\n",
    "sweepDeriv = np.concatenate(([0],sweepDeriv))\n",
    "sweepDerivFiltered = np.concatenate(([0],sweepDerivFiltered))\n",
    "\n",
    "fig = plt.figure()\n",
    "ax1 = fig.add_subplot(411)\n",
    "ax2 = fig.add_subplot(412, sharex=ax1)\n",
    "ax3 = fig.add_subplot(413, sharex=ax1)\n",
    "ax4 = fig.add_subplot(414, sharex=ax1)\n",
    "\n",
    "\n",
    "ax1.plot(vm)\n",
    "ax2.plot(sweepDeriv)\n",
    "\n",
    "ax3.plot(vmFiltered)\n",
    "ax4.plot(sweepDerivFiltered)"
   ]
  }
 ],
 "metadata": {
  "kernelspec": {
   "display_name": "Python 3",
   "language": "python",
   "name": "python3"
  },
  "language_info": {
   "codemirror_mode": {
    "name": "ipython",
    "version": 3
   },
   "file_extension": ".py",
   "mimetype": "text/x-python",
   "name": "python",
   "nbconvert_exporter": "python",
   "pygments_lexer": "ipython3",
   "version": "3.7.0"
  }
 },
 "nbformat": 4,
 "nbformat_minor": 2
}
