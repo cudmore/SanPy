{
 "cells": [
  {
   "cell_type": "code",
   "execution_count": null,
   "metadata": {},
   "outputs": [],
   "source": []
  },
  {
   "cell_type": "code",
   "execution_count": 1,
   "metadata": {},
   "outputs": [],
   "source": [
    "# this is to auto-reload as I am changing code\n",
    "%load_ext autoreload\n",
    "%autoreload 2"
   ]
  },
  {
   "cell_type": "code",
   "execution_count": 6,
   "metadata": {},
   "outputs": [],
   "source": [
    "import matplotlib.pyplot as plt\n",
    "\n",
    "import sanpy"
   ]
  },
  {
   "cell_type": "code",
   "execution_count": 9,
   "metadata": {},
   "outputs": [
    {
     "name": "stderr",
     "output_type": "stream",
     "text": [
      " INFO sanpy.bAnalysis  bAnalysis.py spikeDetect() line:923 -- start detection\n",
      " INFO sanpy.bAnalysis  bAnalysis.py _throwOutRefractory() line:598 -- From 107 to 103 spikes with refractory_ms:170\n"
     ]
    }
   ],
   "source": [
    "# load a recording\n",
    "myPath = '../../../data/19114001.abf'\n",
    "ba = sanpy.bAnalysis(myPath)\n",
    "\n",
    "# analyze\n",
    "dDict = ba.getDefaultDetection()\n",
    "dDict['dvdtThreshold'] = 50\n",
    "ba.spikeDetect(dDict)"
   ]
  },
  {
   "cell_type": "code",
   "execution_count": 21,
   "metadata": {},
   "outputs": [
    {
     "data": {
      "text/plain": [
       "Text(0, 0.5, 'Spike Frequency (Hz)')"
      ]
     },
     "execution_count": 21,
     "metadata": {},
     "output_type": "execute_result"
    },
    {
     "data": {
      "image/png": "[encoded data removed]",
      "text/plain": [
       "<Figure size 432x288 with 1 Axes>"
      ]
     },
     "metadata": {
      "needs_background": "light"
     },
     "output_type": "display_data"
    }
   ],
   "source": [
    "from sanpy.bAnalysisUtil import getHumanFromStat\n",
    "\n",
    "spikeFreq_hz = ba.getStat('spikeFreq_hz')\n",
    "thresholdSec = ba.getStat('thresholdSec')\n",
    "\n",
    "plt.plot(thresholdSec, spikeFreq_hz, 'ok')\n",
    "\n",
    "xLabel = getHumanFromStat('thresholdSec')\n",
    "yLabel = getHumanFromStat('spikeFreq_hz')\n",
    "\n",
    "ax = plt.gca()\n",
    "ax.set_xlabel(xLabel)\n",
    "ax.set_ylabel(yLabel)"
   ]
  },
  {
   "cell_type": "code",
   "execution_count": null,
   "metadata": {},
   "outputs": [],
   "source": []
  }
 ],
 "metadata": {
  "kernelspec": {
   "display_name": "Python 3",
   "language": "python",
   "name": "python3"
  },
  "language_info": {
   "codemirror_mode": {
    "name": "ipython",
    "version": 3
   },
   "file_extension": ".py",
   "mimetype": "text/x-python",
   "name": "python",
   "nbconvert_exporter": "python",
   "pygments_lexer": "ipython3",
   "version": "3.7.9"
  }
 },
 "nbformat": 4,
 "nbformat_minor": 2
}
